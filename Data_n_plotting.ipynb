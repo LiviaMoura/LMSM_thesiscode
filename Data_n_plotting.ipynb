{
 "cells": [
  {
   "cell_type": "code",
   "execution_count": 9,
   "metadata": {},
   "outputs": [],
   "source": [
    "import pandas as pd\n",
    "import matplotlib.pyplot as plt\n",
    "import seaborn as sns \n",
    "import numpy as np\n",
    "from scipy.stats import zscore\n",
    "#pd.set_option('display.max_rows', None)\n",
    "import plotly.graph_objects as go"
   ]
  },
  {
   "cell_type": "markdown",
   "metadata": {},
   "source": [
    "# 30 genomes community"
   ]
  },
  {
   "cell_type": "code",
   "execution_count": 10,
   "metadata": {},
   "outputs": [
    {
     "data": {
      "text/html": [
       "<div>\n",
       "<style scoped>\n",
       "    .dataframe tbody tr th:only-of-type {\n",
       "        vertical-align: middle;\n",
       "    }\n",
       "\n",
       "    .dataframe tbody tr th {\n",
       "        vertical-align: top;\n",
       "    }\n",
       "\n",
       "    .dataframe thead th {\n",
       "        text-align: right;\n",
       "    }\n",
       "</style>\n",
       "<table border=\"1\" class=\"dataframe\">\n",
       "  <thead>\n",
       "    <tr style=\"text-align: right;\">\n",
       "      <th></th>\n",
       "      <th>Bin_Id</th>\n",
       "      <th>Reference</th>\n",
       "      <th>Completeness</th>\n",
       "      <th>Contamination</th>\n",
       "      <th>Strain_heterogeneity</th>\n",
       "      <th>n_contigs</th>\n",
       "      <th>Longest_contig</th>\n",
       "      <th>pilon_errors</th>\n",
       "      <th>Category</th>\n",
       "      <th>Assembly</th>\n",
       "    </tr>\n",
       "  </thead>\n",
       "  <tbody>\n",
       "    <tr>\n",
       "      <th>0</th>\n",
       "      <td>MAG_1_S_care_metabat.001</td>\n",
       "      <td>GCF_900198195.1_Tjejuense_V1_genomic</td>\n",
       "      <td>99.66</td>\n",
       "      <td>0.45</td>\n",
       "      <td>0.00</td>\n",
       "      <td>98.0</td>\n",
       "      <td>546168.0</td>\n",
       "      <td>263.0</td>\n",
       "      <td>careful</td>\n",
       "      <td>Spades_careful</td>\n",
       "    </tr>\n",
       "    <tr>\n",
       "      <th>1</th>\n",
       "      <td>MAG_2_S_care_concoct.001</td>\n",
       "      <td>GCF_900198195.1_Tjejuense_V1_genomic</td>\n",
       "      <td>99.66</td>\n",
       "      <td>0.45</td>\n",
       "      <td>0.00</td>\n",
       "      <td>34.0</td>\n",
       "      <td>546168.0</td>\n",
       "      <td>42.0</td>\n",
       "      <td>careful</td>\n",
       "      <td>Spades_meta</td>\n",
       "    </tr>\n",
       "    <tr>\n",
       "      <th>2</th>\n",
       "      <td>MAG_2_S_meta_concoct.018</td>\n",
       "      <td>GCF_900198195.1_Tjejuense_V1_genomic</td>\n",
       "      <td>99.66</td>\n",
       "      <td>0.46</td>\n",
       "      <td>25.00</td>\n",
       "      <td>70.0</td>\n",
       "      <td>323626.0</td>\n",
       "      <td>366.0</td>\n",
       "      <td>meta</td>\n",
       "      <td>Spades_meta</td>\n",
       "    </tr>\n",
       "    <tr>\n",
       "      <th>3</th>\n",
       "      <td>S_meta_all_bin.14</td>\n",
       "      <td>GCF_900198195.1_Tjejuense_V1_genomic</td>\n",
       "      <td>99.66</td>\n",
       "      <td>0.78</td>\n",
       "      <td>40.00</td>\n",
       "      <td>37.0</td>\n",
       "      <td>401391.0</td>\n",
       "      <td>149.0</td>\n",
       "      <td>all</td>\n",
       "      <td>Spades_meta</td>\n",
       "    </tr>\n",
       "    <tr>\n",
       "      <th>4</th>\n",
       "      <td>MAG_0_MH_meta_maxbin.001</td>\n",
       "      <td>GCF_900198195.1_Tjejuense_V1_genomic</td>\n",
       "      <td>99.66</td>\n",
       "      <td>1.30</td>\n",
       "      <td>11.11</td>\n",
       "      <td>154.0</td>\n",
       "      <td>217371.0</td>\n",
       "      <td>759.0</td>\n",
       "      <td>meta</td>\n",
       "      <td>Megahit</td>\n",
       "    </tr>\n",
       "    <tr>\n",
       "      <th>...</th>\n",
       "      <td>...</td>\n",
       "      <td>...</td>\n",
       "      <td>...</td>\n",
       "      <td>...</td>\n",
       "      <td>...</td>\n",
       "      <td>...</td>\n",
       "      <td>...</td>\n",
       "      <td>...</td>\n",
       "      <td>...</td>\n",
       "      <td>...</td>\n",
       "    </tr>\n",
       "    <tr>\n",
       "      <th>187</th>\n",
       "      <td>S_meta_all_bin.2</td>\n",
       "      <td>GCF_000017265.1_ASM1726v1_genomic</td>\n",
       "      <td>100.00</td>\n",
       "      <td>0.16</td>\n",
       "      <td>100.00</td>\n",
       "      <td>26.0</td>\n",
       "      <td>788084.0</td>\n",
       "      <td>177.0</td>\n",
       "      <td>all</td>\n",
       "      <td>Spades_meta</td>\n",
       "    </tr>\n",
       "    <tr>\n",
       "      <th>188</th>\n",
       "      <td>MAG_14_S_meta_maxbin.001</td>\n",
       "      <td>GCF_000017265.1_ASM1726v1_genomic</td>\n",
       "      <td>100.00</td>\n",
       "      <td>0.79</td>\n",
       "      <td>0.00</td>\n",
       "      <td>33.0</td>\n",
       "      <td>788084.0</td>\n",
       "      <td>148.0</td>\n",
       "      <td>meta</td>\n",
       "      <td>Spades_meta</td>\n",
       "    </tr>\n",
       "    <tr>\n",
       "      <th>189</th>\n",
       "      <td>MAG_12_MH_meta_maxbin.001</td>\n",
       "      <td>GCF_000017265.1_ASM1726v1_genomic</td>\n",
       "      <td>100.00</td>\n",
       "      <td>1.02</td>\n",
       "      <td>0.00</td>\n",
       "      <td>51.0</td>\n",
       "      <td>788084.0</td>\n",
       "      <td>192.0</td>\n",
       "      <td>meta</td>\n",
       "      <td>Megahit</td>\n",
       "    </tr>\n",
       "    <tr>\n",
       "      <th>190</th>\n",
       "      <td>MAG_12_MH_care_maxbin.001</td>\n",
       "      <td>GCF_000017265.1_ASM1726v1_genomic</td>\n",
       "      <td>100.00</td>\n",
       "      <td>1.05</td>\n",
       "      <td>0.00</td>\n",
       "      <td>53.0</td>\n",
       "      <td>788201.0</td>\n",
       "      <td>150.0</td>\n",
       "      <td>careful</td>\n",
       "      <td>Megahit</td>\n",
       "    </tr>\n",
       "    <tr>\n",
       "      <th>191</th>\n",
       "      <td>MAG_14_S_care_maxbin.001</td>\n",
       "      <td>GCF_000017265.1_ASM1726v1_genomic</td>\n",
       "      <td>100.00</td>\n",
       "      <td>1.11</td>\n",
       "      <td>0.00</td>\n",
       "      <td>35.0</td>\n",
       "      <td>788337.0</td>\n",
       "      <td>50.0</td>\n",
       "      <td>careful</td>\n",
       "      <td>Spades_meta</td>\n",
       "    </tr>\n",
       "  </tbody>\n",
       "</table>\n",
       "<p>192 rows × 10 columns</p>\n",
       "</div>"
      ],
      "text/plain": [
       "                        Bin_Id                              Reference  \\\n",
       "0     MAG_1_S_care_metabat.001  GCF_900198195.1_Tjejuense_V1_genomic    \n",
       "1     MAG_2_S_care_concoct.001  GCF_900198195.1_Tjejuense_V1_genomic    \n",
       "2     MAG_2_S_meta_concoct.018  GCF_900198195.1_Tjejuense_V1_genomic    \n",
       "3            S_meta_all_bin.14  GCF_900198195.1_Tjejuense_V1_genomic    \n",
       "4     MAG_0_MH_meta_maxbin.001  GCF_900198195.1_Tjejuense_V1_genomic    \n",
       "..                         ...                                    ...   \n",
       "187           S_meta_all_bin.2     GCF_000017265.1_ASM1726v1_genomic    \n",
       "188   MAG_14_S_meta_maxbin.001     GCF_000017265.1_ASM1726v1_genomic    \n",
       "189  MAG_12_MH_meta_maxbin.001     GCF_000017265.1_ASM1726v1_genomic    \n",
       "190  MAG_12_MH_care_maxbin.001     GCF_000017265.1_ASM1726v1_genomic    \n",
       "191   MAG_14_S_care_maxbin.001     GCF_000017265.1_ASM1726v1_genomic    \n",
       "\n",
       "     Completeness  Contamination  Strain_heterogeneity  n_contigs  \\\n",
       "0           99.66           0.45                  0.00       98.0   \n",
       "1           99.66           0.45                  0.00       34.0   \n",
       "2           99.66           0.46                 25.00       70.0   \n",
       "3           99.66           0.78                 40.00       37.0   \n",
       "4           99.66           1.30                 11.11      154.0   \n",
       "..            ...            ...                   ...        ...   \n",
       "187        100.00           0.16                100.00       26.0   \n",
       "188        100.00           0.79                  0.00       33.0   \n",
       "189        100.00           1.02                  0.00       51.0   \n",
       "190        100.00           1.05                  0.00       53.0   \n",
       "191        100.00           1.11                  0.00       35.0   \n",
       "\n",
       "     Longest_contig  pilon_errors Category        Assembly  \n",
       "0          546168.0         263.0  careful  Spades_careful  \n",
       "1          546168.0          42.0  careful     Spades_meta  \n",
       "2          323626.0         366.0     meta     Spades_meta  \n",
       "3          401391.0         149.0      all     Spades_meta  \n",
       "4          217371.0         759.0     meta         Megahit  \n",
       "..              ...           ...      ...             ...  \n",
       "187        788084.0         177.0      all     Spades_meta  \n",
       "188        788084.0         148.0     meta     Spades_meta  \n",
       "189        788084.0         192.0     meta         Megahit  \n",
       "190        788201.0         150.0  careful         Megahit  \n",
       "191        788337.0          50.0  careful     Spades_meta  \n",
       "\n",
       "[192 rows x 10 columns]"
      ]
     },
     "execution_count": 10,
     "metadata": {},
     "output_type": "execute_result"
    }
   ],
   "source": [
    "## opening recovered MAGs\n",
    "df = pd.read_table('Cami_30g_6s/All_concatenate_together_fixed.tsv')\n",
    "df.fillna({'Completeness':50, 'Contamination':15,'n_contigs':200,'Longest_contig':100000,'Strain_heterogeneity':100,'pilon_errors':1000}, inplace=True) #'Completeness','Contamination','n_contigs','Longest_contig','pilon_errors']].fillna(50,15,200,100000,1000)\n",
    "df"
   ]
  },
  {
   "cell_type": "code",
   "execution_count": 11,
   "metadata": {},
   "outputs": [],
   "source": [
    "la = df.sort_values(['Reference','pilon_errors'])"
   ]
  },
  {
   "cell_type": "code",
   "execution_count": 12,
   "metadata": {},
   "outputs": [
    {
     "data": {
      "text/html": [
       "<div>\n",
       "<style scoped>\n",
       "    .dataframe tbody tr th:only-of-type {\n",
       "        vertical-align: middle;\n",
       "    }\n",
       "\n",
       "    .dataframe tbody tr th {\n",
       "        vertical-align: top;\n",
       "    }\n",
       "\n",
       "    .dataframe thead th {\n",
       "        text-align: right;\n",
       "    }\n",
       "</style>\n",
       "<table border=\"1\" class=\"dataframe\">\n",
       "  <thead>\n",
       "    <tr style=\"text-align: right;\">\n",
       "      <th></th>\n",
       "      <th>assembly_accession</th>\n",
       "      <th>Category</th>\n",
       "      <th>Assembly</th>\n",
       "    </tr>\n",
       "  </thead>\n",
       "  <tbody>\n",
       "    <tr>\n",
       "      <th>0</th>\n",
       "      <td>GCF_900198195.1</td>\n",
       "      <td>careful</td>\n",
       "      <td>Spades_careful</td>\n",
       "    </tr>\n",
       "    <tr>\n",
       "      <th>1</th>\n",
       "      <td>GCF_900198195.1</td>\n",
       "      <td>careful</td>\n",
       "      <td>Spades_meta</td>\n",
       "    </tr>\n",
       "    <tr>\n",
       "      <th>2</th>\n",
       "      <td>GCF_900198195.1</td>\n",
       "      <td>meta</td>\n",
       "      <td>Spades_meta</td>\n",
       "    </tr>\n",
       "    <tr>\n",
       "      <th>3</th>\n",
       "      <td>GCF_900198195.1</td>\n",
       "      <td>all</td>\n",
       "      <td>Spades_meta</td>\n",
       "    </tr>\n",
       "    <tr>\n",
       "      <th>4</th>\n",
       "      <td>GCF_900198195.1</td>\n",
       "      <td>meta</td>\n",
       "      <td>Megahit</td>\n",
       "    </tr>\n",
       "    <tr>\n",
       "      <th>...</th>\n",
       "      <td>...</td>\n",
       "      <td>...</td>\n",
       "      <td>...</td>\n",
       "    </tr>\n",
       "    <tr>\n",
       "      <th>187</th>\n",
       "      <td>GCF_000017265.1</td>\n",
       "      <td>all</td>\n",
       "      <td>Spades_meta</td>\n",
       "    </tr>\n",
       "    <tr>\n",
       "      <th>188</th>\n",
       "      <td>GCF_000017265.1</td>\n",
       "      <td>meta</td>\n",
       "      <td>Spades_meta</td>\n",
       "    </tr>\n",
       "    <tr>\n",
       "      <th>189</th>\n",
       "      <td>GCF_000017265.1</td>\n",
       "      <td>meta</td>\n",
       "      <td>Megahit</td>\n",
       "    </tr>\n",
       "    <tr>\n",
       "      <th>190</th>\n",
       "      <td>GCF_000017265.1</td>\n",
       "      <td>careful</td>\n",
       "      <td>Megahit</td>\n",
       "    </tr>\n",
       "    <tr>\n",
       "      <th>191</th>\n",
       "      <td>GCF_000017265.1</td>\n",
       "      <td>careful</td>\n",
       "      <td>Spades_meta</td>\n",
       "    </tr>\n",
       "  </tbody>\n",
       "</table>\n",
       "<p>228 rows × 3 columns</p>\n",
       "</div>"
      ],
      "text/plain": [
       "    assembly_accession Category        Assembly\n",
       "0      GCF_900198195.1  careful  Spades_careful\n",
       "1      GCF_900198195.1  careful     Spades_meta\n",
       "2      GCF_900198195.1     meta     Spades_meta\n",
       "3      GCF_900198195.1      all     Spades_meta\n",
       "4      GCF_900198195.1     meta         Megahit\n",
       "..                 ...      ...             ...\n",
       "187    GCF_000017265.1      all     Spades_meta\n",
       "188    GCF_000017265.1     meta     Spades_meta\n",
       "189    GCF_000017265.1     meta         Megahit\n",
       "190    GCF_000017265.1  careful         Megahit\n",
       "191    GCF_000017265.1  careful     Spades_meta\n",
       "\n",
       "[228 rows x 3 columns]"
      ]
     },
     "execution_count": 12,
     "metadata": {},
     "output_type": "execute_result"
    }
   ],
   "source": [
    "## Selecting only which genome were found and the method\n",
    "df_reference = df[['Reference','Category','Assembly']].copy()\n",
    "df_reference['Reference'] = df_reference.Reference.str.rsplit()\n",
    "df_reference = df_reference.explode('Reference')\n",
    "df_reference['Reference'] = df_reference['Reference'].str.extract('(G.*_[0-9]+\\.[0-9]+)')\n",
    "df_reference=df_reference.rename(columns = {'Reference':'assembly_accession'})\n",
    "df_reference"
   ]
  },
  {
   "cell_type": "code",
   "execution_count": 13,
   "metadata": {},
   "outputs": [
    {
     "data": {
      "text/html": [
       "<div>\n",
       "<style scoped>\n",
       "    .dataframe tbody tr th:only-of-type {\n",
       "        vertical-align: middle;\n",
       "    }\n",
       "\n",
       "    .dataframe tbody tr th {\n",
       "        vertical-align: top;\n",
       "    }\n",
       "\n",
       "    .dataframe thead th {\n",
       "        text-align: right;\n",
       "    }\n",
       "</style>\n",
       "<table border=\"1\" class=\"dataframe\">\n",
       "  <thead>\n",
       "    <tr style=\"text-align: right;\">\n",
       "      <th></th>\n",
       "      <th></th>\n",
       "      <th>Completeness</th>\n",
       "      <th>Contamination</th>\n",
       "      <th>Strain_heterogeneity</th>\n",
       "      <th>n_contigs</th>\n",
       "      <th>Longest_contig</th>\n",
       "      <th>pilon_errors</th>\n",
       "    </tr>\n",
       "    <tr>\n",
       "      <th>Assembly</th>\n",
       "      <th>Category</th>\n",
       "      <th></th>\n",
       "      <th></th>\n",
       "      <th></th>\n",
       "      <th></th>\n",
       "      <th></th>\n",
       "      <th></th>\n",
       "    </tr>\n",
       "  </thead>\n",
       "  <tbody>\n",
       "    <tr>\n",
       "      <th rowspan=\"3\" valign=\"top\">Megahit</th>\n",
       "      <th>all</th>\n",
       "      <td>98.280</td>\n",
       "      <td>0.220</td>\n",
       "      <td>0.0</td>\n",
       "      <td>40.0</td>\n",
       "      <td>459475.0</td>\n",
       "      <td>164.0</td>\n",
       "    </tr>\n",
       "    <tr>\n",
       "      <th>careful</th>\n",
       "      <td>99.340</td>\n",
       "      <td>0.510</td>\n",
       "      <td>0.0</td>\n",
       "      <td>40.0</td>\n",
       "      <td>411525.0</td>\n",
       "      <td>94.0</td>\n",
       "    </tr>\n",
       "    <tr>\n",
       "      <th>meta</th>\n",
       "      <td>99.430</td>\n",
       "      <td>0.580</td>\n",
       "      <td>0.0</td>\n",
       "      <td>62.0</td>\n",
       "      <td>362476.0</td>\n",
       "      <td>271.0</td>\n",
       "    </tr>\n",
       "    <tr>\n",
       "      <th rowspan=\"3\" valign=\"top\">Spades_careful</th>\n",
       "      <th>all</th>\n",
       "      <td>99.345</td>\n",
       "      <td>0.430</td>\n",
       "      <td>0.0</td>\n",
       "      <td>26.0</td>\n",
       "      <td>528421.5</td>\n",
       "      <td>81.0</td>\n",
       "    </tr>\n",
       "    <tr>\n",
       "      <th>careful</th>\n",
       "      <td>99.545</td>\n",
       "      <td>0.385</td>\n",
       "      <td>0.0</td>\n",
       "      <td>43.5</td>\n",
       "      <td>390622.5</td>\n",
       "      <td>123.0</td>\n",
       "    </tr>\n",
       "    <tr>\n",
       "      <th>meta</th>\n",
       "      <td>99.465</td>\n",
       "      <td>0.575</td>\n",
       "      <td>0.0</td>\n",
       "      <td>48.5</td>\n",
       "      <td>376355.5</td>\n",
       "      <td>242.0</td>\n",
       "    </tr>\n",
       "    <tr>\n",
       "      <th rowspan=\"3\" valign=\"top\">Spades_meta</th>\n",
       "      <th>all</th>\n",
       "      <td>99.660</td>\n",
       "      <td>0.430</td>\n",
       "      <td>0.0</td>\n",
       "      <td>37.0</td>\n",
       "      <td>362426.0</td>\n",
       "      <td>263.0</td>\n",
       "    </tr>\n",
       "    <tr>\n",
       "      <th>careful</th>\n",
       "      <td>99.660</td>\n",
       "      <td>0.450</td>\n",
       "      <td>0.0</td>\n",
       "      <td>37.0</td>\n",
       "      <td>390486.0</td>\n",
       "      <td>101.0</td>\n",
       "    </tr>\n",
       "    <tr>\n",
       "      <th>meta</th>\n",
       "      <td>99.660</td>\n",
       "      <td>0.460</td>\n",
       "      <td>0.0</td>\n",
       "      <td>45.0</td>\n",
       "      <td>348870.0</td>\n",
       "      <td>266.0</td>\n",
       "    </tr>\n",
       "  </tbody>\n",
       "</table>\n",
       "</div>"
      ],
      "text/plain": [
       "                         Completeness  Contamination  Strain_heterogeneity  \\\n",
       "Assembly       Category                                                      \n",
       "Megahit        all             98.280          0.220                   0.0   \n",
       "               careful         99.340          0.510                   0.0   \n",
       "               meta            99.430          0.580                   0.0   \n",
       "Spades_careful all             99.345          0.430                   0.0   \n",
       "               careful         99.545          0.385                   0.0   \n",
       "               meta            99.465          0.575                   0.0   \n",
       "Spades_meta    all             99.660          0.430                   0.0   \n",
       "               careful         99.660          0.450                   0.0   \n",
       "               meta            99.660          0.460                   0.0   \n",
       "\n",
       "                         n_contigs  Longest_contig  pilon_errors  \n",
       "Assembly       Category                                           \n",
       "Megahit        all            40.0        459475.0         164.0  \n",
       "               careful        40.0        411525.0          94.0  \n",
       "               meta           62.0        362476.0         271.0  \n",
       "Spades_careful all            26.0        528421.5          81.0  \n",
       "               careful        43.5        390622.5         123.0  \n",
       "               meta           48.5        376355.5         242.0  \n",
       "Spades_meta    all            37.0        362426.0         263.0  \n",
       "               careful        37.0        390486.0         101.0  \n",
       "               meta           45.0        348870.0         266.0  "
      ]
     },
     "execution_count": 13,
     "metadata": {},
     "output_type": "execute_result"
    }
   ],
   "source": [
    "df_category = df.groupby(['Assembly','Category']).median()\n",
    "df_category\n"
   ]
  },
  {
   "cell_type": "markdown",
   "metadata": {},
   "source": [
    "## The ***z-score*** (often called standardization) transforms the info into distribution with a mean of 0 and a typical deviation of 1. Each standardized value is computed by subtracting the mean of the corresponding feature then dividing by the quality deviation.\n",
    "\n",
    "#### df_z_scaled[column] = (df_z_scaled[column] - df_z_scaled[column].mean()) / df_z_scaled[column].std()"
   ]
  },
  {
   "cell_type": "code",
   "execution_count": 14,
   "metadata": {},
   "outputs": [],
   "source": [
    "# Z-score\n",
    "#df_norm_z = (df_category[['Completeness','Contamination','Strain_heterogeneity','n_contigs','Longest_contig','pilon_errors']]-df_category[['Completeness','Contamination','Strain_heterogeneity','n_contigs','Longest_contig','pilon_errors']].mean())/df_category[['Completeness','Contamination','Strain_heterogeneity','n_contigs','Longest_contig','pilon_errors']].std()\n",
    "\n",
    "#sns.heatmap(df_norm, cmap='viridis',linewidths=.5, vmin = -1, vmax = 1)"
   ]
  },
  {
   "cell_type": "code",
   "execution_count": 15,
   "metadata": {},
   "outputs": [
    {
     "name": "stderr",
     "output_type": "stream",
     "text": [
      "T:\\Programs\\Anaconda\\lib\\site-packages\\scipy\\stats\\stats.py:2500: RuntimeWarning: invalid value encountered in true_divide\n",
      "  return (a - mns) / sstd\n"
     ]
    },
    {
     "data": {
      "text/html": [
       "<div>\n",
       "<style scoped>\n",
       "    .dataframe tbody tr th:only-of-type {\n",
       "        vertical-align: middle;\n",
       "    }\n",
       "\n",
       "    .dataframe tbody tr th {\n",
       "        vertical-align: top;\n",
       "    }\n",
       "\n",
       "    .dataframe thead th {\n",
       "        text-align: right;\n",
       "    }\n",
       "</style>\n",
       "<table border=\"1\" class=\"dataframe\">\n",
       "  <thead>\n",
       "    <tr style=\"text-align: right;\">\n",
       "      <th></th>\n",
       "      <th></th>\n",
       "      <th>Completeness</th>\n",
       "      <th>Contamination</th>\n",
       "      <th>Strain_heterogeneity</th>\n",
       "      <th>n_contigs</th>\n",
       "      <th>Longest_contig</th>\n",
       "      <th>pilon_errors</th>\n",
       "    </tr>\n",
       "    <tr>\n",
       "      <th>Assembly</th>\n",
       "      <th>Category</th>\n",
       "      <th></th>\n",
       "      <th></th>\n",
       "      <th></th>\n",
       "      <th></th>\n",
       "      <th></th>\n",
       "      <th></th>\n",
       "    </tr>\n",
       "  </thead>\n",
       "  <tbody>\n",
       "    <tr>\n",
       "      <th rowspan=\"3\" valign=\"top\">Megahit</th>\n",
       "      <th>all</th>\n",
       "      <td>-2.698585</td>\n",
       "      <td>-2.238007</td>\n",
       "      <td>NaN</td>\n",
       "      <td>-0.228625</td>\n",
       "      <td>1.038597</td>\n",
       "      <td>-0.186205</td>\n",
       "    </tr>\n",
       "    <tr>\n",
       "      <th>careful</th>\n",
       "      <td>-0.088904</td>\n",
       "      <td>0.597526</td>\n",
       "      <td>NaN</td>\n",
       "      <td>-0.228625</td>\n",
       "      <td>0.150386</td>\n",
       "      <td>-1.095577</td>\n",
       "    </tr>\n",
       "    <tr>\n",
       "      <th>meta</th>\n",
       "      <td>0.132672</td>\n",
       "      <td>1.281965</td>\n",
       "      <td>NaN</td>\n",
       "      <td>2.153892</td>\n",
       "      <td>-0.758181</td>\n",
       "      <td>1.203836</td>\n",
       "    </tr>\n",
       "    <tr>\n",
       "      <th rowspan=\"3\" valign=\"top\">Spades_careful</th>\n",
       "      <th>all</th>\n",
       "      <td>-0.076594</td>\n",
       "      <td>-0.184690</td>\n",
       "      <td>NaN</td>\n",
       "      <td>-1.744773</td>\n",
       "      <td>2.315739</td>\n",
       "      <td>-1.264460</td>\n",
       "    </tr>\n",
       "    <tr>\n",
       "      <th>careful</th>\n",
       "      <td>0.415798</td>\n",
       "      <td>-0.624686</td>\n",
       "      <td>NaN</td>\n",
       "      <td>0.150411</td>\n",
       "      <td>-0.236805</td>\n",
       "      <td>-0.718837</td>\n",
       "    </tr>\n",
       "    <tr>\n",
       "      <th>meta</th>\n",
       "      <td>0.218841</td>\n",
       "      <td>1.233077</td>\n",
       "      <td>NaN</td>\n",
       "      <td>0.691893</td>\n",
       "      <td>-0.501082</td>\n",
       "      <td>0.827096</td>\n",
       "    </tr>\n",
       "    <tr>\n",
       "      <th rowspan=\"3\" valign=\"top\">Spades_meta</th>\n",
       "      <th>all</th>\n",
       "      <td>0.698924</td>\n",
       "      <td>-0.184690</td>\n",
       "      <td>NaN</td>\n",
       "      <td>-0.553514</td>\n",
       "      <td>-0.759107</td>\n",
       "      <td>1.099907</td>\n",
       "    </tr>\n",
       "    <tr>\n",
       "      <th>careful</th>\n",
       "      <td>0.698924</td>\n",
       "      <td>0.010864</td>\n",
       "      <td>NaN</td>\n",
       "      <td>-0.553514</td>\n",
       "      <td>-0.239333</td>\n",
       "      <td>-1.004640</td>\n",
       "    </tr>\n",
       "    <tr>\n",
       "      <th>meta</th>\n",
       "      <td>0.698924</td>\n",
       "      <td>0.108641</td>\n",
       "      <td>NaN</td>\n",
       "      <td>0.312856</td>\n",
       "      <td>-1.010214</td>\n",
       "      <td>1.138880</td>\n",
       "    </tr>\n",
       "  </tbody>\n",
       "</table>\n",
       "</div>"
      ],
      "text/plain": [
       "                         Completeness  Contamination  Strain_heterogeneity  \\\n",
       "Assembly       Category                                                      \n",
       "Megahit        all          -2.698585      -2.238007                   NaN   \n",
       "               careful      -0.088904       0.597526                   NaN   \n",
       "               meta          0.132672       1.281965                   NaN   \n",
       "Spades_careful all          -0.076594      -0.184690                   NaN   \n",
       "               careful       0.415798      -0.624686                   NaN   \n",
       "               meta          0.218841       1.233077                   NaN   \n",
       "Spades_meta    all           0.698924      -0.184690                   NaN   \n",
       "               careful       0.698924       0.010864                   NaN   \n",
       "               meta          0.698924       0.108641                   NaN   \n",
       "\n",
       "                         n_contigs  Longest_contig  pilon_errors  \n",
       "Assembly       Category                                           \n",
       "Megahit        all       -0.228625        1.038597     -0.186205  \n",
       "               careful   -0.228625        0.150386     -1.095577  \n",
       "               meta       2.153892       -0.758181      1.203836  \n",
       "Spades_careful all       -1.744773        2.315739     -1.264460  \n",
       "               careful    0.150411       -0.236805     -0.718837  \n",
       "               meta       0.691893       -0.501082      0.827096  \n",
       "Spades_meta    all       -0.553514       -0.759107      1.099907  \n",
       "               careful   -0.553514       -0.239333     -1.004640  \n",
       "               meta       0.312856       -1.010214      1.138880  "
      ]
     },
     "execution_count": 15,
     "metadata": {},
     "output_type": "execute_result"
    }
   ],
   "source": [
    "# Outra fdorma Z-score\n",
    "\n",
    "df_norm_z = df_category.copy()\n",
    "df_norm_z[['Completeness','Contamination','Strain_heterogeneity','n_contigs','Longest_contig','pilon_errors']] = zscore(df_category[['Completeness','Contamination','Strain_heterogeneity','n_contigs','Longest_contig','pilon_errors']])\n",
    "\n",
    "df_norm_z"
   ]
  },
  {
   "cell_type": "code",
   "execution_count": 16,
   "metadata": {},
   "outputs": [
    {
     "data": {
      "text/html": [
       "<div>\n",
       "<style scoped>\n",
       "    .dataframe tbody tr th:only-of-type {\n",
       "        vertical-align: middle;\n",
       "    }\n",
       "\n",
       "    .dataframe tbody tr th {\n",
       "        vertical-align: top;\n",
       "    }\n",
       "\n",
       "    .dataframe thead th {\n",
       "        text-align: right;\n",
       "    }\n",
       "</style>\n",
       "<table border=\"1\" class=\"dataframe\">\n",
       "  <thead>\n",
       "    <tr style=\"text-align: right;\">\n",
       "      <th></th>\n",
       "      <th></th>\n",
       "      <th>Completeness</th>\n",
       "      <th>Contamination</th>\n",
       "      <th>Strain_heterogeneity</th>\n",
       "      <th>n_contigs</th>\n",
       "      <th>Longest_contig</th>\n",
       "      <th>pilon_errors</th>\n",
       "    </tr>\n",
       "    <tr>\n",
       "      <th>Assembly</th>\n",
       "      <th>Category</th>\n",
       "      <th></th>\n",
       "      <th></th>\n",
       "      <th></th>\n",
       "      <th></th>\n",
       "      <th></th>\n",
       "      <th></th>\n",
       "    </tr>\n",
       "  </thead>\n",
       "  <tbody>\n",
       "    <tr>\n",
       "      <th rowspan=\"3\" valign=\"top\">Megahit</th>\n",
       "      <th>all</th>\n",
       "      <td>-2.698585</td>\n",
       "      <td>2.238007</td>\n",
       "      <td>0.0</td>\n",
       "      <td>0.228625</td>\n",
       "      <td>1.038597</td>\n",
       "      <td>0.186205</td>\n",
       "    </tr>\n",
       "    <tr>\n",
       "      <th>careful</th>\n",
       "      <td>-0.088904</td>\n",
       "      <td>-0.597526</td>\n",
       "      <td>0.0</td>\n",
       "      <td>0.228625</td>\n",
       "      <td>0.150386</td>\n",
       "      <td>1.095577</td>\n",
       "    </tr>\n",
       "    <tr>\n",
       "      <th>meta</th>\n",
       "      <td>0.132672</td>\n",
       "      <td>-1.281965</td>\n",
       "      <td>0.0</td>\n",
       "      <td>-2.153892</td>\n",
       "      <td>-0.758181</td>\n",
       "      <td>-1.203836</td>\n",
       "    </tr>\n",
       "    <tr>\n",
       "      <th rowspan=\"3\" valign=\"top\">Spades_careful</th>\n",
       "      <th>all</th>\n",
       "      <td>-0.076594</td>\n",
       "      <td>0.184690</td>\n",
       "      <td>0.0</td>\n",
       "      <td>1.744773</td>\n",
       "      <td>2.315739</td>\n",
       "      <td>1.264460</td>\n",
       "    </tr>\n",
       "    <tr>\n",
       "      <th>careful</th>\n",
       "      <td>0.415798</td>\n",
       "      <td>0.624686</td>\n",
       "      <td>0.0</td>\n",
       "      <td>-0.150411</td>\n",
       "      <td>-0.236805</td>\n",
       "      <td>0.718837</td>\n",
       "    </tr>\n",
       "    <tr>\n",
       "      <th>meta</th>\n",
       "      <td>0.218841</td>\n",
       "      <td>-1.233077</td>\n",
       "      <td>0.0</td>\n",
       "      <td>-0.691893</td>\n",
       "      <td>-0.501082</td>\n",
       "      <td>-0.827096</td>\n",
       "    </tr>\n",
       "    <tr>\n",
       "      <th rowspan=\"3\" valign=\"top\">Spades_meta</th>\n",
       "      <th>all</th>\n",
       "      <td>0.698924</td>\n",
       "      <td>0.184690</td>\n",
       "      <td>0.0</td>\n",
       "      <td>0.553514</td>\n",
       "      <td>-0.759107</td>\n",
       "      <td>-1.099907</td>\n",
       "    </tr>\n",
       "    <tr>\n",
       "      <th>careful</th>\n",
       "      <td>0.698924</td>\n",
       "      <td>-0.010864</td>\n",
       "      <td>0.0</td>\n",
       "      <td>0.553514</td>\n",
       "      <td>-0.239333</td>\n",
       "      <td>1.004640</td>\n",
       "    </tr>\n",
       "    <tr>\n",
       "      <th>meta</th>\n",
       "      <td>0.698924</td>\n",
       "      <td>-0.108641</td>\n",
       "      <td>0.0</td>\n",
       "      <td>-0.312856</td>\n",
       "      <td>-1.010214</td>\n",
       "      <td>-1.138880</td>\n",
       "    </tr>\n",
       "  </tbody>\n",
       "</table>\n",
       "</div>"
      ],
      "text/plain": [
       "                         Completeness  Contamination  Strain_heterogeneity  \\\n",
       "Assembly       Category                                                      \n",
       "Megahit        all          -2.698585       2.238007                   0.0   \n",
       "               careful      -0.088904      -0.597526                   0.0   \n",
       "               meta          0.132672      -1.281965                   0.0   \n",
       "Spades_careful all          -0.076594       0.184690                   0.0   \n",
       "               careful       0.415798       0.624686                   0.0   \n",
       "               meta          0.218841      -1.233077                   0.0   \n",
       "Spades_meta    all           0.698924       0.184690                   0.0   \n",
       "               careful       0.698924      -0.010864                   0.0   \n",
       "               meta          0.698924      -0.108641                   0.0   \n",
       "\n",
       "                         n_contigs  Longest_contig  pilon_errors  \n",
       "Assembly       Category                                           \n",
       "Megahit        all        0.228625        1.038597      0.186205  \n",
       "               careful    0.228625        0.150386      1.095577  \n",
       "               meta      -2.153892       -0.758181     -1.203836  \n",
       "Spades_careful all        1.744773        2.315739      1.264460  \n",
       "               careful   -0.150411       -0.236805      0.718837  \n",
       "               meta      -0.691893       -0.501082     -0.827096  \n",
       "Spades_meta    all        0.553514       -0.759107     -1.099907  \n",
       "               careful    0.553514       -0.239333      1.004640  \n",
       "               meta      -0.312856       -1.010214     -1.138880  "
      ]
     },
     "execution_count": 16,
     "metadata": {},
     "output_type": "execute_result"
    }
   ],
   "source": [
    "df_norm_z[['Contamination','n_contigs','pilon_errors']] = -1*df_norm_z[['Contamination','n_contigs','pilon_errors']]\n",
    "df_norm_z['Strain_heterogeneity'].fillna(0,inplace=True)\n",
    "df_norm_z\n"
   ]
  },
  {
   "cell_type": "code",
   "execution_count": 17,
   "metadata": {},
   "outputs": [
    {
     "data": {
      "text/html": [
       "<div>\n",
       "<style scoped>\n",
       "    .dataframe tbody tr th:only-of-type {\n",
       "        vertical-align: middle;\n",
       "    }\n",
       "\n",
       "    .dataframe tbody tr th {\n",
       "        vertical-align: top;\n",
       "    }\n",
       "\n",
       "    .dataframe thead th {\n",
       "        text-align: right;\n",
       "    }\n",
       "</style>\n",
       "<table border=\"1\" class=\"dataframe\">\n",
       "  <thead>\n",
       "    <tr style=\"text-align: right;\">\n",
       "      <th></th>\n",
       "      <th>Assembly</th>\n",
       "      <th>Category</th>\n",
       "      <th>Completeness</th>\n",
       "      <th>Contamination</th>\n",
       "      <th>Strain_heterogeneity</th>\n",
       "      <th>n_contigs</th>\n",
       "      <th>Longest_contig</th>\n",
       "      <th>pilon_errors</th>\n",
       "    </tr>\n",
       "  </thead>\n",
       "  <tbody>\n",
       "    <tr>\n",
       "      <th>0</th>\n",
       "      <td>Megahit</td>\n",
       "      <td>all</td>\n",
       "      <td>-2.698585</td>\n",
       "      <td>2.238007</td>\n",
       "      <td>0.0</td>\n",
       "      <td>0.228625</td>\n",
       "      <td>1.038597</td>\n",
       "      <td>0.186205</td>\n",
       "    </tr>\n",
       "    <tr>\n",
       "      <th>1</th>\n",
       "      <td>Megahit</td>\n",
       "      <td>careful</td>\n",
       "      <td>-0.088904</td>\n",
       "      <td>-0.597526</td>\n",
       "      <td>0.0</td>\n",
       "      <td>0.228625</td>\n",
       "      <td>0.150386</td>\n",
       "      <td>1.095577</td>\n",
       "    </tr>\n",
       "    <tr>\n",
       "      <th>2</th>\n",
       "      <td>Megahit</td>\n",
       "      <td>meta</td>\n",
       "      <td>0.132672</td>\n",
       "      <td>-1.281965</td>\n",
       "      <td>0.0</td>\n",
       "      <td>-2.153892</td>\n",
       "      <td>-0.758181</td>\n",
       "      <td>-1.203836</td>\n",
       "    </tr>\n",
       "    <tr>\n",
       "      <th>3</th>\n",
       "      <td>Spades_careful</td>\n",
       "      <td>all</td>\n",
       "      <td>-0.076594</td>\n",
       "      <td>0.184690</td>\n",
       "      <td>0.0</td>\n",
       "      <td>1.744773</td>\n",
       "      <td>2.315739</td>\n",
       "      <td>1.264460</td>\n",
       "    </tr>\n",
       "    <tr>\n",
       "      <th>4</th>\n",
       "      <td>Spades_careful</td>\n",
       "      <td>careful</td>\n",
       "      <td>0.415798</td>\n",
       "      <td>0.624686</td>\n",
       "      <td>0.0</td>\n",
       "      <td>-0.150411</td>\n",
       "      <td>-0.236805</td>\n",
       "      <td>0.718837</td>\n",
       "    </tr>\n",
       "    <tr>\n",
       "      <th>5</th>\n",
       "      <td>Spades_careful</td>\n",
       "      <td>meta</td>\n",
       "      <td>0.218841</td>\n",
       "      <td>-1.233077</td>\n",
       "      <td>0.0</td>\n",
       "      <td>-0.691893</td>\n",
       "      <td>-0.501082</td>\n",
       "      <td>-0.827096</td>\n",
       "    </tr>\n",
       "    <tr>\n",
       "      <th>6</th>\n",
       "      <td>Spades_meta</td>\n",
       "      <td>all</td>\n",
       "      <td>0.698924</td>\n",
       "      <td>0.184690</td>\n",
       "      <td>0.0</td>\n",
       "      <td>0.553514</td>\n",
       "      <td>-0.759107</td>\n",
       "      <td>-1.099907</td>\n",
       "    </tr>\n",
       "    <tr>\n",
       "      <th>7</th>\n",
       "      <td>Spades_meta</td>\n",
       "      <td>careful</td>\n",
       "      <td>0.698924</td>\n",
       "      <td>-0.010864</td>\n",
       "      <td>0.0</td>\n",
       "      <td>0.553514</td>\n",
       "      <td>-0.239333</td>\n",
       "      <td>1.004640</td>\n",
       "    </tr>\n",
       "    <tr>\n",
       "      <th>8</th>\n",
       "      <td>Spades_meta</td>\n",
       "      <td>meta</td>\n",
       "      <td>0.698924</td>\n",
       "      <td>-0.108641</td>\n",
       "      <td>0.0</td>\n",
       "      <td>-0.312856</td>\n",
       "      <td>-1.010214</td>\n",
       "      <td>-1.138880</td>\n",
       "    </tr>\n",
       "  </tbody>\n",
       "</table>\n",
       "</div>"
      ],
      "text/plain": [
       "         Assembly Category  Completeness  Contamination  Strain_heterogeneity  \\\n",
       "0         Megahit      all     -2.698585       2.238007                   0.0   \n",
       "1         Megahit  careful     -0.088904      -0.597526                   0.0   \n",
       "2         Megahit     meta      0.132672      -1.281965                   0.0   \n",
       "3  Spades_careful      all     -0.076594       0.184690                   0.0   \n",
       "4  Spades_careful  careful      0.415798       0.624686                   0.0   \n",
       "5  Spades_careful     meta      0.218841      -1.233077                   0.0   \n",
       "6     Spades_meta      all      0.698924       0.184690                   0.0   \n",
       "7     Spades_meta  careful      0.698924      -0.010864                   0.0   \n",
       "8     Spades_meta     meta      0.698924      -0.108641                   0.0   \n",
       "\n",
       "   n_contigs  Longest_contig  pilon_errors  \n",
       "0   0.228625        1.038597      0.186205  \n",
       "1   0.228625        0.150386      1.095577  \n",
       "2  -2.153892       -0.758181     -1.203836  \n",
       "3   1.744773        2.315739      1.264460  \n",
       "4  -0.150411       -0.236805      0.718837  \n",
       "5  -0.691893       -0.501082     -0.827096  \n",
       "6   0.553514       -0.759107     -1.099907  \n",
       "7   0.553514       -0.239333      1.004640  \n",
       "8  -0.312856       -1.010214     -1.138880  "
      ]
     },
     "execution_count": 17,
     "metadata": {},
     "output_type": "execute_result"
    }
   ],
   "source": [
    "df_norm_z = df_norm_z.reset_index()\n",
    "df_norm_z"
   ]
  },
  {
   "cell_type": "code",
   "execution_count": 18,
   "metadata": {},
   "outputs": [
    {
     "data": {
      "text/html": [
       "<div>\n",
       "<style scoped>\n",
       "    .dataframe tbody tr th:only-of-type {\n",
       "        vertical-align: middle;\n",
       "    }\n",
       "\n",
       "    .dataframe tbody tr th {\n",
       "        vertical-align: top;\n",
       "    }\n",
       "\n",
       "    .dataframe thead th {\n",
       "        text-align: right;\n",
       "    }\n",
       "</style>\n",
       "<table border=\"1\" class=\"dataframe\">\n",
       "  <thead>\n",
       "    <tr style=\"text-align: right;\">\n",
       "      <th></th>\n",
       "      <th>Assembly</th>\n",
       "      <th>Category</th>\n",
       "      <th>Completeness</th>\n",
       "      <th>Contamination</th>\n",
       "      <th>Strain_heterogeneity</th>\n",
       "      <th>n_contigs</th>\n",
       "      <th>Longest_contig</th>\n",
       "      <th>pilon_errors</th>\n",
       "    </tr>\n",
       "  </thead>\n",
       "  <tbody>\n",
       "    <tr>\n",
       "      <th>0</th>\n",
       "      <td>Megahit</td>\n",
       "      <td>all</td>\n",
       "      <td>-2.698585</td>\n",
       "      <td>2.238007</td>\n",
       "      <td>0.0</td>\n",
       "      <td>0.228625</td>\n",
       "      <td>1.038597</td>\n",
       "      <td>0.186205</td>\n",
       "    </tr>\n",
       "    <tr>\n",
       "      <th>1</th>\n",
       "      <td>Megahit</td>\n",
       "      <td>careful</td>\n",
       "      <td>-0.088904</td>\n",
       "      <td>-0.597526</td>\n",
       "      <td>0.0</td>\n",
       "      <td>0.228625</td>\n",
       "      <td>0.150386</td>\n",
       "      <td>1.095577</td>\n",
       "    </tr>\n",
       "    <tr>\n",
       "      <th>2</th>\n",
       "      <td>Megahit</td>\n",
       "      <td>meta</td>\n",
       "      <td>0.132672</td>\n",
       "      <td>-1.281965</td>\n",
       "      <td>0.0</td>\n",
       "      <td>-2.153892</td>\n",
       "      <td>-0.758181</td>\n",
       "      <td>-1.203836</td>\n",
       "    </tr>\n",
       "  </tbody>\n",
       "</table>\n",
       "</div>"
      ],
      "text/plain": [
       "  Assembly Category  Completeness  Contamination  Strain_heterogeneity  \\\n",
       "0  Megahit      all     -2.698585       2.238007                   0.0   \n",
       "1  Megahit  careful     -0.088904      -0.597526                   0.0   \n",
       "2  Megahit     meta      0.132672      -1.281965                   0.0   \n",
       "\n",
       "   n_contigs  Longest_contig  pilon_errors  \n",
       "0   0.228625        1.038597      0.186205  \n",
       "1   0.228625        0.150386      1.095577  \n",
       "2  -2.153892       -0.758181     -1.203836  "
      ]
     },
     "execution_count": 18,
     "metadata": {},
     "output_type": "execute_result"
    }
   ],
   "source": [
    "df_norm_z_megahit = df_norm_z[df_norm_z['Assembly'] == \"Megahit\"]\n",
    "df_norm_z_megahit"
   ]
  },
  {
   "cell_type": "code",
   "execution_count": 19,
   "metadata": {},
   "outputs": [
    {
     "data": {
      "text/plain": [
       "[22.9001452582683, 20.334795099378685, 8.226359253624]"
      ]
     },
     "execution_count": 19,
     "metadata": {},
     "output_type": "execute_result"
    }
   ],
   "source": [
    "## Calculating polygon area\n",
    "\n",
    "\n",
    "area_list = list()\n",
    "for index in df_norm_z_megahit.index.to_list():\n",
    "       r = df_norm_z_megahit[['Completeness', 'Contamination',\n",
    "              'Strain_heterogeneity', 'n_contigs', 'Longest_contig', 'pilon_errors']].loc[index].values\n",
    "       area=0\n",
    "       theta = 360/len(r)\n",
    "       for i in range(0,len(r)-1,1):\n",
    "              a = (r[i])+3\n",
    "              b = (r[i+1])+3\n",
    "              area+= (a*b*np.sin(np.deg2rad(theta))/2)\n",
    "       area_list.append(area)\n",
    "\n",
    "area_list"
   ]
  },
  {
   "cell_type": "code",
   "execution_count": 20,
   "metadata": {},
   "outputs": [
    {
     "data": {
      "application/vnd.plotly.v1+json": {
       "config": {
        "plotlyServerURL": "https://plot.ly"
       },
       "data": [
        {
         "fill": "toself",
         "name": "Megahit all - area 22.9",
         "r": [
          -2.6985854107947036,
          2.238006953833193,
          0,
          0.22862546030661768,
          1.0385965366757255,
          0.1862047722850363
         ],
         "showlegend": true,
         "theta": [
          "Completeness",
          "Contamination",
          "Strain_heterogeneity",
          "n_contigs",
          "Longest_contig",
          "pilon_errors"
         ],
         "type": "scatterpolar"
        },
        {
         "fill": "toself",
         "name": "Megahit careful - area 20.33",
         "r": [
          -0.08890423299624434,
          -0.5975261284506098,
          0,
          0.22862546030661768,
          0.1503864856917441,
          1.0955769160026547
         ],
         "showlegend": true,
         "theta": [
          "Completeness",
          "Contamination",
          "Strain_heterogeneity",
          "n_contigs",
          "Longest_contig",
          "pilon_errors"
         ],
         "type": "scatterpolar"
        },
        {
         "fill": "toself",
         "name": "Megahit meta - area 8.23",
         "r": [
          0.13267247077910443,
          -1.2819651483122168,
          0,
          -2.153892494467605,
          -0.7581810803293884,
          -1.2038355045404663
         ],
         "showlegend": true,
         "theta": [
          "Completeness",
          "Contamination",
          "Strain_heterogeneity",
          "n_contigs",
          "Longest_contig",
          "pilon_errors"
         ],
         "type": "scatterpolar"
        }
       ],
       "layout": {
        "polar": {
         "radialaxis": {
          "range": [
           -3,
           3
          ],
          "visible": true
         }
        },
        "template": {
         "data": {
          "bar": [
           {
            "error_x": {
             "color": "#2a3f5f"
            },
            "error_y": {
             "color": "#2a3f5f"
            },
            "marker": {
             "line": {
              "color": "#E5ECF6",
              "width": 0.5
             },
             "pattern": {
              "fillmode": "overlay",
              "size": 10,
              "solidity": 0.2
             }
            },
            "type": "bar"
           }
          ],
          "barpolar": [
           {
            "marker": {
             "line": {
              "color": "#E5ECF6",
              "width": 0.5
             },
             "pattern": {
              "fillmode": "overlay",
              "size": 10,
              "solidity": 0.2
             }
            },
            "type": "barpolar"
           }
          ],
          "carpet": [
           {
            "aaxis": {
             "endlinecolor": "#2a3f5f",
             "gridcolor": "white",
             "linecolor": "white",
             "minorgridcolor": "white",
             "startlinecolor": "#2a3f5f"
            },
            "baxis": {
             "endlinecolor": "#2a3f5f",
             "gridcolor": "white",
             "linecolor": "white",
             "minorgridcolor": "white",
             "startlinecolor": "#2a3f5f"
            },
            "type": "carpet"
           }
          ],
          "choropleth": [
           {
            "colorbar": {
             "outlinewidth": 0,
             "ticks": ""
            },
            "type": "choropleth"
           }
          ],
          "contour": [
           {
            "colorbar": {
             "outlinewidth": 0,
             "ticks": ""
            },
            "colorscale": [
             [
              0,
              "#0d0887"
             ],
             [
              0.1111111111111111,
              "#46039f"
             ],
             [
              0.2222222222222222,
              "#7201a8"
             ],
             [
              0.3333333333333333,
              "#9c179e"
             ],
             [
              0.4444444444444444,
              "#bd3786"
             ],
             [
              0.5555555555555556,
              "#d8576b"
             ],
             [
              0.6666666666666666,
              "#ed7953"
             ],
             [
              0.7777777777777778,
              "#fb9f3a"
             ],
             [
              0.8888888888888888,
              "#fdca26"
             ],
             [
              1,
              "#f0f921"
             ]
            ],
            "type": "contour"
           }
          ],
          "contourcarpet": [
           {
            "colorbar": {
             "outlinewidth": 0,
             "ticks": ""
            },
            "type": "contourcarpet"
           }
          ],
          "heatmap": [
           {
            "colorbar": {
             "outlinewidth": 0,
             "ticks": ""
            },
            "colorscale": [
             [
              0,
              "#0d0887"
             ],
             [
              0.1111111111111111,
              "#46039f"
             ],
             [
              0.2222222222222222,
              "#7201a8"
             ],
             [
              0.3333333333333333,
              "#9c179e"
             ],
             [
              0.4444444444444444,
              "#bd3786"
             ],
             [
              0.5555555555555556,
              "#d8576b"
             ],
             [
              0.6666666666666666,
              "#ed7953"
             ],
             [
              0.7777777777777778,
              "#fb9f3a"
             ],
             [
              0.8888888888888888,
              "#fdca26"
             ],
             [
              1,
              "#f0f921"
             ]
            ],
            "type": "heatmap"
           }
          ],
          "heatmapgl": [
           {
            "colorbar": {
             "outlinewidth": 0,
             "ticks": ""
            },
            "colorscale": [
             [
              0,
              "#0d0887"
             ],
             [
              0.1111111111111111,
              "#46039f"
             ],
             [
              0.2222222222222222,
              "#7201a8"
             ],
             [
              0.3333333333333333,
              "#9c179e"
             ],
             [
              0.4444444444444444,
              "#bd3786"
             ],
             [
              0.5555555555555556,
              "#d8576b"
             ],
             [
              0.6666666666666666,
              "#ed7953"
             ],
             [
              0.7777777777777778,
              "#fb9f3a"
             ],
             [
              0.8888888888888888,
              "#fdca26"
             ],
             [
              1,
              "#f0f921"
             ]
            ],
            "type": "heatmapgl"
           }
          ],
          "histogram": [
           {
            "marker": {
             "pattern": {
              "fillmode": "overlay",
              "size": 10,
              "solidity": 0.2
             }
            },
            "type": "histogram"
           }
          ],
          "histogram2d": [
           {
            "colorbar": {
             "outlinewidth": 0,
             "ticks": ""
            },
            "colorscale": [
             [
              0,
              "#0d0887"
             ],
             [
              0.1111111111111111,
              "#46039f"
             ],
             [
              0.2222222222222222,
              "#7201a8"
             ],
             [
              0.3333333333333333,
              "#9c179e"
             ],
             [
              0.4444444444444444,
              "#bd3786"
             ],
             [
              0.5555555555555556,
              "#d8576b"
             ],
             [
              0.6666666666666666,
              "#ed7953"
             ],
             [
              0.7777777777777778,
              "#fb9f3a"
             ],
             [
              0.8888888888888888,
              "#fdca26"
             ],
             [
              1,
              "#f0f921"
             ]
            ],
            "type": "histogram2d"
           }
          ],
          "histogram2dcontour": [
           {
            "colorbar": {
             "outlinewidth": 0,
             "ticks": ""
            },
            "colorscale": [
             [
              0,
              "#0d0887"
             ],
             [
              0.1111111111111111,
              "#46039f"
             ],
             [
              0.2222222222222222,
              "#7201a8"
             ],
             [
              0.3333333333333333,
              "#9c179e"
             ],
             [
              0.4444444444444444,
              "#bd3786"
             ],
             [
              0.5555555555555556,
              "#d8576b"
             ],
             [
              0.6666666666666666,
              "#ed7953"
             ],
             [
              0.7777777777777778,
              "#fb9f3a"
             ],
             [
              0.8888888888888888,
              "#fdca26"
             ],
             [
              1,
              "#f0f921"
             ]
            ],
            "type": "histogram2dcontour"
           }
          ],
          "mesh3d": [
           {
            "colorbar": {
             "outlinewidth": 0,
             "ticks": ""
            },
            "type": "mesh3d"
           }
          ],
          "parcoords": [
           {
            "line": {
             "colorbar": {
              "outlinewidth": 0,
              "ticks": ""
             }
            },
            "type": "parcoords"
           }
          ],
          "pie": [
           {
            "automargin": true,
            "type": "pie"
           }
          ],
          "scatter": [
           {
            "marker": {
             "colorbar": {
              "outlinewidth": 0,
              "ticks": ""
             }
            },
            "type": "scatter"
           }
          ],
          "scatter3d": [
           {
            "line": {
             "colorbar": {
              "outlinewidth": 0,
              "ticks": ""
             }
            },
            "marker": {
             "colorbar": {
              "outlinewidth": 0,
              "ticks": ""
             }
            },
            "type": "scatter3d"
           }
          ],
          "scattercarpet": [
           {
            "marker": {
             "colorbar": {
              "outlinewidth": 0,
              "ticks": ""
             }
            },
            "type": "scattercarpet"
           }
          ],
          "scattergeo": [
           {
            "marker": {
             "colorbar": {
              "outlinewidth": 0,
              "ticks": ""
             }
            },
            "type": "scattergeo"
           }
          ],
          "scattergl": [
           {
            "marker": {
             "colorbar": {
              "outlinewidth": 0,
              "ticks": ""
             }
            },
            "type": "scattergl"
           }
          ],
          "scattermapbox": [
           {
            "marker": {
             "colorbar": {
              "outlinewidth": 0,
              "ticks": ""
             }
            },
            "type": "scattermapbox"
           }
          ],
          "scatterpolar": [
           {
            "marker": {
             "colorbar": {
              "outlinewidth": 0,
              "ticks": ""
             }
            },
            "type": "scatterpolar"
           }
          ],
          "scatterpolargl": [
           {
            "marker": {
             "colorbar": {
              "outlinewidth": 0,
              "ticks": ""
             }
            },
            "type": "scatterpolargl"
           }
          ],
          "scatterternary": [
           {
            "marker": {
             "colorbar": {
              "outlinewidth": 0,
              "ticks": ""
             }
            },
            "type": "scatterternary"
           }
          ],
          "surface": [
           {
            "colorbar": {
             "outlinewidth": 0,
             "ticks": ""
            },
            "colorscale": [
             [
              0,
              "#0d0887"
             ],
             [
              0.1111111111111111,
              "#46039f"
             ],
             [
              0.2222222222222222,
              "#7201a8"
             ],
             [
              0.3333333333333333,
              "#9c179e"
             ],
             [
              0.4444444444444444,
              "#bd3786"
             ],
             [
              0.5555555555555556,
              "#d8576b"
             ],
             [
              0.6666666666666666,
              "#ed7953"
             ],
             [
              0.7777777777777778,
              "#fb9f3a"
             ],
             [
              0.8888888888888888,
              "#fdca26"
             ],
             [
              1,
              "#f0f921"
             ]
            ],
            "type": "surface"
           }
          ],
          "table": [
           {
            "cells": {
             "fill": {
              "color": "#EBF0F8"
             },
             "line": {
              "color": "white"
             }
            },
            "header": {
             "fill": {
              "color": "#C8D4E3"
             },
             "line": {
              "color": "white"
             }
            },
            "type": "table"
           }
          ]
         },
         "layout": {
          "annotationdefaults": {
           "arrowcolor": "#2a3f5f",
           "arrowhead": 0,
           "arrowwidth": 1
          },
          "autotypenumbers": "strict",
          "coloraxis": {
           "colorbar": {
            "outlinewidth": 0,
            "ticks": ""
           }
          },
          "colorscale": {
           "diverging": [
            [
             0,
             "#8e0152"
            ],
            [
             0.1,
             "#c51b7d"
            ],
            [
             0.2,
             "#de77ae"
            ],
            [
             0.3,
             "#f1b6da"
            ],
            [
             0.4,
             "#fde0ef"
            ],
            [
             0.5,
             "#f7f7f7"
            ],
            [
             0.6,
             "#e6f5d0"
            ],
            [
             0.7,
             "#b8e186"
            ],
            [
             0.8,
             "#7fbc41"
            ],
            [
             0.9,
             "#4d9221"
            ],
            [
             1,
             "#276419"
            ]
           ],
           "sequential": [
            [
             0,
             "#0d0887"
            ],
            [
             0.1111111111111111,
             "#46039f"
            ],
            [
             0.2222222222222222,
             "#7201a8"
            ],
            [
             0.3333333333333333,
             "#9c179e"
            ],
            [
             0.4444444444444444,
             "#bd3786"
            ],
            [
             0.5555555555555556,
             "#d8576b"
            ],
            [
             0.6666666666666666,
             "#ed7953"
            ],
            [
             0.7777777777777778,
             "#fb9f3a"
            ],
            [
             0.8888888888888888,
             "#fdca26"
            ],
            [
             1,
             "#f0f921"
            ]
           ],
           "sequentialminus": [
            [
             0,
             "#0d0887"
            ],
            [
             0.1111111111111111,
             "#46039f"
            ],
            [
             0.2222222222222222,
             "#7201a8"
            ],
            [
             0.3333333333333333,
             "#9c179e"
            ],
            [
             0.4444444444444444,
             "#bd3786"
            ],
            [
             0.5555555555555556,
             "#d8576b"
            ],
            [
             0.6666666666666666,
             "#ed7953"
            ],
            [
             0.7777777777777778,
             "#fb9f3a"
            ],
            [
             0.8888888888888888,
             "#fdca26"
            ],
            [
             1,
             "#f0f921"
            ]
           ]
          },
          "colorway": [
           "#636efa",
           "#EF553B",
           "#00cc96",
           "#ab63fa",
           "#FFA15A",
           "#19d3f3",
           "#FF6692",
           "#B6E880",
           "#FF97FF",
           "#FECB52"
          ],
          "font": {
           "color": "#2a3f5f"
          },
          "geo": {
           "bgcolor": "white",
           "lakecolor": "white",
           "landcolor": "#E5ECF6",
           "showlakes": true,
           "showland": true,
           "subunitcolor": "white"
          },
          "hoverlabel": {
           "align": "left"
          },
          "hovermode": "closest",
          "mapbox": {
           "style": "light"
          },
          "paper_bgcolor": "white",
          "plot_bgcolor": "#E5ECF6",
          "polar": {
           "angularaxis": {
            "gridcolor": "white",
            "linecolor": "white",
            "ticks": ""
           },
           "bgcolor": "#E5ECF6",
           "radialaxis": {
            "gridcolor": "white",
            "linecolor": "white",
            "ticks": ""
           }
          },
          "scene": {
           "xaxis": {
            "backgroundcolor": "#E5ECF6",
            "gridcolor": "white",
            "gridwidth": 2,
            "linecolor": "white",
            "showbackground": true,
            "ticks": "",
            "zerolinecolor": "white"
           },
           "yaxis": {
            "backgroundcolor": "#E5ECF6",
            "gridcolor": "white",
            "gridwidth": 2,
            "linecolor": "white",
            "showbackground": true,
            "ticks": "",
            "zerolinecolor": "white"
           },
           "zaxis": {
            "backgroundcolor": "#E5ECF6",
            "gridcolor": "white",
            "gridwidth": 2,
            "linecolor": "white",
            "showbackground": true,
            "ticks": "",
            "zerolinecolor": "white"
           }
          },
          "shapedefaults": {
           "line": {
            "color": "#2a3f5f"
           }
          },
          "ternary": {
           "aaxis": {
            "gridcolor": "white",
            "linecolor": "white",
            "ticks": ""
           },
           "baxis": {
            "gridcolor": "white",
            "linecolor": "white",
            "ticks": ""
           },
           "bgcolor": "#E5ECF6",
           "caxis": {
            "gridcolor": "white",
            "linecolor": "white",
            "ticks": ""
           }
          },
          "title": {
           "x": 0.05
          },
          "xaxis": {
           "automargin": true,
           "gridcolor": "white",
           "linecolor": "white",
           "ticks": "",
           "title": {
            "standoff": 15
           },
           "zerolinecolor": "white",
           "zerolinewidth": 2
          },
          "yaxis": {
           "automargin": true,
           "gridcolor": "white",
           "linecolor": "white",
           "ticks": "",
           "title": {
            "standoff": 15
           },
           "zerolinecolor": "white",
           "zerolinewidth": 2
          }
         }
        },
        "title": {
         "text": "Megahit Z-score comparison"
        }
       }
      }
     },
     "metadata": {},
     "output_type": "display_data"
    }
   ],
   "source": [
    "fig = go.Figure()\n",
    "\n",
    "for n,index in enumerate(df_norm_z_megahit.index.to_list()):\n",
    "    fig.add_trace(\n",
    "                go.Scatterpolar(\n",
    "                                r=df_norm_z_megahit[['Completeness', 'Contamination',\n",
    "       'Strain_heterogeneity', 'n_contigs', 'Longest_contig', 'pilon_errors']].loc[index].values,\n",
    "                                theta=['Completeness', 'Contamination',\n",
    "       'Strain_heterogeneity', 'n_contigs', 'Longest_contig', 'pilon_errors'],\n",
    "                                fill='toself',\n",
    "                                name=\"Megahit {} - area {}\".format(df_norm_z_megahit['Category'][index], round(area_list[n],2)),\n",
    "                                showlegend=True,\n",
    "                                )\n",
    "                )\n",
    "\n",
    "fig.update_layout(\n",
    "    polar=dict(\n",
    "        radialaxis=dict(\n",
    "                        visible=True,\n",
    "                        range=[-3, 3]\n",
    "                    )\n",
    "            ),\n",
    "    title=\"Megahit Z-score comparison\"\n",
    ")\n",
    "\n",
    "fig.show()"
   ]
  },
  {
   "cell_type": "code",
   "execution_count": 21,
   "metadata": {},
   "outputs": [
    {
     "data": {
      "text/html": [
       "<div>\n",
       "<style scoped>\n",
       "    .dataframe tbody tr th:only-of-type {\n",
       "        vertical-align: middle;\n",
       "    }\n",
       "\n",
       "    .dataframe tbody tr th {\n",
       "        vertical-align: top;\n",
       "    }\n",
       "\n",
       "    .dataframe thead th {\n",
       "        text-align: right;\n",
       "    }\n",
       "</style>\n",
       "<table border=\"1\" class=\"dataframe\">\n",
       "  <thead>\n",
       "    <tr style=\"text-align: right;\">\n",
       "      <th></th>\n",
       "      <th>Assembly</th>\n",
       "      <th>Category</th>\n",
       "      <th>Completeness</th>\n",
       "      <th>Contamination</th>\n",
       "      <th>Strain_heterogeneity</th>\n",
       "      <th>n_contigs</th>\n",
       "      <th>Longest_contig</th>\n",
       "      <th>pilon_errors</th>\n",
       "    </tr>\n",
       "  </thead>\n",
       "  <tbody>\n",
       "    <tr>\n",
       "      <th>3</th>\n",
       "      <td>Spades_careful</td>\n",
       "      <td>all</td>\n",
       "      <td>-0.076594</td>\n",
       "      <td>0.184690</td>\n",
       "      <td>0.0</td>\n",
       "      <td>1.744773</td>\n",
       "      <td>2.315739</td>\n",
       "      <td>1.264460</td>\n",
       "    </tr>\n",
       "    <tr>\n",
       "      <th>4</th>\n",
       "      <td>Spades_careful</td>\n",
       "      <td>careful</td>\n",
       "      <td>0.415798</td>\n",
       "      <td>0.624686</td>\n",
       "      <td>0.0</td>\n",
       "      <td>-0.150411</td>\n",
       "      <td>-0.236805</td>\n",
       "      <td>0.718837</td>\n",
       "    </tr>\n",
       "    <tr>\n",
       "      <th>5</th>\n",
       "      <td>Spades_careful</td>\n",
       "      <td>meta</td>\n",
       "      <td>0.218841</td>\n",
       "      <td>-1.233077</td>\n",
       "      <td>0.0</td>\n",
       "      <td>-0.691893</td>\n",
       "      <td>-0.501082</td>\n",
       "      <td>-0.827096</td>\n",
       "    </tr>\n",
       "  </tbody>\n",
       "</table>\n",
       "</div>"
      ],
      "text/plain": [
       "         Assembly Category  Completeness  Contamination  Strain_heterogeneity  \\\n",
       "3  Spades_careful      all     -0.076594       0.184690                   0.0   \n",
       "4  Spades_careful  careful      0.415798       0.624686                   0.0   \n",
       "5  Spades_careful     meta      0.218841      -1.233077                   0.0   \n",
       "\n",
       "   n_contigs  Longest_contig  pilon_errors  \n",
       "3   1.744773        2.315739      1.264460  \n",
       "4  -0.150411       -0.236805      0.718837  \n",
       "5  -0.691893       -0.501082     -0.827096  "
      ]
     },
     "execution_count": 21,
     "metadata": {},
     "output_type": "execute_result"
    }
   ],
   "source": [
    "df_norm_z_spadesc = df_norm_z[df_norm_z['Assembly'] == \"Spades_careful\"]\n",
    "df_norm_z_spadesc"
   ]
  },
  {
   "cell_type": "code",
   "execution_count": 22,
   "metadata": {},
   "outputs": [
    {
     "data": {
      "text/plain": [
       "[35.0693794151312, 21.630658394617438, 12.605094404113995]"
      ]
     },
     "execution_count": 22,
     "metadata": {},
     "output_type": "execute_result"
    }
   ],
   "source": [
    "## Calculating polygon area\n",
    "\n",
    "\n",
    "area_list = list()\n",
    "for index in df_norm_z_spadesc.index.to_list():\n",
    "       r = df_norm_z_spadesc[['Completeness', 'Contamination',\n",
    "              'Strain_heterogeneity', 'n_contigs', 'Longest_contig', 'pilon_errors']].loc[index].values\n",
    "       area=0\n",
    "       theta = 360/len(r)\n",
    "       for i in range(0,len(r)-1,1):\n",
    "              a = (r[i])+3\n",
    "              b = (r[i+1])+3\n",
    "              area+= (a*b*np.sin(np.deg2rad(theta))/2)\n",
    "       area_list.append(area)\n",
    "\n",
    "area_list"
   ]
  },
  {
   "cell_type": "code",
   "execution_count": 23,
   "metadata": {},
   "outputs": [
    {
     "data": {
      "application/vnd.plotly.v1+json": {
       "config": {
        "plotlyServerURL": "https://plot.ly"
       },
       "data": [
        {
         "fill": "toself",
         "name": "Spades_careful all - area 35.07",
         "r": [
          -0.07659441611984774,
          0.18468989424837037,
          0,
          1.7447732497083959,
          2.3157388574299915,
          1.264460314121641
         ],
         "showlegend": true,
         "theta": [
          "Completeness",
          "Contamination",
          "Strain_heterogeneity",
          "n_contigs",
          "Longest_contig",
          "pilon_errors"
         ],
         "type": "scatterpolar"
        },
        {
         "fill": "toself",
         "name": "Spades_careful careful - area 21.63",
         "r": [
          0.4157982589364712,
          0.6246864070165464,
          0,
          -0.15041148704382684,
          -0.2368045589525243,
          0.71883702789107
         ],
         "showlegend": true,
         "theta": [
          "Completeness",
          "Contamination",
          "Strain_heterogeneity",
          "n_contigs",
          "Longest_contig",
          "pilon_errors"
         ],
         "type": "scatterpolar"
        },
        {
         "fill": "toself",
         "name": "Spades_careful meta - area 12.61",
         "r": [
          0.21884118891395066,
          -1.2330766468935306,
          0,
          -0.6918928404016047,
          -0.5010817810044214,
          -0.8270956164288814
         ],
         "showlegend": true,
         "theta": [
          "Completeness",
          "Contamination",
          "Strain_heterogeneity",
          "n_contigs",
          "Longest_contig",
          "pilon_errors"
         ],
         "type": "scatterpolar"
        }
       ],
       "layout": {
        "polar": {
         "radialaxis": {
          "range": [
           -3,
           3
          ],
          "visible": true
         }
        },
        "template": {
         "data": {
          "bar": [
           {
            "error_x": {
             "color": "#2a3f5f"
            },
            "error_y": {
             "color": "#2a3f5f"
            },
            "marker": {
             "line": {
              "color": "#E5ECF6",
              "width": 0.5
             },
             "pattern": {
              "fillmode": "overlay",
              "size": 10,
              "solidity": 0.2
             }
            },
            "type": "bar"
           }
          ],
          "barpolar": [
           {
            "marker": {
             "line": {
              "color": "#E5ECF6",
              "width": 0.5
             },
             "pattern": {
              "fillmode": "overlay",
              "size": 10,
              "solidity": 0.2
             }
            },
            "type": "barpolar"
           }
          ],
          "carpet": [
           {
            "aaxis": {
             "endlinecolor": "#2a3f5f",
             "gridcolor": "white",
             "linecolor": "white",
             "minorgridcolor": "white",
             "startlinecolor": "#2a3f5f"
            },
            "baxis": {
             "endlinecolor": "#2a3f5f",
             "gridcolor": "white",
             "linecolor": "white",
             "minorgridcolor": "white",
             "startlinecolor": "#2a3f5f"
            },
            "type": "carpet"
           }
          ],
          "choropleth": [
           {
            "colorbar": {
             "outlinewidth": 0,
             "ticks": ""
            },
            "type": "choropleth"
           }
          ],
          "contour": [
           {
            "colorbar": {
             "outlinewidth": 0,
             "ticks": ""
            },
            "colorscale": [
             [
              0,
              "#0d0887"
             ],
             [
              0.1111111111111111,
              "#46039f"
             ],
             [
              0.2222222222222222,
              "#7201a8"
             ],
             [
              0.3333333333333333,
              "#9c179e"
             ],
             [
              0.4444444444444444,
              "#bd3786"
             ],
             [
              0.5555555555555556,
              "#d8576b"
             ],
             [
              0.6666666666666666,
              "#ed7953"
             ],
             [
              0.7777777777777778,
              "#fb9f3a"
             ],
             [
              0.8888888888888888,
              "#fdca26"
             ],
             [
              1,
              "#f0f921"
             ]
            ],
            "type": "contour"
           }
          ],
          "contourcarpet": [
           {
            "colorbar": {
             "outlinewidth": 0,
             "ticks": ""
            },
            "type": "contourcarpet"
           }
          ],
          "heatmap": [
           {
            "colorbar": {
             "outlinewidth": 0,
             "ticks": ""
            },
            "colorscale": [
             [
              0,
              "#0d0887"
             ],
             [
              0.1111111111111111,
              "#46039f"
             ],
             [
              0.2222222222222222,
              "#7201a8"
             ],
             [
              0.3333333333333333,
              "#9c179e"
             ],
             [
              0.4444444444444444,
              "#bd3786"
             ],
             [
              0.5555555555555556,
              "#d8576b"
             ],
             [
              0.6666666666666666,
              "#ed7953"
             ],
             [
              0.7777777777777778,
              "#fb9f3a"
             ],
             [
              0.8888888888888888,
              "#fdca26"
             ],
             [
              1,
              "#f0f921"
             ]
            ],
            "type": "heatmap"
           }
          ],
          "heatmapgl": [
           {
            "colorbar": {
             "outlinewidth": 0,
             "ticks": ""
            },
            "colorscale": [
             [
              0,
              "#0d0887"
             ],
             [
              0.1111111111111111,
              "#46039f"
             ],
             [
              0.2222222222222222,
              "#7201a8"
             ],
             [
              0.3333333333333333,
              "#9c179e"
             ],
             [
              0.4444444444444444,
              "#bd3786"
             ],
             [
              0.5555555555555556,
              "#d8576b"
             ],
             [
              0.6666666666666666,
              "#ed7953"
             ],
             [
              0.7777777777777778,
              "#fb9f3a"
             ],
             [
              0.8888888888888888,
              "#fdca26"
             ],
             [
              1,
              "#f0f921"
             ]
            ],
            "type": "heatmapgl"
           }
          ],
          "histogram": [
           {
            "marker": {
             "pattern": {
              "fillmode": "overlay",
              "size": 10,
              "solidity": 0.2
             }
            },
            "type": "histogram"
           }
          ],
          "histogram2d": [
           {
            "colorbar": {
             "outlinewidth": 0,
             "ticks": ""
            },
            "colorscale": [
             [
              0,
              "#0d0887"
             ],
             [
              0.1111111111111111,
              "#46039f"
             ],
             [
              0.2222222222222222,
              "#7201a8"
             ],
             [
              0.3333333333333333,
              "#9c179e"
             ],
             [
              0.4444444444444444,
              "#bd3786"
             ],
             [
              0.5555555555555556,
              "#d8576b"
             ],
             [
              0.6666666666666666,
              "#ed7953"
             ],
             [
              0.7777777777777778,
              "#fb9f3a"
             ],
             [
              0.8888888888888888,
              "#fdca26"
             ],
             [
              1,
              "#f0f921"
             ]
            ],
            "type": "histogram2d"
           }
          ],
          "histogram2dcontour": [
           {
            "colorbar": {
             "outlinewidth": 0,
             "ticks": ""
            },
            "colorscale": [
             [
              0,
              "#0d0887"
             ],
             [
              0.1111111111111111,
              "#46039f"
             ],
             [
              0.2222222222222222,
              "#7201a8"
             ],
             [
              0.3333333333333333,
              "#9c179e"
             ],
             [
              0.4444444444444444,
              "#bd3786"
             ],
             [
              0.5555555555555556,
              "#d8576b"
             ],
             [
              0.6666666666666666,
              "#ed7953"
             ],
             [
              0.7777777777777778,
              "#fb9f3a"
             ],
             [
              0.8888888888888888,
              "#fdca26"
             ],
             [
              1,
              "#f0f921"
             ]
            ],
            "type": "histogram2dcontour"
           }
          ],
          "mesh3d": [
           {
            "colorbar": {
             "outlinewidth": 0,
             "ticks": ""
            },
            "type": "mesh3d"
           }
          ],
          "parcoords": [
           {
            "line": {
             "colorbar": {
              "outlinewidth": 0,
              "ticks": ""
             }
            },
            "type": "parcoords"
           }
          ],
          "pie": [
           {
            "automargin": true,
            "type": "pie"
           }
          ],
          "scatter": [
           {
            "marker": {
             "colorbar": {
              "outlinewidth": 0,
              "ticks": ""
             }
            },
            "type": "scatter"
           }
          ],
          "scatter3d": [
           {
            "line": {
             "colorbar": {
              "outlinewidth": 0,
              "ticks": ""
             }
            },
            "marker": {
             "colorbar": {
              "outlinewidth": 0,
              "ticks": ""
             }
            },
            "type": "scatter3d"
           }
          ],
          "scattercarpet": [
           {
            "marker": {
             "colorbar": {
              "outlinewidth": 0,
              "ticks": ""
             }
            },
            "type": "scattercarpet"
           }
          ],
          "scattergeo": [
           {
            "marker": {
             "colorbar": {
              "outlinewidth": 0,
              "ticks": ""
             }
            },
            "type": "scattergeo"
           }
          ],
          "scattergl": [
           {
            "marker": {
             "colorbar": {
              "outlinewidth": 0,
              "ticks": ""
             }
            },
            "type": "scattergl"
           }
          ],
          "scattermapbox": [
           {
            "marker": {
             "colorbar": {
              "outlinewidth": 0,
              "ticks": ""
             }
            },
            "type": "scattermapbox"
           }
          ],
          "scatterpolar": [
           {
            "marker": {
             "colorbar": {
              "outlinewidth": 0,
              "ticks": ""
             }
            },
            "type": "scatterpolar"
           }
          ],
          "scatterpolargl": [
           {
            "marker": {
             "colorbar": {
              "outlinewidth": 0,
              "ticks": ""
             }
            },
            "type": "scatterpolargl"
           }
          ],
          "scatterternary": [
           {
            "marker": {
             "colorbar": {
              "outlinewidth": 0,
              "ticks": ""
             }
            },
            "type": "scatterternary"
           }
          ],
          "surface": [
           {
            "colorbar": {
             "outlinewidth": 0,
             "ticks": ""
            },
            "colorscale": [
             [
              0,
              "#0d0887"
             ],
             [
              0.1111111111111111,
              "#46039f"
             ],
             [
              0.2222222222222222,
              "#7201a8"
             ],
             [
              0.3333333333333333,
              "#9c179e"
             ],
             [
              0.4444444444444444,
              "#bd3786"
             ],
             [
              0.5555555555555556,
              "#d8576b"
             ],
             [
              0.6666666666666666,
              "#ed7953"
             ],
             [
              0.7777777777777778,
              "#fb9f3a"
             ],
             [
              0.8888888888888888,
              "#fdca26"
             ],
             [
              1,
              "#f0f921"
             ]
            ],
            "type": "surface"
           }
          ],
          "table": [
           {
            "cells": {
             "fill": {
              "color": "#EBF0F8"
             },
             "line": {
              "color": "white"
             }
            },
            "header": {
             "fill": {
              "color": "#C8D4E3"
             },
             "line": {
              "color": "white"
             }
            },
            "type": "table"
           }
          ]
         },
         "layout": {
          "annotationdefaults": {
           "arrowcolor": "#2a3f5f",
           "arrowhead": 0,
           "arrowwidth": 1
          },
          "autotypenumbers": "strict",
          "coloraxis": {
           "colorbar": {
            "outlinewidth": 0,
            "ticks": ""
           }
          },
          "colorscale": {
           "diverging": [
            [
             0,
             "#8e0152"
            ],
            [
             0.1,
             "#c51b7d"
            ],
            [
             0.2,
             "#de77ae"
            ],
            [
             0.3,
             "#f1b6da"
            ],
            [
             0.4,
             "#fde0ef"
            ],
            [
             0.5,
             "#f7f7f7"
            ],
            [
             0.6,
             "#e6f5d0"
            ],
            [
             0.7,
             "#b8e186"
            ],
            [
             0.8,
             "#7fbc41"
            ],
            [
             0.9,
             "#4d9221"
            ],
            [
             1,
             "#276419"
            ]
           ],
           "sequential": [
            [
             0,
             "#0d0887"
            ],
            [
             0.1111111111111111,
             "#46039f"
            ],
            [
             0.2222222222222222,
             "#7201a8"
            ],
            [
             0.3333333333333333,
             "#9c179e"
            ],
            [
             0.4444444444444444,
             "#bd3786"
            ],
            [
             0.5555555555555556,
             "#d8576b"
            ],
            [
             0.6666666666666666,
             "#ed7953"
            ],
            [
             0.7777777777777778,
             "#fb9f3a"
            ],
            [
             0.8888888888888888,
             "#fdca26"
            ],
            [
             1,
             "#f0f921"
            ]
           ],
           "sequentialminus": [
            [
             0,
             "#0d0887"
            ],
            [
             0.1111111111111111,
             "#46039f"
            ],
            [
             0.2222222222222222,
             "#7201a8"
            ],
            [
             0.3333333333333333,
             "#9c179e"
            ],
            [
             0.4444444444444444,
             "#bd3786"
            ],
            [
             0.5555555555555556,
             "#d8576b"
            ],
            [
             0.6666666666666666,
             "#ed7953"
            ],
            [
             0.7777777777777778,
             "#fb9f3a"
            ],
            [
             0.8888888888888888,
             "#fdca26"
            ],
            [
             1,
             "#f0f921"
            ]
           ]
          },
          "colorway": [
           "#636efa",
           "#EF553B",
           "#00cc96",
           "#ab63fa",
           "#FFA15A",
           "#19d3f3",
           "#FF6692",
           "#B6E880",
           "#FF97FF",
           "#FECB52"
          ],
          "font": {
           "color": "#2a3f5f"
          },
          "geo": {
           "bgcolor": "white",
           "lakecolor": "white",
           "landcolor": "#E5ECF6",
           "showlakes": true,
           "showland": true,
           "subunitcolor": "white"
          },
          "hoverlabel": {
           "align": "left"
          },
          "hovermode": "closest",
          "mapbox": {
           "style": "light"
          },
          "paper_bgcolor": "white",
          "plot_bgcolor": "#E5ECF6",
          "polar": {
           "angularaxis": {
            "gridcolor": "white",
            "linecolor": "white",
            "ticks": ""
           },
           "bgcolor": "#E5ECF6",
           "radialaxis": {
            "gridcolor": "white",
            "linecolor": "white",
            "ticks": ""
           }
          },
          "scene": {
           "xaxis": {
            "backgroundcolor": "#E5ECF6",
            "gridcolor": "white",
            "gridwidth": 2,
            "linecolor": "white",
            "showbackground": true,
            "ticks": "",
            "zerolinecolor": "white"
           },
           "yaxis": {
            "backgroundcolor": "#E5ECF6",
            "gridcolor": "white",
            "gridwidth": 2,
            "linecolor": "white",
            "showbackground": true,
            "ticks": "",
            "zerolinecolor": "white"
           },
           "zaxis": {
            "backgroundcolor": "#E5ECF6",
            "gridcolor": "white",
            "gridwidth": 2,
            "linecolor": "white",
            "showbackground": true,
            "ticks": "",
            "zerolinecolor": "white"
           }
          },
          "shapedefaults": {
           "line": {
            "color": "#2a3f5f"
           }
          },
          "ternary": {
           "aaxis": {
            "gridcolor": "white",
            "linecolor": "white",
            "ticks": ""
           },
           "baxis": {
            "gridcolor": "white",
            "linecolor": "white",
            "ticks": ""
           },
           "bgcolor": "#E5ECF6",
           "caxis": {
            "gridcolor": "white",
            "linecolor": "white",
            "ticks": ""
           }
          },
          "title": {
           "x": 0.05
          },
          "xaxis": {
           "automargin": true,
           "gridcolor": "white",
           "linecolor": "white",
           "ticks": "",
           "title": {
            "standoff": 15
           },
           "zerolinecolor": "white",
           "zerolinewidth": 2
          },
          "yaxis": {
           "automargin": true,
           "gridcolor": "white",
           "linecolor": "white",
           "ticks": "",
           "title": {
            "standoff": 15
           },
           "zerolinecolor": "white",
           "zerolinewidth": 2
          }
         }
        },
        "title": {
         "text": "Spades_careful Z-score comparison"
        }
       }
      }
     },
     "metadata": {},
     "output_type": "display_data"
    }
   ],
   "source": [
    "fig2 = go.Figure()\n",
    "\n",
    "for n,index in enumerate(df_norm_z_spadesc.index.to_list()):\n",
    "    fig2.add_trace(\n",
    "                go.Scatterpolar(\n",
    "                                r=df_norm_z_spadesc[['Completeness', 'Contamination',\n",
    "       'Strain_heterogeneity', 'n_contigs', 'Longest_contig', 'pilon_errors']].loc[index].values,\n",
    "                                theta=['Completeness', 'Contamination',\n",
    "       'Strain_heterogeneity', 'n_contigs', 'Longest_contig', 'pilon_errors'],\n",
    "                                fill='toself',\n",
    "                                name=\"Spades_careful {} - area {}\".format(df_norm_z_spadesc['Category'][index], round(area_list[n],2)),\n",
    "                                showlegend=True,\n",
    "                                )\n",
    "                )\n",
    "\n",
    "fig2.update_layout(\n",
    "    polar=dict(\n",
    "        radialaxis=dict(\n",
    "                        visible=True,\n",
    "                        range=[-3, 3]\n",
    "                    )\n",
    "            ),\n",
    "    title=\"Spades_careful Z-score comparison\"\n",
    ")\n",
    "\n",
    "fig2.show()"
   ]
  },
  {
   "cell_type": "code",
   "execution_count": 24,
   "metadata": {},
   "outputs": [
    {
     "data": {
      "text/html": [
       "<div>\n",
       "<style scoped>\n",
       "    .dataframe tbody tr th:only-of-type {\n",
       "        vertical-align: middle;\n",
       "    }\n",
       "\n",
       "    .dataframe tbody tr th {\n",
       "        vertical-align: top;\n",
       "    }\n",
       "\n",
       "    .dataframe thead th {\n",
       "        text-align: right;\n",
       "    }\n",
       "</style>\n",
       "<table border=\"1\" class=\"dataframe\">\n",
       "  <thead>\n",
       "    <tr style=\"text-align: right;\">\n",
       "      <th></th>\n",
       "      <th>Assembly</th>\n",
       "      <th>Category</th>\n",
       "      <th>Completeness</th>\n",
       "      <th>Contamination</th>\n",
       "      <th>Strain_heterogeneity</th>\n",
       "      <th>n_contigs</th>\n",
       "      <th>Longest_contig</th>\n",
       "      <th>pilon_errors</th>\n",
       "    </tr>\n",
       "  </thead>\n",
       "  <tbody>\n",
       "    <tr>\n",
       "      <th>6</th>\n",
       "      <td>Spades_meta</td>\n",
       "      <td>all</td>\n",
       "      <td>0.698924</td>\n",
       "      <td>0.184690</td>\n",
       "      <td>0.0</td>\n",
       "      <td>0.553514</td>\n",
       "      <td>-0.759107</td>\n",
       "      <td>-1.099907</td>\n",
       "    </tr>\n",
       "    <tr>\n",
       "      <th>7</th>\n",
       "      <td>Spades_meta</td>\n",
       "      <td>careful</td>\n",
       "      <td>0.698924</td>\n",
       "      <td>-0.010864</td>\n",
       "      <td>0.0</td>\n",
       "      <td>0.553514</td>\n",
       "      <td>-0.239333</td>\n",
       "      <td>1.004640</td>\n",
       "    </tr>\n",
       "    <tr>\n",
       "      <th>8</th>\n",
       "      <td>Spades_meta</td>\n",
       "      <td>meta</td>\n",
       "      <td>0.698924</td>\n",
       "      <td>-0.108641</td>\n",
       "      <td>0.0</td>\n",
       "      <td>-0.312856</td>\n",
       "      <td>-1.010214</td>\n",
       "      <td>-1.138880</td>\n",
       "    </tr>\n",
       "  </tbody>\n",
       "</table>\n",
       "</div>"
      ],
      "text/plain": [
       "      Assembly Category  Completeness  Contamination  Strain_heterogeneity  \\\n",
       "6  Spades_meta      all      0.698924       0.184690                   0.0   \n",
       "7  Spades_meta  careful      0.698924      -0.010864                   0.0   \n",
       "8  Spades_meta     meta      0.698924      -0.108641                   0.0   \n",
       "\n",
       "   n_contigs  Longest_contig  pilon_errors  \n",
       "6   0.553514       -0.759107     -1.099907  \n",
       "7   0.553514       -0.239333      1.004640  \n",
       "8  -0.312856       -1.010214     -1.138880  "
      ]
     },
     "execution_count": 24,
     "metadata": {},
     "output_type": "execute_result"
    }
   ],
   "source": [
    "df_norm_z_meta = df_norm_z[df_norm_z['Assembly'] == \"Spades_meta\"]\n",
    "df_norm_z_meta"
   ]
  },
  {
   "cell_type": "code",
   "execution_count": 25,
   "metadata": {},
   "outputs": [
    {
     "data": {
      "text/plain": [
       "[19.145867436149302, 22.321840746214562, 15.796518454198734]"
      ]
     },
     "execution_count": 25,
     "metadata": {},
     "output_type": "execute_result"
    }
   ],
   "source": [
    "## Calculating polygon area\n",
    "\n",
    "\n",
    "area_list = list()\n",
    "for index in df_norm_z_meta.index.to_list():\n",
    "       r = df_norm_z_meta[['Completeness', 'Contamination',\n",
    "              'Strain_heterogeneity', 'n_contigs', 'Longest_contig', 'pilon_errors']].loc[index].values\n",
    "       area=0\n",
    "       theta = 360/len(r)\n",
    "       for i in range(0,len(r)-1,1):\n",
    "              a = (r[i])+3\n",
    "              b = (r[i+1])+3\n",
    "              area+= (a*b*np.sin(np.deg2rad(theta))/2)\n",
    "       area_list.append(area)\n",
    "\n",
    "area_list"
   ]
  },
  {
   "cell_type": "code",
   "execution_count": 26,
   "metadata": {},
   "outputs": [
    {
     "data": {
      "application/vnd.plotly.v1+json": {
       "config": {
        "plotlyServerURL": "https://plot.ly"
       },
       "data": [
        {
         "fill": "toself",
         "name": "Spades_meta all - area 19.15",
         "r": [
          0.698924047093838,
          0.18468989424837037,
          0,
          0.5535142723212845,
          -0.7591072639070567,
          -1.099907259544167
         ],
         "showlegend": true,
         "theta": [
          "Completeness",
          "Contamination",
          "Strain_heterogeneity",
          "n_contigs",
          "Longest_contig",
          "pilon_errors"
         ],
         "type": "scatterpolar"
        },
        {
         "fill": "toself",
         "name": "Spades_meta careful - area 22.32",
         "r": [
          0.698924047093838,
          -0.010864111426374792,
          0,
          0.5535142723212845,
          -0.239333040119559,
          1.004639701630893
         ],
         "showlegend": true,
         "theta": [
          "Completeness",
          "Contamination",
          "Strain_heterogeneity",
          "n_contigs",
          "Longest_contig",
          "pilon_errors"
         ],
         "type": "scatterpolar"
        },
        {
         "fill": "toself",
         "name": "Spades_meta meta - area 15.8",
         "r": [
          0.698924047093838,
          -0.10864111426374738,
          0,
          -0.31285589305116024,
          -1.0102141554845092,
          -1.1388803514177792
         ],
         "showlegend": true,
         "theta": [
          "Completeness",
          "Contamination",
          "Strain_heterogeneity",
          "n_contigs",
          "Longest_contig",
          "pilon_errors"
         ],
         "type": "scatterpolar"
        }
       ],
       "layout": {
        "polar": {
         "radialaxis": {
          "range": [
           -3,
           3
          ],
          "visible": true
         }
        },
        "template": {
         "data": {
          "bar": [
           {
            "error_x": {
             "color": "#2a3f5f"
            },
            "error_y": {
             "color": "#2a3f5f"
            },
            "marker": {
             "line": {
              "color": "#E5ECF6",
              "width": 0.5
             },
             "pattern": {
              "fillmode": "overlay",
              "size": 10,
              "solidity": 0.2
             }
            },
            "type": "bar"
           }
          ],
          "barpolar": [
           {
            "marker": {
             "line": {
              "color": "#E5ECF6",
              "width": 0.5
             },
             "pattern": {
              "fillmode": "overlay",
              "size": 10,
              "solidity": 0.2
             }
            },
            "type": "barpolar"
           }
          ],
          "carpet": [
           {
            "aaxis": {
             "endlinecolor": "#2a3f5f",
             "gridcolor": "white",
             "linecolor": "white",
             "minorgridcolor": "white",
             "startlinecolor": "#2a3f5f"
            },
            "baxis": {
             "endlinecolor": "#2a3f5f",
             "gridcolor": "white",
             "linecolor": "white",
             "minorgridcolor": "white",
             "startlinecolor": "#2a3f5f"
            },
            "type": "carpet"
           }
          ],
          "choropleth": [
           {
            "colorbar": {
             "outlinewidth": 0,
             "ticks": ""
            },
            "type": "choropleth"
           }
          ],
          "contour": [
           {
            "colorbar": {
             "outlinewidth": 0,
             "ticks": ""
            },
            "colorscale": [
             [
              0,
              "#0d0887"
             ],
             [
              0.1111111111111111,
              "#46039f"
             ],
             [
              0.2222222222222222,
              "#7201a8"
             ],
             [
              0.3333333333333333,
              "#9c179e"
             ],
             [
              0.4444444444444444,
              "#bd3786"
             ],
             [
              0.5555555555555556,
              "#d8576b"
             ],
             [
              0.6666666666666666,
              "#ed7953"
             ],
             [
              0.7777777777777778,
              "#fb9f3a"
             ],
             [
              0.8888888888888888,
              "#fdca26"
             ],
             [
              1,
              "#f0f921"
             ]
            ],
            "type": "contour"
           }
          ],
          "contourcarpet": [
           {
            "colorbar": {
             "outlinewidth": 0,
             "ticks": ""
            },
            "type": "contourcarpet"
           }
          ],
          "heatmap": [
           {
            "colorbar": {
             "outlinewidth": 0,
             "ticks": ""
            },
            "colorscale": [
             [
              0,
              "#0d0887"
             ],
             [
              0.1111111111111111,
              "#46039f"
             ],
             [
              0.2222222222222222,
              "#7201a8"
             ],
             [
              0.3333333333333333,
              "#9c179e"
             ],
             [
              0.4444444444444444,
              "#bd3786"
             ],
             [
              0.5555555555555556,
              "#d8576b"
             ],
             [
              0.6666666666666666,
              "#ed7953"
             ],
             [
              0.7777777777777778,
              "#fb9f3a"
             ],
             [
              0.8888888888888888,
              "#fdca26"
             ],
             [
              1,
              "#f0f921"
             ]
            ],
            "type": "heatmap"
           }
          ],
          "heatmapgl": [
           {
            "colorbar": {
             "outlinewidth": 0,
             "ticks": ""
            },
            "colorscale": [
             [
              0,
              "#0d0887"
             ],
             [
              0.1111111111111111,
              "#46039f"
             ],
             [
              0.2222222222222222,
              "#7201a8"
             ],
             [
              0.3333333333333333,
              "#9c179e"
             ],
             [
              0.4444444444444444,
              "#bd3786"
             ],
             [
              0.5555555555555556,
              "#d8576b"
             ],
             [
              0.6666666666666666,
              "#ed7953"
             ],
             [
              0.7777777777777778,
              "#fb9f3a"
             ],
             [
              0.8888888888888888,
              "#fdca26"
             ],
             [
              1,
              "#f0f921"
             ]
            ],
            "type": "heatmapgl"
           }
          ],
          "histogram": [
           {
            "marker": {
             "pattern": {
              "fillmode": "overlay",
              "size": 10,
              "solidity": 0.2
             }
            },
            "type": "histogram"
           }
          ],
          "histogram2d": [
           {
            "colorbar": {
             "outlinewidth": 0,
             "ticks": ""
            },
            "colorscale": [
             [
              0,
              "#0d0887"
             ],
             [
              0.1111111111111111,
              "#46039f"
             ],
             [
              0.2222222222222222,
              "#7201a8"
             ],
             [
              0.3333333333333333,
              "#9c179e"
             ],
             [
              0.4444444444444444,
              "#bd3786"
             ],
             [
              0.5555555555555556,
              "#d8576b"
             ],
             [
              0.6666666666666666,
              "#ed7953"
             ],
             [
              0.7777777777777778,
              "#fb9f3a"
             ],
             [
              0.8888888888888888,
              "#fdca26"
             ],
             [
              1,
              "#f0f921"
             ]
            ],
            "type": "histogram2d"
           }
          ],
          "histogram2dcontour": [
           {
            "colorbar": {
             "outlinewidth": 0,
             "ticks": ""
            },
            "colorscale": [
             [
              0,
              "#0d0887"
             ],
             [
              0.1111111111111111,
              "#46039f"
             ],
             [
              0.2222222222222222,
              "#7201a8"
             ],
             [
              0.3333333333333333,
              "#9c179e"
             ],
             [
              0.4444444444444444,
              "#bd3786"
             ],
             [
              0.5555555555555556,
              "#d8576b"
             ],
             [
              0.6666666666666666,
              "#ed7953"
             ],
             [
              0.7777777777777778,
              "#fb9f3a"
             ],
             [
              0.8888888888888888,
              "#fdca26"
             ],
             [
              1,
              "#f0f921"
             ]
            ],
            "type": "histogram2dcontour"
           }
          ],
          "mesh3d": [
           {
            "colorbar": {
             "outlinewidth": 0,
             "ticks": ""
            },
            "type": "mesh3d"
           }
          ],
          "parcoords": [
           {
            "line": {
             "colorbar": {
              "outlinewidth": 0,
              "ticks": ""
             }
            },
            "type": "parcoords"
           }
          ],
          "pie": [
           {
            "automargin": true,
            "type": "pie"
           }
          ],
          "scatter": [
           {
            "marker": {
             "colorbar": {
              "outlinewidth": 0,
              "ticks": ""
             }
            },
            "type": "scatter"
           }
          ],
          "scatter3d": [
           {
            "line": {
             "colorbar": {
              "outlinewidth": 0,
              "ticks": ""
             }
            },
            "marker": {
             "colorbar": {
              "outlinewidth": 0,
              "ticks": ""
             }
            },
            "type": "scatter3d"
           }
          ],
          "scattercarpet": [
           {
            "marker": {
             "colorbar": {
              "outlinewidth": 0,
              "ticks": ""
             }
            },
            "type": "scattercarpet"
           }
          ],
          "scattergeo": [
           {
            "marker": {
             "colorbar": {
              "outlinewidth": 0,
              "ticks": ""
             }
            },
            "type": "scattergeo"
           }
          ],
          "scattergl": [
           {
            "marker": {
             "colorbar": {
              "outlinewidth": 0,
              "ticks": ""
             }
            },
            "type": "scattergl"
           }
          ],
          "scattermapbox": [
           {
            "marker": {
             "colorbar": {
              "outlinewidth": 0,
              "ticks": ""
             }
            },
            "type": "scattermapbox"
           }
          ],
          "scatterpolar": [
           {
            "marker": {
             "colorbar": {
              "outlinewidth": 0,
              "ticks": ""
             }
            },
            "type": "scatterpolar"
           }
          ],
          "scatterpolargl": [
           {
            "marker": {
             "colorbar": {
              "outlinewidth": 0,
              "ticks": ""
             }
            },
            "type": "scatterpolargl"
           }
          ],
          "scatterternary": [
           {
            "marker": {
             "colorbar": {
              "outlinewidth": 0,
              "ticks": ""
             }
            },
            "type": "scatterternary"
           }
          ],
          "surface": [
           {
            "colorbar": {
             "outlinewidth": 0,
             "ticks": ""
            },
            "colorscale": [
             [
              0,
              "#0d0887"
             ],
             [
              0.1111111111111111,
              "#46039f"
             ],
             [
              0.2222222222222222,
              "#7201a8"
             ],
             [
              0.3333333333333333,
              "#9c179e"
             ],
             [
              0.4444444444444444,
              "#bd3786"
             ],
             [
              0.5555555555555556,
              "#d8576b"
             ],
             [
              0.6666666666666666,
              "#ed7953"
             ],
             [
              0.7777777777777778,
              "#fb9f3a"
             ],
             [
              0.8888888888888888,
              "#fdca26"
             ],
             [
              1,
              "#f0f921"
             ]
            ],
            "type": "surface"
           }
          ],
          "table": [
           {
            "cells": {
             "fill": {
              "color": "#EBF0F8"
             },
             "line": {
              "color": "white"
             }
            },
            "header": {
             "fill": {
              "color": "#C8D4E3"
             },
             "line": {
              "color": "white"
             }
            },
            "type": "table"
           }
          ]
         },
         "layout": {
          "annotationdefaults": {
           "arrowcolor": "#2a3f5f",
           "arrowhead": 0,
           "arrowwidth": 1
          },
          "autotypenumbers": "strict",
          "coloraxis": {
           "colorbar": {
            "outlinewidth": 0,
            "ticks": ""
           }
          },
          "colorscale": {
           "diverging": [
            [
             0,
             "#8e0152"
            ],
            [
             0.1,
             "#c51b7d"
            ],
            [
             0.2,
             "#de77ae"
            ],
            [
             0.3,
             "#f1b6da"
            ],
            [
             0.4,
             "#fde0ef"
            ],
            [
             0.5,
             "#f7f7f7"
            ],
            [
             0.6,
             "#e6f5d0"
            ],
            [
             0.7,
             "#b8e186"
            ],
            [
             0.8,
             "#7fbc41"
            ],
            [
             0.9,
             "#4d9221"
            ],
            [
             1,
             "#276419"
            ]
           ],
           "sequential": [
            [
             0,
             "#0d0887"
            ],
            [
             0.1111111111111111,
             "#46039f"
            ],
            [
             0.2222222222222222,
             "#7201a8"
            ],
            [
             0.3333333333333333,
             "#9c179e"
            ],
            [
             0.4444444444444444,
             "#bd3786"
            ],
            [
             0.5555555555555556,
             "#d8576b"
            ],
            [
             0.6666666666666666,
             "#ed7953"
            ],
            [
             0.7777777777777778,
             "#fb9f3a"
            ],
            [
             0.8888888888888888,
             "#fdca26"
            ],
            [
             1,
             "#f0f921"
            ]
           ],
           "sequentialminus": [
            [
             0,
             "#0d0887"
            ],
            [
             0.1111111111111111,
             "#46039f"
            ],
            [
             0.2222222222222222,
             "#7201a8"
            ],
            [
             0.3333333333333333,
             "#9c179e"
            ],
            [
             0.4444444444444444,
             "#bd3786"
            ],
            [
             0.5555555555555556,
             "#d8576b"
            ],
            [
             0.6666666666666666,
             "#ed7953"
            ],
            [
             0.7777777777777778,
             "#fb9f3a"
            ],
            [
             0.8888888888888888,
             "#fdca26"
            ],
            [
             1,
             "#f0f921"
            ]
           ]
          },
          "colorway": [
           "#636efa",
           "#EF553B",
           "#00cc96",
           "#ab63fa",
           "#FFA15A",
           "#19d3f3",
           "#FF6692",
           "#B6E880",
           "#FF97FF",
           "#FECB52"
          ],
          "font": {
           "color": "#2a3f5f"
          },
          "geo": {
           "bgcolor": "white",
           "lakecolor": "white",
           "landcolor": "#E5ECF6",
           "showlakes": true,
           "showland": true,
           "subunitcolor": "white"
          },
          "hoverlabel": {
           "align": "left"
          },
          "hovermode": "closest",
          "mapbox": {
           "style": "light"
          },
          "paper_bgcolor": "white",
          "plot_bgcolor": "#E5ECF6",
          "polar": {
           "angularaxis": {
            "gridcolor": "white",
            "linecolor": "white",
            "ticks": ""
           },
           "bgcolor": "#E5ECF6",
           "radialaxis": {
            "gridcolor": "white",
            "linecolor": "white",
            "ticks": ""
           }
          },
          "scene": {
           "xaxis": {
            "backgroundcolor": "#E5ECF6",
            "gridcolor": "white",
            "gridwidth": 2,
            "linecolor": "white",
            "showbackground": true,
            "ticks": "",
            "zerolinecolor": "white"
           },
           "yaxis": {
            "backgroundcolor": "#E5ECF6",
            "gridcolor": "white",
            "gridwidth": 2,
            "linecolor": "white",
            "showbackground": true,
            "ticks": "",
            "zerolinecolor": "white"
           },
           "zaxis": {
            "backgroundcolor": "#E5ECF6",
            "gridcolor": "white",
            "gridwidth": 2,
            "linecolor": "white",
            "showbackground": true,
            "ticks": "",
            "zerolinecolor": "white"
           }
          },
          "shapedefaults": {
           "line": {
            "color": "#2a3f5f"
           }
          },
          "ternary": {
           "aaxis": {
            "gridcolor": "white",
            "linecolor": "white",
            "ticks": ""
           },
           "baxis": {
            "gridcolor": "white",
            "linecolor": "white",
            "ticks": ""
           },
           "bgcolor": "#E5ECF6",
           "caxis": {
            "gridcolor": "white",
            "linecolor": "white",
            "ticks": ""
           }
          },
          "title": {
           "x": 0.05
          },
          "xaxis": {
           "automargin": true,
           "gridcolor": "white",
           "linecolor": "white",
           "ticks": "",
           "title": {
            "standoff": 15
           },
           "zerolinecolor": "white",
           "zerolinewidth": 2
          },
          "yaxis": {
           "automargin": true,
           "gridcolor": "white",
           "linecolor": "white",
           "ticks": "",
           "title": {
            "standoff": 15
           },
           "zerolinecolor": "white",
           "zerolinewidth": 2
          }
         }
        },
        "title": {
         "text": "Spades_meta Z-score comparison"
        }
       }
      }
     },
     "metadata": {},
     "output_type": "display_data"
    }
   ],
   "source": [
    "fig2 = go.Figure()\n",
    "\n",
    "for n,index in enumerate(df_norm_z_meta.index.to_list()):\n",
    "    fig2.add_trace(\n",
    "                go.Scatterpolar(\n",
    "                                r=df_norm_z_meta[['Completeness', 'Contamination',\n",
    "       'Strain_heterogeneity', 'n_contigs', 'Longest_contig', 'pilon_errors']].loc[index].values,\n",
    "                                theta=['Completeness', 'Contamination',\n",
    "       'Strain_heterogeneity', 'n_contigs', 'Longest_contig', 'pilon_errors'],\n",
    "                                fill='toself',\n",
    "                                name=\"Spades_meta {} - area {}\".format(df_norm_z_meta['Category'][index], round(area_list[n],2)),\n",
    "                                showlegend=True,\n",
    "                                )\n",
    "                )\n",
    "\n",
    "fig2.update_layout(\n",
    "    polar=dict(\n",
    "        radialaxis=dict(\n",
    "                        visible=True,\n",
    "                        range=[-3, 3]\n",
    "                    )\n",
    "            ),\n",
    "    title=\"Spades_meta Z-score comparison\"\n",
    ")\n",
    "\n",
    "fig2.show()"
   ]
  },
  {
   "cell_type": "markdown",
   "metadata": {},
   "source": [
    "# 100 genomes community "
   ]
  },
  {
   "cell_type": "code",
   "execution_count": 27,
   "metadata": {},
   "outputs": [
    {
     "data": {
      "text/html": [
       "<div>\n",
       "<style scoped>\n",
       "    .dataframe tbody tr th:only-of-type {\n",
       "        vertical-align: middle;\n",
       "    }\n",
       "\n",
       "    .dataframe tbody tr th {\n",
       "        vertical-align: top;\n",
       "    }\n",
       "\n",
       "    .dataframe thead th {\n",
       "        text-align: right;\n",
       "    }\n",
       "</style>\n",
       "<table border=\"1\" class=\"dataframe\">\n",
       "  <thead>\n",
       "    <tr style=\"text-align: right;\">\n",
       "      <th></th>\n",
       "      <th>assembly_accession</th>\n",
       "      <th>tax_id</th>\n",
       "      <th>organism_name</th>\n",
       "    </tr>\n",
       "  </thead>\n",
       "  <tbody>\n",
       "    <tr>\n",
       "      <th>0</th>\n",
       "      <td>GCF_000283655.1</td>\n",
       "      <td>862719</td>\n",
       "      <td>Azospirillum lipoferum 4B</td>\n",
       "    </tr>\n",
       "    <tr>\n",
       "      <th>1</th>\n",
       "      <td>GCF_000817975.1</td>\n",
       "      <td>1328314</td>\n",
       "      <td>Azotobacter chroococcum NCIMB 8003</td>\n",
       "    </tr>\n",
       "    <tr>\n",
       "      <th>2</th>\n",
       "      <td>GCF_000021345.1</td>\n",
       "      <td>395492</td>\n",
       "      <td>Rhizobium leguminosarum bv. trifolii WSM2304</td>\n",
       "    </tr>\n",
       "    <tr>\n",
       "      <th>3</th>\n",
       "      <td>GCF_002752655.1</td>\n",
       "      <td>595536</td>\n",
       "      <td>Methylosinus trichosporium OB3b</td>\n",
       "    </tr>\n",
       "    <tr>\n",
       "      <th>4</th>\n",
       "      <td>GCF_000010825.1</td>\n",
       "      <td>634452</td>\n",
       "      <td>Acetobacter pasteurianus IFO 3283-01</td>\n",
       "    </tr>\n",
       "    <tr>\n",
       "      <th>...</th>\n",
       "      <td>...</td>\n",
       "      <td>...</td>\n",
       "      <td>...</td>\n",
       "    </tr>\n",
       "    <tr>\n",
       "      <th>95</th>\n",
       "      <td>GCF_002022225.1</td>\n",
       "      <td>1909732</td>\n",
       "      <td>Tessaracoccus sp. T2.5-30</td>\n",
       "    </tr>\n",
       "    <tr>\n",
       "      <th>96</th>\n",
       "      <td>GCF_002022505.1</td>\n",
       "      <td>1933904</td>\n",
       "      <td>Bartonella sp. WD16.2</td>\n",
       "    </tr>\n",
       "    <tr>\n",
       "      <th>97</th>\n",
       "      <td>GCF_002105555.1</td>\n",
       "      <td>1945662</td>\n",
       "      <td>Paracoccus contaminans</td>\n",
       "    </tr>\n",
       "    <tr>\n",
       "      <th>98</th>\n",
       "      <td>GCF_002240455.1</td>\n",
       "      <td>2003551</td>\n",
       "      <td>Cellulomonas sp. PSBB021</td>\n",
       "    </tr>\n",
       "    <tr>\n",
       "      <th>99</th>\n",
       "      <td>GCF_002216065.1</td>\n",
       "      <td>2015076</td>\n",
       "      <td>Chryseobacterium sp. T16E-39</td>\n",
       "    </tr>\n",
       "  </tbody>\n",
       "</table>\n",
       "<p>100 rows × 3 columns</p>\n",
       "</div>"
      ],
      "text/plain": [
       "   assembly_accession   tax_id                                 organism_name\n",
       "0     GCF_000283655.1   862719                     Azospirillum lipoferum 4B\n",
       "1     GCF_000817975.1  1328314            Azotobacter chroococcum NCIMB 8003\n",
       "2     GCF_000021345.1   395492  Rhizobium leguminosarum bv. trifolii WSM2304\n",
       "3     GCF_002752655.1   595536               Methylosinus trichosporium OB3b\n",
       "4     GCF_000010825.1   634452          Acetobacter pasteurianus IFO 3283-01\n",
       "..                ...      ...                                           ...\n",
       "95    GCF_002022225.1  1909732                     Tessaracoccus sp. T2.5-30\n",
       "96    GCF_002022505.1  1933904                         Bartonella sp. WD16.2\n",
       "97    GCF_002105555.1  1945662                        Paracoccus contaminans\n",
       "98    GCF_002240455.1  2003551                      Cellulomonas sp. PSBB021\n",
       "99    GCF_002216065.1  2015076                  Chryseobacterium sp. T16E-39\n",
       "\n",
       "[100 rows x 3 columns]"
      ]
     },
     "execution_count": 27,
     "metadata": {},
     "output_type": "execute_result"
    }
   ],
   "source": [
    "## Openning CAMISIN Simulated genomes\n",
    "df_cam = pd.read_table('Cami_100g_6s/selected_genomes_complete_100.tsv', usecols=['assembly_accession','tax_id','organism_name'])\n",
    "df_cam"
   ]
  },
  {
   "cell_type": "code",
   "execution_count": 28,
   "metadata": {},
   "outputs": [
    {
     "data": {
      "text/html": [
       "<div>\n",
       "<style scoped>\n",
       "    .dataframe tbody tr th:only-of-type {\n",
       "        vertical-align: middle;\n",
       "    }\n",
       "\n",
       "    .dataframe tbody tr th {\n",
       "        vertical-align: top;\n",
       "    }\n",
       "\n",
       "    .dataframe thead th {\n",
       "        text-align: right;\n",
       "    }\n",
       "</style>\n",
       "<table border=\"1\" class=\"dataframe\">\n",
       "  <thead>\n",
       "    <tr style=\"text-align: right;\">\n",
       "      <th></th>\n",
       "      <th>Bin_Id</th>\n",
       "      <th>Reference</th>\n",
       "      <th>Completeness</th>\n",
       "      <th>Contamination</th>\n",
       "      <th>Strain_heterogeneity</th>\n",
       "      <th>n_contigs</th>\n",
       "      <th>Longest_contig</th>\n",
       "      <th>pilon_errors</th>\n",
       "      <th>Category</th>\n",
       "      <th>Assembly</th>\n",
       "    </tr>\n",
       "  </thead>\n",
       "  <tbody>\n",
       "    <tr>\n",
       "      <th>0</th>\n",
       "      <td>S_care_all_bin.19</td>\n",
       "      <td>GCF_900198195.1_Tjejuense_V1_genomic</td>\n",
       "      <td>99.66</td>\n",
       "      <td>0.45</td>\n",
       "      <td>0.00</td>\n",
       "      <td>25.0</td>\n",
       "      <td>917890.0</td>\n",
       "      <td>189.0</td>\n",
       "      <td>all</td>\n",
       "      <td>Spades_careful</td>\n",
       "    </tr>\n",
       "    <tr>\n",
       "      <th>1</th>\n",
       "      <td>S_meta_all_bin.2</td>\n",
       "      <td>GCF_900198195.1_Tjejuense_V1_genomic</td>\n",
       "      <td>99.66</td>\n",
       "      <td>0.45</td>\n",
       "      <td>0.00</td>\n",
       "      <td>42.0</td>\n",
       "      <td>473534.0</td>\n",
       "      <td>338.0</td>\n",
       "      <td>all</td>\n",
       "      <td>Spades_meta</td>\n",
       "    </tr>\n",
       "    <tr>\n",
       "      <th>2</th>\n",
       "      <td>MAG_11_care_concoct.022</td>\n",
       "      <td>GCF_900198195.1_Tjejuense_V1_genomic</td>\n",
       "      <td>99.66</td>\n",
       "      <td>0.45</td>\n",
       "      <td>0.00</td>\n",
       "      <td>25.0</td>\n",
       "      <td>610353.0</td>\n",
       "      <td>154.0</td>\n",
       "      <td>careful</td>\n",
       "      <td>Spades_meta</td>\n",
       "    </tr>\n",
       "    <tr>\n",
       "      <th>3</th>\n",
       "      <td>MAG_16_care_maxbin.001</td>\n",
       "      <td>GCF_900198195.1_Tjejuense_V1_genomic</td>\n",
       "      <td>99.66</td>\n",
       "      <td>0.78</td>\n",
       "      <td>0.00</td>\n",
       "      <td>39.0</td>\n",
       "      <td>915030.0</td>\n",
       "      <td>209.0</td>\n",
       "      <td>careful</td>\n",
       "      <td>Spades_careful</td>\n",
       "    </tr>\n",
       "    <tr>\n",
       "      <th>4</th>\n",
       "      <td>MAG_16_meta_maxbin.001</td>\n",
       "      <td>GCF_900198195.1_Tjejuense_V1_genomic</td>\n",
       "      <td>99.66</td>\n",
       "      <td>0.81</td>\n",
       "      <td>28.57</td>\n",
       "      <td>40.0</td>\n",
       "      <td>586658.0</td>\n",
       "      <td>330.0</td>\n",
       "      <td>meta</td>\n",
       "      <td>Spades_careful</td>\n",
       "    </tr>\n",
       "    <tr>\n",
       "      <th>...</th>\n",
       "      <td>...</td>\n",
       "      <td>...</td>\n",
       "      <td>...</td>\n",
       "      <td>...</td>\n",
       "      <td>...</td>\n",
       "      <td>...</td>\n",
       "      <td>...</td>\n",
       "      <td>...</td>\n",
       "      <td>...</td>\n",
       "      <td>...</td>\n",
       "    </tr>\n",
       "    <tr>\n",
       "      <th>148</th>\n",
       "      <td>MAG_14_care_maxbin.001</td>\n",
       "      <td>GCF_000010825.1_ASM1082v1_genomic GCF_00217377...</td>\n",
       "      <td>99.50</td>\n",
       "      <td>2.24</td>\n",
       "      <td>80.00</td>\n",
       "      <td>104.0</td>\n",
       "      <td>381168.0</td>\n",
       "      <td>50.0</td>\n",
       "      <td>careful</td>\n",
       "      <td>Spades_careful</td>\n",
       "    </tr>\n",
       "    <tr>\n",
       "      <th>149</th>\n",
       "      <td>MAG_14_care_maxbin.001</td>\n",
       "      <td>GCF_000010825.1_ASM1082v1_genomic GCF_00217377...</td>\n",
       "      <td>99.50</td>\n",
       "      <td>2.24</td>\n",
       "      <td>80.00</td>\n",
       "      <td>108.0</td>\n",
       "      <td>381409.0</td>\n",
       "      <td>57.0</td>\n",
       "      <td>careful</td>\n",
       "      <td>Spades_meta</td>\n",
       "    </tr>\n",
       "    <tr>\n",
       "      <th>150</th>\n",
       "      <td>MAG_1_MH_Scare_maxbin.001</td>\n",
       "      <td>GCF_000010825.1_ASM1082v1_genomic GCF_00217377...</td>\n",
       "      <td>99.50</td>\n",
       "      <td>2.24</td>\n",
       "      <td>80.00</td>\n",
       "      <td>113.0</td>\n",
       "      <td>381168.0</td>\n",
       "      <td>52.0</td>\n",
       "      <td>careful</td>\n",
       "      <td>Megahit</td>\n",
       "    </tr>\n",
       "    <tr>\n",
       "      <th>151</th>\n",
       "      <td>S_care_all_bin.8</td>\n",
       "      <td>GCF_000010825.1_ASM1082v1_genomic GCF_00217377...</td>\n",
       "      <td>99.00</td>\n",
       "      <td>0.00</td>\n",
       "      <td>0.00</td>\n",
       "      <td>85.0</td>\n",
       "      <td>274843.0</td>\n",
       "      <td>40.0</td>\n",
       "      <td>all</td>\n",
       "      <td>Spades_careful</td>\n",
       "    </tr>\n",
       "    <tr>\n",
       "      <th>152</th>\n",
       "      <td>MH_all_bin.39</td>\n",
       "      <td>GCF_000010825.1_ASM1082v1_genomic GCF_00217377...</td>\n",
       "      <td>97.00</td>\n",
       "      <td>3.48</td>\n",
       "      <td>71.43</td>\n",
       "      <td>260.0</td>\n",
       "      <td>43627.0</td>\n",
       "      <td>164677.0</td>\n",
       "      <td>all</td>\n",
       "      <td>Megahit</td>\n",
       "    </tr>\n",
       "  </tbody>\n",
       "</table>\n",
       "<p>153 rows × 10 columns</p>\n",
       "</div>"
      ],
      "text/plain": [
       "                        Bin_Id  \\\n",
       "0            S_care_all_bin.19   \n",
       "1             S_meta_all_bin.2   \n",
       "2      MAG_11_care_concoct.022   \n",
       "3       MAG_16_care_maxbin.001   \n",
       "4       MAG_16_meta_maxbin.001   \n",
       "..                         ...   \n",
       "148     MAG_14_care_maxbin.001   \n",
       "149     MAG_14_care_maxbin.001   \n",
       "150  MAG_1_MH_Scare_maxbin.001   \n",
       "151           S_care_all_bin.8   \n",
       "152              MH_all_bin.39   \n",
       "\n",
       "                                             Reference  Completeness  \\\n",
       "0                GCF_900198195.1_Tjejuense_V1_genomic          99.66   \n",
       "1                GCF_900198195.1_Tjejuense_V1_genomic          99.66   \n",
       "2                GCF_900198195.1_Tjejuense_V1_genomic          99.66   \n",
       "3                GCF_900198195.1_Tjejuense_V1_genomic          99.66   \n",
       "4                GCF_900198195.1_Tjejuense_V1_genomic          99.66   \n",
       "..                                                 ...           ...   \n",
       "148  GCF_000010825.1_ASM1082v1_genomic GCF_00217377...         99.50   \n",
       "149  GCF_000010825.1_ASM1082v1_genomic GCF_00217377...         99.50   \n",
       "150  GCF_000010825.1_ASM1082v1_genomic GCF_00217377...         99.50   \n",
       "151  GCF_000010825.1_ASM1082v1_genomic GCF_00217377...         99.00   \n",
       "152  GCF_000010825.1_ASM1082v1_genomic GCF_00217377...         97.00   \n",
       "\n",
       "     Contamination  Strain_heterogeneity  n_contigs  Longest_contig  \\\n",
       "0             0.45                  0.00       25.0        917890.0   \n",
       "1             0.45                  0.00       42.0        473534.0   \n",
       "2             0.45                  0.00       25.0        610353.0   \n",
       "3             0.78                  0.00       39.0        915030.0   \n",
       "4             0.81                 28.57       40.0        586658.0   \n",
       "..             ...                   ...        ...             ...   \n",
       "148           2.24                 80.00      104.0        381168.0   \n",
       "149           2.24                 80.00      108.0        381409.0   \n",
       "150           2.24                 80.00      113.0        381168.0   \n",
       "151           0.00                  0.00       85.0        274843.0   \n",
       "152           3.48                 71.43      260.0         43627.0   \n",
       "\n",
       "     pilon_errors Category        Assembly  \n",
       "0           189.0      all  Spades_careful  \n",
       "1           338.0      all     Spades_meta  \n",
       "2           154.0  careful     Spades_meta  \n",
       "3           209.0  careful  Spades_careful  \n",
       "4           330.0     meta  Spades_careful  \n",
       "..            ...      ...             ...  \n",
       "148          50.0  careful  Spades_careful  \n",
       "149          57.0  careful     Spades_meta  \n",
       "150          52.0  careful         Megahit  \n",
       "151          40.0      all  Spades_careful  \n",
       "152      164677.0      all         Megahit  \n",
       "\n",
       "[153 rows x 10 columns]"
      ]
     },
     "execution_count": 28,
     "metadata": {},
     "output_type": "execute_result"
    }
   ],
   "source": [
    "df = pd.read_table('Cami_100g_6s/All_concatenate_together_fixed.tsv')\n",
    "df.fillna({'Completeness':50, 'Contamination':15,'n_contigs':200,'Longest_contig':100000,'Strain_heterogeneity':100,'pilon_errors':1000}, inplace=True) #'Completeness','Contamination','n_contigs','Longest_contig','pilon_errors']].fillna(50,15,200,100000,1000)\n",
    "df"
   ]
  },
  {
   "cell_type": "code",
   "execution_count": 29,
   "metadata": {},
   "outputs": [],
   "source": [
    "la = df.sort_values(['Reference','pilon_errors'])"
   ]
  },
  {
   "cell_type": "code",
   "execution_count": 30,
   "metadata": {},
   "outputs": [
    {
     "data": {
      "text/html": [
       "<div>\n",
       "<style scoped>\n",
       "    .dataframe tbody tr th:only-of-type {\n",
       "        vertical-align: middle;\n",
       "    }\n",
       "\n",
       "    .dataframe tbody tr th {\n",
       "        vertical-align: top;\n",
       "    }\n",
       "\n",
       "    .dataframe thead th {\n",
       "        text-align: right;\n",
       "    }\n",
       "</style>\n",
       "<table border=\"1\" class=\"dataframe\">\n",
       "  <thead>\n",
       "    <tr style=\"text-align: right;\">\n",
       "      <th></th>\n",
       "      <th>assembly_accession</th>\n",
       "    </tr>\n",
       "  </thead>\n",
       "  <tbody>\n",
       "    <tr>\n",
       "      <th>0</th>\n",
       "      <td>GCF_900198195.1</td>\n",
       "    </tr>\n",
       "    <tr>\n",
       "      <th>8</th>\n",
       "      <td>GCF_900198195.1</td>\n",
       "    </tr>\n",
       "    <tr>\n",
       "      <th>9</th>\n",
       "      <td>GCF_002441975.1</td>\n",
       "    </tr>\n",
       "    <tr>\n",
       "      <th>17</th>\n",
       "      <td>GCF_002441975.1</td>\n",
       "    </tr>\n",
       "    <tr>\n",
       "      <th>18</th>\n",
       "      <td>GCF_001713455.1</td>\n",
       "    </tr>\n",
       "  </tbody>\n",
       "</table>\n",
       "</div>"
      ],
      "text/plain": [
       "   assembly_accession\n",
       "0     GCF_900198195.1\n",
       "8     GCF_900198195.1\n",
       "9     GCF_002441975.1\n",
       "17    GCF_002441975.1\n",
       "18    GCF_001713455.1"
      ]
     },
     "execution_count": 30,
     "metadata": {},
     "output_type": "execute_result"
    }
   ],
   "source": [
    "df_reference = df[['Reference']].copy()\n",
    "df_reference = df_reference.drop_duplicates()\n",
    "\n",
    "df_reference['Reference'] = df_reference.Reference.str.rsplit()\n",
    "\n",
    "df_reference = df_reference.explode('Reference')\n",
    "df_reference['Reference'] = df_reference['Reference'].str.extract('(G.*_[0-9]+\\.[0-9]+)')\n",
    "df_reference.columns = ['assembly_accession']\n",
    "df_reference.head()"
   ]
  },
  {
   "cell_type": "code",
   "execution_count": 31,
   "metadata": {},
   "outputs": [
    {
     "data": {
      "text/html": [
       "<div>\n",
       "<style scoped>\n",
       "    .dataframe tbody tr th:only-of-type {\n",
       "        vertical-align: middle;\n",
       "    }\n",
       "\n",
       "    .dataframe tbody tr th {\n",
       "        vertical-align: top;\n",
       "    }\n",
       "\n",
       "    .dataframe thead th {\n",
       "        text-align: right;\n",
       "    }\n",
       "</style>\n",
       "<table border=\"1\" class=\"dataframe\">\n",
       "  <thead>\n",
       "    <tr style=\"text-align: right;\">\n",
       "      <th></th>\n",
       "      <th>assembly_accession</th>\n",
       "      <th>tax_id</th>\n",
       "      <th>organism_name</th>\n",
       "      <th>_merge</th>\n",
       "    </tr>\n",
       "  </thead>\n",
       "  <tbody>\n",
       "    <tr>\n",
       "      <th>0</th>\n",
       "      <td>GCF_000283655.1</td>\n",
       "      <td>862719</td>\n",
       "      <td>Azospirillum lipoferum 4B</td>\n",
       "      <td>left_only</td>\n",
       "    </tr>\n",
       "    <tr>\n",
       "      <th>1</th>\n",
       "      <td>GCF_000817975.1</td>\n",
       "      <td>1328314</td>\n",
       "      <td>Azotobacter chroococcum NCIMB 8003</td>\n",
       "      <td>left_only</td>\n",
       "    </tr>\n",
       "    <tr>\n",
       "      <th>2</th>\n",
       "      <td>GCF_000021345.1</td>\n",
       "      <td>395492</td>\n",
       "      <td>Rhizobium leguminosarum bv. trifolii WSM2304</td>\n",
       "      <td>left_only</td>\n",
       "    </tr>\n",
       "    <tr>\n",
       "      <th>3</th>\n",
       "      <td>GCF_002752655.1</td>\n",
       "      <td>595536</td>\n",
       "      <td>Methylosinus trichosporium OB3b</td>\n",
       "      <td>left_only</td>\n",
       "    </tr>\n",
       "    <tr>\n",
       "      <th>9</th>\n",
       "      <td>GCF_001932635.1</td>\n",
       "      <td>180957</td>\n",
       "      <td>Pectobacterium carotovorum subsp. brasiliense</td>\n",
       "      <td>left_only</td>\n",
       "    </tr>\n",
       "    <tr>\n",
       "      <th>...</th>\n",
       "      <td>...</td>\n",
       "      <td>...</td>\n",
       "      <td>...</td>\n",
       "      <td>...</td>\n",
       "    </tr>\n",
       "    <tr>\n",
       "      <th>107</th>\n",
       "      <td>GCF_002022225.1</td>\n",
       "      <td>1909732</td>\n",
       "      <td>Tessaracoccus sp. T2.5-30</td>\n",
       "      <td>left_only</td>\n",
       "    </tr>\n",
       "    <tr>\n",
       "      <th>108</th>\n",
       "      <td>GCF_002022505.1</td>\n",
       "      <td>1933904</td>\n",
       "      <td>Bartonella sp. WD16.2</td>\n",
       "      <td>left_only</td>\n",
       "    </tr>\n",
       "    <tr>\n",
       "      <th>109</th>\n",
       "      <td>GCF_002105555.1</td>\n",
       "      <td>1945662</td>\n",
       "      <td>Paracoccus contaminans</td>\n",
       "      <td>left_only</td>\n",
       "    </tr>\n",
       "    <tr>\n",
       "      <th>110</th>\n",
       "      <td>GCF_002240455.1</td>\n",
       "      <td>2003551</td>\n",
       "      <td>Cellulomonas sp. PSBB021</td>\n",
       "      <td>left_only</td>\n",
       "    </tr>\n",
       "    <tr>\n",
       "      <th>111</th>\n",
       "      <td>GCF_002216065.1</td>\n",
       "      <td>2015076</td>\n",
       "      <td>Chryseobacterium sp. T16E-39</td>\n",
       "      <td>left_only</td>\n",
       "    </tr>\n",
       "  </tbody>\n",
       "</table>\n",
       "<p>74 rows × 4 columns</p>\n",
       "</div>"
      ],
      "text/plain": [
       "    assembly_accession   tax_id  \\\n",
       "0      GCF_000283655.1   862719   \n",
       "1      GCF_000817975.1  1328314   \n",
       "2      GCF_000021345.1   395492   \n",
       "3      GCF_002752655.1   595536   \n",
       "9      GCF_001932635.1   180957   \n",
       "..                 ...      ...   \n",
       "107    GCF_002022225.1  1909732   \n",
       "108    GCF_002022505.1  1933904   \n",
       "109    GCF_002105555.1  1945662   \n",
       "110    GCF_002240455.1  2003551   \n",
       "111    GCF_002216065.1  2015076   \n",
       "\n",
       "                                     organism_name     _merge  \n",
       "0                        Azospirillum lipoferum 4B  left_only  \n",
       "1               Azotobacter chroococcum NCIMB 8003  left_only  \n",
       "2     Rhizobium leguminosarum bv. trifolii WSM2304  left_only  \n",
       "3                  Methylosinus trichosporium OB3b  left_only  \n",
       "9    Pectobacterium carotovorum subsp. brasiliense  left_only  \n",
       "..                                             ...        ...  \n",
       "107                      Tessaracoccus sp. T2.5-30  left_only  \n",
       "108                          Bartonella sp. WD16.2  left_only  \n",
       "109                         Paracoccus contaminans  left_only  \n",
       "110                       Cellulomonas sp. PSBB021  left_only  \n",
       "111                   Chryseobacterium sp. T16E-39  left_only  \n",
       "\n",
       "[74 rows x 4 columns]"
      ]
     },
     "execution_count": 31,
     "metadata": {},
     "output_type": "execute_result"
    }
   ],
   "source": [
    "df_check = pd.merge(df_cam,df_reference, how='outer', indicator = True)\n",
    "df_check[df_check['_merge'] == 'left_only']"
   ]
  },
  {
   "cell_type": "code",
   "execution_count": 32,
   "metadata": {},
   "outputs": [
    {
     "data": {
      "text/html": [
       "<div>\n",
       "<style scoped>\n",
       "    .dataframe tbody tr th:only-of-type {\n",
       "        vertical-align: middle;\n",
       "    }\n",
       "\n",
       "    .dataframe tbody tr th {\n",
       "        vertical-align: top;\n",
       "    }\n",
       "\n",
       "    .dataframe thead th {\n",
       "        text-align: right;\n",
       "    }\n",
       "</style>\n",
       "<table border=\"1\" class=\"dataframe\">\n",
       "  <thead>\n",
       "    <tr style=\"text-align: right;\">\n",
       "      <th></th>\n",
       "      <th></th>\n",
       "      <th>Completeness</th>\n",
       "      <th>Contamination</th>\n",
       "      <th>Strain_heterogeneity</th>\n",
       "      <th>n_contigs</th>\n",
       "      <th>Longest_contig</th>\n",
       "      <th>pilon_errors</th>\n",
       "    </tr>\n",
       "    <tr>\n",
       "      <th>Assembly</th>\n",
       "      <th>Category</th>\n",
       "      <th></th>\n",
       "      <th></th>\n",
       "      <th></th>\n",
       "      <th></th>\n",
       "      <th></th>\n",
       "      <th></th>\n",
       "    </tr>\n",
       "  </thead>\n",
       "  <tbody>\n",
       "    <tr>\n",
       "      <th rowspan=\"3\" valign=\"top\">Megahit</th>\n",
       "      <th>all</th>\n",
       "      <td>50.000</td>\n",
       "      <td>15.000</td>\n",
       "      <td>100.000</td>\n",
       "      <td>200.0</td>\n",
       "      <td>100000.0</td>\n",
       "      <td>1000.0</td>\n",
       "    </tr>\n",
       "    <tr>\n",
       "      <th>careful</th>\n",
       "      <td>99.430</td>\n",
       "      <td>0.720</td>\n",
       "      <td>8.330</td>\n",
       "      <td>45.0</td>\n",
       "      <td>381168.0</td>\n",
       "      <td>57.0</td>\n",
       "    </tr>\n",
       "    <tr>\n",
       "      <th>meta</th>\n",
       "      <td>99.500</td>\n",
       "      <td>0.450</td>\n",
       "      <td>20.000</td>\n",
       "      <td>61.0</td>\n",
       "      <td>365159.0</td>\n",
       "      <td>243.0</td>\n",
       "    </tr>\n",
       "    <tr>\n",
       "      <th rowspan=\"3\" valign=\"top\">Spades_careful</th>\n",
       "      <th>all</th>\n",
       "      <td>99.005</td>\n",
       "      <td>0.885</td>\n",
       "      <td>5.555</td>\n",
       "      <td>73.5</td>\n",
       "      <td>327278.0</td>\n",
       "      <td>97.5</td>\n",
       "    </tr>\n",
       "    <tr>\n",
       "      <th>careful</th>\n",
       "      <td>99.430</td>\n",
       "      <td>1.140</td>\n",
       "      <td>10.125</td>\n",
       "      <td>60.0</td>\n",
       "      <td>442897.0</td>\n",
       "      <td>70.0</td>\n",
       "    </tr>\n",
       "    <tr>\n",
       "      <th>meta</th>\n",
       "      <td>99.195</td>\n",
       "      <td>0.610</td>\n",
       "      <td>26.785</td>\n",
       "      <td>74.0</td>\n",
       "      <td>422583.0</td>\n",
       "      <td>256.5</td>\n",
       "    </tr>\n",
       "    <tr>\n",
       "      <th rowspan=\"3\" valign=\"top\">Spades_meta</th>\n",
       "      <th>all</th>\n",
       "      <td>99.510</td>\n",
       "      <td>0.240</td>\n",
       "      <td>0.000</td>\n",
       "      <td>42.5</td>\n",
       "      <td>472203.5</td>\n",
       "      <td>204.5</td>\n",
       "    </tr>\n",
       "    <tr>\n",
       "      <th>careful</th>\n",
       "      <td>99.590</td>\n",
       "      <td>0.765</td>\n",
       "      <td>16.670</td>\n",
       "      <td>37.5</td>\n",
       "      <td>581084.5</td>\n",
       "      <td>43.0</td>\n",
       "    </tr>\n",
       "    <tr>\n",
       "      <th>meta</th>\n",
       "      <td>99.305</td>\n",
       "      <td>0.440</td>\n",
       "      <td>0.000</td>\n",
       "      <td>60.5</td>\n",
       "      <td>422903.0</td>\n",
       "      <td>224.5</td>\n",
       "    </tr>\n",
       "  </tbody>\n",
       "</table>\n",
       "</div>"
      ],
      "text/plain": [
       "                         Completeness  Contamination  Strain_heterogeneity  \\\n",
       "Assembly       Category                                                      \n",
       "Megahit        all             50.000         15.000               100.000   \n",
       "               careful         99.430          0.720                 8.330   \n",
       "               meta            99.500          0.450                20.000   \n",
       "Spades_careful all             99.005          0.885                 5.555   \n",
       "               careful         99.430          1.140                10.125   \n",
       "               meta            99.195          0.610                26.785   \n",
       "Spades_meta    all             99.510          0.240                 0.000   \n",
       "               careful         99.590          0.765                16.670   \n",
       "               meta            99.305          0.440                 0.000   \n",
       "\n",
       "                         n_contigs  Longest_contig  pilon_errors  \n",
       "Assembly       Category                                           \n",
       "Megahit        all           200.0        100000.0        1000.0  \n",
       "               careful        45.0        381168.0          57.0  \n",
       "               meta           61.0        365159.0         243.0  \n",
       "Spades_careful all            73.5        327278.0          97.5  \n",
       "               careful        60.0        442897.0          70.0  \n",
       "               meta           74.0        422583.0         256.5  \n",
       "Spades_meta    all            42.5        472203.5         204.5  \n",
       "               careful        37.5        581084.5          43.0  \n",
       "               meta           60.5        422903.0         224.5  "
      ]
     },
     "execution_count": 32,
     "metadata": {},
     "output_type": "execute_result"
    }
   ],
   "source": [
    "df_category = df.groupby(['Assembly','Category']).median()\n",
    "df_category"
   ]
  },
  {
   "cell_type": "code",
   "execution_count": 33,
   "metadata": {},
   "outputs": [
    {
     "data": {
      "text/html": [
       "<div>\n",
       "<style scoped>\n",
       "    .dataframe tbody tr th:only-of-type {\n",
       "        vertical-align: middle;\n",
       "    }\n",
       "\n",
       "    .dataframe tbody tr th {\n",
       "        vertical-align: top;\n",
       "    }\n",
       "\n",
       "    .dataframe thead th {\n",
       "        text-align: right;\n",
       "    }\n",
       "</style>\n",
       "<table border=\"1\" class=\"dataframe\">\n",
       "  <thead>\n",
       "    <tr style=\"text-align: right;\">\n",
       "      <th></th>\n",
       "      <th></th>\n",
       "      <th>Completeness</th>\n",
       "      <th>Contamination</th>\n",
       "      <th>Strain_heterogeneity</th>\n",
       "      <th>n_contigs</th>\n",
       "      <th>Longest_contig</th>\n",
       "      <th>pilon_errors</th>\n",
       "    </tr>\n",
       "    <tr>\n",
       "      <th>Assembly</th>\n",
       "      <th>Category</th>\n",
       "      <th></th>\n",
       "      <th></th>\n",
       "      <th></th>\n",
       "      <th></th>\n",
       "      <th></th>\n",
       "      <th></th>\n",
       "    </tr>\n",
       "  </thead>\n",
       "  <tbody>\n",
       "    <tr>\n",
       "      <th rowspan=\"3\" valign=\"top\">Megahit</th>\n",
       "      <th>all</th>\n",
       "      <td>-2.828257</td>\n",
       "      <td>2.824053</td>\n",
       "      <td>2.707876</td>\n",
       "      <td>2.730453</td>\n",
       "      <td>-2.355768</td>\n",
       "      <td>2.709343</td>\n",
       "    </tr>\n",
       "    <tr>\n",
       "      <th>careful</th>\n",
       "      <td>0.357359</td>\n",
       "      <td>-0.338886</td>\n",
       "      <td>-0.427519</td>\n",
       "      <td>-0.593266</td>\n",
       "      <td>-0.076353</td>\n",
       "      <td>-0.670168</td>\n",
       "    </tr>\n",
       "    <tr>\n",
       "      <th>meta</th>\n",
       "      <td>0.361870</td>\n",
       "      <td>-0.398690</td>\n",
       "      <td>-0.028370</td>\n",
       "      <td>-0.250172</td>\n",
       "      <td>-0.206137</td>\n",
       "      <td>-0.003584</td>\n",
       "    </tr>\n",
       "    <tr>\n",
       "      <th rowspan=\"3\" valign=\"top\">Spades_careful</th>\n",
       "      <th>all</th>\n",
       "      <td>0.329969</td>\n",
       "      <td>-0.302340</td>\n",
       "      <td>-0.522433</td>\n",
       "      <td>0.017869</td>\n",
       "      <td>-0.513237</td>\n",
       "      <td>-0.525025</td>\n",
       "    </tr>\n",
       "    <tr>\n",
       "      <th>careful</th>\n",
       "      <td>0.357359</td>\n",
       "      <td>-0.245859</td>\n",
       "      <td>-0.366125</td>\n",
       "      <td>-0.271616</td>\n",
       "      <td>0.424081</td>\n",
       "      <td>-0.623579</td>\n",
       "    </tr>\n",
       "    <tr>\n",
       "      <th>meta</th>\n",
       "      <td>0.342214</td>\n",
       "      <td>-0.363251</td>\n",
       "      <td>0.203698</td>\n",
       "      <td>0.028591</td>\n",
       "      <td>0.259396</td>\n",
       "      <td>0.044797</td>\n",
       "    </tr>\n",
       "    <tr>\n",
       "      <th rowspan=\"3\" valign=\"top\">Spades_meta</th>\n",
       "      <th>all</th>\n",
       "      <td>0.362514</td>\n",
       "      <td>-0.445204</td>\n",
       "      <td>-0.712431</td>\n",
       "      <td>-0.646874</td>\n",
       "      <td>0.661667</td>\n",
       "      <td>-0.141560</td>\n",
       "    </tr>\n",
       "    <tr>\n",
       "      <th>careful</th>\n",
       "      <td>0.367670</td>\n",
       "      <td>-0.328919</td>\n",
       "      <td>-0.142266</td>\n",
       "      <td>-0.754091</td>\n",
       "      <td>1.544360</td>\n",
       "      <td>-0.720341</td>\n",
       "    </tr>\n",
       "    <tr>\n",
       "      <th>meta</th>\n",
       "      <td>0.349303</td>\n",
       "      <td>-0.400905</td>\n",
       "      <td>-0.712431</td>\n",
       "      <td>-0.260894</td>\n",
       "      <td>0.261991</td>\n",
       "      <td>-0.069884</td>\n",
       "    </tr>\n",
       "  </tbody>\n",
       "</table>\n",
       "</div>"
      ],
      "text/plain": [
       "                         Completeness  Contamination  Strain_heterogeneity  \\\n",
       "Assembly       Category                                                      \n",
       "Megahit        all          -2.828257       2.824053              2.707876   \n",
       "               careful       0.357359      -0.338886             -0.427519   \n",
       "               meta          0.361870      -0.398690             -0.028370   \n",
       "Spades_careful all           0.329969      -0.302340             -0.522433   \n",
       "               careful       0.357359      -0.245859             -0.366125   \n",
       "               meta          0.342214      -0.363251              0.203698   \n",
       "Spades_meta    all           0.362514      -0.445204             -0.712431   \n",
       "               careful       0.367670      -0.328919             -0.142266   \n",
       "               meta          0.349303      -0.400905             -0.712431   \n",
       "\n",
       "                         n_contigs  Longest_contig  pilon_errors  \n",
       "Assembly       Category                                           \n",
       "Megahit        all        2.730453       -2.355768      2.709343  \n",
       "               careful   -0.593266       -0.076353     -0.670168  \n",
       "               meta      -0.250172       -0.206137     -0.003584  \n",
       "Spades_careful all        0.017869       -0.513237     -0.525025  \n",
       "               careful   -0.271616        0.424081     -0.623579  \n",
       "               meta       0.028591        0.259396      0.044797  \n",
       "Spades_meta    all       -0.646874        0.661667     -0.141560  \n",
       "               careful   -0.754091        1.544360     -0.720341  \n",
       "               meta      -0.260894        0.261991     -0.069884  "
      ]
     },
     "execution_count": 33,
     "metadata": {},
     "output_type": "execute_result"
    }
   ],
   "source": [
    "# Outra fdorma Z-score\n",
    "\n",
    "df_norm_z = df_category.copy()\n",
    "df_norm_z[['Completeness','Contamination','Strain_heterogeneity','n_contigs','Longest_contig','pilon_errors']] = zscore(df_category[['Completeness','Contamination','Strain_heterogeneity','n_contigs','Longest_contig','pilon_errors']])\n",
    "\n",
    "df_norm_z"
   ]
  },
  {
   "cell_type": "code",
   "execution_count": 34,
   "metadata": {},
   "outputs": [
    {
     "data": {
      "text/html": [
       "<div>\n",
       "<style scoped>\n",
       "    .dataframe tbody tr th:only-of-type {\n",
       "        vertical-align: middle;\n",
       "    }\n",
       "\n",
       "    .dataframe tbody tr th {\n",
       "        vertical-align: top;\n",
       "    }\n",
       "\n",
       "    .dataframe thead th {\n",
       "        text-align: right;\n",
       "    }\n",
       "</style>\n",
       "<table border=\"1\" class=\"dataframe\">\n",
       "  <thead>\n",
       "    <tr style=\"text-align: right;\">\n",
       "      <th></th>\n",
       "      <th></th>\n",
       "      <th>Completeness</th>\n",
       "      <th>Contamination</th>\n",
       "      <th>Strain_heterogeneity</th>\n",
       "      <th>n_contigs</th>\n",
       "      <th>Longest_contig</th>\n",
       "      <th>pilon_errors</th>\n",
       "    </tr>\n",
       "    <tr>\n",
       "      <th>Assembly</th>\n",
       "      <th>Category</th>\n",
       "      <th></th>\n",
       "      <th></th>\n",
       "      <th></th>\n",
       "      <th></th>\n",
       "      <th></th>\n",
       "      <th></th>\n",
       "    </tr>\n",
       "  </thead>\n",
       "  <tbody>\n",
       "    <tr>\n",
       "      <th rowspan=\"3\" valign=\"top\">Megahit</th>\n",
       "      <th>all</th>\n",
       "      <td>-2.828257</td>\n",
       "      <td>-2.824053</td>\n",
       "      <td>2.707876</td>\n",
       "      <td>-2.730453</td>\n",
       "      <td>-2.355768</td>\n",
       "      <td>-2.709343</td>\n",
       "    </tr>\n",
       "    <tr>\n",
       "      <th>careful</th>\n",
       "      <td>0.357359</td>\n",
       "      <td>0.338886</td>\n",
       "      <td>-0.427519</td>\n",
       "      <td>0.593266</td>\n",
       "      <td>-0.076353</td>\n",
       "      <td>0.670168</td>\n",
       "    </tr>\n",
       "    <tr>\n",
       "      <th>meta</th>\n",
       "      <td>0.361870</td>\n",
       "      <td>0.398690</td>\n",
       "      <td>-0.028370</td>\n",
       "      <td>0.250172</td>\n",
       "      <td>-0.206137</td>\n",
       "      <td>0.003584</td>\n",
       "    </tr>\n",
       "    <tr>\n",
       "      <th rowspan=\"3\" valign=\"top\">Spades_careful</th>\n",
       "      <th>all</th>\n",
       "      <td>0.329969</td>\n",
       "      <td>0.302340</td>\n",
       "      <td>-0.522433</td>\n",
       "      <td>-0.017869</td>\n",
       "      <td>-0.513237</td>\n",
       "      <td>0.525025</td>\n",
       "    </tr>\n",
       "    <tr>\n",
       "      <th>careful</th>\n",
       "      <td>0.357359</td>\n",
       "      <td>0.245859</td>\n",
       "      <td>-0.366125</td>\n",
       "      <td>0.271616</td>\n",
       "      <td>0.424081</td>\n",
       "      <td>0.623579</td>\n",
       "    </tr>\n",
       "    <tr>\n",
       "      <th>meta</th>\n",
       "      <td>0.342214</td>\n",
       "      <td>0.363251</td>\n",
       "      <td>0.203698</td>\n",
       "      <td>-0.028591</td>\n",
       "      <td>0.259396</td>\n",
       "      <td>-0.044797</td>\n",
       "    </tr>\n",
       "    <tr>\n",
       "      <th rowspan=\"3\" valign=\"top\">Spades_meta</th>\n",
       "      <th>all</th>\n",
       "      <td>0.362514</td>\n",
       "      <td>0.445204</td>\n",
       "      <td>-0.712431</td>\n",
       "      <td>0.646874</td>\n",
       "      <td>0.661667</td>\n",
       "      <td>0.141560</td>\n",
       "    </tr>\n",
       "    <tr>\n",
       "      <th>careful</th>\n",
       "      <td>0.367670</td>\n",
       "      <td>0.328919</td>\n",
       "      <td>-0.142266</td>\n",
       "      <td>0.754091</td>\n",
       "      <td>1.544360</td>\n",
       "      <td>0.720341</td>\n",
       "    </tr>\n",
       "    <tr>\n",
       "      <th>meta</th>\n",
       "      <td>0.349303</td>\n",
       "      <td>0.400905</td>\n",
       "      <td>-0.712431</td>\n",
       "      <td>0.260894</td>\n",
       "      <td>0.261991</td>\n",
       "      <td>0.069884</td>\n",
       "    </tr>\n",
       "  </tbody>\n",
       "</table>\n",
       "</div>"
      ],
      "text/plain": [
       "                         Completeness  Contamination  Strain_heterogeneity  \\\n",
       "Assembly       Category                                                      \n",
       "Megahit        all          -2.828257      -2.824053              2.707876   \n",
       "               careful       0.357359       0.338886             -0.427519   \n",
       "               meta          0.361870       0.398690             -0.028370   \n",
       "Spades_careful all           0.329969       0.302340             -0.522433   \n",
       "               careful       0.357359       0.245859             -0.366125   \n",
       "               meta          0.342214       0.363251              0.203698   \n",
       "Spades_meta    all           0.362514       0.445204             -0.712431   \n",
       "               careful       0.367670       0.328919             -0.142266   \n",
       "               meta          0.349303       0.400905             -0.712431   \n",
       "\n",
       "                         n_contigs  Longest_contig  pilon_errors  \n",
       "Assembly       Category                                           \n",
       "Megahit        all       -2.730453       -2.355768     -2.709343  \n",
       "               careful    0.593266       -0.076353      0.670168  \n",
       "               meta       0.250172       -0.206137      0.003584  \n",
       "Spades_careful all       -0.017869       -0.513237      0.525025  \n",
       "               careful    0.271616        0.424081      0.623579  \n",
       "               meta      -0.028591        0.259396     -0.044797  \n",
       "Spades_meta    all        0.646874        0.661667      0.141560  \n",
       "               careful    0.754091        1.544360      0.720341  \n",
       "               meta       0.260894        0.261991      0.069884  "
      ]
     },
     "execution_count": 34,
     "metadata": {},
     "output_type": "execute_result"
    }
   ],
   "source": [
    "df_norm_z[['Contamination','n_contigs','pilon_errors']] = -1*df_norm_z[['Contamination','n_contigs','pilon_errors']]\n",
    "df_norm_z['Strain_heterogeneity'].fillna(0,inplace=True)\n",
    "df_norm_z"
   ]
  },
  {
   "cell_type": "code",
   "execution_count": 35,
   "metadata": {},
   "outputs": [
    {
     "data": {
      "text/html": [
       "<div>\n",
       "<style scoped>\n",
       "    .dataframe tbody tr th:only-of-type {\n",
       "        vertical-align: middle;\n",
       "    }\n",
       "\n",
       "    .dataframe tbody tr th {\n",
       "        vertical-align: top;\n",
       "    }\n",
       "\n",
       "    .dataframe thead th {\n",
       "        text-align: right;\n",
       "    }\n",
       "</style>\n",
       "<table border=\"1\" class=\"dataframe\">\n",
       "  <thead>\n",
       "    <tr style=\"text-align: right;\">\n",
       "      <th></th>\n",
       "      <th>Assembly</th>\n",
       "      <th>Category</th>\n",
       "      <th>Completeness</th>\n",
       "      <th>Contamination</th>\n",
       "      <th>Strain_heterogeneity</th>\n",
       "      <th>n_contigs</th>\n",
       "      <th>Longest_contig</th>\n",
       "      <th>pilon_errors</th>\n",
       "    </tr>\n",
       "  </thead>\n",
       "  <tbody>\n",
       "    <tr>\n",
       "      <th>0</th>\n",
       "      <td>Megahit</td>\n",
       "      <td>all</td>\n",
       "      <td>-2.828257</td>\n",
       "      <td>-2.824053</td>\n",
       "      <td>2.707876</td>\n",
       "      <td>-2.730453</td>\n",
       "      <td>-2.355768</td>\n",
       "      <td>-2.709343</td>\n",
       "    </tr>\n",
       "    <tr>\n",
       "      <th>1</th>\n",
       "      <td>Megahit</td>\n",
       "      <td>careful</td>\n",
       "      <td>0.357359</td>\n",
       "      <td>0.338886</td>\n",
       "      <td>-0.427519</td>\n",
       "      <td>0.593266</td>\n",
       "      <td>-0.076353</td>\n",
       "      <td>0.670168</td>\n",
       "    </tr>\n",
       "    <tr>\n",
       "      <th>2</th>\n",
       "      <td>Megahit</td>\n",
       "      <td>meta</td>\n",
       "      <td>0.361870</td>\n",
       "      <td>0.398690</td>\n",
       "      <td>-0.028370</td>\n",
       "      <td>0.250172</td>\n",
       "      <td>-0.206137</td>\n",
       "      <td>0.003584</td>\n",
       "    </tr>\n",
       "    <tr>\n",
       "      <th>3</th>\n",
       "      <td>Spades_careful</td>\n",
       "      <td>all</td>\n",
       "      <td>0.329969</td>\n",
       "      <td>0.302340</td>\n",
       "      <td>-0.522433</td>\n",
       "      <td>-0.017869</td>\n",
       "      <td>-0.513237</td>\n",
       "      <td>0.525025</td>\n",
       "    </tr>\n",
       "    <tr>\n",
       "      <th>4</th>\n",
       "      <td>Spades_careful</td>\n",
       "      <td>careful</td>\n",
       "      <td>0.357359</td>\n",
       "      <td>0.245859</td>\n",
       "      <td>-0.366125</td>\n",
       "      <td>0.271616</td>\n",
       "      <td>0.424081</td>\n",
       "      <td>0.623579</td>\n",
       "    </tr>\n",
       "    <tr>\n",
       "      <th>5</th>\n",
       "      <td>Spades_careful</td>\n",
       "      <td>meta</td>\n",
       "      <td>0.342214</td>\n",
       "      <td>0.363251</td>\n",
       "      <td>0.203698</td>\n",
       "      <td>-0.028591</td>\n",
       "      <td>0.259396</td>\n",
       "      <td>-0.044797</td>\n",
       "    </tr>\n",
       "    <tr>\n",
       "      <th>6</th>\n",
       "      <td>Spades_meta</td>\n",
       "      <td>all</td>\n",
       "      <td>0.362514</td>\n",
       "      <td>0.445204</td>\n",
       "      <td>-0.712431</td>\n",
       "      <td>0.646874</td>\n",
       "      <td>0.661667</td>\n",
       "      <td>0.141560</td>\n",
       "    </tr>\n",
       "    <tr>\n",
       "      <th>7</th>\n",
       "      <td>Spades_meta</td>\n",
       "      <td>careful</td>\n",
       "      <td>0.367670</td>\n",
       "      <td>0.328919</td>\n",
       "      <td>-0.142266</td>\n",
       "      <td>0.754091</td>\n",
       "      <td>1.544360</td>\n",
       "      <td>0.720341</td>\n",
       "    </tr>\n",
       "    <tr>\n",
       "      <th>8</th>\n",
       "      <td>Spades_meta</td>\n",
       "      <td>meta</td>\n",
       "      <td>0.349303</td>\n",
       "      <td>0.400905</td>\n",
       "      <td>-0.712431</td>\n",
       "      <td>0.260894</td>\n",
       "      <td>0.261991</td>\n",
       "      <td>0.069884</td>\n",
       "    </tr>\n",
       "  </tbody>\n",
       "</table>\n",
       "</div>"
      ],
      "text/plain": [
       "         Assembly Category  Completeness  Contamination  Strain_heterogeneity  \\\n",
       "0         Megahit      all     -2.828257      -2.824053              2.707876   \n",
       "1         Megahit  careful      0.357359       0.338886             -0.427519   \n",
       "2         Megahit     meta      0.361870       0.398690             -0.028370   \n",
       "3  Spades_careful      all      0.329969       0.302340             -0.522433   \n",
       "4  Spades_careful  careful      0.357359       0.245859             -0.366125   \n",
       "5  Spades_careful     meta      0.342214       0.363251              0.203698   \n",
       "6     Spades_meta      all      0.362514       0.445204             -0.712431   \n",
       "7     Spades_meta  careful      0.367670       0.328919             -0.142266   \n",
       "8     Spades_meta     meta      0.349303       0.400905             -0.712431   \n",
       "\n",
       "   n_contigs  Longest_contig  pilon_errors  \n",
       "0  -2.730453       -2.355768     -2.709343  \n",
       "1   0.593266       -0.076353      0.670168  \n",
       "2   0.250172       -0.206137      0.003584  \n",
       "3  -0.017869       -0.513237      0.525025  \n",
       "4   0.271616        0.424081      0.623579  \n",
       "5  -0.028591        0.259396     -0.044797  \n",
       "6   0.646874        0.661667      0.141560  \n",
       "7   0.754091        1.544360      0.720341  \n",
       "8   0.260894        0.261991      0.069884  "
      ]
     },
     "execution_count": 35,
     "metadata": {},
     "output_type": "execute_result"
    }
   ],
   "source": [
    "df_norm_z = df_norm_z.reset_index()\n",
    "df_norm_z"
   ]
  },
  {
   "cell_type": "code",
   "execution_count": 36,
   "metadata": {},
   "outputs": [
    {
     "data": {
      "text/html": [
       "<div>\n",
       "<style scoped>\n",
       "    .dataframe tbody tr th:only-of-type {\n",
       "        vertical-align: middle;\n",
       "    }\n",
       "\n",
       "    .dataframe tbody tr th {\n",
       "        vertical-align: top;\n",
       "    }\n",
       "\n",
       "    .dataframe thead th {\n",
       "        text-align: right;\n",
       "    }\n",
       "</style>\n",
       "<table border=\"1\" class=\"dataframe\">\n",
       "  <thead>\n",
       "    <tr style=\"text-align: right;\">\n",
       "      <th></th>\n",
       "      <th>Assembly</th>\n",
       "      <th>Category</th>\n",
       "      <th>Completeness</th>\n",
       "      <th>Contamination</th>\n",
       "      <th>Strain_heterogeneity</th>\n",
       "      <th>n_contigs</th>\n",
       "      <th>Longest_contig</th>\n",
       "      <th>pilon_errors</th>\n",
       "    </tr>\n",
       "  </thead>\n",
       "  <tbody>\n",
       "    <tr>\n",
       "      <th>0</th>\n",
       "      <td>Megahit</td>\n",
       "      <td>all</td>\n",
       "      <td>-2.828257</td>\n",
       "      <td>-2.824053</td>\n",
       "      <td>2.707876</td>\n",
       "      <td>-2.730453</td>\n",
       "      <td>-2.355768</td>\n",
       "      <td>-2.709343</td>\n",
       "    </tr>\n",
       "    <tr>\n",
       "      <th>1</th>\n",
       "      <td>Megahit</td>\n",
       "      <td>careful</td>\n",
       "      <td>0.357359</td>\n",
       "      <td>0.338886</td>\n",
       "      <td>-0.427519</td>\n",
       "      <td>0.593266</td>\n",
       "      <td>-0.076353</td>\n",
       "      <td>0.670168</td>\n",
       "    </tr>\n",
       "    <tr>\n",
       "      <th>2</th>\n",
       "      <td>Megahit</td>\n",
       "      <td>meta</td>\n",
       "      <td>0.361870</td>\n",
       "      <td>0.398690</td>\n",
       "      <td>-0.028370</td>\n",
       "      <td>0.250172</td>\n",
       "      <td>-0.206137</td>\n",
       "      <td>0.003584</td>\n",
       "    </tr>\n",
       "  </tbody>\n",
       "</table>\n",
       "</div>"
      ],
      "text/plain": [
       "  Assembly Category  Completeness  Contamination  Strain_heterogeneity  \\\n",
       "0  Megahit      all     -2.828257      -2.824053              2.707876   \n",
       "1  Megahit  careful      0.357359       0.338886             -0.427519   \n",
       "2  Megahit     meta      0.361870       0.398690             -0.028370   \n",
       "\n",
       "   n_contigs  Longest_contig  pilon_errors  \n",
       "0  -2.730453       -2.355768     -2.709343  \n",
       "1   0.593266       -0.076353      0.670168  \n",
       "2   0.250172       -0.206137      0.003584  "
      ]
     },
     "execution_count": 36,
     "metadata": {},
     "output_type": "execute_result"
    }
   ],
   "source": [
    "df_norm_z_megahit = df_norm_z[df_norm_z['Assembly'] == \"Megahit\"]\n",
    "df_norm_z_megahit"
   ]
  },
  {
   "cell_type": "code",
   "execution_count": 37,
   "metadata": {},
   "outputs": [
    {
     "data": {
      "text/plain": [
       "[1.270434839067709, 21.771178847262792, 21.068688312349195]"
      ]
     },
     "execution_count": 37,
     "metadata": {},
     "output_type": "execute_result"
    }
   ],
   "source": [
    "## Calculating polygon area\n",
    "\n",
    "\n",
    "area_list = list()\n",
    "for index in df_norm_z_megahit.index.to_list():\n",
    "       r = df_norm_z_megahit[['Completeness', 'Contamination',\n",
    "              'Strain_heterogeneity', 'n_contigs', 'Longest_contig', 'pilon_errors']].loc[index].values\n",
    "       area=0\n",
    "       theta = 360/len(r)\n",
    "       for i in range(0,len(r)-1,1):\n",
    "              a = (r[i])+3\n",
    "              b = (r[i+1])+3\n",
    "              area+= (a*b*np.sin(np.deg2rad(theta))/2)\n",
    "       area_list.append(area)\n",
    "\n",
    "area_list"
   ]
  },
  {
   "cell_type": "code",
   "execution_count": 38,
   "metadata": {},
   "outputs": [
    {
     "data": {
      "application/vnd.plotly.v1+json": {
       "config": {
        "plotlyServerURL": "https://plot.ly"
       },
       "data": [
        {
         "fill": "toself",
         "name": "Megahit all - area 1.27",
         "r": [
          -2.8282573193427507,
          -2.824053223373197,
          2.707875729215879,
          -2.7304527456802816,
          -2.3557682048257123,
          -2.709342914551359
         ],
         "showlegend": true,
         "theta": [
          "Completeness",
          "Contamination",
          "Strain_heterogeneity",
          "n_contigs",
          "Longest_contig",
          "pilon_errors"
         ],
         "type": "scatterpolar"
        },
        {
         "fill": "toself",
         "name": "Megahit careful - area 21.77",
         "r": [
          0.3573587065228554,
          0.33888638680478367,
          -0.4275193220798139,
          0.5932659107106373,
          -0.07635306411783965,
          0.6701681547898203
         ],
         "showlegend": true,
         "theta": [
          "Completeness",
          "Contamination",
          "Strain_heterogeneity",
          "n_contigs",
          "Longest_contig",
          "pilon_errors"
         ],
         "type": "scatterpolar"
        },
        {
         "fill": "toself",
         "name": "Megahit meta - area 21.07",
         "r": [
          0.3618699976782382,
          0.39868986682915725,
          -0.028369542995918023,
          0.25017237198641334,
          -0.20613723937104178,
          0.0035837869240097344
         ],
         "showlegend": true,
         "theta": [
          "Completeness",
          "Contamination",
          "Strain_heterogeneity",
          "n_contigs",
          "Longest_contig",
          "pilon_errors"
         ],
         "type": "scatterpolar"
        }
       ],
       "layout": {
        "polar": {
         "radialaxis": {
          "range": [
           -3,
           3
          ],
          "visible": true
         }
        },
        "template": {
         "data": {
          "bar": [
           {
            "error_x": {
             "color": "#2a3f5f"
            },
            "error_y": {
             "color": "#2a3f5f"
            },
            "marker": {
             "line": {
              "color": "#E5ECF6",
              "width": 0.5
             },
             "pattern": {
              "fillmode": "overlay",
              "size": 10,
              "solidity": 0.2
             }
            },
            "type": "bar"
           }
          ],
          "barpolar": [
           {
            "marker": {
             "line": {
              "color": "#E5ECF6",
              "width": 0.5
             },
             "pattern": {
              "fillmode": "overlay",
              "size": 10,
              "solidity": 0.2
             }
            },
            "type": "barpolar"
           }
          ],
          "carpet": [
           {
            "aaxis": {
             "endlinecolor": "#2a3f5f",
             "gridcolor": "white",
             "linecolor": "white",
             "minorgridcolor": "white",
             "startlinecolor": "#2a3f5f"
            },
            "baxis": {
             "endlinecolor": "#2a3f5f",
             "gridcolor": "white",
             "linecolor": "white",
             "minorgridcolor": "white",
             "startlinecolor": "#2a3f5f"
            },
            "type": "carpet"
           }
          ],
          "choropleth": [
           {
            "colorbar": {
             "outlinewidth": 0,
             "ticks": ""
            },
            "type": "choropleth"
           }
          ],
          "contour": [
           {
            "colorbar": {
             "outlinewidth": 0,
             "ticks": ""
            },
            "colorscale": [
             [
              0,
              "#0d0887"
             ],
             [
              0.1111111111111111,
              "#46039f"
             ],
             [
              0.2222222222222222,
              "#7201a8"
             ],
             [
              0.3333333333333333,
              "#9c179e"
             ],
             [
              0.4444444444444444,
              "#bd3786"
             ],
             [
              0.5555555555555556,
              "#d8576b"
             ],
             [
              0.6666666666666666,
              "#ed7953"
             ],
             [
              0.7777777777777778,
              "#fb9f3a"
             ],
             [
              0.8888888888888888,
              "#fdca26"
             ],
             [
              1,
              "#f0f921"
             ]
            ],
            "type": "contour"
           }
          ],
          "contourcarpet": [
           {
            "colorbar": {
             "outlinewidth": 0,
             "ticks": ""
            },
            "type": "contourcarpet"
           }
          ],
          "heatmap": [
           {
            "colorbar": {
             "outlinewidth": 0,
             "ticks": ""
            },
            "colorscale": [
             [
              0,
              "#0d0887"
             ],
             [
              0.1111111111111111,
              "#46039f"
             ],
             [
              0.2222222222222222,
              "#7201a8"
             ],
             [
              0.3333333333333333,
              "#9c179e"
             ],
             [
              0.4444444444444444,
              "#bd3786"
             ],
             [
              0.5555555555555556,
              "#d8576b"
             ],
             [
              0.6666666666666666,
              "#ed7953"
             ],
             [
              0.7777777777777778,
              "#fb9f3a"
             ],
             [
              0.8888888888888888,
              "#fdca26"
             ],
             [
              1,
              "#f0f921"
             ]
            ],
            "type": "heatmap"
           }
          ],
          "heatmapgl": [
           {
            "colorbar": {
             "outlinewidth": 0,
             "ticks": ""
            },
            "colorscale": [
             [
              0,
              "#0d0887"
             ],
             [
              0.1111111111111111,
              "#46039f"
             ],
             [
              0.2222222222222222,
              "#7201a8"
             ],
             [
              0.3333333333333333,
              "#9c179e"
             ],
             [
              0.4444444444444444,
              "#bd3786"
             ],
             [
              0.5555555555555556,
              "#d8576b"
             ],
             [
              0.6666666666666666,
              "#ed7953"
             ],
             [
              0.7777777777777778,
              "#fb9f3a"
             ],
             [
              0.8888888888888888,
              "#fdca26"
             ],
             [
              1,
              "#f0f921"
             ]
            ],
            "type": "heatmapgl"
           }
          ],
          "histogram": [
           {
            "marker": {
             "pattern": {
              "fillmode": "overlay",
              "size": 10,
              "solidity": 0.2
             }
            },
            "type": "histogram"
           }
          ],
          "histogram2d": [
           {
            "colorbar": {
             "outlinewidth": 0,
             "ticks": ""
            },
            "colorscale": [
             [
              0,
              "#0d0887"
             ],
             [
              0.1111111111111111,
              "#46039f"
             ],
             [
              0.2222222222222222,
              "#7201a8"
             ],
             [
              0.3333333333333333,
              "#9c179e"
             ],
             [
              0.4444444444444444,
              "#bd3786"
             ],
             [
              0.5555555555555556,
              "#d8576b"
             ],
             [
              0.6666666666666666,
              "#ed7953"
             ],
             [
              0.7777777777777778,
              "#fb9f3a"
             ],
             [
              0.8888888888888888,
              "#fdca26"
             ],
             [
              1,
              "#f0f921"
             ]
            ],
            "type": "histogram2d"
           }
          ],
          "histogram2dcontour": [
           {
            "colorbar": {
             "outlinewidth": 0,
             "ticks": ""
            },
            "colorscale": [
             [
              0,
              "#0d0887"
             ],
             [
              0.1111111111111111,
              "#46039f"
             ],
             [
              0.2222222222222222,
              "#7201a8"
             ],
             [
              0.3333333333333333,
              "#9c179e"
             ],
             [
              0.4444444444444444,
              "#bd3786"
             ],
             [
              0.5555555555555556,
              "#d8576b"
             ],
             [
              0.6666666666666666,
              "#ed7953"
             ],
             [
              0.7777777777777778,
              "#fb9f3a"
             ],
             [
              0.8888888888888888,
              "#fdca26"
             ],
             [
              1,
              "#f0f921"
             ]
            ],
            "type": "histogram2dcontour"
           }
          ],
          "mesh3d": [
           {
            "colorbar": {
             "outlinewidth": 0,
             "ticks": ""
            },
            "type": "mesh3d"
           }
          ],
          "parcoords": [
           {
            "line": {
             "colorbar": {
              "outlinewidth": 0,
              "ticks": ""
             }
            },
            "type": "parcoords"
           }
          ],
          "pie": [
           {
            "automargin": true,
            "type": "pie"
           }
          ],
          "scatter": [
           {
            "marker": {
             "colorbar": {
              "outlinewidth": 0,
              "ticks": ""
             }
            },
            "type": "scatter"
           }
          ],
          "scatter3d": [
           {
            "line": {
             "colorbar": {
              "outlinewidth": 0,
              "ticks": ""
             }
            },
            "marker": {
             "colorbar": {
              "outlinewidth": 0,
              "ticks": ""
             }
            },
            "type": "scatter3d"
           }
          ],
          "scattercarpet": [
           {
            "marker": {
             "colorbar": {
              "outlinewidth": 0,
              "ticks": ""
             }
            },
            "type": "scattercarpet"
           }
          ],
          "scattergeo": [
           {
            "marker": {
             "colorbar": {
              "outlinewidth": 0,
              "ticks": ""
             }
            },
            "type": "scattergeo"
           }
          ],
          "scattergl": [
           {
            "marker": {
             "colorbar": {
              "outlinewidth": 0,
              "ticks": ""
             }
            },
            "type": "scattergl"
           }
          ],
          "scattermapbox": [
           {
            "marker": {
             "colorbar": {
              "outlinewidth": 0,
              "ticks": ""
             }
            },
            "type": "scattermapbox"
           }
          ],
          "scatterpolar": [
           {
            "marker": {
             "colorbar": {
              "outlinewidth": 0,
              "ticks": ""
             }
            },
            "type": "scatterpolar"
           }
          ],
          "scatterpolargl": [
           {
            "marker": {
             "colorbar": {
              "outlinewidth": 0,
              "ticks": ""
             }
            },
            "type": "scatterpolargl"
           }
          ],
          "scatterternary": [
           {
            "marker": {
             "colorbar": {
              "outlinewidth": 0,
              "ticks": ""
             }
            },
            "type": "scatterternary"
           }
          ],
          "surface": [
           {
            "colorbar": {
             "outlinewidth": 0,
             "ticks": ""
            },
            "colorscale": [
             [
              0,
              "#0d0887"
             ],
             [
              0.1111111111111111,
              "#46039f"
             ],
             [
              0.2222222222222222,
              "#7201a8"
             ],
             [
              0.3333333333333333,
              "#9c179e"
             ],
             [
              0.4444444444444444,
              "#bd3786"
             ],
             [
              0.5555555555555556,
              "#d8576b"
             ],
             [
              0.6666666666666666,
              "#ed7953"
             ],
             [
              0.7777777777777778,
              "#fb9f3a"
             ],
             [
              0.8888888888888888,
              "#fdca26"
             ],
             [
              1,
              "#f0f921"
             ]
            ],
            "type": "surface"
           }
          ],
          "table": [
           {
            "cells": {
             "fill": {
              "color": "#EBF0F8"
             },
             "line": {
              "color": "white"
             }
            },
            "header": {
             "fill": {
              "color": "#C8D4E3"
             },
             "line": {
              "color": "white"
             }
            },
            "type": "table"
           }
          ]
         },
         "layout": {
          "annotationdefaults": {
           "arrowcolor": "#2a3f5f",
           "arrowhead": 0,
           "arrowwidth": 1
          },
          "autotypenumbers": "strict",
          "coloraxis": {
           "colorbar": {
            "outlinewidth": 0,
            "ticks": ""
           }
          },
          "colorscale": {
           "diverging": [
            [
             0,
             "#8e0152"
            ],
            [
             0.1,
             "#c51b7d"
            ],
            [
             0.2,
             "#de77ae"
            ],
            [
             0.3,
             "#f1b6da"
            ],
            [
             0.4,
             "#fde0ef"
            ],
            [
             0.5,
             "#f7f7f7"
            ],
            [
             0.6,
             "#e6f5d0"
            ],
            [
             0.7,
             "#b8e186"
            ],
            [
             0.8,
             "#7fbc41"
            ],
            [
             0.9,
             "#4d9221"
            ],
            [
             1,
             "#276419"
            ]
           ],
           "sequential": [
            [
             0,
             "#0d0887"
            ],
            [
             0.1111111111111111,
             "#46039f"
            ],
            [
             0.2222222222222222,
             "#7201a8"
            ],
            [
             0.3333333333333333,
             "#9c179e"
            ],
            [
             0.4444444444444444,
             "#bd3786"
            ],
            [
             0.5555555555555556,
             "#d8576b"
            ],
            [
             0.6666666666666666,
             "#ed7953"
            ],
            [
             0.7777777777777778,
             "#fb9f3a"
            ],
            [
             0.8888888888888888,
             "#fdca26"
            ],
            [
             1,
             "#f0f921"
            ]
           ],
           "sequentialminus": [
            [
             0,
             "#0d0887"
            ],
            [
             0.1111111111111111,
             "#46039f"
            ],
            [
             0.2222222222222222,
             "#7201a8"
            ],
            [
             0.3333333333333333,
             "#9c179e"
            ],
            [
             0.4444444444444444,
             "#bd3786"
            ],
            [
             0.5555555555555556,
             "#d8576b"
            ],
            [
             0.6666666666666666,
             "#ed7953"
            ],
            [
             0.7777777777777778,
             "#fb9f3a"
            ],
            [
             0.8888888888888888,
             "#fdca26"
            ],
            [
             1,
             "#f0f921"
            ]
           ]
          },
          "colorway": [
           "#636efa",
           "#EF553B",
           "#00cc96",
           "#ab63fa",
           "#FFA15A",
           "#19d3f3",
           "#FF6692",
           "#B6E880",
           "#FF97FF",
           "#FECB52"
          ],
          "font": {
           "color": "#2a3f5f"
          },
          "geo": {
           "bgcolor": "white",
           "lakecolor": "white",
           "landcolor": "#E5ECF6",
           "showlakes": true,
           "showland": true,
           "subunitcolor": "white"
          },
          "hoverlabel": {
           "align": "left"
          },
          "hovermode": "closest",
          "mapbox": {
           "style": "light"
          },
          "paper_bgcolor": "white",
          "plot_bgcolor": "#E5ECF6",
          "polar": {
           "angularaxis": {
            "gridcolor": "white",
            "linecolor": "white",
            "ticks": ""
           },
           "bgcolor": "#E5ECF6",
           "radialaxis": {
            "gridcolor": "white",
            "linecolor": "white",
            "ticks": ""
           }
          },
          "scene": {
           "xaxis": {
            "backgroundcolor": "#E5ECF6",
            "gridcolor": "white",
            "gridwidth": 2,
            "linecolor": "white",
            "showbackground": true,
            "ticks": "",
            "zerolinecolor": "white"
           },
           "yaxis": {
            "backgroundcolor": "#E5ECF6",
            "gridcolor": "white",
            "gridwidth": 2,
            "linecolor": "white",
            "showbackground": true,
            "ticks": "",
            "zerolinecolor": "white"
           },
           "zaxis": {
            "backgroundcolor": "#E5ECF6",
            "gridcolor": "white",
            "gridwidth": 2,
            "linecolor": "white",
            "showbackground": true,
            "ticks": "",
            "zerolinecolor": "white"
           }
          },
          "shapedefaults": {
           "line": {
            "color": "#2a3f5f"
           }
          },
          "ternary": {
           "aaxis": {
            "gridcolor": "white",
            "linecolor": "white",
            "ticks": ""
           },
           "baxis": {
            "gridcolor": "white",
            "linecolor": "white",
            "ticks": ""
           },
           "bgcolor": "#E5ECF6",
           "caxis": {
            "gridcolor": "white",
            "linecolor": "white",
            "ticks": ""
           }
          },
          "title": {
           "x": 0.05
          },
          "xaxis": {
           "automargin": true,
           "gridcolor": "white",
           "linecolor": "white",
           "ticks": "",
           "title": {
            "standoff": 15
           },
           "zerolinecolor": "white",
           "zerolinewidth": 2
          },
          "yaxis": {
           "automargin": true,
           "gridcolor": "white",
           "linecolor": "white",
           "ticks": "",
           "title": {
            "standoff": 15
           },
           "zerolinecolor": "white",
           "zerolinewidth": 2
          }
         }
        },
        "title": {
         "text": "Megahit Z-score comparison"
        }
       }
      }
     },
     "metadata": {},
     "output_type": "display_data"
    }
   ],
   "source": [
    "fig = go.Figure()\n",
    "\n",
    "for n,index in enumerate(df_norm_z_megahit.index.to_list()):\n",
    "    fig.add_trace(\n",
    "                go.Scatterpolar(\n",
    "                                r=df_norm_z_megahit[['Completeness', 'Contamination',\n",
    "       'Strain_heterogeneity', 'n_contigs', 'Longest_contig', 'pilon_errors']].loc[index].values,\n",
    "                                theta=['Completeness', 'Contamination',\n",
    "       'Strain_heterogeneity', 'n_contigs', 'Longest_contig', 'pilon_errors'],\n",
    "                                fill='toself',\n",
    "                                name=\"Megahit {} - area {}\".format(df_norm_z_megahit['Category'][index], round(area_list[n],2)),\n",
    "                                showlegend=True,\n",
    "                                )\n",
    "                )\n",
    "\n",
    "fig.update_layout(\n",
    "    polar=dict(\n",
    "        radialaxis=dict(\n",
    "                        visible=True,\n",
    "                        range=[-3, 3]\n",
    "                    )\n",
    "            ),\n",
    "    title=\"Megahit Z-score comparison\"\n",
    ")\n",
    "\n",
    "fig.show()"
   ]
  },
  {
   "cell_type": "code",
   "execution_count": 39,
   "metadata": {},
   "outputs": [
    {
     "data": {
      "text/html": [
       "<div>\n",
       "<style scoped>\n",
       "    .dataframe tbody tr th:only-of-type {\n",
       "        vertical-align: middle;\n",
       "    }\n",
       "\n",
       "    .dataframe tbody tr th {\n",
       "        vertical-align: top;\n",
       "    }\n",
       "\n",
       "    .dataframe thead th {\n",
       "        text-align: right;\n",
       "    }\n",
       "</style>\n",
       "<table border=\"1\" class=\"dataframe\">\n",
       "  <thead>\n",
       "    <tr style=\"text-align: right;\">\n",
       "      <th></th>\n",
       "      <th>Assembly</th>\n",
       "      <th>Category</th>\n",
       "      <th>Completeness</th>\n",
       "      <th>Contamination</th>\n",
       "      <th>Strain_heterogeneity</th>\n",
       "      <th>n_contigs</th>\n",
       "      <th>Longest_contig</th>\n",
       "      <th>pilon_errors</th>\n",
       "    </tr>\n",
       "  </thead>\n",
       "  <tbody>\n",
       "    <tr>\n",
       "      <th>3</th>\n",
       "      <td>Spades_careful</td>\n",
       "      <td>all</td>\n",
       "      <td>0.329969</td>\n",
       "      <td>0.302340</td>\n",
       "      <td>-0.522433</td>\n",
       "      <td>-0.017869</td>\n",
       "      <td>-0.513237</td>\n",
       "      <td>0.525025</td>\n",
       "    </tr>\n",
       "    <tr>\n",
       "      <th>4</th>\n",
       "      <td>Spades_careful</td>\n",
       "      <td>careful</td>\n",
       "      <td>0.357359</td>\n",
       "      <td>0.245859</td>\n",
       "      <td>-0.366125</td>\n",
       "      <td>0.271616</td>\n",
       "      <td>0.424081</td>\n",
       "      <td>0.623579</td>\n",
       "    </tr>\n",
       "    <tr>\n",
       "      <th>5</th>\n",
       "      <td>Spades_careful</td>\n",
       "      <td>meta</td>\n",
       "      <td>0.342214</td>\n",
       "      <td>0.363251</td>\n",
       "      <td>0.203698</td>\n",
       "      <td>-0.028591</td>\n",
       "      <td>0.259396</td>\n",
       "      <td>-0.044797</td>\n",
       "    </tr>\n",
       "  </tbody>\n",
       "</table>\n",
       "</div>"
      ],
      "text/plain": [
       "         Assembly Category  Completeness  Contamination  Strain_heterogeneity  \\\n",
       "3  Spades_careful      all      0.329969       0.302340             -0.522433   \n",
       "4  Spades_careful  careful      0.357359       0.245859             -0.366125   \n",
       "5  Spades_careful     meta      0.342214       0.363251              0.203698   \n",
       "\n",
       "   n_contigs  Longest_contig  pilon_errors  \n",
       "3  -0.017869       -0.513237      0.525025  \n",
       "4   0.271616        0.424081      0.623579  \n",
       "5  -0.028591        0.259396     -0.044797  "
      ]
     },
     "execution_count": 39,
     "metadata": {},
     "output_type": "execute_result"
    }
   ],
   "source": [
    "df_norm_z_spadesc = df_norm_z[df_norm_z['Assembly'] == \"Spades_careful\"]\n",
    "df_norm_z_spadesc"
   ]
  },
  {
   "cell_type": "code",
   "execution_count": 40,
   "metadata": {},
   "outputs": [
    {
     "data": {
      "text/plain": [
       "[18.510704621879473, 22.375251833056122, 22.019655635920433]"
      ]
     },
     "execution_count": 40,
     "metadata": {},
     "output_type": "execute_result"
    }
   ],
   "source": [
    "## Calculating polygon area\n",
    "\n",
    "\n",
    "area_list = list()\n",
    "for index in df_norm_z_spadesc.index.to_list():\n",
    "       r = df_norm_z_spadesc[['Completeness', 'Contamination',\n",
    "              'Strain_heterogeneity', 'n_contigs', 'Longest_contig', 'pilon_errors']].loc[index].values\n",
    "       area=0\n",
    "       theta = 360/len(r)\n",
    "       for i in range(0,len(r)-1,1):\n",
    "              a = (r[i])+3\n",
    "              b = (r[i+1])+3\n",
    "              area+= (a*b*np.sin(np.deg2rad(theta))/2)\n",
    "       area_list.append(area)\n",
    "\n",
    "area_list"
   ]
  },
  {
   "cell_type": "code",
   "execution_count": 41,
   "metadata": {},
   "outputs": [
    {
     "data": {
      "application/vnd.plotly.v1+json": {
       "config": {
        "plotlyServerURL": "https://plot.ly"
       },
       "data": [
        {
         "fill": "toself",
         "name": "Spades_careful all - area 18.51",
         "r": [
          0.329968724508028,
          0.30233981567877755,
          -0.5224328299596607,
          -0.01786945514188656,
          -0.5132366423797587,
          0.5250247843674261
         ],
         "showlegend": true,
         "theta": [
          "Completeness",
          "Contamination",
          "Strain_heterogeneity",
          "n_contigs",
          "Longest_contig",
          "pilon_errors"
         ],
         "type": "scatterpolar"
        },
        {
         "fill": "toself",
         "name": "Spades_careful careful - area 22.38",
         "r": [
          0.3573587065228554,
          0.2458587512113136,
          -0.3661248187845617,
          0.27161571815667734,
          0.4240809014143556,
          0.6235789247776937
         ],
         "showlegend": true,
         "theta": [
          "Completeness",
          "Contamination",
          "Strain_heterogeneity",
          "n_contigs",
          "Longest_contig",
          "pilon_errors"
         ],
         "type": "scatterpolar"
        },
        {
         "fill": "toself",
         "name": "Spades_careful meta - area 22.02",
         "r": [
          0.342213657644068,
          0.3632507675554544,
          0.20369825915354503,
          -0.028591128227018557,
          0.2593963029951197,
          -0.04479733655012168
         ],
         "showlegend": true,
         "theta": [
          "Completeness",
          "Contamination",
          "Strain_heterogeneity",
          "n_contigs",
          "Longest_contig",
          "pilon_errors"
         ],
         "type": "scatterpolar"
        }
       ],
       "layout": {
        "polar": {
         "radialaxis": {
          "range": [
           -3,
           3
          ],
          "visible": true
         }
        },
        "template": {
         "data": {
          "bar": [
           {
            "error_x": {
             "color": "#2a3f5f"
            },
            "error_y": {
             "color": "#2a3f5f"
            },
            "marker": {
             "line": {
              "color": "#E5ECF6",
              "width": 0.5
             },
             "pattern": {
              "fillmode": "overlay",
              "size": 10,
              "solidity": 0.2
             }
            },
            "type": "bar"
           }
          ],
          "barpolar": [
           {
            "marker": {
             "line": {
              "color": "#E5ECF6",
              "width": 0.5
             },
             "pattern": {
              "fillmode": "overlay",
              "size": 10,
              "solidity": 0.2
             }
            },
            "type": "barpolar"
           }
          ],
          "carpet": [
           {
            "aaxis": {
             "endlinecolor": "#2a3f5f",
             "gridcolor": "white",
             "linecolor": "white",
             "minorgridcolor": "white",
             "startlinecolor": "#2a3f5f"
            },
            "baxis": {
             "endlinecolor": "#2a3f5f",
             "gridcolor": "white",
             "linecolor": "white",
             "minorgridcolor": "white",
             "startlinecolor": "#2a3f5f"
            },
            "type": "carpet"
           }
          ],
          "choropleth": [
           {
            "colorbar": {
             "outlinewidth": 0,
             "ticks": ""
            },
            "type": "choropleth"
           }
          ],
          "contour": [
           {
            "colorbar": {
             "outlinewidth": 0,
             "ticks": ""
            },
            "colorscale": [
             [
              0,
              "#0d0887"
             ],
             [
              0.1111111111111111,
              "#46039f"
             ],
             [
              0.2222222222222222,
              "#7201a8"
             ],
             [
              0.3333333333333333,
              "#9c179e"
             ],
             [
              0.4444444444444444,
              "#bd3786"
             ],
             [
              0.5555555555555556,
              "#d8576b"
             ],
             [
              0.6666666666666666,
              "#ed7953"
             ],
             [
              0.7777777777777778,
              "#fb9f3a"
             ],
             [
              0.8888888888888888,
              "#fdca26"
             ],
             [
              1,
              "#f0f921"
             ]
            ],
            "type": "contour"
           }
          ],
          "contourcarpet": [
           {
            "colorbar": {
             "outlinewidth": 0,
             "ticks": ""
            },
            "type": "contourcarpet"
           }
          ],
          "heatmap": [
           {
            "colorbar": {
             "outlinewidth": 0,
             "ticks": ""
            },
            "colorscale": [
             [
              0,
              "#0d0887"
             ],
             [
              0.1111111111111111,
              "#46039f"
             ],
             [
              0.2222222222222222,
              "#7201a8"
             ],
             [
              0.3333333333333333,
              "#9c179e"
             ],
             [
              0.4444444444444444,
              "#bd3786"
             ],
             [
              0.5555555555555556,
              "#d8576b"
             ],
             [
              0.6666666666666666,
              "#ed7953"
             ],
             [
              0.7777777777777778,
              "#fb9f3a"
             ],
             [
              0.8888888888888888,
              "#fdca26"
             ],
             [
              1,
              "#f0f921"
             ]
            ],
            "type": "heatmap"
           }
          ],
          "heatmapgl": [
           {
            "colorbar": {
             "outlinewidth": 0,
             "ticks": ""
            },
            "colorscale": [
             [
              0,
              "#0d0887"
             ],
             [
              0.1111111111111111,
              "#46039f"
             ],
             [
              0.2222222222222222,
              "#7201a8"
             ],
             [
              0.3333333333333333,
              "#9c179e"
             ],
             [
              0.4444444444444444,
              "#bd3786"
             ],
             [
              0.5555555555555556,
              "#d8576b"
             ],
             [
              0.6666666666666666,
              "#ed7953"
             ],
             [
              0.7777777777777778,
              "#fb9f3a"
             ],
             [
              0.8888888888888888,
              "#fdca26"
             ],
             [
              1,
              "#f0f921"
             ]
            ],
            "type": "heatmapgl"
           }
          ],
          "histogram": [
           {
            "marker": {
             "pattern": {
              "fillmode": "overlay",
              "size": 10,
              "solidity": 0.2
             }
            },
            "type": "histogram"
           }
          ],
          "histogram2d": [
           {
            "colorbar": {
             "outlinewidth": 0,
             "ticks": ""
            },
            "colorscale": [
             [
              0,
              "#0d0887"
             ],
             [
              0.1111111111111111,
              "#46039f"
             ],
             [
              0.2222222222222222,
              "#7201a8"
             ],
             [
              0.3333333333333333,
              "#9c179e"
             ],
             [
              0.4444444444444444,
              "#bd3786"
             ],
             [
              0.5555555555555556,
              "#d8576b"
             ],
             [
              0.6666666666666666,
              "#ed7953"
             ],
             [
              0.7777777777777778,
              "#fb9f3a"
             ],
             [
              0.8888888888888888,
              "#fdca26"
             ],
             [
              1,
              "#f0f921"
             ]
            ],
            "type": "histogram2d"
           }
          ],
          "histogram2dcontour": [
           {
            "colorbar": {
             "outlinewidth": 0,
             "ticks": ""
            },
            "colorscale": [
             [
              0,
              "#0d0887"
             ],
             [
              0.1111111111111111,
              "#46039f"
             ],
             [
              0.2222222222222222,
              "#7201a8"
             ],
             [
              0.3333333333333333,
              "#9c179e"
             ],
             [
              0.4444444444444444,
              "#bd3786"
             ],
             [
              0.5555555555555556,
              "#d8576b"
             ],
             [
              0.6666666666666666,
              "#ed7953"
             ],
             [
              0.7777777777777778,
              "#fb9f3a"
             ],
             [
              0.8888888888888888,
              "#fdca26"
             ],
             [
              1,
              "#f0f921"
             ]
            ],
            "type": "histogram2dcontour"
           }
          ],
          "mesh3d": [
           {
            "colorbar": {
             "outlinewidth": 0,
             "ticks": ""
            },
            "type": "mesh3d"
           }
          ],
          "parcoords": [
           {
            "line": {
             "colorbar": {
              "outlinewidth": 0,
              "ticks": ""
             }
            },
            "type": "parcoords"
           }
          ],
          "pie": [
           {
            "automargin": true,
            "type": "pie"
           }
          ],
          "scatter": [
           {
            "marker": {
             "colorbar": {
              "outlinewidth": 0,
              "ticks": ""
             }
            },
            "type": "scatter"
           }
          ],
          "scatter3d": [
           {
            "line": {
             "colorbar": {
              "outlinewidth": 0,
              "ticks": ""
             }
            },
            "marker": {
             "colorbar": {
              "outlinewidth": 0,
              "ticks": ""
             }
            },
            "type": "scatter3d"
           }
          ],
          "scattercarpet": [
           {
            "marker": {
             "colorbar": {
              "outlinewidth": 0,
              "ticks": ""
             }
            },
            "type": "scattercarpet"
           }
          ],
          "scattergeo": [
           {
            "marker": {
             "colorbar": {
              "outlinewidth": 0,
              "ticks": ""
             }
            },
            "type": "scattergeo"
           }
          ],
          "scattergl": [
           {
            "marker": {
             "colorbar": {
              "outlinewidth": 0,
              "ticks": ""
             }
            },
            "type": "scattergl"
           }
          ],
          "scattermapbox": [
           {
            "marker": {
             "colorbar": {
              "outlinewidth": 0,
              "ticks": ""
             }
            },
            "type": "scattermapbox"
           }
          ],
          "scatterpolar": [
           {
            "marker": {
             "colorbar": {
              "outlinewidth": 0,
              "ticks": ""
             }
            },
            "type": "scatterpolar"
           }
          ],
          "scatterpolargl": [
           {
            "marker": {
             "colorbar": {
              "outlinewidth": 0,
              "ticks": ""
             }
            },
            "type": "scatterpolargl"
           }
          ],
          "scatterternary": [
           {
            "marker": {
             "colorbar": {
              "outlinewidth": 0,
              "ticks": ""
             }
            },
            "type": "scatterternary"
           }
          ],
          "surface": [
           {
            "colorbar": {
             "outlinewidth": 0,
             "ticks": ""
            },
            "colorscale": [
             [
              0,
              "#0d0887"
             ],
             [
              0.1111111111111111,
              "#46039f"
             ],
             [
              0.2222222222222222,
              "#7201a8"
             ],
             [
              0.3333333333333333,
              "#9c179e"
             ],
             [
              0.4444444444444444,
              "#bd3786"
             ],
             [
              0.5555555555555556,
              "#d8576b"
             ],
             [
              0.6666666666666666,
              "#ed7953"
             ],
             [
              0.7777777777777778,
              "#fb9f3a"
             ],
             [
              0.8888888888888888,
              "#fdca26"
             ],
             [
              1,
              "#f0f921"
             ]
            ],
            "type": "surface"
           }
          ],
          "table": [
           {
            "cells": {
             "fill": {
              "color": "#EBF0F8"
             },
             "line": {
              "color": "white"
             }
            },
            "header": {
             "fill": {
              "color": "#C8D4E3"
             },
             "line": {
              "color": "white"
             }
            },
            "type": "table"
           }
          ]
         },
         "layout": {
          "annotationdefaults": {
           "arrowcolor": "#2a3f5f",
           "arrowhead": 0,
           "arrowwidth": 1
          },
          "autotypenumbers": "strict",
          "coloraxis": {
           "colorbar": {
            "outlinewidth": 0,
            "ticks": ""
           }
          },
          "colorscale": {
           "diverging": [
            [
             0,
             "#8e0152"
            ],
            [
             0.1,
             "#c51b7d"
            ],
            [
             0.2,
             "#de77ae"
            ],
            [
             0.3,
             "#f1b6da"
            ],
            [
             0.4,
             "#fde0ef"
            ],
            [
             0.5,
             "#f7f7f7"
            ],
            [
             0.6,
             "#e6f5d0"
            ],
            [
             0.7,
             "#b8e186"
            ],
            [
             0.8,
             "#7fbc41"
            ],
            [
             0.9,
             "#4d9221"
            ],
            [
             1,
             "#276419"
            ]
           ],
           "sequential": [
            [
             0,
             "#0d0887"
            ],
            [
             0.1111111111111111,
             "#46039f"
            ],
            [
             0.2222222222222222,
             "#7201a8"
            ],
            [
             0.3333333333333333,
             "#9c179e"
            ],
            [
             0.4444444444444444,
             "#bd3786"
            ],
            [
             0.5555555555555556,
             "#d8576b"
            ],
            [
             0.6666666666666666,
             "#ed7953"
            ],
            [
             0.7777777777777778,
             "#fb9f3a"
            ],
            [
             0.8888888888888888,
             "#fdca26"
            ],
            [
             1,
             "#f0f921"
            ]
           ],
           "sequentialminus": [
            [
             0,
             "#0d0887"
            ],
            [
             0.1111111111111111,
             "#46039f"
            ],
            [
             0.2222222222222222,
             "#7201a8"
            ],
            [
             0.3333333333333333,
             "#9c179e"
            ],
            [
             0.4444444444444444,
             "#bd3786"
            ],
            [
             0.5555555555555556,
             "#d8576b"
            ],
            [
             0.6666666666666666,
             "#ed7953"
            ],
            [
             0.7777777777777778,
             "#fb9f3a"
            ],
            [
             0.8888888888888888,
             "#fdca26"
            ],
            [
             1,
             "#f0f921"
            ]
           ]
          },
          "colorway": [
           "#636efa",
           "#EF553B",
           "#00cc96",
           "#ab63fa",
           "#FFA15A",
           "#19d3f3",
           "#FF6692",
           "#B6E880",
           "#FF97FF",
           "#FECB52"
          ],
          "font": {
           "color": "#2a3f5f"
          },
          "geo": {
           "bgcolor": "white",
           "lakecolor": "white",
           "landcolor": "#E5ECF6",
           "showlakes": true,
           "showland": true,
           "subunitcolor": "white"
          },
          "hoverlabel": {
           "align": "left"
          },
          "hovermode": "closest",
          "mapbox": {
           "style": "light"
          },
          "paper_bgcolor": "white",
          "plot_bgcolor": "#E5ECF6",
          "polar": {
           "angularaxis": {
            "gridcolor": "white",
            "linecolor": "white",
            "ticks": ""
           },
           "bgcolor": "#E5ECF6",
           "radialaxis": {
            "gridcolor": "white",
            "linecolor": "white",
            "ticks": ""
           }
          },
          "scene": {
           "xaxis": {
            "backgroundcolor": "#E5ECF6",
            "gridcolor": "white",
            "gridwidth": 2,
            "linecolor": "white",
            "showbackground": true,
            "ticks": "",
            "zerolinecolor": "white"
           },
           "yaxis": {
            "backgroundcolor": "#E5ECF6",
            "gridcolor": "white",
            "gridwidth": 2,
            "linecolor": "white",
            "showbackground": true,
            "ticks": "",
            "zerolinecolor": "white"
           },
           "zaxis": {
            "backgroundcolor": "#E5ECF6",
            "gridcolor": "white",
            "gridwidth": 2,
            "linecolor": "white",
            "showbackground": true,
            "ticks": "",
            "zerolinecolor": "white"
           }
          },
          "shapedefaults": {
           "line": {
            "color": "#2a3f5f"
           }
          },
          "ternary": {
           "aaxis": {
            "gridcolor": "white",
            "linecolor": "white",
            "ticks": ""
           },
           "baxis": {
            "gridcolor": "white",
            "linecolor": "white",
            "ticks": ""
           },
           "bgcolor": "#E5ECF6",
           "caxis": {
            "gridcolor": "white",
            "linecolor": "white",
            "ticks": ""
           }
          },
          "title": {
           "x": 0.05
          },
          "xaxis": {
           "automargin": true,
           "gridcolor": "white",
           "linecolor": "white",
           "ticks": "",
           "title": {
            "standoff": 15
           },
           "zerolinecolor": "white",
           "zerolinewidth": 2
          },
          "yaxis": {
           "automargin": true,
           "gridcolor": "white",
           "linecolor": "white",
           "ticks": "",
           "title": {
            "standoff": 15
           },
           "zerolinecolor": "white",
           "zerolinewidth": 2
          }
         }
        },
        "title": {
         "text": "Spades_careful Z-score comparison"
        }
       }
      }
     },
     "metadata": {},
     "output_type": "display_data"
    }
   ],
   "source": [
    "fig2 = go.Figure()\n",
    "\n",
    "for n,index in enumerate(df_norm_z_spadesc.index.to_list()):\n",
    "    fig2.add_trace(\n",
    "                go.Scatterpolar(\n",
    "                                r=df_norm_z_spadesc[['Completeness', 'Contamination',\n",
    "       'Strain_heterogeneity', 'n_contigs', 'Longest_contig', 'pilon_errors']].loc[index].values,\n",
    "                                theta=['Completeness', 'Contamination',\n",
    "       'Strain_heterogeneity', 'n_contigs', 'Longest_contig', 'pilon_errors'],\n",
    "                                fill='toself',\n",
    "                                name=\"Spades_careful {} - area {}\".format(df_norm_z_spadesc['Category'][index], round(area_list[n],2)),\n",
    "                                showlegend=True,\n",
    "                                )\n",
    "                )\n",
    "\n",
    "fig2.update_layout(\n",
    "    polar=dict(\n",
    "        radialaxis=dict(\n",
    "                        visible=True,\n",
    "                        range=[-3, 3]\n",
    "                    )\n",
    "            ),\n",
    "    title=\"Spades_careful Z-score comparison\"\n",
    ")\n",
    "\n",
    "fig2.show()"
   ]
  },
  {
   "cell_type": "code",
   "execution_count": 42,
   "metadata": {},
   "outputs": [
    {
     "data": {
      "text/html": [
       "<div>\n",
       "<style scoped>\n",
       "    .dataframe tbody tr th:only-of-type {\n",
       "        vertical-align: middle;\n",
       "    }\n",
       "\n",
       "    .dataframe tbody tr th {\n",
       "        vertical-align: top;\n",
       "    }\n",
       "\n",
       "    .dataframe thead th {\n",
       "        text-align: right;\n",
       "    }\n",
       "</style>\n",
       "<table border=\"1\" class=\"dataframe\">\n",
       "  <thead>\n",
       "    <tr style=\"text-align: right;\">\n",
       "      <th></th>\n",
       "      <th>Assembly</th>\n",
       "      <th>Category</th>\n",
       "      <th>Completeness</th>\n",
       "      <th>Contamination</th>\n",
       "      <th>Strain_heterogeneity</th>\n",
       "      <th>n_contigs</th>\n",
       "      <th>Longest_contig</th>\n",
       "      <th>pilon_errors</th>\n",
       "    </tr>\n",
       "  </thead>\n",
       "  <tbody>\n",
       "    <tr>\n",
       "      <th>6</th>\n",
       "      <td>Spades_meta</td>\n",
       "      <td>all</td>\n",
       "      <td>0.362514</td>\n",
       "      <td>0.445204</td>\n",
       "      <td>-0.712431</td>\n",
       "      <td>0.646874</td>\n",
       "      <td>0.661667</td>\n",
       "      <td>0.141560</td>\n",
       "    </tr>\n",
       "    <tr>\n",
       "      <th>7</th>\n",
       "      <td>Spades_meta</td>\n",
       "      <td>careful</td>\n",
       "      <td>0.367670</td>\n",
       "      <td>0.328919</td>\n",
       "      <td>-0.142266</td>\n",
       "      <td>0.754091</td>\n",
       "      <td>1.544360</td>\n",
       "      <td>0.720341</td>\n",
       "    </tr>\n",
       "    <tr>\n",
       "      <th>8</th>\n",
       "      <td>Spades_meta</td>\n",
       "      <td>meta</td>\n",
       "      <td>0.349303</td>\n",
       "      <td>0.400905</td>\n",
       "      <td>-0.712431</td>\n",
       "      <td>0.260894</td>\n",
       "      <td>0.261991</td>\n",
       "      <td>0.069884</td>\n",
       "    </tr>\n",
       "  </tbody>\n",
       "</table>\n",
       "</div>"
      ],
      "text/plain": [
       "      Assembly Category  Completeness  Contamination  Strain_heterogeneity  \\\n",
       "6  Spades_meta      all      0.362514       0.445204             -0.712431   \n",
       "7  Spades_meta  careful      0.367670       0.328919             -0.142266   \n",
       "8  Spades_meta     meta      0.349303       0.400905             -0.712431   \n",
       "\n",
       "   n_contigs  Longest_contig  pilon_errors  \n",
       "6   0.646874        0.661667      0.141560  \n",
       "7   0.754091        1.544360      0.720341  \n",
       "8   0.260894        0.261991      0.069884  "
      ]
     },
     "execution_count": 42,
     "metadata": {},
     "output_type": "execute_result"
    }
   ],
   "source": [
    "df_norm_z_meta = df_norm_z[df_norm_z['Assembly'] == \"Spades_meta\"]\n",
    "df_norm_z_meta"
   ]
  },
  {
   "cell_type": "code",
   "execution_count": 43,
   "metadata": {},
   "outputs": [
    {
     "data": {
      "text/plain": [
       "[22.80467971276679, 28.327073654700392, 20.47324025265492]"
      ]
     },
     "execution_count": 43,
     "metadata": {},
     "output_type": "execute_result"
    }
   ],
   "source": [
    "## Calculating polygon area\n",
    "\n",
    "\n",
    "area_list = list()\n",
    "for index in df_norm_z_meta.index.to_list():\n",
    "       r = df_norm_z_meta[['Completeness', 'Contamination',\n",
    "              'Strain_heterogeneity', 'n_contigs', 'Longest_contig', 'pilon_errors']].loc[index].values\n",
    "       area=0\n",
    "       theta = 360/len(r)\n",
    "       for i in range(0,len(r)-1,1):\n",
    "              a = (r[i])+3\n",
    "              b = (r[i+1])+3\n",
    "              area+= (a*b*np.sin(np.deg2rad(theta))/2)\n",
    "       area_list.append(area)\n",
    "\n",
    "area_list"
   ]
  },
  {
   "cell_type": "code",
   "execution_count": 44,
   "metadata": {},
   "outputs": [
    {
     "data": {
      "application/vnd.plotly.v1+json": {
       "config": {
        "plotlyServerURL": "https://plot.ly"
       },
       "data": [
        {
         "fill": "toself",
         "name": "Spades_meta all - area 22.8",
         "r": [
          0.36251446784329233,
          0.4452036846258922,
          -0.7124308610488673,
          0.6468742761362972,
          0.6616672548441743,
          0.14155958349838452
         ],
         "showlegend": true,
         "theta": [
          "Completeness",
          "Contamination",
          "Strain_heterogeneity",
          "n_contigs",
          "Longest_contig",
          "pilon_errors"
         ],
         "type": "scatterpolar"
        },
        {
         "fill": "toself",
         "name": "Spades_meta careful - area 28.33",
         "r": [
          0.3676702291637311,
          0.3289191401340547,
          -0.142265752451734,
          0.7540910069876172,
          1.5443601641916602,
          0.7203411717259566
         ],
         "showlegend": true,
         "theta": [
          "Completeness",
          "Contamination",
          "Strain_heterogeneity",
          "n_contigs",
          "Longest_contig",
          "pilon_errors"
         ],
         "type": "scatterpolar"
        },
        {
         "fill": "toself",
         "name": "Spades_meta meta - area 20.47",
         "r": [
          0.3493028294596711,
          0.4009048105337637,
          -0.7124308610488673,
          0.26089404507154534,
          0.26199052724904087,
          0.06988384501818982
         ],
         "showlegend": true,
         "theta": [
          "Completeness",
          "Contamination",
          "Strain_heterogeneity",
          "n_contigs",
          "Longest_contig",
          "pilon_errors"
         ],
         "type": "scatterpolar"
        }
       ],
       "layout": {
        "polar": {
         "radialaxis": {
          "range": [
           -3,
           3
          ],
          "visible": true
         }
        },
        "template": {
         "data": {
          "bar": [
           {
            "error_x": {
             "color": "#2a3f5f"
            },
            "error_y": {
             "color": "#2a3f5f"
            },
            "marker": {
             "line": {
              "color": "#E5ECF6",
              "width": 0.5
             },
             "pattern": {
              "fillmode": "overlay",
              "size": 10,
              "solidity": 0.2
             }
            },
            "type": "bar"
           }
          ],
          "barpolar": [
           {
            "marker": {
             "line": {
              "color": "#E5ECF6",
              "width": 0.5
             },
             "pattern": {
              "fillmode": "overlay",
              "size": 10,
              "solidity": 0.2
             }
            },
            "type": "barpolar"
           }
          ],
          "carpet": [
           {
            "aaxis": {
             "endlinecolor": "#2a3f5f",
             "gridcolor": "white",
             "linecolor": "white",
             "minorgridcolor": "white",
             "startlinecolor": "#2a3f5f"
            },
            "baxis": {
             "endlinecolor": "#2a3f5f",
             "gridcolor": "white",
             "linecolor": "white",
             "minorgridcolor": "white",
             "startlinecolor": "#2a3f5f"
            },
            "type": "carpet"
           }
          ],
          "choropleth": [
           {
            "colorbar": {
             "outlinewidth": 0,
             "ticks": ""
            },
            "type": "choropleth"
           }
          ],
          "contour": [
           {
            "colorbar": {
             "outlinewidth": 0,
             "ticks": ""
            },
            "colorscale": [
             [
              0,
              "#0d0887"
             ],
             [
              0.1111111111111111,
              "#46039f"
             ],
             [
              0.2222222222222222,
              "#7201a8"
             ],
             [
              0.3333333333333333,
              "#9c179e"
             ],
             [
              0.4444444444444444,
              "#bd3786"
             ],
             [
              0.5555555555555556,
              "#d8576b"
             ],
             [
              0.6666666666666666,
              "#ed7953"
             ],
             [
              0.7777777777777778,
              "#fb9f3a"
             ],
             [
              0.8888888888888888,
              "#fdca26"
             ],
             [
              1,
              "#f0f921"
             ]
            ],
            "type": "contour"
           }
          ],
          "contourcarpet": [
           {
            "colorbar": {
             "outlinewidth": 0,
             "ticks": ""
            },
            "type": "contourcarpet"
           }
          ],
          "heatmap": [
           {
            "colorbar": {
             "outlinewidth": 0,
             "ticks": ""
            },
            "colorscale": [
             [
              0,
              "#0d0887"
             ],
             [
              0.1111111111111111,
              "#46039f"
             ],
             [
              0.2222222222222222,
              "#7201a8"
             ],
             [
              0.3333333333333333,
              "#9c179e"
             ],
             [
              0.4444444444444444,
              "#bd3786"
             ],
             [
              0.5555555555555556,
              "#d8576b"
             ],
             [
              0.6666666666666666,
              "#ed7953"
             ],
             [
              0.7777777777777778,
              "#fb9f3a"
             ],
             [
              0.8888888888888888,
              "#fdca26"
             ],
             [
              1,
              "#f0f921"
             ]
            ],
            "type": "heatmap"
           }
          ],
          "heatmapgl": [
           {
            "colorbar": {
             "outlinewidth": 0,
             "ticks": ""
            },
            "colorscale": [
             [
              0,
              "#0d0887"
             ],
             [
              0.1111111111111111,
              "#46039f"
             ],
             [
              0.2222222222222222,
              "#7201a8"
             ],
             [
              0.3333333333333333,
              "#9c179e"
             ],
             [
              0.4444444444444444,
              "#bd3786"
             ],
             [
              0.5555555555555556,
              "#d8576b"
             ],
             [
              0.6666666666666666,
              "#ed7953"
             ],
             [
              0.7777777777777778,
              "#fb9f3a"
             ],
             [
              0.8888888888888888,
              "#fdca26"
             ],
             [
              1,
              "#f0f921"
             ]
            ],
            "type": "heatmapgl"
           }
          ],
          "histogram": [
           {
            "marker": {
             "pattern": {
              "fillmode": "overlay",
              "size": 10,
              "solidity": 0.2
             }
            },
            "type": "histogram"
           }
          ],
          "histogram2d": [
           {
            "colorbar": {
             "outlinewidth": 0,
             "ticks": ""
            },
            "colorscale": [
             [
              0,
              "#0d0887"
             ],
             [
              0.1111111111111111,
              "#46039f"
             ],
             [
              0.2222222222222222,
              "#7201a8"
             ],
             [
              0.3333333333333333,
              "#9c179e"
             ],
             [
              0.4444444444444444,
              "#bd3786"
             ],
             [
              0.5555555555555556,
              "#d8576b"
             ],
             [
              0.6666666666666666,
              "#ed7953"
             ],
             [
              0.7777777777777778,
              "#fb9f3a"
             ],
             [
              0.8888888888888888,
              "#fdca26"
             ],
             [
              1,
              "#f0f921"
             ]
            ],
            "type": "histogram2d"
           }
          ],
          "histogram2dcontour": [
           {
            "colorbar": {
             "outlinewidth": 0,
             "ticks": ""
            },
            "colorscale": [
             [
              0,
              "#0d0887"
             ],
             [
              0.1111111111111111,
              "#46039f"
             ],
             [
              0.2222222222222222,
              "#7201a8"
             ],
             [
              0.3333333333333333,
              "#9c179e"
             ],
             [
              0.4444444444444444,
              "#bd3786"
             ],
             [
              0.5555555555555556,
              "#d8576b"
             ],
             [
              0.6666666666666666,
              "#ed7953"
             ],
             [
              0.7777777777777778,
              "#fb9f3a"
             ],
             [
              0.8888888888888888,
              "#fdca26"
             ],
             [
              1,
              "#f0f921"
             ]
            ],
            "type": "histogram2dcontour"
           }
          ],
          "mesh3d": [
           {
            "colorbar": {
             "outlinewidth": 0,
             "ticks": ""
            },
            "type": "mesh3d"
           }
          ],
          "parcoords": [
           {
            "line": {
             "colorbar": {
              "outlinewidth": 0,
              "ticks": ""
             }
            },
            "type": "parcoords"
           }
          ],
          "pie": [
           {
            "automargin": true,
            "type": "pie"
           }
          ],
          "scatter": [
           {
            "marker": {
             "colorbar": {
              "outlinewidth": 0,
              "ticks": ""
             }
            },
            "type": "scatter"
           }
          ],
          "scatter3d": [
           {
            "line": {
             "colorbar": {
              "outlinewidth": 0,
              "ticks": ""
             }
            },
            "marker": {
             "colorbar": {
              "outlinewidth": 0,
              "ticks": ""
             }
            },
            "type": "scatter3d"
           }
          ],
          "scattercarpet": [
           {
            "marker": {
             "colorbar": {
              "outlinewidth": 0,
              "ticks": ""
             }
            },
            "type": "scattercarpet"
           }
          ],
          "scattergeo": [
           {
            "marker": {
             "colorbar": {
              "outlinewidth": 0,
              "ticks": ""
             }
            },
            "type": "scattergeo"
           }
          ],
          "scattergl": [
           {
            "marker": {
             "colorbar": {
              "outlinewidth": 0,
              "ticks": ""
             }
            },
            "type": "scattergl"
           }
          ],
          "scattermapbox": [
           {
            "marker": {
             "colorbar": {
              "outlinewidth": 0,
              "ticks": ""
             }
            },
            "type": "scattermapbox"
           }
          ],
          "scatterpolar": [
           {
            "marker": {
             "colorbar": {
              "outlinewidth": 0,
              "ticks": ""
             }
            },
            "type": "scatterpolar"
           }
          ],
          "scatterpolargl": [
           {
            "marker": {
             "colorbar": {
              "outlinewidth": 0,
              "ticks": ""
             }
            },
            "type": "scatterpolargl"
           }
          ],
          "scatterternary": [
           {
            "marker": {
             "colorbar": {
              "outlinewidth": 0,
              "ticks": ""
             }
            },
            "type": "scatterternary"
           }
          ],
          "surface": [
           {
            "colorbar": {
             "outlinewidth": 0,
             "ticks": ""
            },
            "colorscale": [
             [
              0,
              "#0d0887"
             ],
             [
              0.1111111111111111,
              "#46039f"
             ],
             [
              0.2222222222222222,
              "#7201a8"
             ],
             [
              0.3333333333333333,
              "#9c179e"
             ],
             [
              0.4444444444444444,
              "#bd3786"
             ],
             [
              0.5555555555555556,
              "#d8576b"
             ],
             [
              0.6666666666666666,
              "#ed7953"
             ],
             [
              0.7777777777777778,
              "#fb9f3a"
             ],
             [
              0.8888888888888888,
              "#fdca26"
             ],
             [
              1,
              "#f0f921"
             ]
            ],
            "type": "surface"
           }
          ],
          "table": [
           {
            "cells": {
             "fill": {
              "color": "#EBF0F8"
             },
             "line": {
              "color": "white"
             }
            },
            "header": {
             "fill": {
              "color": "#C8D4E3"
             },
             "line": {
              "color": "white"
             }
            },
            "type": "table"
           }
          ]
         },
         "layout": {
          "annotationdefaults": {
           "arrowcolor": "#2a3f5f",
           "arrowhead": 0,
           "arrowwidth": 1
          },
          "autotypenumbers": "strict",
          "coloraxis": {
           "colorbar": {
            "outlinewidth": 0,
            "ticks": ""
           }
          },
          "colorscale": {
           "diverging": [
            [
             0,
             "#8e0152"
            ],
            [
             0.1,
             "#c51b7d"
            ],
            [
             0.2,
             "#de77ae"
            ],
            [
             0.3,
             "#f1b6da"
            ],
            [
             0.4,
             "#fde0ef"
            ],
            [
             0.5,
             "#f7f7f7"
            ],
            [
             0.6,
             "#e6f5d0"
            ],
            [
             0.7,
             "#b8e186"
            ],
            [
             0.8,
             "#7fbc41"
            ],
            [
             0.9,
             "#4d9221"
            ],
            [
             1,
             "#276419"
            ]
           ],
           "sequential": [
            [
             0,
             "#0d0887"
            ],
            [
             0.1111111111111111,
             "#46039f"
            ],
            [
             0.2222222222222222,
             "#7201a8"
            ],
            [
             0.3333333333333333,
             "#9c179e"
            ],
            [
             0.4444444444444444,
             "#bd3786"
            ],
            [
             0.5555555555555556,
             "#d8576b"
            ],
            [
             0.6666666666666666,
             "#ed7953"
            ],
            [
             0.7777777777777778,
             "#fb9f3a"
            ],
            [
             0.8888888888888888,
             "#fdca26"
            ],
            [
             1,
             "#f0f921"
            ]
           ],
           "sequentialminus": [
            [
             0,
             "#0d0887"
            ],
            [
             0.1111111111111111,
             "#46039f"
            ],
            [
             0.2222222222222222,
             "#7201a8"
            ],
            [
             0.3333333333333333,
             "#9c179e"
            ],
            [
             0.4444444444444444,
             "#bd3786"
            ],
            [
             0.5555555555555556,
             "#d8576b"
            ],
            [
             0.6666666666666666,
             "#ed7953"
            ],
            [
             0.7777777777777778,
             "#fb9f3a"
            ],
            [
             0.8888888888888888,
             "#fdca26"
            ],
            [
             1,
             "#f0f921"
            ]
           ]
          },
          "colorway": [
           "#636efa",
           "#EF553B",
           "#00cc96",
           "#ab63fa",
           "#FFA15A",
           "#19d3f3",
           "#FF6692",
           "#B6E880",
           "#FF97FF",
           "#FECB52"
          ],
          "font": {
           "color": "#2a3f5f"
          },
          "geo": {
           "bgcolor": "white",
           "lakecolor": "white",
           "landcolor": "#E5ECF6",
           "showlakes": true,
           "showland": true,
           "subunitcolor": "white"
          },
          "hoverlabel": {
           "align": "left"
          },
          "hovermode": "closest",
          "mapbox": {
           "style": "light"
          },
          "paper_bgcolor": "white",
          "plot_bgcolor": "#E5ECF6",
          "polar": {
           "angularaxis": {
            "gridcolor": "white",
            "linecolor": "white",
            "ticks": ""
           },
           "bgcolor": "#E5ECF6",
           "radialaxis": {
            "gridcolor": "white",
            "linecolor": "white",
            "ticks": ""
           }
          },
          "scene": {
           "xaxis": {
            "backgroundcolor": "#E5ECF6",
            "gridcolor": "white",
            "gridwidth": 2,
            "linecolor": "white",
            "showbackground": true,
            "ticks": "",
            "zerolinecolor": "white"
           },
           "yaxis": {
            "backgroundcolor": "#E5ECF6",
            "gridcolor": "white",
            "gridwidth": 2,
            "linecolor": "white",
            "showbackground": true,
            "ticks": "",
            "zerolinecolor": "white"
           },
           "zaxis": {
            "backgroundcolor": "#E5ECF6",
            "gridcolor": "white",
            "gridwidth": 2,
            "linecolor": "white",
            "showbackground": true,
            "ticks": "",
            "zerolinecolor": "white"
           }
          },
          "shapedefaults": {
           "line": {
            "color": "#2a3f5f"
           }
          },
          "ternary": {
           "aaxis": {
            "gridcolor": "white",
            "linecolor": "white",
            "ticks": ""
           },
           "baxis": {
            "gridcolor": "white",
            "linecolor": "white",
            "ticks": ""
           },
           "bgcolor": "#E5ECF6",
           "caxis": {
            "gridcolor": "white",
            "linecolor": "white",
            "ticks": ""
           }
          },
          "title": {
           "x": 0.05
          },
          "xaxis": {
           "automargin": true,
           "gridcolor": "white",
           "linecolor": "white",
           "ticks": "",
           "title": {
            "standoff": 15
           },
           "zerolinecolor": "white",
           "zerolinewidth": 2
          },
          "yaxis": {
           "automargin": true,
           "gridcolor": "white",
           "linecolor": "white",
           "ticks": "",
           "title": {
            "standoff": 15
           },
           "zerolinecolor": "white",
           "zerolinewidth": 2
          }
         }
        },
        "title": {
         "text": "Spades_meta Z-score comparison"
        }
       }
      }
     },
     "metadata": {},
     "output_type": "display_data"
    }
   ],
   "source": [
    "fig2 = go.Figure()\n",
    "\n",
    "for n,index in enumerate(df_norm_z_meta.index.to_list()):\n",
    "    fig2.add_trace(\n",
    "                go.Scatterpolar(\n",
    "                                r=df_norm_z_meta[['Completeness', 'Contamination',\n",
    "       'Strain_heterogeneity', 'n_contigs', 'Longest_contig', 'pilon_errors']].loc[index].values,\n",
    "                                theta=['Completeness', 'Contamination',\n",
    "       'Strain_heterogeneity', 'n_contigs', 'Longest_contig', 'pilon_errors'],\n",
    "                                fill='toself',\n",
    "                                name=\"Spades_meta {} - area {}\".format(df_norm_z_meta['Category'][index], round(area_list[n],2)),\n",
    "                                showlegend=True,\n",
    "                                )\n",
    "                )\n",
    "\n",
    "fig2.update_layout(\n",
    "    polar=dict(\n",
    "        radialaxis=dict(\n",
    "                        visible=True,\n",
    "                        range=[-3, 3]\n",
    "                    )\n",
    "            ),\n",
    "    title=\"Spades_meta Z-score comparison\"\n",
    ")\n",
    "\n",
    "fig2.show()"
   ]
  },
  {
   "cell_type": "markdown",
   "metadata": {},
   "source": [
    "# 200 genomes"
   ]
  },
  {
   "cell_type": "code",
   "execution_count": 45,
   "metadata": {},
   "outputs": [
    {
     "data": {
      "text/html": [
       "<div>\n",
       "<style scoped>\n",
       "    .dataframe tbody tr th:only-of-type {\n",
       "        vertical-align: middle;\n",
       "    }\n",
       "\n",
       "    .dataframe tbody tr th {\n",
       "        vertical-align: top;\n",
       "    }\n",
       "\n",
       "    .dataframe thead th {\n",
       "        text-align: right;\n",
       "    }\n",
       "</style>\n",
       "<table border=\"1\" class=\"dataframe\">\n",
       "  <thead>\n",
       "    <tr style=\"text-align: right;\">\n",
       "      <th></th>\n",
       "      <th>Bin_Id</th>\n",
       "      <th>Reference</th>\n",
       "      <th>Completeness</th>\n",
       "      <th>Contamination</th>\n",
       "      <th>Strain_heterogeneity</th>\n",
       "      <th>n_contigs</th>\n",
       "      <th>Longest_contig</th>\n",
       "      <th>pilon_errors</th>\n",
       "      <th>Category</th>\n",
       "      <th>Assembly</th>\n",
       "    </tr>\n",
       "  </thead>\n",
       "  <tbody>\n",
       "    <tr>\n",
       "      <th>0</th>\n",
       "      <td>Smeta_all_bin.35</td>\n",
       "      <td>GCF_002504165.1_ASM250416v1_genomic</td>\n",
       "      <td>99.09</td>\n",
       "      <td>0.40</td>\n",
       "      <td>0.00</td>\n",
       "      <td>22.0</td>\n",
       "      <td>603512.0</td>\n",
       "      <td>42.0</td>\n",
       "      <td>all</td>\n",
       "      <td>Spades_meta</td>\n",
       "    </tr>\n",
       "    <tr>\n",
       "      <th>1</th>\n",
       "      <td>MAG_4_Scareful_concoct.068</td>\n",
       "      <td>GCF_002504165.1_ASM250416v1_genomic</td>\n",
       "      <td>99.09</td>\n",
       "      <td>0.40</td>\n",
       "      <td>0.00</td>\n",
       "      <td>19.0</td>\n",
       "      <td>998781.0</td>\n",
       "      <td>4.0</td>\n",
       "      <td>careful</td>\n",
       "      <td>Spades_meta</td>\n",
       "    </tr>\n",
       "    <tr>\n",
       "      <th>2</th>\n",
       "      <td>MAG_15_Smeta_concoct.059</td>\n",
       "      <td>GCF_002504165.1_ASM250416v1_genomic</td>\n",
       "      <td>99.09</td>\n",
       "      <td>0.61</td>\n",
       "      <td>54.55</td>\n",
       "      <td>22.0</td>\n",
       "      <td>603512.0</td>\n",
       "      <td>42.0</td>\n",
       "      <td>meta</td>\n",
       "      <td>Spades_careful</td>\n",
       "    </tr>\n",
       "    <tr>\n",
       "      <th>3</th>\n",
       "      <td>MAG_4_Smeta_concoct.057</td>\n",
       "      <td>GCF_002504165.1_ASM250416v1_genomic</td>\n",
       "      <td>99.09</td>\n",
       "      <td>1.22</td>\n",
       "      <td>46.15</td>\n",
       "      <td>21.0</td>\n",
       "      <td>603512.0</td>\n",
       "      <td>42.0</td>\n",
       "      <td>meta</td>\n",
       "      <td>Spades_meta</td>\n",
       "    </tr>\n",
       "    <tr>\n",
       "      <th>4</th>\n",
       "      <td>MAG_10_MH_Scare_concoct.016</td>\n",
       "      <td>GCF_002504165.1_ASM250416v1_genomic</td>\n",
       "      <td>99.09</td>\n",
       "      <td>1.36</td>\n",
       "      <td>0.00</td>\n",
       "      <td>25.0</td>\n",
       "      <td>998860.0</td>\n",
       "      <td>7.0</td>\n",
       "      <td>careful</td>\n",
       "      <td>Megahit</td>\n",
       "    </tr>\n",
       "    <tr>\n",
       "      <th>...</th>\n",
       "      <td>...</td>\n",
       "      <td>...</td>\n",
       "      <td>...</td>\n",
       "      <td>...</td>\n",
       "      <td>...</td>\n",
       "      <td>...</td>\n",
       "      <td>...</td>\n",
       "      <td>...</td>\n",
       "      <td>...</td>\n",
       "      <td>...</td>\n",
       "    </tr>\n",
       "    <tr>\n",
       "      <th>175</th>\n",
       "      <td>S_care_all_bin.32</td>\n",
       "      <td>GCF_000179635.2_ASM17963v2_genomic</td>\n",
       "      <td>99.32</td>\n",
       "      <td>0.06</td>\n",
       "      <td>100.00</td>\n",
       "      <td>124.0</td>\n",
       "      <td>200747.0</td>\n",
       "      <td>56.0</td>\n",
       "      <td>all</td>\n",
       "      <td>Spades_careful</td>\n",
       "    </tr>\n",
       "    <tr>\n",
       "      <th>176</th>\n",
       "      <td>MAG_17_Scareful_maxbin.001</td>\n",
       "      <td>GCF_000179635.2_ASM17963v2_genomic</td>\n",
       "      <td>99.32</td>\n",
       "      <td>0.06</td>\n",
       "      <td>100.00</td>\n",
       "      <td>96.0</td>\n",
       "      <td>211304.0</td>\n",
       "      <td>109.0</td>\n",
       "      <td>careful</td>\n",
       "      <td>Spades_careful</td>\n",
       "    </tr>\n",
       "    <tr>\n",
       "      <th>177</th>\n",
       "      <td>MAG_10_Scareful_maxbin.001</td>\n",
       "      <td>GCF_000179635.2_ASM17963v2_genomic</td>\n",
       "      <td>99.32</td>\n",
       "      <td>0.06</td>\n",
       "      <td>100.00</td>\n",
       "      <td>84.0</td>\n",
       "      <td>211081.0</td>\n",
       "      <td>41.0</td>\n",
       "      <td>careful</td>\n",
       "      <td>Spades_meta</td>\n",
       "    </tr>\n",
       "    <tr>\n",
       "      <th>178</th>\n",
       "      <td>MAG_11_MH_Scare_maxbin.001</td>\n",
       "      <td>GCF_000179635.2_ASM17963v2_genomic</td>\n",
       "      <td>99.32</td>\n",
       "      <td>0.06</td>\n",
       "      <td>100.00</td>\n",
       "      <td>93.0</td>\n",
       "      <td>210846.0</td>\n",
       "      <td>109.0</td>\n",
       "      <td>careful</td>\n",
       "      <td>Megahit</td>\n",
       "    </tr>\n",
       "    <tr>\n",
       "      <th>179</th>\n",
       "      <td>MAG_17_Smeta_metabat.001</td>\n",
       "      <td>GCF_000179635.2_ASM17963v2_genomic</td>\n",
       "      <td>95.89</td>\n",
       "      <td>0.00</td>\n",
       "      <td>0.00</td>\n",
       "      <td>65.0</td>\n",
       "      <td>205455.0</td>\n",
       "      <td>202.0</td>\n",
       "      <td>meta</td>\n",
       "      <td>Spades_careful</td>\n",
       "    </tr>\n",
       "  </tbody>\n",
       "</table>\n",
       "<p>180 rows × 10 columns</p>\n",
       "</div>"
      ],
      "text/plain": [
       "                          Bin_Id                             Reference  \\\n",
       "0               Smeta_all_bin.35  GCF_002504165.1_ASM250416v1_genomic    \n",
       "1     MAG_4_Scareful_concoct.068  GCF_002504165.1_ASM250416v1_genomic    \n",
       "2       MAG_15_Smeta_concoct.059  GCF_002504165.1_ASM250416v1_genomic    \n",
       "3        MAG_4_Smeta_concoct.057  GCF_002504165.1_ASM250416v1_genomic    \n",
       "4    MAG_10_MH_Scare_concoct.016  GCF_002504165.1_ASM250416v1_genomic    \n",
       "..                           ...                                   ...   \n",
       "175            S_care_all_bin.32   GCF_000179635.2_ASM17963v2_genomic    \n",
       "176   MAG_17_Scareful_maxbin.001   GCF_000179635.2_ASM17963v2_genomic    \n",
       "177   MAG_10_Scareful_maxbin.001   GCF_000179635.2_ASM17963v2_genomic    \n",
       "178   MAG_11_MH_Scare_maxbin.001   GCF_000179635.2_ASM17963v2_genomic    \n",
       "179     MAG_17_Smeta_metabat.001   GCF_000179635.2_ASM17963v2_genomic    \n",
       "\n",
       "     Completeness  Contamination  Strain_heterogeneity  n_contigs  \\\n",
       "0           99.09           0.40                  0.00       22.0   \n",
       "1           99.09           0.40                  0.00       19.0   \n",
       "2           99.09           0.61                 54.55       22.0   \n",
       "3           99.09           1.22                 46.15       21.0   \n",
       "4           99.09           1.36                  0.00       25.0   \n",
       "..            ...            ...                   ...        ...   \n",
       "175         99.32           0.06                100.00      124.0   \n",
       "176         99.32           0.06                100.00       96.0   \n",
       "177         99.32           0.06                100.00       84.0   \n",
       "178         99.32           0.06                100.00       93.0   \n",
       "179         95.89           0.00                  0.00       65.0   \n",
       "\n",
       "     Longest_contig  pilon_errors Category        Assembly  \n",
       "0          603512.0          42.0      all     Spades_meta  \n",
       "1          998781.0           4.0  careful     Spades_meta  \n",
       "2          603512.0          42.0     meta  Spades_careful  \n",
       "3          603512.0          42.0     meta     Spades_meta  \n",
       "4          998860.0           7.0  careful         Megahit  \n",
       "..              ...           ...      ...             ...  \n",
       "175        200747.0          56.0      all  Spades_careful  \n",
       "176        211304.0         109.0  careful  Spades_careful  \n",
       "177        211081.0          41.0  careful     Spades_meta  \n",
       "178        210846.0         109.0  careful         Megahit  \n",
       "179        205455.0         202.0     meta  Spades_careful  \n",
       "\n",
       "[180 rows x 10 columns]"
      ]
     },
     "execution_count": 45,
     "metadata": {},
     "output_type": "execute_result"
    }
   ],
   "source": [
    "df = pd.read_table('Cami_200g_6s/All_concatenate_together_fixed.tsv')\n",
    "df.fillna({'Completeness':50, 'Contamination':15,'n_contigs':200,'Longest_contig':100000,'Strain_heterogeneity':100,'pilon_errors':1000}, inplace=True) #'Completeness','Contamination','n_contigs','Longest_contig','pilon_errors']].fillna(50,15,200,100000,1000)\n",
    "df"
   ]
  },
  {
   "cell_type": "code",
   "execution_count": 46,
   "metadata": {},
   "outputs": [],
   "source": [
    "la = df.sort_values(['Reference','pilon_errors'])"
   ]
  },
  {
   "cell_type": "code",
   "execution_count": 47,
   "metadata": {},
   "outputs": [
    {
     "data": {
      "text/html": [
       "<div>\n",
       "<style scoped>\n",
       "    .dataframe tbody tr th:only-of-type {\n",
       "        vertical-align: middle;\n",
       "    }\n",
       "\n",
       "    .dataframe tbody tr th {\n",
       "        vertical-align: top;\n",
       "    }\n",
       "\n",
       "    .dataframe thead th {\n",
       "        text-align: right;\n",
       "    }\n",
       "</style>\n",
       "<table border=\"1\" class=\"dataframe\">\n",
       "  <thead>\n",
       "    <tr style=\"text-align: right;\">\n",
       "      <th></th>\n",
       "      <th></th>\n",
       "      <th>Completeness</th>\n",
       "      <th>Contamination</th>\n",
       "      <th>Strain_heterogeneity</th>\n",
       "      <th>n_contigs</th>\n",
       "      <th>Longest_contig</th>\n",
       "      <th>pilon_errors</th>\n",
       "    </tr>\n",
       "    <tr>\n",
       "      <th>Assembly</th>\n",
       "      <th>Category</th>\n",
       "      <th></th>\n",
       "      <th></th>\n",
       "      <th></th>\n",
       "      <th></th>\n",
       "      <th></th>\n",
       "      <th></th>\n",
       "    </tr>\n",
       "  </thead>\n",
       "  <tbody>\n",
       "    <tr>\n",
       "      <th rowspan=\"3\" valign=\"top\">Megahit</th>\n",
       "      <th>all</th>\n",
       "      <td>98.895</td>\n",
       "      <td>0.640</td>\n",
       "      <td>0.00</td>\n",
       "      <td>64.0</td>\n",
       "      <td>429659.0</td>\n",
       "      <td>208.0</td>\n",
       "    </tr>\n",
       "    <tr>\n",
       "      <th>careful</th>\n",
       "      <td>99.190</td>\n",
       "      <td>0.515</td>\n",
       "      <td>0.00</td>\n",
       "      <td>48.0</td>\n",
       "      <td>483814.0</td>\n",
       "      <td>46.5</td>\n",
       "    </tr>\n",
       "    <tr>\n",
       "      <th>meta</th>\n",
       "      <td>98.755</td>\n",
       "      <td>0.805</td>\n",
       "      <td>0.00</td>\n",
       "      <td>71.5</td>\n",
       "      <td>468169.5</td>\n",
       "      <td>209.0</td>\n",
       "    </tr>\n",
       "    <tr>\n",
       "      <th rowspan=\"3\" valign=\"top\">Spades_careful</th>\n",
       "      <th>all</th>\n",
       "      <td>98.550</td>\n",
       "      <td>0.655</td>\n",
       "      <td>38.54</td>\n",
       "      <td>101.0</td>\n",
       "      <td>265222.0</td>\n",
       "      <td>107.0</td>\n",
       "    </tr>\n",
       "    <tr>\n",
       "      <th>careful</th>\n",
       "      <td>99.070</td>\n",
       "      <td>0.565</td>\n",
       "      <td>0.00</td>\n",
       "      <td>53.5</td>\n",
       "      <td>448892.0</td>\n",
       "      <td>118.0</td>\n",
       "    </tr>\n",
       "    <tr>\n",
       "      <th>meta</th>\n",
       "      <td>98.990</td>\n",
       "      <td>0.620</td>\n",
       "      <td>0.00</td>\n",
       "      <td>65.5</td>\n",
       "      <td>351697.5</td>\n",
       "      <td>204.0</td>\n",
       "    </tr>\n",
       "    <tr>\n",
       "      <th rowspan=\"3\" valign=\"top\">Spades_meta</th>\n",
       "      <th>all</th>\n",
       "      <td>99.230</td>\n",
       "      <td>0.395</td>\n",
       "      <td>0.00</td>\n",
       "      <td>44.5</td>\n",
       "      <td>469412.0</td>\n",
       "      <td>192.0</td>\n",
       "    </tr>\n",
       "    <tr>\n",
       "      <th>careful</th>\n",
       "      <td>99.075</td>\n",
       "      <td>0.530</td>\n",
       "      <td>0.00</td>\n",
       "      <td>35.5</td>\n",
       "      <td>539253.5</td>\n",
       "      <td>38.5</td>\n",
       "    </tr>\n",
       "    <tr>\n",
       "      <th>meta</th>\n",
       "      <td>99.100</td>\n",
       "      <td>0.590</td>\n",
       "      <td>0.00</td>\n",
       "      <td>59.0</td>\n",
       "      <td>440075.5</td>\n",
       "      <td>198.5</td>\n",
       "    </tr>\n",
       "  </tbody>\n",
       "</table>\n",
       "</div>"
      ],
      "text/plain": [
       "                         Completeness  Contamination  Strain_heterogeneity  \\\n",
       "Assembly       Category                                                      \n",
       "Megahit        all             98.895          0.640                  0.00   \n",
       "               careful         99.190          0.515                  0.00   \n",
       "               meta            98.755          0.805                  0.00   \n",
       "Spades_careful all             98.550          0.655                 38.54   \n",
       "               careful         99.070          0.565                  0.00   \n",
       "               meta            98.990          0.620                  0.00   \n",
       "Spades_meta    all             99.230          0.395                  0.00   \n",
       "               careful         99.075          0.530                  0.00   \n",
       "               meta            99.100          0.590                  0.00   \n",
       "\n",
       "                         n_contigs  Longest_contig  pilon_errors  \n",
       "Assembly       Category                                           \n",
       "Megahit        all            64.0        429659.0         208.0  \n",
       "               careful        48.0        483814.0          46.5  \n",
       "               meta           71.5        468169.5         209.0  \n",
       "Spades_careful all           101.0        265222.0         107.0  \n",
       "               careful        53.5        448892.0         118.0  \n",
       "               meta           65.5        351697.5         204.0  \n",
       "Spades_meta    all            44.5        469412.0         192.0  \n",
       "               careful        35.5        539253.5          38.5  \n",
       "               meta           59.0        440075.5         198.5  "
      ]
     },
     "execution_count": 47,
     "metadata": {},
     "output_type": "execute_result"
    }
   ],
   "source": [
    "df_category = df.groupby(['Assembly','Category']).median()\n",
    "df_category"
   ]
  },
  {
   "cell_type": "code",
   "execution_count": 48,
   "metadata": {},
   "outputs": [
    {
     "data": {
      "text/html": [
       "<div>\n",
       "<style scoped>\n",
       "    .dataframe tbody tr th:only-of-type {\n",
       "        vertical-align: middle;\n",
       "    }\n",
       "\n",
       "    .dataframe tbody tr th {\n",
       "        vertical-align: top;\n",
       "    }\n",
       "\n",
       "    .dataframe thead th {\n",
       "        text-align: right;\n",
       "    }\n",
       "</style>\n",
       "<table border=\"1\" class=\"dataframe\">\n",
       "  <thead>\n",
       "    <tr style=\"text-align: right;\">\n",
       "      <th></th>\n",
       "      <th></th>\n",
       "      <th>Completeness</th>\n",
       "      <th>Contamination</th>\n",
       "      <th>Strain_heterogeneity</th>\n",
       "      <th>n_contigs</th>\n",
       "      <th>Longest_contig</th>\n",
       "      <th>pilon_errors</th>\n",
       "    </tr>\n",
       "    <tr>\n",
       "      <th>Assembly</th>\n",
       "      <th>Category</th>\n",
       "      <th></th>\n",
       "      <th></th>\n",
       "      <th></th>\n",
       "      <th></th>\n",
       "      <th></th>\n",
       "      <th></th>\n",
       "    </tr>\n",
       "  </thead>\n",
       "  <tbody>\n",
       "    <tr>\n",
       "      <th rowspan=\"3\" valign=\"top\">Megahit</th>\n",
       "      <th>all</th>\n",
       "      <td>-0.432114</td>\n",
       "      <td>0.465083</td>\n",
       "      <td>-0.353553</td>\n",
       "      <td>0.207842</td>\n",
       "      <td>-0.042981</td>\n",
       "      <td>0.919750</td>\n",
       "    </tr>\n",
       "    <tr>\n",
       "      <th>careful</th>\n",
       "      <td>1.001964</td>\n",
       "      <td>-0.710689</td>\n",
       "      <td>-0.353553</td>\n",
       "      <td>-0.685569</td>\n",
       "      <td>0.672871</td>\n",
       "      <td>-1.508691</td>\n",
       "    </tr>\n",
       "    <tr>\n",
       "      <th>meta</th>\n",
       "      <td>-1.112693</td>\n",
       "      <td>2.017103</td>\n",
       "      <td>-0.353553</td>\n",
       "      <td>0.626629</td>\n",
       "      <td>0.466073</td>\n",
       "      <td>0.934787</td>\n",
       "    </tr>\n",
       "    <tr>\n",
       "      <th rowspan=\"3\" valign=\"top\">Spades_careful</th>\n",
       "      <th>all</th>\n",
       "      <td>-2.109255</td>\n",
       "      <td>0.606176</td>\n",
       "      <td>2.828427</td>\n",
       "      <td>2.273855</td>\n",
       "      <td>-2.216603</td>\n",
       "      <td>-0.598966</td>\n",
       "    </tr>\n",
       "    <tr>\n",
       "      <th>careful</th>\n",
       "      <td>0.418610</td>\n",
       "      <td>-0.240380</td>\n",
       "      <td>-0.353553</td>\n",
       "      <td>-0.378459</td>\n",
       "      <td>0.211252</td>\n",
       "      <td>-0.433561</td>\n",
       "    </tr>\n",
       "    <tr>\n",
       "      <th>meta</th>\n",
       "      <td>0.029708</td>\n",
       "      <td>0.276960</td>\n",
       "      <td>-0.353553</td>\n",
       "      <td>0.291599</td>\n",
       "      <td>-1.073521</td>\n",
       "      <td>0.859603</td>\n",
       "    </tr>\n",
       "    <tr>\n",
       "      <th rowspan=\"3\" valign=\"top\">Spades_meta</th>\n",
       "      <th>all</th>\n",
       "      <td>1.196415</td>\n",
       "      <td>-1.839431</td>\n",
       "      <td>-0.353553</td>\n",
       "      <td>-0.881002</td>\n",
       "      <td>0.482497</td>\n",
       "      <td>0.679162</td>\n",
       "    </tr>\n",
       "    <tr>\n",
       "      <th>careful</th>\n",
       "      <td>0.442917</td>\n",
       "      <td>-0.569597</td>\n",
       "      <td>-0.353553</td>\n",
       "      <td>-1.383546</td>\n",
       "      <td>1.405702</td>\n",
       "      <td>-1.628986</td>\n",
       "    </tr>\n",
       "    <tr>\n",
       "      <th>meta</th>\n",
       "      <td>0.564449</td>\n",
       "      <td>-0.005226</td>\n",
       "      <td>-0.353553</td>\n",
       "      <td>-0.071349</td>\n",
       "      <td>0.094710</td>\n",
       "      <td>0.776901</td>\n",
       "    </tr>\n",
       "  </tbody>\n",
       "</table>\n",
       "</div>"
      ],
      "text/plain": [
       "                         Completeness  Contamination  Strain_heterogeneity  \\\n",
       "Assembly       Category                                                      \n",
       "Megahit        all          -0.432114       0.465083             -0.353553   \n",
       "               careful       1.001964      -0.710689             -0.353553   \n",
       "               meta         -1.112693       2.017103             -0.353553   \n",
       "Spades_careful all          -2.109255       0.606176              2.828427   \n",
       "               careful       0.418610      -0.240380             -0.353553   \n",
       "               meta          0.029708       0.276960             -0.353553   \n",
       "Spades_meta    all           1.196415      -1.839431             -0.353553   \n",
       "               careful       0.442917      -0.569597             -0.353553   \n",
       "               meta          0.564449      -0.005226             -0.353553   \n",
       "\n",
       "                         n_contigs  Longest_contig  pilon_errors  \n",
       "Assembly       Category                                           \n",
       "Megahit        all        0.207842       -0.042981      0.919750  \n",
       "               careful   -0.685569        0.672871     -1.508691  \n",
       "               meta       0.626629        0.466073      0.934787  \n",
       "Spades_careful all        2.273855       -2.216603     -0.598966  \n",
       "               careful   -0.378459        0.211252     -0.433561  \n",
       "               meta       0.291599       -1.073521      0.859603  \n",
       "Spades_meta    all       -0.881002        0.482497      0.679162  \n",
       "               careful   -1.383546        1.405702     -1.628986  \n",
       "               meta      -0.071349        0.094710      0.776901  "
      ]
     },
     "execution_count": 48,
     "metadata": {},
     "output_type": "execute_result"
    }
   ],
   "source": [
    "# Outra fdorma Z-score\n",
    "\n",
    "df_norm_z = df_category.copy()\n",
    "df_norm_z[['Completeness','Contamination','Strain_heterogeneity','n_contigs','Longest_contig','pilon_errors']] = zscore(df_category[['Completeness','Contamination','Strain_heterogeneity','n_contigs','Longest_contig','pilon_errors']])\n",
    "\n",
    "df_norm_z"
   ]
  },
  {
   "cell_type": "code",
   "execution_count": 49,
   "metadata": {},
   "outputs": [
    {
     "data": {
      "text/html": [
       "<div>\n",
       "<style scoped>\n",
       "    .dataframe tbody tr th:only-of-type {\n",
       "        vertical-align: middle;\n",
       "    }\n",
       "\n",
       "    .dataframe tbody tr th {\n",
       "        vertical-align: top;\n",
       "    }\n",
       "\n",
       "    .dataframe thead th {\n",
       "        text-align: right;\n",
       "    }\n",
       "</style>\n",
       "<table border=\"1\" class=\"dataframe\">\n",
       "  <thead>\n",
       "    <tr style=\"text-align: right;\">\n",
       "      <th></th>\n",
       "      <th></th>\n",
       "      <th>Completeness</th>\n",
       "      <th>Contamination</th>\n",
       "      <th>Strain_heterogeneity</th>\n",
       "      <th>n_contigs</th>\n",
       "      <th>Longest_contig</th>\n",
       "      <th>pilon_errors</th>\n",
       "    </tr>\n",
       "    <tr>\n",
       "      <th>Assembly</th>\n",
       "      <th>Category</th>\n",
       "      <th></th>\n",
       "      <th></th>\n",
       "      <th></th>\n",
       "      <th></th>\n",
       "      <th></th>\n",
       "      <th></th>\n",
       "    </tr>\n",
       "  </thead>\n",
       "  <tbody>\n",
       "    <tr>\n",
       "      <th rowspan=\"3\" valign=\"top\">Megahit</th>\n",
       "      <th>all</th>\n",
       "      <td>-0.432114</td>\n",
       "      <td>-0.465083</td>\n",
       "      <td>-0.353553</td>\n",
       "      <td>-0.207842</td>\n",
       "      <td>-0.042981</td>\n",
       "      <td>-0.919750</td>\n",
       "    </tr>\n",
       "    <tr>\n",
       "      <th>careful</th>\n",
       "      <td>1.001964</td>\n",
       "      <td>0.710689</td>\n",
       "      <td>-0.353553</td>\n",
       "      <td>0.685569</td>\n",
       "      <td>0.672871</td>\n",
       "      <td>1.508691</td>\n",
       "    </tr>\n",
       "    <tr>\n",
       "      <th>meta</th>\n",
       "      <td>-1.112693</td>\n",
       "      <td>-2.017103</td>\n",
       "      <td>-0.353553</td>\n",
       "      <td>-0.626629</td>\n",
       "      <td>0.466073</td>\n",
       "      <td>-0.934787</td>\n",
       "    </tr>\n",
       "    <tr>\n",
       "      <th rowspan=\"3\" valign=\"top\">Spades_careful</th>\n",
       "      <th>all</th>\n",
       "      <td>-2.109255</td>\n",
       "      <td>-0.606176</td>\n",
       "      <td>2.828427</td>\n",
       "      <td>-2.273855</td>\n",
       "      <td>-2.216603</td>\n",
       "      <td>0.598966</td>\n",
       "    </tr>\n",
       "    <tr>\n",
       "      <th>careful</th>\n",
       "      <td>0.418610</td>\n",
       "      <td>0.240380</td>\n",
       "      <td>-0.353553</td>\n",
       "      <td>0.378459</td>\n",
       "      <td>0.211252</td>\n",
       "      <td>0.433561</td>\n",
       "    </tr>\n",
       "    <tr>\n",
       "      <th>meta</th>\n",
       "      <td>0.029708</td>\n",
       "      <td>-0.276960</td>\n",
       "      <td>-0.353553</td>\n",
       "      <td>-0.291599</td>\n",
       "      <td>-1.073521</td>\n",
       "      <td>-0.859603</td>\n",
       "    </tr>\n",
       "    <tr>\n",
       "      <th rowspan=\"3\" valign=\"top\">Spades_meta</th>\n",
       "      <th>all</th>\n",
       "      <td>1.196415</td>\n",
       "      <td>1.839431</td>\n",
       "      <td>-0.353553</td>\n",
       "      <td>0.881002</td>\n",
       "      <td>0.482497</td>\n",
       "      <td>-0.679162</td>\n",
       "    </tr>\n",
       "    <tr>\n",
       "      <th>careful</th>\n",
       "      <td>0.442917</td>\n",
       "      <td>0.569597</td>\n",
       "      <td>-0.353553</td>\n",
       "      <td>1.383546</td>\n",
       "      <td>1.405702</td>\n",
       "      <td>1.628986</td>\n",
       "    </tr>\n",
       "    <tr>\n",
       "      <th>meta</th>\n",
       "      <td>0.564449</td>\n",
       "      <td>0.005226</td>\n",
       "      <td>-0.353553</td>\n",
       "      <td>0.071349</td>\n",
       "      <td>0.094710</td>\n",
       "      <td>-0.776901</td>\n",
       "    </tr>\n",
       "  </tbody>\n",
       "</table>\n",
       "</div>"
      ],
      "text/plain": [
       "                         Completeness  Contamination  Strain_heterogeneity  \\\n",
       "Assembly       Category                                                      \n",
       "Megahit        all          -0.432114      -0.465083             -0.353553   \n",
       "               careful       1.001964       0.710689             -0.353553   \n",
       "               meta         -1.112693      -2.017103             -0.353553   \n",
       "Spades_careful all          -2.109255      -0.606176              2.828427   \n",
       "               careful       0.418610       0.240380             -0.353553   \n",
       "               meta          0.029708      -0.276960             -0.353553   \n",
       "Spades_meta    all           1.196415       1.839431             -0.353553   \n",
       "               careful       0.442917       0.569597             -0.353553   \n",
       "               meta          0.564449       0.005226             -0.353553   \n",
       "\n",
       "                         n_contigs  Longest_contig  pilon_errors  \n",
       "Assembly       Category                                           \n",
       "Megahit        all       -0.207842       -0.042981     -0.919750  \n",
       "               careful    0.685569        0.672871      1.508691  \n",
       "               meta      -0.626629        0.466073     -0.934787  \n",
       "Spades_careful all       -2.273855       -2.216603      0.598966  \n",
       "               careful    0.378459        0.211252      0.433561  \n",
       "               meta      -0.291599       -1.073521     -0.859603  \n",
       "Spades_meta    all        0.881002        0.482497     -0.679162  \n",
       "               careful    1.383546        1.405702      1.628986  \n",
       "               meta       0.071349        0.094710     -0.776901  "
      ]
     },
     "execution_count": 49,
     "metadata": {},
     "output_type": "execute_result"
    }
   ],
   "source": [
    "df_norm_z[['Contamination','n_contigs','pilon_errors']] = -1*df_norm_z[['Contamination','n_contigs','pilon_errors']]\n",
    "df_norm_z['Strain_heterogeneity'].fillna(0,inplace=True)\n",
    "df_norm_z"
   ]
  },
  {
   "cell_type": "code",
   "execution_count": 50,
   "metadata": {},
   "outputs": [
    {
     "data": {
      "text/html": [
       "<div>\n",
       "<style scoped>\n",
       "    .dataframe tbody tr th:only-of-type {\n",
       "        vertical-align: middle;\n",
       "    }\n",
       "\n",
       "    .dataframe tbody tr th {\n",
       "        vertical-align: top;\n",
       "    }\n",
       "\n",
       "    .dataframe thead th {\n",
       "        text-align: right;\n",
       "    }\n",
       "</style>\n",
       "<table border=\"1\" class=\"dataframe\">\n",
       "  <thead>\n",
       "    <tr style=\"text-align: right;\">\n",
       "      <th></th>\n",
       "      <th>Assembly</th>\n",
       "      <th>Category</th>\n",
       "      <th>Completeness</th>\n",
       "      <th>Contamination</th>\n",
       "      <th>Strain_heterogeneity</th>\n",
       "      <th>n_contigs</th>\n",
       "      <th>Longest_contig</th>\n",
       "      <th>pilon_errors</th>\n",
       "    </tr>\n",
       "  </thead>\n",
       "  <tbody>\n",
       "    <tr>\n",
       "      <th>0</th>\n",
       "      <td>Megahit</td>\n",
       "      <td>all</td>\n",
       "      <td>-0.432114</td>\n",
       "      <td>-0.465083</td>\n",
       "      <td>-0.353553</td>\n",
       "      <td>-0.207842</td>\n",
       "      <td>-0.042981</td>\n",
       "      <td>-0.919750</td>\n",
       "    </tr>\n",
       "    <tr>\n",
       "      <th>1</th>\n",
       "      <td>Megahit</td>\n",
       "      <td>careful</td>\n",
       "      <td>1.001964</td>\n",
       "      <td>0.710689</td>\n",
       "      <td>-0.353553</td>\n",
       "      <td>0.685569</td>\n",
       "      <td>0.672871</td>\n",
       "      <td>1.508691</td>\n",
       "    </tr>\n",
       "    <tr>\n",
       "      <th>2</th>\n",
       "      <td>Megahit</td>\n",
       "      <td>meta</td>\n",
       "      <td>-1.112693</td>\n",
       "      <td>-2.017103</td>\n",
       "      <td>-0.353553</td>\n",
       "      <td>-0.626629</td>\n",
       "      <td>0.466073</td>\n",
       "      <td>-0.934787</td>\n",
       "    </tr>\n",
       "    <tr>\n",
       "      <th>3</th>\n",
       "      <td>Spades_careful</td>\n",
       "      <td>all</td>\n",
       "      <td>-2.109255</td>\n",
       "      <td>-0.606176</td>\n",
       "      <td>2.828427</td>\n",
       "      <td>-2.273855</td>\n",
       "      <td>-2.216603</td>\n",
       "      <td>0.598966</td>\n",
       "    </tr>\n",
       "    <tr>\n",
       "      <th>4</th>\n",
       "      <td>Spades_careful</td>\n",
       "      <td>careful</td>\n",
       "      <td>0.418610</td>\n",
       "      <td>0.240380</td>\n",
       "      <td>-0.353553</td>\n",
       "      <td>0.378459</td>\n",
       "      <td>0.211252</td>\n",
       "      <td>0.433561</td>\n",
       "    </tr>\n",
       "    <tr>\n",
       "      <th>5</th>\n",
       "      <td>Spades_careful</td>\n",
       "      <td>meta</td>\n",
       "      <td>0.029708</td>\n",
       "      <td>-0.276960</td>\n",
       "      <td>-0.353553</td>\n",
       "      <td>-0.291599</td>\n",
       "      <td>-1.073521</td>\n",
       "      <td>-0.859603</td>\n",
       "    </tr>\n",
       "    <tr>\n",
       "      <th>6</th>\n",
       "      <td>Spades_meta</td>\n",
       "      <td>all</td>\n",
       "      <td>1.196415</td>\n",
       "      <td>1.839431</td>\n",
       "      <td>-0.353553</td>\n",
       "      <td>0.881002</td>\n",
       "      <td>0.482497</td>\n",
       "      <td>-0.679162</td>\n",
       "    </tr>\n",
       "    <tr>\n",
       "      <th>7</th>\n",
       "      <td>Spades_meta</td>\n",
       "      <td>careful</td>\n",
       "      <td>0.442917</td>\n",
       "      <td>0.569597</td>\n",
       "      <td>-0.353553</td>\n",
       "      <td>1.383546</td>\n",
       "      <td>1.405702</td>\n",
       "      <td>1.628986</td>\n",
       "    </tr>\n",
       "    <tr>\n",
       "      <th>8</th>\n",
       "      <td>Spades_meta</td>\n",
       "      <td>meta</td>\n",
       "      <td>0.564449</td>\n",
       "      <td>0.005226</td>\n",
       "      <td>-0.353553</td>\n",
       "      <td>0.071349</td>\n",
       "      <td>0.094710</td>\n",
       "      <td>-0.776901</td>\n",
       "    </tr>\n",
       "  </tbody>\n",
       "</table>\n",
       "</div>"
      ],
      "text/plain": [
       "         Assembly Category  Completeness  Contamination  Strain_heterogeneity  \\\n",
       "0         Megahit      all     -0.432114      -0.465083             -0.353553   \n",
       "1         Megahit  careful      1.001964       0.710689             -0.353553   \n",
       "2         Megahit     meta     -1.112693      -2.017103             -0.353553   \n",
       "3  Spades_careful      all     -2.109255      -0.606176              2.828427   \n",
       "4  Spades_careful  careful      0.418610       0.240380             -0.353553   \n",
       "5  Spades_careful     meta      0.029708      -0.276960             -0.353553   \n",
       "6     Spades_meta      all      1.196415       1.839431             -0.353553   \n",
       "7     Spades_meta  careful      0.442917       0.569597             -0.353553   \n",
       "8     Spades_meta     meta      0.564449       0.005226             -0.353553   \n",
       "\n",
       "   n_contigs  Longest_contig  pilon_errors  \n",
       "0  -0.207842       -0.042981     -0.919750  \n",
       "1   0.685569        0.672871      1.508691  \n",
       "2  -0.626629        0.466073     -0.934787  \n",
       "3  -2.273855       -2.216603      0.598966  \n",
       "4   0.378459        0.211252      0.433561  \n",
       "5  -0.291599       -1.073521     -0.859603  \n",
       "6   0.881002        0.482497     -0.679162  \n",
       "7   1.383546        1.405702      1.628986  \n",
       "8   0.071349        0.094710     -0.776901  "
      ]
     },
     "execution_count": 50,
     "metadata": {},
     "output_type": "execute_result"
    }
   ],
   "source": [
    "df_norm_z = df_norm_z.reset_index()\n",
    "df_norm_z"
   ]
  },
  {
   "cell_type": "code",
   "execution_count": 51,
   "metadata": {},
   "outputs": [
    {
     "data": {
      "text/html": [
       "<div>\n",
       "<style scoped>\n",
       "    .dataframe tbody tr th:only-of-type {\n",
       "        vertical-align: middle;\n",
       "    }\n",
       "\n",
       "    .dataframe tbody tr th {\n",
       "        vertical-align: top;\n",
       "    }\n",
       "\n",
       "    .dataframe thead th {\n",
       "        text-align: right;\n",
       "    }\n",
       "</style>\n",
       "<table border=\"1\" class=\"dataframe\">\n",
       "  <thead>\n",
       "    <tr style=\"text-align: right;\">\n",
       "      <th></th>\n",
       "      <th>Assembly</th>\n",
       "      <th>Category</th>\n",
       "      <th>Completeness</th>\n",
       "      <th>Contamination</th>\n",
       "      <th>Strain_heterogeneity</th>\n",
       "      <th>n_contigs</th>\n",
       "      <th>Longest_contig</th>\n",
       "      <th>pilon_errors</th>\n",
       "    </tr>\n",
       "  </thead>\n",
       "  <tbody>\n",
       "    <tr>\n",
       "      <th>0</th>\n",
       "      <td>Megahit</td>\n",
       "      <td>all</td>\n",
       "      <td>-0.432114</td>\n",
       "      <td>-0.465083</td>\n",
       "      <td>-0.353553</td>\n",
       "      <td>-0.207842</td>\n",
       "      <td>-0.042981</td>\n",
       "      <td>-0.919750</td>\n",
       "    </tr>\n",
       "    <tr>\n",
       "      <th>1</th>\n",
       "      <td>Megahit</td>\n",
       "      <td>careful</td>\n",
       "      <td>1.001964</td>\n",
       "      <td>0.710689</td>\n",
       "      <td>-0.353553</td>\n",
       "      <td>0.685569</td>\n",
       "      <td>0.672871</td>\n",
       "      <td>1.508691</td>\n",
       "    </tr>\n",
       "    <tr>\n",
       "      <th>2</th>\n",
       "      <td>Megahit</td>\n",
       "      <td>meta</td>\n",
       "      <td>-1.112693</td>\n",
       "      <td>-2.017103</td>\n",
       "      <td>-0.353553</td>\n",
       "      <td>-0.626629</td>\n",
       "      <td>0.466073</td>\n",
       "      <td>-0.934787</td>\n",
       "    </tr>\n",
       "  </tbody>\n",
       "</table>\n",
       "</div>"
      ],
      "text/plain": [
       "  Assembly Category  Completeness  Contamination  Strain_heterogeneity  \\\n",
       "0  Megahit      all     -0.432114      -0.465083             -0.353553   \n",
       "1  Megahit  careful      1.001964       0.710689             -0.353553   \n",
       "2  Megahit     meta     -1.112693      -2.017103             -0.353553   \n",
       "\n",
       "   n_contigs  Longest_contig  pilon_errors  \n",
       "0  -0.207842       -0.042981     -0.919750  \n",
       "1   0.685569        0.672871      1.508691  \n",
       "2  -0.626629        0.466073     -0.934787  "
      ]
     },
     "execution_count": 51,
     "metadata": {},
     "output_type": "execute_result"
    }
   ],
   "source": [
    "df_norm_z_megahit = df_norm_z[df_norm_z['Assembly'] == \"Megahit\"]\n",
    "df_norm_z_megahit"
   ]
  },
  {
   "cell_type": "code",
   "execution_count": 52,
   "metadata": {},
   "outputs": [
    {
     "data": {
      "text/plain": [
       "[15.161938684417064, 27.938111562771265, 11.311014519522374]"
      ]
     },
     "execution_count": 52,
     "metadata": {},
     "output_type": "execute_result"
    }
   ],
   "source": [
    "## Calculating polygon area\n",
    "\n",
    "\n",
    "area_list = list()\n",
    "for index in df_norm_z_megahit.index.to_list():\n",
    "       r = df_norm_z_megahit[['Completeness', 'Contamination',\n",
    "              'Strain_heterogeneity', 'n_contigs', 'Longest_contig', 'pilon_errors']].loc[index].values\n",
    "       area=0\n",
    "       theta = 360/len(r)\n",
    "       for i in range(0,len(r)-1,1):\n",
    "              a = (r[i])+3\n",
    "              b = (r[i+1])+3\n",
    "              area+= (a*b*np.sin(np.deg2rad(theta))/2)\n",
    "       area_list.append(area)\n",
    "\n",
    "area_list"
   ]
  },
  {
   "cell_type": "code",
   "execution_count": 53,
   "metadata": {},
   "outputs": [
    {
     "data": {
      "application/vnd.plotly.v1+json": {
       "config": {
        "plotlyServerURL": "https://plot.ly"
       },
       "data": [
        {
         "fill": "toself",
         "name": "Megahit all - area 15.16",
         "r": [
          -0.43211375163276083,
          -0.46508339779369806,
          -0.3535533905932738,
          -0.2078421336387145,
          -0.04298091782843114,
          -0.9197503930901951
         ],
         "showlegend": true,
         "theta": [
          "Completeness",
          "Contamination",
          "Strain_heterogeneity",
          "n_contigs",
          "Longest_contig",
          "pilon_errors"
         ],
         "type": "scatterpolar"
        },
        {
         "fill": "toself",
         "name": "Megahit careful - area 27.94",
         "r": [
          1.0019637615986379,
          0.7106892370780116,
          -0.3535533905932738,
          0.6855688288679989,
          0.6728707922928151,
          1.5086913804912743
         ],
         "showlegend": true,
         "theta": [
          "Completeness",
          "Contamination",
          "Strain_heterogeneity",
          "n_contigs",
          "Longest_contig",
          "pilon_errors"
         ],
         "type": "scatterpolar"
        },
        {
         "fill": "toself",
         "name": "Megahit meta - area 11.31",
         "r": [
          -1.1126929104545422,
          -2.017103275824354,
          -0.3535533905932738,
          -0.6266285223137363,
          0.4660728589719429,
          -0.9347871842578823
         ],
         "showlegend": true,
         "theta": [
          "Completeness",
          "Contamination",
          "Strain_heterogeneity",
          "n_contigs",
          "Longest_contig",
          "pilon_errors"
         ],
         "type": "scatterpolar"
        }
       ],
       "layout": {
        "polar": {
         "radialaxis": {
          "range": [
           -3,
           3
          ],
          "visible": true
         }
        },
        "template": {
         "data": {
          "bar": [
           {
            "error_x": {
             "color": "#2a3f5f"
            },
            "error_y": {
             "color": "#2a3f5f"
            },
            "marker": {
             "line": {
              "color": "#E5ECF6",
              "width": 0.5
             },
             "pattern": {
              "fillmode": "overlay",
              "size": 10,
              "solidity": 0.2
             }
            },
            "type": "bar"
           }
          ],
          "barpolar": [
           {
            "marker": {
             "line": {
              "color": "#E5ECF6",
              "width": 0.5
             },
             "pattern": {
              "fillmode": "overlay",
              "size": 10,
              "solidity": 0.2
             }
            },
            "type": "barpolar"
           }
          ],
          "carpet": [
           {
            "aaxis": {
             "endlinecolor": "#2a3f5f",
             "gridcolor": "white",
             "linecolor": "white",
             "minorgridcolor": "white",
             "startlinecolor": "#2a3f5f"
            },
            "baxis": {
             "endlinecolor": "#2a3f5f",
             "gridcolor": "white",
             "linecolor": "white",
             "minorgridcolor": "white",
             "startlinecolor": "#2a3f5f"
            },
            "type": "carpet"
           }
          ],
          "choropleth": [
           {
            "colorbar": {
             "outlinewidth": 0,
             "ticks": ""
            },
            "type": "choropleth"
           }
          ],
          "contour": [
           {
            "colorbar": {
             "outlinewidth": 0,
             "ticks": ""
            },
            "colorscale": [
             [
              0,
              "#0d0887"
             ],
             [
              0.1111111111111111,
              "#46039f"
             ],
             [
              0.2222222222222222,
              "#7201a8"
             ],
             [
              0.3333333333333333,
              "#9c179e"
             ],
             [
              0.4444444444444444,
              "#bd3786"
             ],
             [
              0.5555555555555556,
              "#d8576b"
             ],
             [
              0.6666666666666666,
              "#ed7953"
             ],
             [
              0.7777777777777778,
              "#fb9f3a"
             ],
             [
              0.8888888888888888,
              "#fdca26"
             ],
             [
              1,
              "#f0f921"
             ]
            ],
            "type": "contour"
           }
          ],
          "contourcarpet": [
           {
            "colorbar": {
             "outlinewidth": 0,
             "ticks": ""
            },
            "type": "contourcarpet"
           }
          ],
          "heatmap": [
           {
            "colorbar": {
             "outlinewidth": 0,
             "ticks": ""
            },
            "colorscale": [
             [
              0,
              "#0d0887"
             ],
             [
              0.1111111111111111,
              "#46039f"
             ],
             [
              0.2222222222222222,
              "#7201a8"
             ],
             [
              0.3333333333333333,
              "#9c179e"
             ],
             [
              0.4444444444444444,
              "#bd3786"
             ],
             [
              0.5555555555555556,
              "#d8576b"
             ],
             [
              0.6666666666666666,
              "#ed7953"
             ],
             [
              0.7777777777777778,
              "#fb9f3a"
             ],
             [
              0.8888888888888888,
              "#fdca26"
             ],
             [
              1,
              "#f0f921"
             ]
            ],
            "type": "heatmap"
           }
          ],
          "heatmapgl": [
           {
            "colorbar": {
             "outlinewidth": 0,
             "ticks": ""
            },
            "colorscale": [
             [
              0,
              "#0d0887"
             ],
             [
              0.1111111111111111,
              "#46039f"
             ],
             [
              0.2222222222222222,
              "#7201a8"
             ],
             [
              0.3333333333333333,
              "#9c179e"
             ],
             [
              0.4444444444444444,
              "#bd3786"
             ],
             [
              0.5555555555555556,
              "#d8576b"
             ],
             [
              0.6666666666666666,
              "#ed7953"
             ],
             [
              0.7777777777777778,
              "#fb9f3a"
             ],
             [
              0.8888888888888888,
              "#fdca26"
             ],
             [
              1,
              "#f0f921"
             ]
            ],
            "type": "heatmapgl"
           }
          ],
          "histogram": [
           {
            "marker": {
             "pattern": {
              "fillmode": "overlay",
              "size": 10,
              "solidity": 0.2
             }
            },
            "type": "histogram"
           }
          ],
          "histogram2d": [
           {
            "colorbar": {
             "outlinewidth": 0,
             "ticks": ""
            },
            "colorscale": [
             [
              0,
              "#0d0887"
             ],
             [
              0.1111111111111111,
              "#46039f"
             ],
             [
              0.2222222222222222,
              "#7201a8"
             ],
             [
              0.3333333333333333,
              "#9c179e"
             ],
             [
              0.4444444444444444,
              "#bd3786"
             ],
             [
              0.5555555555555556,
              "#d8576b"
             ],
             [
              0.6666666666666666,
              "#ed7953"
             ],
             [
              0.7777777777777778,
              "#fb9f3a"
             ],
             [
              0.8888888888888888,
              "#fdca26"
             ],
             [
              1,
              "#f0f921"
             ]
            ],
            "type": "histogram2d"
           }
          ],
          "histogram2dcontour": [
           {
            "colorbar": {
             "outlinewidth": 0,
             "ticks": ""
            },
            "colorscale": [
             [
              0,
              "#0d0887"
             ],
             [
              0.1111111111111111,
              "#46039f"
             ],
             [
              0.2222222222222222,
              "#7201a8"
             ],
             [
              0.3333333333333333,
              "#9c179e"
             ],
             [
              0.4444444444444444,
              "#bd3786"
             ],
             [
              0.5555555555555556,
              "#d8576b"
             ],
             [
              0.6666666666666666,
              "#ed7953"
             ],
             [
              0.7777777777777778,
              "#fb9f3a"
             ],
             [
              0.8888888888888888,
              "#fdca26"
             ],
             [
              1,
              "#f0f921"
             ]
            ],
            "type": "histogram2dcontour"
           }
          ],
          "mesh3d": [
           {
            "colorbar": {
             "outlinewidth": 0,
             "ticks": ""
            },
            "type": "mesh3d"
           }
          ],
          "parcoords": [
           {
            "line": {
             "colorbar": {
              "outlinewidth": 0,
              "ticks": ""
             }
            },
            "type": "parcoords"
           }
          ],
          "pie": [
           {
            "automargin": true,
            "type": "pie"
           }
          ],
          "scatter": [
           {
            "marker": {
             "colorbar": {
              "outlinewidth": 0,
              "ticks": ""
             }
            },
            "type": "scatter"
           }
          ],
          "scatter3d": [
           {
            "line": {
             "colorbar": {
              "outlinewidth": 0,
              "ticks": ""
             }
            },
            "marker": {
             "colorbar": {
              "outlinewidth": 0,
              "ticks": ""
             }
            },
            "type": "scatter3d"
           }
          ],
          "scattercarpet": [
           {
            "marker": {
             "colorbar": {
              "outlinewidth": 0,
              "ticks": ""
             }
            },
            "type": "scattercarpet"
           }
          ],
          "scattergeo": [
           {
            "marker": {
             "colorbar": {
              "outlinewidth": 0,
              "ticks": ""
             }
            },
            "type": "scattergeo"
           }
          ],
          "scattergl": [
           {
            "marker": {
             "colorbar": {
              "outlinewidth": 0,
              "ticks": ""
             }
            },
            "type": "scattergl"
           }
          ],
          "scattermapbox": [
           {
            "marker": {
             "colorbar": {
              "outlinewidth": 0,
              "ticks": ""
             }
            },
            "type": "scattermapbox"
           }
          ],
          "scatterpolar": [
           {
            "marker": {
             "colorbar": {
              "outlinewidth": 0,
              "ticks": ""
             }
            },
            "type": "scatterpolar"
           }
          ],
          "scatterpolargl": [
           {
            "marker": {
             "colorbar": {
              "outlinewidth": 0,
              "ticks": ""
             }
            },
            "type": "scatterpolargl"
           }
          ],
          "scatterternary": [
           {
            "marker": {
             "colorbar": {
              "outlinewidth": 0,
              "ticks": ""
             }
            },
            "type": "scatterternary"
           }
          ],
          "surface": [
           {
            "colorbar": {
             "outlinewidth": 0,
             "ticks": ""
            },
            "colorscale": [
             [
              0,
              "#0d0887"
             ],
             [
              0.1111111111111111,
              "#46039f"
             ],
             [
              0.2222222222222222,
              "#7201a8"
             ],
             [
              0.3333333333333333,
              "#9c179e"
             ],
             [
              0.4444444444444444,
              "#bd3786"
             ],
             [
              0.5555555555555556,
              "#d8576b"
             ],
             [
              0.6666666666666666,
              "#ed7953"
             ],
             [
              0.7777777777777778,
              "#fb9f3a"
             ],
             [
              0.8888888888888888,
              "#fdca26"
             ],
             [
              1,
              "#f0f921"
             ]
            ],
            "type": "surface"
           }
          ],
          "table": [
           {
            "cells": {
             "fill": {
              "color": "#EBF0F8"
             },
             "line": {
              "color": "white"
             }
            },
            "header": {
             "fill": {
              "color": "#C8D4E3"
             },
             "line": {
              "color": "white"
             }
            },
            "type": "table"
           }
          ]
         },
         "layout": {
          "annotationdefaults": {
           "arrowcolor": "#2a3f5f",
           "arrowhead": 0,
           "arrowwidth": 1
          },
          "autotypenumbers": "strict",
          "coloraxis": {
           "colorbar": {
            "outlinewidth": 0,
            "ticks": ""
           }
          },
          "colorscale": {
           "diverging": [
            [
             0,
             "#8e0152"
            ],
            [
             0.1,
             "#c51b7d"
            ],
            [
             0.2,
             "#de77ae"
            ],
            [
             0.3,
             "#f1b6da"
            ],
            [
             0.4,
             "#fde0ef"
            ],
            [
             0.5,
             "#f7f7f7"
            ],
            [
             0.6,
             "#e6f5d0"
            ],
            [
             0.7,
             "#b8e186"
            ],
            [
             0.8,
             "#7fbc41"
            ],
            [
             0.9,
             "#4d9221"
            ],
            [
             1,
             "#276419"
            ]
           ],
           "sequential": [
            [
             0,
             "#0d0887"
            ],
            [
             0.1111111111111111,
             "#46039f"
            ],
            [
             0.2222222222222222,
             "#7201a8"
            ],
            [
             0.3333333333333333,
             "#9c179e"
            ],
            [
             0.4444444444444444,
             "#bd3786"
            ],
            [
             0.5555555555555556,
             "#d8576b"
            ],
            [
             0.6666666666666666,
             "#ed7953"
            ],
            [
             0.7777777777777778,
             "#fb9f3a"
            ],
            [
             0.8888888888888888,
             "#fdca26"
            ],
            [
             1,
             "#f0f921"
            ]
           ],
           "sequentialminus": [
            [
             0,
             "#0d0887"
            ],
            [
             0.1111111111111111,
             "#46039f"
            ],
            [
             0.2222222222222222,
             "#7201a8"
            ],
            [
             0.3333333333333333,
             "#9c179e"
            ],
            [
             0.4444444444444444,
             "#bd3786"
            ],
            [
             0.5555555555555556,
             "#d8576b"
            ],
            [
             0.6666666666666666,
             "#ed7953"
            ],
            [
             0.7777777777777778,
             "#fb9f3a"
            ],
            [
             0.8888888888888888,
             "#fdca26"
            ],
            [
             1,
             "#f0f921"
            ]
           ]
          },
          "colorway": [
           "#636efa",
           "#EF553B",
           "#00cc96",
           "#ab63fa",
           "#FFA15A",
           "#19d3f3",
           "#FF6692",
           "#B6E880",
           "#FF97FF",
           "#FECB52"
          ],
          "font": {
           "color": "#2a3f5f"
          },
          "geo": {
           "bgcolor": "white",
           "lakecolor": "white",
           "landcolor": "#E5ECF6",
           "showlakes": true,
           "showland": true,
           "subunitcolor": "white"
          },
          "hoverlabel": {
           "align": "left"
          },
          "hovermode": "closest",
          "mapbox": {
           "style": "light"
          },
          "paper_bgcolor": "white",
          "plot_bgcolor": "#E5ECF6",
          "polar": {
           "angularaxis": {
            "gridcolor": "white",
            "linecolor": "white",
            "ticks": ""
           },
           "bgcolor": "#E5ECF6",
           "radialaxis": {
            "gridcolor": "white",
            "linecolor": "white",
            "ticks": ""
           }
          },
          "scene": {
           "xaxis": {
            "backgroundcolor": "#E5ECF6",
            "gridcolor": "white",
            "gridwidth": 2,
            "linecolor": "white",
            "showbackground": true,
            "ticks": "",
            "zerolinecolor": "white"
           },
           "yaxis": {
            "backgroundcolor": "#E5ECF6",
            "gridcolor": "white",
            "gridwidth": 2,
            "linecolor": "white",
            "showbackground": true,
            "ticks": "",
            "zerolinecolor": "white"
           },
           "zaxis": {
            "backgroundcolor": "#E5ECF6",
            "gridcolor": "white",
            "gridwidth": 2,
            "linecolor": "white",
            "showbackground": true,
            "ticks": "",
            "zerolinecolor": "white"
           }
          },
          "shapedefaults": {
           "line": {
            "color": "#2a3f5f"
           }
          },
          "ternary": {
           "aaxis": {
            "gridcolor": "white",
            "linecolor": "white",
            "ticks": ""
           },
           "baxis": {
            "gridcolor": "white",
            "linecolor": "white",
            "ticks": ""
           },
           "bgcolor": "#E5ECF6",
           "caxis": {
            "gridcolor": "white",
            "linecolor": "white",
            "ticks": ""
           }
          },
          "title": {
           "x": 0.05
          },
          "xaxis": {
           "automargin": true,
           "gridcolor": "white",
           "linecolor": "white",
           "ticks": "",
           "title": {
            "standoff": 15
           },
           "zerolinecolor": "white",
           "zerolinewidth": 2
          },
          "yaxis": {
           "automargin": true,
           "gridcolor": "white",
           "linecolor": "white",
           "ticks": "",
           "title": {
            "standoff": 15
           },
           "zerolinecolor": "white",
           "zerolinewidth": 2
          }
         }
        },
        "title": {
         "text": "Megahit Z-score comparison"
        }
       }
      }
     },
     "metadata": {},
     "output_type": "display_data"
    }
   ],
   "source": [
    "fig = go.Figure()\n",
    "\n",
    "for n,index in enumerate(df_norm_z_megahit.index.to_list()):\n",
    "    fig.add_trace(\n",
    "                go.Scatterpolar(\n",
    "                                r=df_norm_z_megahit[['Completeness', 'Contamination',\n",
    "       'Strain_heterogeneity', 'n_contigs', 'Longest_contig', 'pilon_errors']].loc[index].values,\n",
    "                                theta=['Completeness', 'Contamination',\n",
    "       'Strain_heterogeneity', 'n_contigs', 'Longest_contig', 'pilon_errors'],\n",
    "                                fill='toself',\n",
    "                                name=\"Megahit {} - area {}\".format(df_norm_z_megahit['Category'][index], round(area_list[n],2)),\n",
    "                                showlegend=True,\n",
    "                                )\n",
    "                )\n",
    "\n",
    "fig.update_layout(\n",
    "    polar=dict(\n",
    "        radialaxis=dict(\n",
    "                        visible=True,\n",
    "                        range=[-3, 3]\n",
    "                    )\n",
    "            ),\n",
    "    title=\"Megahit Z-score comparison\"\n",
    ")\n",
    "\n",
    "fig.show()"
   ]
  },
  {
   "cell_type": "code",
   "execution_count": 54,
   "metadata": {},
   "outputs": [
    {
     "data": {
      "text/html": [
       "<div>\n",
       "<style scoped>\n",
       "    .dataframe tbody tr th:only-of-type {\n",
       "        vertical-align: middle;\n",
       "    }\n",
       "\n",
       "    .dataframe tbody tr th {\n",
       "        vertical-align: top;\n",
       "    }\n",
       "\n",
       "    .dataframe thead th {\n",
       "        text-align: right;\n",
       "    }\n",
       "</style>\n",
       "<table border=\"1\" class=\"dataframe\">\n",
       "  <thead>\n",
       "    <tr style=\"text-align: right;\">\n",
       "      <th></th>\n",
       "      <th>Assembly</th>\n",
       "      <th>Category</th>\n",
       "      <th>Completeness</th>\n",
       "      <th>Contamination</th>\n",
       "      <th>Strain_heterogeneity</th>\n",
       "      <th>n_contigs</th>\n",
       "      <th>Longest_contig</th>\n",
       "      <th>pilon_errors</th>\n",
       "    </tr>\n",
       "  </thead>\n",
       "  <tbody>\n",
       "    <tr>\n",
       "      <th>3</th>\n",
       "      <td>Spades_careful</td>\n",
       "      <td>all</td>\n",
       "      <td>-2.109255</td>\n",
       "      <td>-0.606176</td>\n",
       "      <td>2.828427</td>\n",
       "      <td>-2.273855</td>\n",
       "      <td>-2.216603</td>\n",
       "      <td>0.598966</td>\n",
       "    </tr>\n",
       "    <tr>\n",
       "      <th>4</th>\n",
       "      <td>Spades_careful</td>\n",
       "      <td>careful</td>\n",
       "      <td>0.418610</td>\n",
       "      <td>0.240380</td>\n",
       "      <td>-0.353553</td>\n",
       "      <td>0.378459</td>\n",
       "      <td>0.211252</td>\n",
       "      <td>0.433561</td>\n",
       "    </tr>\n",
       "    <tr>\n",
       "      <th>5</th>\n",
       "      <td>Spades_careful</td>\n",
       "      <td>meta</td>\n",
       "      <td>0.029708</td>\n",
       "      <td>-0.276960</td>\n",
       "      <td>-0.353553</td>\n",
       "      <td>-0.291599</td>\n",
       "      <td>-1.073521</td>\n",
       "      <td>-0.859603</td>\n",
       "    </tr>\n",
       "  </tbody>\n",
       "</table>\n",
       "</div>"
      ],
      "text/plain": [
       "         Assembly Category  Completeness  Contamination  Strain_heterogeneity  \\\n",
       "3  Spades_careful      all     -2.109255      -0.606176              2.828427   \n",
       "4  Spades_careful  careful      0.418610       0.240380             -0.353553   \n",
       "5  Spades_careful     meta      0.029708      -0.276960             -0.353553   \n",
       "\n",
       "   n_contigs  Longest_contig  pilon_errors  \n",
       "3  -2.273855       -2.216603      0.598966  \n",
       "4   0.378459        0.211252      0.433561  \n",
       "5  -0.291599       -1.073521     -0.859603  "
      ]
     },
     "execution_count": 54,
     "metadata": {},
     "output_type": "execute_result"
    }
   ],
   "source": [
    "df_norm_z_spadesc = df_norm_z[df_norm_z['Assembly'] == \"Spades_careful\"]\n",
    "df_norm_z_spadesc"
   ]
  },
  {
   "cell_type": "code",
   "execution_count": 55,
   "metadata": {},
   "outputs": [
    {
     "data": {
      "text/plain": [
       "[10.264598896390076, 21.85376629546781, 13.841312900523135]"
      ]
     },
     "execution_count": 55,
     "metadata": {},
     "output_type": "execute_result"
    }
   ],
   "source": [
    "## Calculating polygon area\n",
    "\n",
    "\n",
    "area_list = list()\n",
    "for index in df_norm_z_spadesc.index.to_list():\n",
    "       r = df_norm_z_spadesc[['Completeness', 'Contamination',\n",
    "              'Strain_heterogeneity', 'n_contigs', 'Longest_contig', 'pilon_errors']].loc[index].values\n",
    "       area=0\n",
    "       theta = 360/len(r)\n",
    "       for i in range(0,len(r)-1,1):\n",
    "              a = (r[i])+3\n",
    "              b = (r[i+1])+3\n",
    "              area+= (a*b*np.sin(np.deg2rad(theta))/2)\n",
    "       area_list.append(area)\n",
    "\n",
    "area_list"
   ]
  },
  {
   "cell_type": "code",
   "execution_count": 56,
   "metadata": {},
   "outputs": [
    {
     "data": {
      "application/vnd.plotly.v1+json": {
       "config": {
        "plotlyServerURL": "https://plot.ly"
       },
       "data": [
        {
         "fill": "toself",
         "name": "Spades_careful all - area 10.26",
         "r": [
          -2.1092552501576827,
          -0.6061761139783034,
          2.8284271247461903,
          -2.273854984435489,
          -2.216603070117368,
          0.5989655148462036
         ],
         "showlegend": true,
         "theta": [
          "Completeness",
          "Contamination",
          "Strain_heterogeneity",
          "n_contigs",
          "Longest_contig",
          "pilon_errors"
         ],
         "type": "scatterpolar"
        },
        {
         "fill": "toself",
         "name": "Spades_careful careful - area 21.85",
         "r": [
          0.41861019689429324,
          0.24038018312932832,
          -0.3535533905932738,
          0.3784588105063161,
          0.21125185736798527,
          0.43356081200164537
         ],
         "showlegend": true,
         "theta": [
          "Completeness",
          "Contamination",
          "Strain_heterogeneity",
          "n_contigs",
          "Longest_contig",
          "pilon_errors"
         ],
         "type": "scatterpolar"
        },
        {
         "fill": "toself",
         "name": "Spades_careful meta - area 13.84",
         "r": [
          0.029707820424822257,
          -0.27695977621422435,
          -0.3535533905932738,
          -0.29159941137371886,
          -1.073520537413281,
          -0.8596032284194467
         ],
         "showlegend": true,
         "theta": [
          "Completeness",
          "Contamination",
          "Strain_heterogeneity",
          "n_contigs",
          "Longest_contig",
          "pilon_errors"
         ],
         "type": "scatterpolar"
        }
       ],
       "layout": {
        "polar": {
         "radialaxis": {
          "range": [
           -3,
           3
          ],
          "visible": true
         }
        },
        "template": {
         "data": {
          "bar": [
           {
            "error_x": {
             "color": "#2a3f5f"
            },
            "error_y": {
             "color": "#2a3f5f"
            },
            "marker": {
             "line": {
              "color": "#E5ECF6",
              "width": 0.5
             },
             "pattern": {
              "fillmode": "overlay",
              "size": 10,
              "solidity": 0.2
             }
            },
            "type": "bar"
           }
          ],
          "barpolar": [
           {
            "marker": {
             "line": {
              "color": "#E5ECF6",
              "width": 0.5
             },
             "pattern": {
              "fillmode": "overlay",
              "size": 10,
              "solidity": 0.2
             }
            },
            "type": "barpolar"
           }
          ],
          "carpet": [
           {
            "aaxis": {
             "endlinecolor": "#2a3f5f",
             "gridcolor": "white",
             "linecolor": "white",
             "minorgridcolor": "white",
             "startlinecolor": "#2a3f5f"
            },
            "baxis": {
             "endlinecolor": "#2a3f5f",
             "gridcolor": "white",
             "linecolor": "white",
             "minorgridcolor": "white",
             "startlinecolor": "#2a3f5f"
            },
            "type": "carpet"
           }
          ],
          "choropleth": [
           {
            "colorbar": {
             "outlinewidth": 0,
             "ticks": ""
            },
            "type": "choropleth"
           }
          ],
          "contour": [
           {
            "colorbar": {
             "outlinewidth": 0,
             "ticks": ""
            },
            "colorscale": [
             [
              0,
              "#0d0887"
             ],
             [
              0.1111111111111111,
              "#46039f"
             ],
             [
              0.2222222222222222,
              "#7201a8"
             ],
             [
              0.3333333333333333,
              "#9c179e"
             ],
             [
              0.4444444444444444,
              "#bd3786"
             ],
             [
              0.5555555555555556,
              "#d8576b"
             ],
             [
              0.6666666666666666,
              "#ed7953"
             ],
             [
              0.7777777777777778,
              "#fb9f3a"
             ],
             [
              0.8888888888888888,
              "#fdca26"
             ],
             [
              1,
              "#f0f921"
             ]
            ],
            "type": "contour"
           }
          ],
          "contourcarpet": [
           {
            "colorbar": {
             "outlinewidth": 0,
             "ticks": ""
            },
            "type": "contourcarpet"
           }
          ],
          "heatmap": [
           {
            "colorbar": {
             "outlinewidth": 0,
             "ticks": ""
            },
            "colorscale": [
             [
              0,
              "#0d0887"
             ],
             [
              0.1111111111111111,
              "#46039f"
             ],
             [
              0.2222222222222222,
              "#7201a8"
             ],
             [
              0.3333333333333333,
              "#9c179e"
             ],
             [
              0.4444444444444444,
              "#bd3786"
             ],
             [
              0.5555555555555556,
              "#d8576b"
             ],
             [
              0.6666666666666666,
              "#ed7953"
             ],
             [
              0.7777777777777778,
              "#fb9f3a"
             ],
             [
              0.8888888888888888,
              "#fdca26"
             ],
             [
              1,
              "#f0f921"
             ]
            ],
            "type": "heatmap"
           }
          ],
          "heatmapgl": [
           {
            "colorbar": {
             "outlinewidth": 0,
             "ticks": ""
            },
            "colorscale": [
             [
              0,
              "#0d0887"
             ],
             [
              0.1111111111111111,
              "#46039f"
             ],
             [
              0.2222222222222222,
              "#7201a8"
             ],
             [
              0.3333333333333333,
              "#9c179e"
             ],
             [
              0.4444444444444444,
              "#bd3786"
             ],
             [
              0.5555555555555556,
              "#d8576b"
             ],
             [
              0.6666666666666666,
              "#ed7953"
             ],
             [
              0.7777777777777778,
              "#fb9f3a"
             ],
             [
              0.8888888888888888,
              "#fdca26"
             ],
             [
              1,
              "#f0f921"
             ]
            ],
            "type": "heatmapgl"
           }
          ],
          "histogram": [
           {
            "marker": {
             "pattern": {
              "fillmode": "overlay",
              "size": 10,
              "solidity": 0.2
             }
            },
            "type": "histogram"
           }
          ],
          "histogram2d": [
           {
            "colorbar": {
             "outlinewidth": 0,
             "ticks": ""
            },
            "colorscale": [
             [
              0,
              "#0d0887"
             ],
             [
              0.1111111111111111,
              "#46039f"
             ],
             [
              0.2222222222222222,
              "#7201a8"
             ],
             [
              0.3333333333333333,
              "#9c179e"
             ],
             [
              0.4444444444444444,
              "#bd3786"
             ],
             [
              0.5555555555555556,
              "#d8576b"
             ],
             [
              0.6666666666666666,
              "#ed7953"
             ],
             [
              0.7777777777777778,
              "#fb9f3a"
             ],
             [
              0.8888888888888888,
              "#fdca26"
             ],
             [
              1,
              "#f0f921"
             ]
            ],
            "type": "histogram2d"
           }
          ],
          "histogram2dcontour": [
           {
            "colorbar": {
             "outlinewidth": 0,
             "ticks": ""
            },
            "colorscale": [
             [
              0,
              "#0d0887"
             ],
             [
              0.1111111111111111,
              "#46039f"
             ],
             [
              0.2222222222222222,
              "#7201a8"
             ],
             [
              0.3333333333333333,
              "#9c179e"
             ],
             [
              0.4444444444444444,
              "#bd3786"
             ],
             [
              0.5555555555555556,
              "#d8576b"
             ],
             [
              0.6666666666666666,
              "#ed7953"
             ],
             [
              0.7777777777777778,
              "#fb9f3a"
             ],
             [
              0.8888888888888888,
              "#fdca26"
             ],
             [
              1,
              "#f0f921"
             ]
            ],
            "type": "histogram2dcontour"
           }
          ],
          "mesh3d": [
           {
            "colorbar": {
             "outlinewidth": 0,
             "ticks": ""
            },
            "type": "mesh3d"
           }
          ],
          "parcoords": [
           {
            "line": {
             "colorbar": {
              "outlinewidth": 0,
              "ticks": ""
             }
            },
            "type": "parcoords"
           }
          ],
          "pie": [
           {
            "automargin": true,
            "type": "pie"
           }
          ],
          "scatter": [
           {
            "marker": {
             "colorbar": {
              "outlinewidth": 0,
              "ticks": ""
             }
            },
            "type": "scatter"
           }
          ],
          "scatter3d": [
           {
            "line": {
             "colorbar": {
              "outlinewidth": 0,
              "ticks": ""
             }
            },
            "marker": {
             "colorbar": {
              "outlinewidth": 0,
              "ticks": ""
             }
            },
            "type": "scatter3d"
           }
          ],
          "scattercarpet": [
           {
            "marker": {
             "colorbar": {
              "outlinewidth": 0,
              "ticks": ""
             }
            },
            "type": "scattercarpet"
           }
          ],
          "scattergeo": [
           {
            "marker": {
             "colorbar": {
              "outlinewidth": 0,
              "ticks": ""
             }
            },
            "type": "scattergeo"
           }
          ],
          "scattergl": [
           {
            "marker": {
             "colorbar": {
              "outlinewidth": 0,
              "ticks": ""
             }
            },
            "type": "scattergl"
           }
          ],
          "scattermapbox": [
           {
            "marker": {
             "colorbar": {
              "outlinewidth": 0,
              "ticks": ""
             }
            },
            "type": "scattermapbox"
           }
          ],
          "scatterpolar": [
           {
            "marker": {
             "colorbar": {
              "outlinewidth": 0,
              "ticks": ""
             }
            },
            "type": "scatterpolar"
           }
          ],
          "scatterpolargl": [
           {
            "marker": {
             "colorbar": {
              "outlinewidth": 0,
              "ticks": ""
             }
            },
            "type": "scatterpolargl"
           }
          ],
          "scatterternary": [
           {
            "marker": {
             "colorbar": {
              "outlinewidth": 0,
              "ticks": ""
             }
            },
            "type": "scatterternary"
           }
          ],
          "surface": [
           {
            "colorbar": {
             "outlinewidth": 0,
             "ticks": ""
            },
            "colorscale": [
             [
              0,
              "#0d0887"
             ],
             [
              0.1111111111111111,
              "#46039f"
             ],
             [
              0.2222222222222222,
              "#7201a8"
             ],
             [
              0.3333333333333333,
              "#9c179e"
             ],
             [
              0.4444444444444444,
              "#bd3786"
             ],
             [
              0.5555555555555556,
              "#d8576b"
             ],
             [
              0.6666666666666666,
              "#ed7953"
             ],
             [
              0.7777777777777778,
              "#fb9f3a"
             ],
             [
              0.8888888888888888,
              "#fdca26"
             ],
             [
              1,
              "#f0f921"
             ]
            ],
            "type": "surface"
           }
          ],
          "table": [
           {
            "cells": {
             "fill": {
              "color": "#EBF0F8"
             },
             "line": {
              "color": "white"
             }
            },
            "header": {
             "fill": {
              "color": "#C8D4E3"
             },
             "line": {
              "color": "white"
             }
            },
            "type": "table"
           }
          ]
         },
         "layout": {
          "annotationdefaults": {
           "arrowcolor": "#2a3f5f",
           "arrowhead": 0,
           "arrowwidth": 1
          },
          "autotypenumbers": "strict",
          "coloraxis": {
           "colorbar": {
            "outlinewidth": 0,
            "ticks": ""
           }
          },
          "colorscale": {
           "diverging": [
            [
             0,
             "#8e0152"
            ],
            [
             0.1,
             "#c51b7d"
            ],
            [
             0.2,
             "#de77ae"
            ],
            [
             0.3,
             "#f1b6da"
            ],
            [
             0.4,
             "#fde0ef"
            ],
            [
             0.5,
             "#f7f7f7"
            ],
            [
             0.6,
             "#e6f5d0"
            ],
            [
             0.7,
             "#b8e186"
            ],
            [
             0.8,
             "#7fbc41"
            ],
            [
             0.9,
             "#4d9221"
            ],
            [
             1,
             "#276419"
            ]
           ],
           "sequential": [
            [
             0,
             "#0d0887"
            ],
            [
             0.1111111111111111,
             "#46039f"
            ],
            [
             0.2222222222222222,
             "#7201a8"
            ],
            [
             0.3333333333333333,
             "#9c179e"
            ],
            [
             0.4444444444444444,
             "#bd3786"
            ],
            [
             0.5555555555555556,
             "#d8576b"
            ],
            [
             0.6666666666666666,
             "#ed7953"
            ],
            [
             0.7777777777777778,
             "#fb9f3a"
            ],
            [
             0.8888888888888888,
             "#fdca26"
            ],
            [
             1,
             "#f0f921"
            ]
           ],
           "sequentialminus": [
            [
             0,
             "#0d0887"
            ],
            [
             0.1111111111111111,
             "#46039f"
            ],
            [
             0.2222222222222222,
             "#7201a8"
            ],
            [
             0.3333333333333333,
             "#9c179e"
            ],
            [
             0.4444444444444444,
             "#bd3786"
            ],
            [
             0.5555555555555556,
             "#d8576b"
            ],
            [
             0.6666666666666666,
             "#ed7953"
            ],
            [
             0.7777777777777778,
             "#fb9f3a"
            ],
            [
             0.8888888888888888,
             "#fdca26"
            ],
            [
             1,
             "#f0f921"
            ]
           ]
          },
          "colorway": [
           "#636efa",
           "#EF553B",
           "#00cc96",
           "#ab63fa",
           "#FFA15A",
           "#19d3f3",
           "#FF6692",
           "#B6E880",
           "#FF97FF",
           "#FECB52"
          ],
          "font": {
           "color": "#2a3f5f"
          },
          "geo": {
           "bgcolor": "white",
           "lakecolor": "white",
           "landcolor": "#E5ECF6",
           "showlakes": true,
           "showland": true,
           "subunitcolor": "white"
          },
          "hoverlabel": {
           "align": "left"
          },
          "hovermode": "closest",
          "mapbox": {
           "style": "light"
          },
          "paper_bgcolor": "white",
          "plot_bgcolor": "#E5ECF6",
          "polar": {
           "angularaxis": {
            "gridcolor": "white",
            "linecolor": "white",
            "ticks": ""
           },
           "bgcolor": "#E5ECF6",
           "radialaxis": {
            "gridcolor": "white",
            "linecolor": "white",
            "ticks": ""
           }
          },
          "scene": {
           "xaxis": {
            "backgroundcolor": "#E5ECF6",
            "gridcolor": "white",
            "gridwidth": 2,
            "linecolor": "white",
            "showbackground": true,
            "ticks": "",
            "zerolinecolor": "white"
           },
           "yaxis": {
            "backgroundcolor": "#E5ECF6",
            "gridcolor": "white",
            "gridwidth": 2,
            "linecolor": "white",
            "showbackground": true,
            "ticks": "",
            "zerolinecolor": "white"
           },
           "zaxis": {
            "backgroundcolor": "#E5ECF6",
            "gridcolor": "white",
            "gridwidth": 2,
            "linecolor": "white",
            "showbackground": true,
            "ticks": "",
            "zerolinecolor": "white"
           }
          },
          "shapedefaults": {
           "line": {
            "color": "#2a3f5f"
           }
          },
          "ternary": {
           "aaxis": {
            "gridcolor": "white",
            "linecolor": "white",
            "ticks": ""
           },
           "baxis": {
            "gridcolor": "white",
            "linecolor": "white",
            "ticks": ""
           },
           "bgcolor": "#E5ECF6",
           "caxis": {
            "gridcolor": "white",
            "linecolor": "white",
            "ticks": ""
           }
          },
          "title": {
           "x": 0.05
          },
          "xaxis": {
           "automargin": true,
           "gridcolor": "white",
           "linecolor": "white",
           "ticks": "",
           "title": {
            "standoff": 15
           },
           "zerolinecolor": "white",
           "zerolinewidth": 2
          },
          "yaxis": {
           "automargin": true,
           "gridcolor": "white",
           "linecolor": "white",
           "ticks": "",
           "title": {
            "standoff": 15
           },
           "zerolinecolor": "white",
           "zerolinewidth": 2
          }
         }
        },
        "title": {
         "text": "Spades_careful Z-score comparison"
        }
       }
      }
     },
     "metadata": {},
     "output_type": "display_data"
    }
   ],
   "source": [
    "fig2 = go.Figure()\n",
    "\n",
    "for n,index in enumerate(df_norm_z_spadesc.index.to_list()):\n",
    "    fig2.add_trace(\n",
    "                go.Scatterpolar(\n",
    "                                r=df_norm_z_spadesc[['Completeness', 'Contamination',\n",
    "       'Strain_heterogeneity', 'n_contigs', 'Longest_contig', 'pilon_errors']].loc[index].values,\n",
    "                                theta=['Completeness', 'Contamination',\n",
    "       'Strain_heterogeneity', 'n_contigs', 'Longest_contig', 'pilon_errors'],\n",
    "                                fill='toself',\n",
    "                                name=\"Spades_careful {} - area {}\".format(df_norm_z_spadesc['Category'][index], round(area_list[n],2)),\n",
    "                                showlegend=True,\n",
    "                                )\n",
    "                )\n",
    "\n",
    "fig2.update_layout(\n",
    "    polar=dict(\n",
    "        radialaxis=dict(\n",
    "                        visible=True,\n",
    "                        range=[-3, 3]\n",
    "                    )\n",
    "            ),\n",
    "    title=\"Spades_careful Z-score comparison\"\n",
    ")\n",
    "\n",
    "fig2.show()"
   ]
  },
  {
   "cell_type": "code",
   "execution_count": 57,
   "metadata": {},
   "outputs": [
    {
     "data": {
      "text/html": [
       "<div>\n",
       "<style scoped>\n",
       "    .dataframe tbody tr th:only-of-type {\n",
       "        vertical-align: middle;\n",
       "    }\n",
       "\n",
       "    .dataframe tbody tr th {\n",
       "        vertical-align: top;\n",
       "    }\n",
       "\n",
       "    .dataframe thead th {\n",
       "        text-align: right;\n",
       "    }\n",
       "</style>\n",
       "<table border=\"1\" class=\"dataframe\">\n",
       "  <thead>\n",
       "    <tr style=\"text-align: right;\">\n",
       "      <th></th>\n",
       "      <th>Assembly</th>\n",
       "      <th>Category</th>\n",
       "      <th>Completeness</th>\n",
       "      <th>Contamination</th>\n",
       "      <th>Strain_heterogeneity</th>\n",
       "      <th>n_contigs</th>\n",
       "      <th>Longest_contig</th>\n",
       "      <th>pilon_errors</th>\n",
       "    </tr>\n",
       "  </thead>\n",
       "  <tbody>\n",
       "    <tr>\n",
       "      <th>6</th>\n",
       "      <td>Spades_meta</td>\n",
       "      <td>all</td>\n",
       "      <td>1.196415</td>\n",
       "      <td>1.839431</td>\n",
       "      <td>-0.353553</td>\n",
       "      <td>0.881002</td>\n",
       "      <td>0.482497</td>\n",
       "      <td>-0.679162</td>\n",
       "    </tr>\n",
       "    <tr>\n",
       "      <th>7</th>\n",
       "      <td>Spades_meta</td>\n",
       "      <td>careful</td>\n",
       "      <td>0.442917</td>\n",
       "      <td>0.569597</td>\n",
       "      <td>-0.353553</td>\n",
       "      <td>1.383546</td>\n",
       "      <td>1.405702</td>\n",
       "      <td>1.628986</td>\n",
       "    </tr>\n",
       "    <tr>\n",
       "      <th>8</th>\n",
       "      <td>Spades_meta</td>\n",
       "      <td>meta</td>\n",
       "      <td>0.564449</td>\n",
       "      <td>0.005226</td>\n",
       "      <td>-0.353553</td>\n",
       "      <td>0.071349</td>\n",
       "      <td>0.094710</td>\n",
       "      <td>-0.776901</td>\n",
       "    </tr>\n",
       "  </tbody>\n",
       "</table>\n",
       "</div>"
      ],
      "text/plain": [
       "      Assembly Category  Completeness  Contamination  Strain_heterogeneity  \\\n",
       "6  Spades_meta      all      1.196415       1.839431             -0.353553   \n",
       "7  Spades_meta  careful      0.442917       0.569597             -0.353553   \n",
       "8  Spades_meta     meta      0.564449       0.005226             -0.353553   \n",
       "\n",
       "   n_contigs  Longest_contig  pilon_errors  \n",
       "6   0.881002        0.482497     -0.679162  \n",
       "7   1.383546        1.405702      1.628986  \n",
       "8   0.071349        0.094710     -0.776901  "
      ]
     },
     "execution_count": 57,
     "metadata": {},
     "output_type": "execute_result"
    }
   ],
   "source": [
    "df_norm_z_meta = df_norm_z[df_norm_z['Assembly'] == \"Spades_meta\"]\n",
    "df_norm_z_meta"
   ]
  },
  {
   "cell_type": "code",
   "execution_count": 58,
   "metadata": {},
   "outputs": [
    {
     "data": {
      "text/plain": [
       "[28.139033101218608, 31.62894427150374, 18.696659174220187]"
      ]
     },
     "execution_count": 58,
     "metadata": {},
     "output_type": "execute_result"
    }
   ],
   "source": [
    "## Calculating polygon area\n",
    "\n",
    "theta = 360/len(r)\n",
    "area_list = list()\n",
    "for index in df_norm_z_meta.index.to_list():\n",
    "       r = df_norm_z_meta[['Completeness', 'Contamination',\n",
    "              'Strain_heterogeneity', 'n_contigs', 'Longest_contig', 'pilon_errors']].loc[index].values\n",
    "       area=0\n",
    "       for i in range(0,len(r)-1,1):\n",
    "              a = (r[i])+3\n",
    "              b = (r[i+1])+3\n",
    "              area+= (a*b*np.sin(np.deg2rad(theta))/2)\n",
    "       area_list.append(area)\n",
    "\n",
    "area_list"
   ]
  },
  {
   "cell_type": "code",
   "execution_count": 59,
   "metadata": {},
   "outputs": [
    {
     "data": {
      "application/vnd.plotly.v1+json": {
       "config": {
        "plotlyServerURL": "https://plot.ly"
       },
       "data": [
        {
         "fill": "toself",
         "name": "Spades_meta all - area 28.14",
         "r": [
          1.1964149498333734,
          1.8394309665548527,
          -0.3535533905932738,
          0.8810024769163424,
          0.48249693338475147,
          -0.6791617344072013
         ],
         "showlegend": true,
         "theta": [
          "Completeness",
          "Contamination",
          "Strain_heterogeneity",
          "n_contigs",
          "Longest_contig",
          "pilon_errors"
         ],
         "type": "scatterpolar"
        },
        {
         "fill": "toself",
         "name": "Spades_meta careful - area 31.63",
         "r": [
          0.44291659542368694,
          0.5695965208934063,
          -0.3535533905932738,
          1.3835461433263685,
          1.4057017568070214,
          1.6289857098327711
         ],
         "showlegend": true,
         "theta": [
          "Completeness",
          "Contamination",
          "Strain_heterogeneity",
          "n_contigs",
          "Longest_contig",
          "pilon_errors"
         ],
         "type": "scatterpolar"
        },
        {
         "fill": "toself",
         "name": "Spades_meta meta - area 18.7",
         "r": [
          0.5644485880703793,
          0.005225656154985149,
          -0.3535533905932738,
          0.0713487921446334,
          0.09471032653456327,
          -0.7769008769971676
         ],
         "showlegend": true,
         "theta": [
          "Completeness",
          "Contamination",
          "Strain_heterogeneity",
          "n_contigs",
          "Longest_contig",
          "pilon_errors"
         ],
         "type": "scatterpolar"
        }
       ],
       "layout": {
        "polar": {
         "radialaxis": {
          "range": [
           -3,
           3
          ],
          "visible": true
         }
        },
        "template": {
         "data": {
          "bar": [
           {
            "error_x": {
             "color": "#2a3f5f"
            },
            "error_y": {
             "color": "#2a3f5f"
            },
            "marker": {
             "line": {
              "color": "#E5ECF6",
              "width": 0.5
             },
             "pattern": {
              "fillmode": "overlay",
              "size": 10,
              "solidity": 0.2
             }
            },
            "type": "bar"
           }
          ],
          "barpolar": [
           {
            "marker": {
             "line": {
              "color": "#E5ECF6",
              "width": 0.5
             },
             "pattern": {
              "fillmode": "overlay",
              "size": 10,
              "solidity": 0.2
             }
            },
            "type": "barpolar"
           }
          ],
          "carpet": [
           {
            "aaxis": {
             "endlinecolor": "#2a3f5f",
             "gridcolor": "white",
             "linecolor": "white",
             "minorgridcolor": "white",
             "startlinecolor": "#2a3f5f"
            },
            "baxis": {
             "endlinecolor": "#2a3f5f",
             "gridcolor": "white",
             "linecolor": "white",
             "minorgridcolor": "white",
             "startlinecolor": "#2a3f5f"
            },
            "type": "carpet"
           }
          ],
          "choropleth": [
           {
            "colorbar": {
             "outlinewidth": 0,
             "ticks": ""
            },
            "type": "choropleth"
           }
          ],
          "contour": [
           {
            "colorbar": {
             "outlinewidth": 0,
             "ticks": ""
            },
            "colorscale": [
             [
              0,
              "#0d0887"
             ],
             [
              0.1111111111111111,
              "#46039f"
             ],
             [
              0.2222222222222222,
              "#7201a8"
             ],
             [
              0.3333333333333333,
              "#9c179e"
             ],
             [
              0.4444444444444444,
              "#bd3786"
             ],
             [
              0.5555555555555556,
              "#d8576b"
             ],
             [
              0.6666666666666666,
              "#ed7953"
             ],
             [
              0.7777777777777778,
              "#fb9f3a"
             ],
             [
              0.8888888888888888,
              "#fdca26"
             ],
             [
              1,
              "#f0f921"
             ]
            ],
            "type": "contour"
           }
          ],
          "contourcarpet": [
           {
            "colorbar": {
             "outlinewidth": 0,
             "ticks": ""
            },
            "type": "contourcarpet"
           }
          ],
          "heatmap": [
           {
            "colorbar": {
             "outlinewidth": 0,
             "ticks": ""
            },
            "colorscale": [
             [
              0,
              "#0d0887"
             ],
             [
              0.1111111111111111,
              "#46039f"
             ],
             [
              0.2222222222222222,
              "#7201a8"
             ],
             [
              0.3333333333333333,
              "#9c179e"
             ],
             [
              0.4444444444444444,
              "#bd3786"
             ],
             [
              0.5555555555555556,
              "#d8576b"
             ],
             [
              0.6666666666666666,
              "#ed7953"
             ],
             [
              0.7777777777777778,
              "#fb9f3a"
             ],
             [
              0.8888888888888888,
              "#fdca26"
             ],
             [
              1,
              "#f0f921"
             ]
            ],
            "type": "heatmap"
           }
          ],
          "heatmapgl": [
           {
            "colorbar": {
             "outlinewidth": 0,
             "ticks": ""
            },
            "colorscale": [
             [
              0,
              "#0d0887"
             ],
             [
              0.1111111111111111,
              "#46039f"
             ],
             [
              0.2222222222222222,
              "#7201a8"
             ],
             [
              0.3333333333333333,
              "#9c179e"
             ],
             [
              0.4444444444444444,
              "#bd3786"
             ],
             [
              0.5555555555555556,
              "#d8576b"
             ],
             [
              0.6666666666666666,
              "#ed7953"
             ],
             [
              0.7777777777777778,
              "#fb9f3a"
             ],
             [
              0.8888888888888888,
              "#fdca26"
             ],
             [
              1,
              "#f0f921"
             ]
            ],
            "type": "heatmapgl"
           }
          ],
          "histogram": [
           {
            "marker": {
             "pattern": {
              "fillmode": "overlay",
              "size": 10,
              "solidity": 0.2
             }
            },
            "type": "histogram"
           }
          ],
          "histogram2d": [
           {
            "colorbar": {
             "outlinewidth": 0,
             "ticks": ""
            },
            "colorscale": [
             [
              0,
              "#0d0887"
             ],
             [
              0.1111111111111111,
              "#46039f"
             ],
             [
              0.2222222222222222,
              "#7201a8"
             ],
             [
              0.3333333333333333,
              "#9c179e"
             ],
             [
              0.4444444444444444,
              "#bd3786"
             ],
             [
              0.5555555555555556,
              "#d8576b"
             ],
             [
              0.6666666666666666,
              "#ed7953"
             ],
             [
              0.7777777777777778,
              "#fb9f3a"
             ],
             [
              0.8888888888888888,
              "#fdca26"
             ],
             [
              1,
              "#f0f921"
             ]
            ],
            "type": "histogram2d"
           }
          ],
          "histogram2dcontour": [
           {
            "colorbar": {
             "outlinewidth": 0,
             "ticks": ""
            },
            "colorscale": [
             [
              0,
              "#0d0887"
             ],
             [
              0.1111111111111111,
              "#46039f"
             ],
             [
              0.2222222222222222,
              "#7201a8"
             ],
             [
              0.3333333333333333,
              "#9c179e"
             ],
             [
              0.4444444444444444,
              "#bd3786"
             ],
             [
              0.5555555555555556,
              "#d8576b"
             ],
             [
              0.6666666666666666,
              "#ed7953"
             ],
             [
              0.7777777777777778,
              "#fb9f3a"
             ],
             [
              0.8888888888888888,
              "#fdca26"
             ],
             [
              1,
              "#f0f921"
             ]
            ],
            "type": "histogram2dcontour"
           }
          ],
          "mesh3d": [
           {
            "colorbar": {
             "outlinewidth": 0,
             "ticks": ""
            },
            "type": "mesh3d"
           }
          ],
          "parcoords": [
           {
            "line": {
             "colorbar": {
              "outlinewidth": 0,
              "ticks": ""
             }
            },
            "type": "parcoords"
           }
          ],
          "pie": [
           {
            "automargin": true,
            "type": "pie"
           }
          ],
          "scatter": [
           {
            "marker": {
             "colorbar": {
              "outlinewidth": 0,
              "ticks": ""
             }
            },
            "type": "scatter"
           }
          ],
          "scatter3d": [
           {
            "line": {
             "colorbar": {
              "outlinewidth": 0,
              "ticks": ""
             }
            },
            "marker": {
             "colorbar": {
              "outlinewidth": 0,
              "ticks": ""
             }
            },
            "type": "scatter3d"
           }
          ],
          "scattercarpet": [
           {
            "marker": {
             "colorbar": {
              "outlinewidth": 0,
              "ticks": ""
             }
            },
            "type": "scattercarpet"
           }
          ],
          "scattergeo": [
           {
            "marker": {
             "colorbar": {
              "outlinewidth": 0,
              "ticks": ""
             }
            },
            "type": "scattergeo"
           }
          ],
          "scattergl": [
           {
            "marker": {
             "colorbar": {
              "outlinewidth": 0,
              "ticks": ""
             }
            },
            "type": "scattergl"
           }
          ],
          "scattermapbox": [
           {
            "marker": {
             "colorbar": {
              "outlinewidth": 0,
              "ticks": ""
             }
            },
            "type": "scattermapbox"
           }
          ],
          "scatterpolar": [
           {
            "marker": {
             "colorbar": {
              "outlinewidth": 0,
              "ticks": ""
             }
            },
            "type": "scatterpolar"
           }
          ],
          "scatterpolargl": [
           {
            "marker": {
             "colorbar": {
              "outlinewidth": 0,
              "ticks": ""
             }
            },
            "type": "scatterpolargl"
           }
          ],
          "scatterternary": [
           {
            "marker": {
             "colorbar": {
              "outlinewidth": 0,
              "ticks": ""
             }
            },
            "type": "scatterternary"
           }
          ],
          "surface": [
           {
            "colorbar": {
             "outlinewidth": 0,
             "ticks": ""
            },
            "colorscale": [
             [
              0,
              "#0d0887"
             ],
             [
              0.1111111111111111,
              "#46039f"
             ],
             [
              0.2222222222222222,
              "#7201a8"
             ],
             [
              0.3333333333333333,
              "#9c179e"
             ],
             [
              0.4444444444444444,
              "#bd3786"
             ],
             [
              0.5555555555555556,
              "#d8576b"
             ],
             [
              0.6666666666666666,
              "#ed7953"
             ],
             [
              0.7777777777777778,
              "#fb9f3a"
             ],
             [
              0.8888888888888888,
              "#fdca26"
             ],
             [
              1,
              "#f0f921"
             ]
            ],
            "type": "surface"
           }
          ],
          "table": [
           {
            "cells": {
             "fill": {
              "color": "#EBF0F8"
             },
             "line": {
              "color": "white"
             }
            },
            "header": {
             "fill": {
              "color": "#C8D4E3"
             },
             "line": {
              "color": "white"
             }
            },
            "type": "table"
           }
          ]
         },
         "layout": {
          "annotationdefaults": {
           "arrowcolor": "#2a3f5f",
           "arrowhead": 0,
           "arrowwidth": 1
          },
          "autotypenumbers": "strict",
          "coloraxis": {
           "colorbar": {
            "outlinewidth": 0,
            "ticks": ""
           }
          },
          "colorscale": {
           "diverging": [
            [
             0,
             "#8e0152"
            ],
            [
             0.1,
             "#c51b7d"
            ],
            [
             0.2,
             "#de77ae"
            ],
            [
             0.3,
             "#f1b6da"
            ],
            [
             0.4,
             "#fde0ef"
            ],
            [
             0.5,
             "#f7f7f7"
            ],
            [
             0.6,
             "#e6f5d0"
            ],
            [
             0.7,
             "#b8e186"
            ],
            [
             0.8,
             "#7fbc41"
            ],
            [
             0.9,
             "#4d9221"
            ],
            [
             1,
             "#276419"
            ]
           ],
           "sequential": [
            [
             0,
             "#0d0887"
            ],
            [
             0.1111111111111111,
             "#46039f"
            ],
            [
             0.2222222222222222,
             "#7201a8"
            ],
            [
             0.3333333333333333,
             "#9c179e"
            ],
            [
             0.4444444444444444,
             "#bd3786"
            ],
            [
             0.5555555555555556,
             "#d8576b"
            ],
            [
             0.6666666666666666,
             "#ed7953"
            ],
            [
             0.7777777777777778,
             "#fb9f3a"
            ],
            [
             0.8888888888888888,
             "#fdca26"
            ],
            [
             1,
             "#f0f921"
            ]
           ],
           "sequentialminus": [
            [
             0,
             "#0d0887"
            ],
            [
             0.1111111111111111,
             "#46039f"
            ],
            [
             0.2222222222222222,
             "#7201a8"
            ],
            [
             0.3333333333333333,
             "#9c179e"
            ],
            [
             0.4444444444444444,
             "#bd3786"
            ],
            [
             0.5555555555555556,
             "#d8576b"
            ],
            [
             0.6666666666666666,
             "#ed7953"
            ],
            [
             0.7777777777777778,
             "#fb9f3a"
            ],
            [
             0.8888888888888888,
             "#fdca26"
            ],
            [
             1,
             "#f0f921"
            ]
           ]
          },
          "colorway": [
           "#636efa",
           "#EF553B",
           "#00cc96",
           "#ab63fa",
           "#FFA15A",
           "#19d3f3",
           "#FF6692",
           "#B6E880",
           "#FF97FF",
           "#FECB52"
          ],
          "font": {
           "color": "#2a3f5f"
          },
          "geo": {
           "bgcolor": "white",
           "lakecolor": "white",
           "landcolor": "#E5ECF6",
           "showlakes": true,
           "showland": true,
           "subunitcolor": "white"
          },
          "hoverlabel": {
           "align": "left"
          },
          "hovermode": "closest",
          "mapbox": {
           "style": "light"
          },
          "paper_bgcolor": "white",
          "plot_bgcolor": "#E5ECF6",
          "polar": {
           "angularaxis": {
            "gridcolor": "white",
            "linecolor": "white",
            "ticks": ""
           },
           "bgcolor": "#E5ECF6",
           "radialaxis": {
            "gridcolor": "white",
            "linecolor": "white",
            "ticks": ""
           }
          },
          "scene": {
           "xaxis": {
            "backgroundcolor": "#E5ECF6",
            "gridcolor": "white",
            "gridwidth": 2,
            "linecolor": "white",
            "showbackground": true,
            "ticks": "",
            "zerolinecolor": "white"
           },
           "yaxis": {
            "backgroundcolor": "#E5ECF6",
            "gridcolor": "white",
            "gridwidth": 2,
            "linecolor": "white",
            "showbackground": true,
            "ticks": "",
            "zerolinecolor": "white"
           },
           "zaxis": {
            "backgroundcolor": "#E5ECF6",
            "gridcolor": "white",
            "gridwidth": 2,
            "linecolor": "white",
            "showbackground": true,
            "ticks": "",
            "zerolinecolor": "white"
           }
          },
          "shapedefaults": {
           "line": {
            "color": "#2a3f5f"
           }
          },
          "ternary": {
           "aaxis": {
            "gridcolor": "white",
            "linecolor": "white",
            "ticks": ""
           },
           "baxis": {
            "gridcolor": "white",
            "linecolor": "white",
            "ticks": ""
           },
           "bgcolor": "#E5ECF6",
           "caxis": {
            "gridcolor": "white",
            "linecolor": "white",
            "ticks": ""
           }
          },
          "title": {
           "x": 0.05
          },
          "xaxis": {
           "automargin": true,
           "gridcolor": "white",
           "linecolor": "white",
           "ticks": "",
           "title": {
            "standoff": 15
           },
           "zerolinecolor": "white",
           "zerolinewidth": 2
          },
          "yaxis": {
           "automargin": true,
           "gridcolor": "white",
           "linecolor": "white",
           "ticks": "",
           "title": {
            "standoff": 15
           },
           "zerolinecolor": "white",
           "zerolinewidth": 2
          }
         }
        },
        "title": {
         "text": "Spades_meta Z-score comparison"
        }
       }
      }
     },
     "metadata": {},
     "output_type": "display_data"
    }
   ],
   "source": [
    "fig2 = go.Figure()\n",
    "\n",
    "for n,index in enumerate(df_norm_z_meta.index.to_list()):\n",
    "    fig2.add_trace(\n",
    "                go.Scatterpolar(\n",
    "                                r=df_norm_z_meta[['Completeness', 'Contamination',\n",
    "       'Strain_heterogeneity', 'n_contigs', 'Longest_contig', 'pilon_errors']].loc[index].values,\n",
    "                                theta=['Completeness', 'Contamination',\n",
    "       'Strain_heterogeneity', 'n_contigs', 'Longest_contig', 'pilon_errors'],\n",
    "                                fill='toself',\n",
    "                                name=\"Spades_meta {} - area {}\".format(df_norm_z_meta['Category'][index], round(area_list[n],2)),\n",
    "                                showlegend=True,\n",
    "                                )\n",
    "                )\n",
    "\n",
    "fig2.update_layout(\n",
    "    polar=dict(\n",
    "        radialaxis=dict(\n",
    "                        visible=True,\n",
    "                        range=[-3, 3]\n",
    "                    )\n",
    "            ),\n",
    "    title=\"Spades_meta Z-score comparison\"\n",
    ")\n",
    "\n",
    "fig2.show()"
   ]
  },
  {
   "cell_type": "markdown",
   "metadata": {},
   "source": [
    "# Todos juntos"
   ]
  },
  {
   "cell_type": "code",
   "execution_count": 60,
   "metadata": {},
   "outputs": [],
   "source": [
    "df30 = pd.read_table('Cami_30g_6s/All_concatenate_together_fixed.tsv')\n",
    "df30.fillna({'Completeness':50, 'Contamination':15,'n_contigs':200,'Longest_contig':100000,'Strain_heterogeneity':100,'pilon_errors':1000}, inplace=True)\n",
    "df30['Community'] = '30G'\n",
    "df100 = pd.read_table('Cami_100g_6s/All_concatenate_together_fixed.tsv')\n",
    "df100.fillna({'Completeness':50, 'Contamination':15,'n_contigs':200,'Longest_contig':100000,'Strain_heterogeneity':100,'pilon_errors':1000}, inplace=True)\n",
    "df100['Community'] = '100G'\n",
    "df200 = pd.read_table('Cami_200g_6s/All_concatenate_together_fixed.tsv')\n",
    "df200.fillna({'Completeness':50, 'Contamination':15,'n_contigs':200,'Longest_contig':100000,'Strain_heterogeneity':100,'pilon_errors':1000}, inplace=True)\n",
    "df200['Community'] = '200G'\n"
   ]
  },
  {
   "cell_type": "code",
   "execution_count": 61,
   "metadata": {},
   "outputs": [
    {
     "data": {
      "text/html": [
       "<div>\n",
       "<style scoped>\n",
       "    .dataframe tbody tr th:only-of-type {\n",
       "        vertical-align: middle;\n",
       "    }\n",
       "\n",
       "    .dataframe tbody tr th {\n",
       "        vertical-align: top;\n",
       "    }\n",
       "\n",
       "    .dataframe thead th {\n",
       "        text-align: right;\n",
       "    }\n",
       "</style>\n",
       "<table border=\"1\" class=\"dataframe\">\n",
       "  <thead>\n",
       "    <tr style=\"text-align: right;\">\n",
       "      <th></th>\n",
       "      <th></th>\n",
       "      <th></th>\n",
       "      <th>Completeness</th>\n",
       "      <th>Contamination</th>\n",
       "      <th>Strain_heterogeneity</th>\n",
       "      <th>n_contigs</th>\n",
       "      <th>Longest_contig</th>\n",
       "      <th>pilon_errors</th>\n",
       "    </tr>\n",
       "    <tr>\n",
       "      <th>Community</th>\n",
       "      <th>Assembly</th>\n",
       "      <th>Category</th>\n",
       "      <th></th>\n",
       "      <th></th>\n",
       "      <th></th>\n",
       "      <th></th>\n",
       "      <th></th>\n",
       "      <th></th>\n",
       "    </tr>\n",
       "  </thead>\n",
       "  <tbody>\n",
       "    <tr>\n",
       "      <th rowspan=\"9\" valign=\"top\">100G</th>\n",
       "      <th rowspan=\"3\" valign=\"top\">Megahit</th>\n",
       "      <th>all</th>\n",
       "      <td>50.000</td>\n",
       "      <td>15.000</td>\n",
       "      <td>100.000</td>\n",
       "      <td>200.0</td>\n",
       "      <td>100000.0</td>\n",
       "      <td>1000.0</td>\n",
       "    </tr>\n",
       "    <tr>\n",
       "      <th>careful</th>\n",
       "      <td>99.430</td>\n",
       "      <td>0.720</td>\n",
       "      <td>8.330</td>\n",
       "      <td>45.0</td>\n",
       "      <td>381168.0</td>\n",
       "      <td>57.0</td>\n",
       "    </tr>\n",
       "    <tr>\n",
       "      <th>meta</th>\n",
       "      <td>99.500</td>\n",
       "      <td>0.450</td>\n",
       "      <td>20.000</td>\n",
       "      <td>61.0</td>\n",
       "      <td>365159.0</td>\n",
       "      <td>243.0</td>\n",
       "    </tr>\n",
       "    <tr>\n",
       "      <th rowspan=\"3\" valign=\"top\">Spades_careful</th>\n",
       "      <th>all</th>\n",
       "      <td>99.005</td>\n",
       "      <td>0.885</td>\n",
       "      <td>5.555</td>\n",
       "      <td>73.5</td>\n",
       "      <td>327278.0</td>\n",
       "      <td>97.5</td>\n",
       "    </tr>\n",
       "    <tr>\n",
       "      <th>careful</th>\n",
       "      <td>99.430</td>\n",
       "      <td>1.140</td>\n",
       "      <td>10.125</td>\n",
       "      <td>60.0</td>\n",
       "      <td>442897.0</td>\n",
       "      <td>70.0</td>\n",
       "    </tr>\n",
       "    <tr>\n",
       "      <th>meta</th>\n",
       "      <td>99.195</td>\n",
       "      <td>0.610</td>\n",
       "      <td>26.785</td>\n",
       "      <td>74.0</td>\n",
       "      <td>422583.0</td>\n",
       "      <td>256.5</td>\n",
       "    </tr>\n",
       "    <tr>\n",
       "      <th rowspan=\"3\" valign=\"top\">Spades_meta</th>\n",
       "      <th>all</th>\n",
       "      <td>99.510</td>\n",
       "      <td>0.240</td>\n",
       "      <td>0.000</td>\n",
       "      <td>42.5</td>\n",
       "      <td>472203.5</td>\n",
       "      <td>204.5</td>\n",
       "    </tr>\n",
       "    <tr>\n",
       "      <th>careful</th>\n",
       "      <td>99.590</td>\n",
       "      <td>0.765</td>\n",
       "      <td>16.670</td>\n",
       "      <td>37.5</td>\n",
       "      <td>581084.5</td>\n",
       "      <td>43.0</td>\n",
       "    </tr>\n",
       "    <tr>\n",
       "      <th>meta</th>\n",
       "      <td>99.305</td>\n",
       "      <td>0.440</td>\n",
       "      <td>0.000</td>\n",
       "      <td>60.5</td>\n",
       "      <td>422903.0</td>\n",
       "      <td>224.5</td>\n",
       "    </tr>\n",
       "    <tr>\n",
       "      <th rowspan=\"9\" valign=\"top\">200G</th>\n",
       "      <th rowspan=\"3\" valign=\"top\">Megahit</th>\n",
       "      <th>all</th>\n",
       "      <td>98.895</td>\n",
       "      <td>0.640</td>\n",
       "      <td>0.000</td>\n",
       "      <td>64.0</td>\n",
       "      <td>429659.0</td>\n",
       "      <td>208.0</td>\n",
       "    </tr>\n",
       "    <tr>\n",
       "      <th>careful</th>\n",
       "      <td>99.190</td>\n",
       "      <td>0.515</td>\n",
       "      <td>0.000</td>\n",
       "      <td>48.0</td>\n",
       "      <td>483814.0</td>\n",
       "      <td>46.5</td>\n",
       "    </tr>\n",
       "    <tr>\n",
       "      <th>meta</th>\n",
       "      <td>98.755</td>\n",
       "      <td>0.805</td>\n",
       "      <td>0.000</td>\n",
       "      <td>71.5</td>\n",
       "      <td>468169.5</td>\n",
       "      <td>209.0</td>\n",
       "    </tr>\n",
       "    <tr>\n",
       "      <th rowspan=\"3\" valign=\"top\">Spades_careful</th>\n",
       "      <th>all</th>\n",
       "      <td>98.550</td>\n",
       "      <td>0.655</td>\n",
       "      <td>38.540</td>\n",
       "      <td>101.0</td>\n",
       "      <td>265222.0</td>\n",
       "      <td>107.0</td>\n",
       "    </tr>\n",
       "    <tr>\n",
       "      <th>careful</th>\n",
       "      <td>99.070</td>\n",
       "      <td>0.565</td>\n",
       "      <td>0.000</td>\n",
       "      <td>53.5</td>\n",
       "      <td>448892.0</td>\n",
       "      <td>118.0</td>\n",
       "    </tr>\n",
       "    <tr>\n",
       "      <th>meta</th>\n",
       "      <td>98.990</td>\n",
       "      <td>0.620</td>\n",
       "      <td>0.000</td>\n",
       "      <td>65.5</td>\n",
       "      <td>351697.5</td>\n",
       "      <td>204.0</td>\n",
       "    </tr>\n",
       "    <tr>\n",
       "      <th rowspan=\"3\" valign=\"top\">Spades_meta</th>\n",
       "      <th>all</th>\n",
       "      <td>99.230</td>\n",
       "      <td>0.395</td>\n",
       "      <td>0.000</td>\n",
       "      <td>44.5</td>\n",
       "      <td>469412.0</td>\n",
       "      <td>192.0</td>\n",
       "    </tr>\n",
       "    <tr>\n",
       "      <th>careful</th>\n",
       "      <td>99.075</td>\n",
       "      <td>0.530</td>\n",
       "      <td>0.000</td>\n",
       "      <td>35.5</td>\n",
       "      <td>539253.5</td>\n",
       "      <td>38.5</td>\n",
       "    </tr>\n",
       "    <tr>\n",
       "      <th>meta</th>\n",
       "      <td>99.100</td>\n",
       "      <td>0.590</td>\n",
       "      <td>0.000</td>\n",
       "      <td>59.0</td>\n",
       "      <td>440075.5</td>\n",
       "      <td>198.5</td>\n",
       "    </tr>\n",
       "    <tr>\n",
       "      <th rowspan=\"9\" valign=\"top\">30G</th>\n",
       "      <th rowspan=\"3\" valign=\"top\">Megahit</th>\n",
       "      <th>all</th>\n",
       "      <td>98.280</td>\n",
       "      <td>0.220</td>\n",
       "      <td>0.000</td>\n",
       "      <td>40.0</td>\n",
       "      <td>459475.0</td>\n",
       "      <td>164.0</td>\n",
       "    </tr>\n",
       "    <tr>\n",
       "      <th>careful</th>\n",
       "      <td>99.340</td>\n",
       "      <td>0.510</td>\n",
       "      <td>0.000</td>\n",
       "      <td>40.0</td>\n",
       "      <td>411525.0</td>\n",
       "      <td>94.0</td>\n",
       "    </tr>\n",
       "    <tr>\n",
       "      <th>meta</th>\n",
       "      <td>99.430</td>\n",
       "      <td>0.580</td>\n",
       "      <td>0.000</td>\n",
       "      <td>62.0</td>\n",
       "      <td>362476.0</td>\n",
       "      <td>271.0</td>\n",
       "    </tr>\n",
       "    <tr>\n",
       "      <th rowspan=\"3\" valign=\"top\">Spades_careful</th>\n",
       "      <th>all</th>\n",
       "      <td>99.345</td>\n",
       "      <td>0.430</td>\n",
       "      <td>0.000</td>\n",
       "      <td>26.0</td>\n",
       "      <td>528421.5</td>\n",
       "      <td>81.0</td>\n",
       "    </tr>\n",
       "    <tr>\n",
       "      <th>careful</th>\n",
       "      <td>99.545</td>\n",
       "      <td>0.385</td>\n",
       "      <td>0.000</td>\n",
       "      <td>43.5</td>\n",
       "      <td>390622.5</td>\n",
       "      <td>123.0</td>\n",
       "    </tr>\n",
       "    <tr>\n",
       "      <th>meta</th>\n",
       "      <td>99.465</td>\n",
       "      <td>0.575</td>\n",
       "      <td>0.000</td>\n",
       "      <td>48.5</td>\n",
       "      <td>376355.5</td>\n",
       "      <td>242.0</td>\n",
       "    </tr>\n",
       "    <tr>\n",
       "      <th rowspan=\"3\" valign=\"top\">Spades_meta</th>\n",
       "      <th>all</th>\n",
       "      <td>99.660</td>\n",
       "      <td>0.430</td>\n",
       "      <td>0.000</td>\n",
       "      <td>37.0</td>\n",
       "      <td>362426.0</td>\n",
       "      <td>263.0</td>\n",
       "    </tr>\n",
       "    <tr>\n",
       "      <th>careful</th>\n",
       "      <td>99.660</td>\n",
       "      <td>0.450</td>\n",
       "      <td>0.000</td>\n",
       "      <td>37.0</td>\n",
       "      <td>390486.0</td>\n",
       "      <td>101.0</td>\n",
       "    </tr>\n",
       "    <tr>\n",
       "      <th>meta</th>\n",
       "      <td>99.660</td>\n",
       "      <td>0.460</td>\n",
       "      <td>0.000</td>\n",
       "      <td>45.0</td>\n",
       "      <td>348870.0</td>\n",
       "      <td>266.0</td>\n",
       "    </tr>\n",
       "  </tbody>\n",
       "</table>\n",
       "</div>"
      ],
      "text/plain": [
       "                                   Completeness  Contamination  \\\n",
       "Community Assembly       Category                                \n",
       "100G      Megahit        all             50.000         15.000   \n",
       "                         careful         99.430          0.720   \n",
       "                         meta            99.500          0.450   \n",
       "          Spades_careful all             99.005          0.885   \n",
       "                         careful         99.430          1.140   \n",
       "                         meta            99.195          0.610   \n",
       "          Spades_meta    all             99.510          0.240   \n",
       "                         careful         99.590          0.765   \n",
       "                         meta            99.305          0.440   \n",
       "200G      Megahit        all             98.895          0.640   \n",
       "                         careful         99.190          0.515   \n",
       "                         meta            98.755          0.805   \n",
       "          Spades_careful all             98.550          0.655   \n",
       "                         careful         99.070          0.565   \n",
       "                         meta            98.990          0.620   \n",
       "          Spades_meta    all             99.230          0.395   \n",
       "                         careful         99.075          0.530   \n",
       "                         meta            99.100          0.590   \n",
       "30G       Megahit        all             98.280          0.220   \n",
       "                         careful         99.340          0.510   \n",
       "                         meta            99.430          0.580   \n",
       "          Spades_careful all             99.345          0.430   \n",
       "                         careful         99.545          0.385   \n",
       "                         meta            99.465          0.575   \n",
       "          Spades_meta    all             99.660          0.430   \n",
       "                         careful         99.660          0.450   \n",
       "                         meta            99.660          0.460   \n",
       "\n",
       "                                   Strain_heterogeneity  n_contigs  \\\n",
       "Community Assembly       Category                                    \n",
       "100G      Megahit        all                    100.000      200.0   \n",
       "                         careful                  8.330       45.0   \n",
       "                         meta                    20.000       61.0   \n",
       "          Spades_careful all                      5.555       73.5   \n",
       "                         careful                 10.125       60.0   \n",
       "                         meta                    26.785       74.0   \n",
       "          Spades_meta    all                      0.000       42.5   \n",
       "                         careful                 16.670       37.5   \n",
       "                         meta                     0.000       60.5   \n",
       "200G      Megahit        all                      0.000       64.0   \n",
       "                         careful                  0.000       48.0   \n",
       "                         meta                     0.000       71.5   \n",
       "          Spades_careful all                     38.540      101.0   \n",
       "                         careful                  0.000       53.5   \n",
       "                         meta                     0.000       65.5   \n",
       "          Spades_meta    all                      0.000       44.5   \n",
       "                         careful                  0.000       35.5   \n",
       "                         meta                     0.000       59.0   \n",
       "30G       Megahit        all                      0.000       40.0   \n",
       "                         careful                  0.000       40.0   \n",
       "                         meta                     0.000       62.0   \n",
       "          Spades_careful all                      0.000       26.0   \n",
       "                         careful                  0.000       43.5   \n",
       "                         meta                     0.000       48.5   \n",
       "          Spades_meta    all                      0.000       37.0   \n",
       "                         careful                  0.000       37.0   \n",
       "                         meta                     0.000       45.0   \n",
       "\n",
       "                                   Longest_contig  pilon_errors  \n",
       "Community Assembly       Category                                \n",
       "100G      Megahit        all             100000.0        1000.0  \n",
       "                         careful         381168.0          57.0  \n",
       "                         meta            365159.0         243.0  \n",
       "          Spades_careful all             327278.0          97.5  \n",
       "                         careful         442897.0          70.0  \n",
       "                         meta            422583.0         256.5  \n",
       "          Spades_meta    all             472203.5         204.5  \n",
       "                         careful         581084.5          43.0  \n",
       "                         meta            422903.0         224.5  \n",
       "200G      Megahit        all             429659.0         208.0  \n",
       "                         careful         483814.0          46.5  \n",
       "                         meta            468169.5         209.0  \n",
       "          Spades_careful all             265222.0         107.0  \n",
       "                         careful         448892.0         118.0  \n",
       "                         meta            351697.5         204.0  \n",
       "          Spades_meta    all             469412.0         192.0  \n",
       "                         careful         539253.5          38.5  \n",
       "                         meta            440075.5         198.5  \n",
       "30G       Megahit        all             459475.0         164.0  \n",
       "                         careful         411525.0          94.0  \n",
       "                         meta            362476.0         271.0  \n",
       "          Spades_careful all             528421.5          81.0  \n",
       "                         careful         390622.5         123.0  \n",
       "                         meta            376355.5         242.0  \n",
       "          Spades_meta    all             362426.0         263.0  \n",
       "                         careful         390486.0         101.0  \n",
       "                         meta            348870.0         266.0  "
      ]
     },
     "execution_count": 61,
     "metadata": {},
     "output_type": "execute_result"
    }
   ],
   "source": [
    "df_all = pd.concat([df30,df100,df200])\n",
    "all_category = df_all.groupby(['Community','Assembly','Category']).median()\n",
    "all_category"
   ]
  },
  {
   "cell_type": "code",
   "execution_count": 62,
   "metadata": {},
   "outputs": [
    {
     "data": {
      "text/html": [
       "<div>\n",
       "<style scoped>\n",
       "    .dataframe tbody tr th:only-of-type {\n",
       "        vertical-align: middle;\n",
       "    }\n",
       "\n",
       "    .dataframe tbody tr th {\n",
       "        vertical-align: top;\n",
       "    }\n",
       "\n",
       "    .dataframe thead th {\n",
       "        text-align: right;\n",
       "    }\n",
       "</style>\n",
       "<table border=\"1\" class=\"dataframe\">\n",
       "  <thead>\n",
       "    <tr style=\"text-align: right;\">\n",
       "      <th></th>\n",
       "      <th></th>\n",
       "      <th></th>\n",
       "      <th>Completeness</th>\n",
       "      <th>Contamination</th>\n",
       "      <th>Strain_heterogeneity</th>\n",
       "      <th>n_contigs</th>\n",
       "      <th>Longest_contig</th>\n",
       "      <th>pilon_errors</th>\n",
       "    </tr>\n",
       "    <tr>\n",
       "      <th>Community</th>\n",
       "      <th>Assembly</th>\n",
       "      <th>Category</th>\n",
       "      <th></th>\n",
       "      <th></th>\n",
       "      <th></th>\n",
       "      <th></th>\n",
       "      <th></th>\n",
       "      <th></th>\n",
       "    </tr>\n",
       "  </thead>\n",
       "  <tbody>\n",
       "    <tr>\n",
       "      <th rowspan=\"9\" valign=\"top\">100G</th>\n",
       "      <th rowspan=\"3\" valign=\"top\">Megahit</th>\n",
       "      <th>all</th>\n",
       "      <td>-5.095725</td>\n",
       "      <td>5.086917</td>\n",
       "      <td>4.500598</td>\n",
       "      <td>4.440143</td>\n",
       "      <td>-3.398535</td>\n",
       "      <td>4.599015</td>\n",
       "    </tr>\n",
       "    <tr>\n",
       "      <th>careful</th>\n",
       "      <td>0.216554</td>\n",
       "      <td>-0.137744</td>\n",
       "      <td>-0.001992</td>\n",
       "      <td>-0.418531</td>\n",
       "      <td>-0.305787</td>\n",
       "      <td>-0.753311</td>\n",
       "    </tr>\n",
       "    <tr>\n",
       "      <th>meta</th>\n",
       "      <td>0.224077</td>\n",
       "      <td>-0.236530</td>\n",
       "      <td>0.571208</td>\n",
       "      <td>0.083010</td>\n",
       "      <td>-0.481880</td>\n",
       "      <td>0.302397</td>\n",
       "    </tr>\n",
       "    <tr>\n",
       "      <th rowspan=\"3\" valign=\"top\">Spades_careful</th>\n",
       "      <th>all</th>\n",
       "      <td>0.170878</td>\n",
       "      <td>-0.077375</td>\n",
       "      <td>-0.138293</td>\n",
       "      <td>0.474838</td>\n",
       "      <td>-0.898558</td>\n",
       "      <td>-0.523440</td>\n",
       "    </tr>\n",
       "    <tr>\n",
       "      <th>careful</th>\n",
       "      <td>0.216554</td>\n",
       "      <td>0.015922</td>\n",
       "      <td>0.086174</td>\n",
       "      <td>0.051663</td>\n",
       "      <td>0.373210</td>\n",
       "      <td>-0.679525</td>\n",
       "    </tr>\n",
       "    <tr>\n",
       "      <th>meta</th>\n",
       "      <td>0.191298</td>\n",
       "      <td>-0.177990</td>\n",
       "      <td>0.904469</td>\n",
       "      <td>0.490511</td>\n",
       "      <td>0.149763</td>\n",
       "      <td>0.379021</td>\n",
       "    </tr>\n",
       "    <tr>\n",
       "      <th rowspan=\"3\" valign=\"top\">Spades_meta</th>\n",
       "      <th>all</th>\n",
       "      <td>0.225151</td>\n",
       "      <td>-0.313363</td>\n",
       "      <td>-0.411140</td>\n",
       "      <td>-0.496897</td>\n",
       "      <td>0.695571</td>\n",
       "      <td>0.083876</td>\n",
       "    </tr>\n",
       "    <tr>\n",
       "      <th>careful</th>\n",
       "      <td>0.233749</td>\n",
       "      <td>-0.121280</td>\n",
       "      <td>0.407647</td>\n",
       "      <td>-0.653628</td>\n",
       "      <td>1.893223</td>\n",
       "      <td>-0.832773</td>\n",
       "    </tr>\n",
       "    <tr>\n",
       "      <th>meta</th>\n",
       "      <td>0.203120</td>\n",
       "      <td>-0.240189</td>\n",
       "      <td>-0.411140</td>\n",
       "      <td>0.067336</td>\n",
       "      <td>0.153283</td>\n",
       "      <td>0.197393</td>\n",
       "    </tr>\n",
       "    <tr>\n",
       "      <th rowspan=\"9\" valign=\"top\">200G</th>\n",
       "      <th rowspan=\"3\" valign=\"top\">Megahit</th>\n",
       "      <th>all</th>\n",
       "      <td>0.159057</td>\n",
       "      <td>-0.167014</td>\n",
       "      <td>-0.411140</td>\n",
       "      <td>0.177048</td>\n",
       "      <td>0.227597</td>\n",
       "      <td>0.103742</td>\n",
       "    </tr>\n",
       "    <tr>\n",
       "      <th>careful</th>\n",
       "      <td>0.190761</td>\n",
       "      <td>-0.212748</td>\n",
       "      <td>-0.411140</td>\n",
       "      <td>-0.324492</td>\n",
       "      <td>0.823282</td>\n",
       "      <td>-0.812908</td>\n",
       "    </tr>\n",
       "    <tr>\n",
       "      <th>meta</th>\n",
       "      <td>0.144011</td>\n",
       "      <td>-0.106645</td>\n",
       "      <td>-0.411140</td>\n",
       "      <td>0.412146</td>\n",
       "      <td>0.651198</td>\n",
       "      <td>0.109418</td>\n",
       "    </tr>\n",
       "    <tr>\n",
       "      <th rowspan=\"3\" valign=\"top\">Spades_careful</th>\n",
       "      <th>all</th>\n",
       "      <td>0.121979</td>\n",
       "      <td>-0.161526</td>\n",
       "      <td>1.481844</td>\n",
       "      <td>1.336861</td>\n",
       "      <td>-1.581152</td>\n",
       "      <td>-0.469519</td>\n",
       "    </tr>\n",
       "    <tr>\n",
       "      <th>careful</th>\n",
       "      <td>0.177864</td>\n",
       "      <td>-0.194455</td>\n",
       "      <td>-0.411140</td>\n",
       "      <td>-0.152088</td>\n",
       "      <td>0.439153</td>\n",
       "      <td>-0.407085</td>\n",
       "    </tr>\n",
       "    <tr>\n",
       "      <th>meta</th>\n",
       "      <td>0.169266</td>\n",
       "      <td>-0.174332</td>\n",
       "      <td>-0.411140</td>\n",
       "      <td>0.224068</td>\n",
       "      <td>-0.629952</td>\n",
       "      <td>0.081039</td>\n",
       "    </tr>\n",
       "    <tr>\n",
       "      <th rowspan=\"3\" valign=\"top\">Spades_meta</th>\n",
       "      <th>all</th>\n",
       "      <td>0.195059</td>\n",
       "      <td>-0.256653</td>\n",
       "      <td>-0.411140</td>\n",
       "      <td>-0.434204</td>\n",
       "      <td>0.664866</td>\n",
       "      <td>0.012928</td>\n",
       "    </tr>\n",
       "    <tr>\n",
       "      <th>careful</th>\n",
       "      <td>0.178401</td>\n",
       "      <td>-0.207260</td>\n",
       "      <td>-0.411140</td>\n",
       "      <td>-0.716321</td>\n",
       "      <td>1.433097</td>\n",
       "      <td>-0.858315</td>\n",
       "    </tr>\n",
       "    <tr>\n",
       "      <th>meta</th>\n",
       "      <td>0.181088</td>\n",
       "      <td>-0.185308</td>\n",
       "      <td>-0.411140</td>\n",
       "      <td>0.020317</td>\n",
       "      <td>0.342174</td>\n",
       "      <td>0.049821</td>\n",
       "    </tr>\n",
       "    <tr>\n",
       "      <th rowspan=\"9\" valign=\"top\">30G</th>\n",
       "      <th rowspan=\"3\" valign=\"top\">Megahit</th>\n",
       "      <th>all</th>\n",
       "      <td>0.092962</td>\n",
       "      <td>-0.320681</td>\n",
       "      <td>-0.411140</td>\n",
       "      <td>-0.575262</td>\n",
       "      <td>0.555562</td>\n",
       "      <td>-0.145995</td>\n",
       "    </tr>\n",
       "    <tr>\n",
       "      <th>careful</th>\n",
       "      <td>0.206881</td>\n",
       "      <td>-0.214578</td>\n",
       "      <td>-0.411140</td>\n",
       "      <td>-0.575262</td>\n",
       "      <td>0.028129</td>\n",
       "      <td>-0.543305</td>\n",
       "    </tr>\n",
       "    <tr>\n",
       "      <th>meta</th>\n",
       "      <td>0.216554</td>\n",
       "      <td>-0.188966</td>\n",
       "      <td>-0.411140</td>\n",
       "      <td>0.114356</td>\n",
       "      <td>-0.511392</td>\n",
       "      <td>0.461321</td>\n",
       "    </tr>\n",
       "    <tr>\n",
       "      <th rowspan=\"3\" valign=\"top\">Spades_careful</th>\n",
       "      <th>all</th>\n",
       "      <td>0.207419</td>\n",
       "      <td>-0.243847</td>\n",
       "      <td>-0.411140</td>\n",
       "      <td>-1.014110</td>\n",
       "      <td>1.313949</td>\n",
       "      <td>-0.617091</td>\n",
       "    </tr>\n",
       "    <tr>\n",
       "      <th>careful</th>\n",
       "      <td>0.228913</td>\n",
       "      <td>-0.260312</td>\n",
       "      <td>-0.411140</td>\n",
       "      <td>-0.465550</td>\n",
       "      <td>-0.201791</td>\n",
       "      <td>-0.378705</td>\n",
       "    </tr>\n",
       "    <tr>\n",
       "      <th>meta</th>\n",
       "      <td>0.220315</td>\n",
       "      <td>-0.190796</td>\n",
       "      <td>-0.411140</td>\n",
       "      <td>-0.308819</td>\n",
       "      <td>-0.358723</td>\n",
       "      <td>0.296721</td>\n",
       "    </tr>\n",
       "    <tr>\n",
       "      <th rowspan=\"3\" valign=\"top\">Spades_meta</th>\n",
       "      <th>all</th>\n",
       "      <td>0.241272</td>\n",
       "      <td>-0.243847</td>\n",
       "      <td>-0.411140</td>\n",
       "      <td>-0.669301</td>\n",
       "      <td>-0.511942</td>\n",
       "      <td>0.415914</td>\n",
       "    </tr>\n",
       "    <tr>\n",
       "      <th>careful</th>\n",
       "      <td>0.241272</td>\n",
       "      <td>-0.236530</td>\n",
       "      <td>-0.411140</td>\n",
       "      <td>-0.669301</td>\n",
       "      <td>-0.203292</td>\n",
       "      <td>-0.503574</td>\n",
       "    </tr>\n",
       "    <tr>\n",
       "      <th>meta</th>\n",
       "      <td>0.241272</td>\n",
       "      <td>-0.232871</td>\n",
       "      <td>-0.411140</td>\n",
       "      <td>-0.418531</td>\n",
       "      <td>-0.661054</td>\n",
       "      <td>0.432941</td>\n",
       "    </tr>\n",
       "  </tbody>\n",
       "</table>\n",
       "</div>"
      ],
      "text/plain": [
       "                                   Completeness  Contamination  \\\n",
       "Community Assembly       Category                                \n",
       "100G      Megahit        all          -5.095725       5.086917   \n",
       "                         careful       0.216554      -0.137744   \n",
       "                         meta          0.224077      -0.236530   \n",
       "          Spades_careful all           0.170878      -0.077375   \n",
       "                         careful       0.216554       0.015922   \n",
       "                         meta          0.191298      -0.177990   \n",
       "          Spades_meta    all           0.225151      -0.313363   \n",
       "                         careful       0.233749      -0.121280   \n",
       "                         meta          0.203120      -0.240189   \n",
       "200G      Megahit        all           0.159057      -0.167014   \n",
       "                         careful       0.190761      -0.212748   \n",
       "                         meta          0.144011      -0.106645   \n",
       "          Spades_careful all           0.121979      -0.161526   \n",
       "                         careful       0.177864      -0.194455   \n",
       "                         meta          0.169266      -0.174332   \n",
       "          Spades_meta    all           0.195059      -0.256653   \n",
       "                         careful       0.178401      -0.207260   \n",
       "                         meta          0.181088      -0.185308   \n",
       "30G       Megahit        all           0.092962      -0.320681   \n",
       "                         careful       0.206881      -0.214578   \n",
       "                         meta          0.216554      -0.188966   \n",
       "          Spades_careful all           0.207419      -0.243847   \n",
       "                         careful       0.228913      -0.260312   \n",
       "                         meta          0.220315      -0.190796   \n",
       "          Spades_meta    all           0.241272      -0.243847   \n",
       "                         careful       0.241272      -0.236530   \n",
       "                         meta          0.241272      -0.232871   \n",
       "\n",
       "                                   Strain_heterogeneity  n_contigs  \\\n",
       "Community Assembly       Category                                    \n",
       "100G      Megahit        all                   4.500598   4.440143   \n",
       "                         careful              -0.001992  -0.418531   \n",
       "                         meta                  0.571208   0.083010   \n",
       "          Spades_careful all                  -0.138293   0.474838   \n",
       "                         careful               0.086174   0.051663   \n",
       "                         meta                  0.904469   0.490511   \n",
       "          Spades_meta    all                  -0.411140  -0.496897   \n",
       "                         careful               0.407647  -0.653628   \n",
       "                         meta                 -0.411140   0.067336   \n",
       "200G      Megahit        all                  -0.411140   0.177048   \n",
       "                         careful              -0.411140  -0.324492   \n",
       "                         meta                 -0.411140   0.412146   \n",
       "          Spades_careful all                   1.481844   1.336861   \n",
       "                         careful              -0.411140  -0.152088   \n",
       "                         meta                 -0.411140   0.224068   \n",
       "          Spades_meta    all                  -0.411140  -0.434204   \n",
       "                         careful              -0.411140  -0.716321   \n",
       "                         meta                 -0.411140   0.020317   \n",
       "30G       Megahit        all                  -0.411140  -0.575262   \n",
       "                         careful              -0.411140  -0.575262   \n",
       "                         meta                 -0.411140   0.114356   \n",
       "          Spades_careful all                  -0.411140  -1.014110   \n",
       "                         careful              -0.411140  -0.465550   \n",
       "                         meta                 -0.411140  -0.308819   \n",
       "          Spades_meta    all                  -0.411140  -0.669301   \n",
       "                         careful              -0.411140  -0.669301   \n",
       "                         meta                 -0.411140  -0.418531   \n",
       "\n",
       "                                   Longest_contig  pilon_errors  \n",
       "Community Assembly       Category                                \n",
       "100G      Megahit        all            -3.398535      4.599015  \n",
       "                         careful        -0.305787     -0.753311  \n",
       "                         meta           -0.481880      0.302397  \n",
       "          Spades_careful all            -0.898558     -0.523440  \n",
       "                         careful         0.373210     -0.679525  \n",
       "                         meta            0.149763      0.379021  \n",
       "          Spades_meta    all             0.695571      0.083876  \n",
       "                         careful         1.893223     -0.832773  \n",
       "                         meta            0.153283      0.197393  \n",
       "200G      Megahit        all             0.227597      0.103742  \n",
       "                         careful         0.823282     -0.812908  \n",
       "                         meta            0.651198      0.109418  \n",
       "          Spades_careful all            -1.581152     -0.469519  \n",
       "                         careful         0.439153     -0.407085  \n",
       "                         meta           -0.629952      0.081039  \n",
       "          Spades_meta    all             0.664866      0.012928  \n",
       "                         careful         1.433097     -0.858315  \n",
       "                         meta            0.342174      0.049821  \n",
       "30G       Megahit        all             0.555562     -0.145995  \n",
       "                         careful         0.028129     -0.543305  \n",
       "                         meta           -0.511392      0.461321  \n",
       "          Spades_careful all             1.313949     -0.617091  \n",
       "                         careful        -0.201791     -0.378705  \n",
       "                         meta           -0.358723      0.296721  \n",
       "          Spades_meta    all            -0.511942      0.415914  \n",
       "                         careful        -0.203292     -0.503574  \n",
       "                         meta           -0.661054      0.432941  "
      ]
     },
     "execution_count": 62,
     "metadata": {},
     "output_type": "execute_result"
    }
   ],
   "source": [
    "all_category_norm_z = all_category.copy()\n",
    "all_category_norm_z[['Completeness','Contamination','Strain_heterogeneity','n_contigs','Longest_contig','pilon_errors']] = zscore(all_category_norm_z[['Completeness','Contamination','Strain_heterogeneity','n_contigs','Longest_contig','pilon_errors']])\n",
    "\n",
    "all_category_norm_z"
   ]
  },
  {
   "cell_type": "code",
   "execution_count": 63,
   "metadata": {},
   "outputs": [
    {
     "data": {
      "text/html": [
       "<div>\n",
       "<style scoped>\n",
       "    .dataframe tbody tr th:only-of-type {\n",
       "        vertical-align: middle;\n",
       "    }\n",
       "\n",
       "    .dataframe tbody tr th {\n",
       "        vertical-align: top;\n",
       "    }\n",
       "\n",
       "    .dataframe thead th {\n",
       "        text-align: right;\n",
       "    }\n",
       "</style>\n",
       "<table border=\"1\" class=\"dataframe\">\n",
       "  <thead>\n",
       "    <tr style=\"text-align: right;\">\n",
       "      <th></th>\n",
       "      <th></th>\n",
       "      <th></th>\n",
       "      <th>Completeness</th>\n",
       "      <th>Contamination</th>\n",
       "      <th>Strain_heterogeneity</th>\n",
       "      <th>n_contigs</th>\n",
       "      <th>Longest_contig</th>\n",
       "      <th>pilon_errors</th>\n",
       "    </tr>\n",
       "    <tr>\n",
       "      <th>Community</th>\n",
       "      <th>Assembly</th>\n",
       "      <th>Category</th>\n",
       "      <th></th>\n",
       "      <th></th>\n",
       "      <th></th>\n",
       "      <th></th>\n",
       "      <th></th>\n",
       "      <th></th>\n",
       "    </tr>\n",
       "  </thead>\n",
       "  <tbody>\n",
       "    <tr>\n",
       "      <th rowspan=\"9\" valign=\"top\">100G</th>\n",
       "      <th rowspan=\"3\" valign=\"top\">Megahit</th>\n",
       "      <th>all</th>\n",
       "      <td>-5.095725</td>\n",
       "      <td>-5.086917</td>\n",
       "      <td>4.500598</td>\n",
       "      <td>-4.440143</td>\n",
       "      <td>-3.398535</td>\n",
       "      <td>-4.599015</td>\n",
       "    </tr>\n",
       "    <tr>\n",
       "      <th>careful</th>\n",
       "      <td>0.216554</td>\n",
       "      <td>0.137744</td>\n",
       "      <td>-0.001992</td>\n",
       "      <td>0.418531</td>\n",
       "      <td>-0.305787</td>\n",
       "      <td>0.753311</td>\n",
       "    </tr>\n",
       "    <tr>\n",
       "      <th>meta</th>\n",
       "      <td>0.224077</td>\n",
       "      <td>0.236530</td>\n",
       "      <td>0.571208</td>\n",
       "      <td>-0.083010</td>\n",
       "      <td>-0.481880</td>\n",
       "      <td>-0.302397</td>\n",
       "    </tr>\n",
       "    <tr>\n",
       "      <th rowspan=\"3\" valign=\"top\">Spades_careful</th>\n",
       "      <th>all</th>\n",
       "      <td>0.170878</td>\n",
       "      <td>0.077375</td>\n",
       "      <td>-0.138293</td>\n",
       "      <td>-0.474838</td>\n",
       "      <td>-0.898558</td>\n",
       "      <td>0.523440</td>\n",
       "    </tr>\n",
       "    <tr>\n",
       "      <th>careful</th>\n",
       "      <td>0.216554</td>\n",
       "      <td>-0.015922</td>\n",
       "      <td>0.086174</td>\n",
       "      <td>-0.051663</td>\n",
       "      <td>0.373210</td>\n",
       "      <td>0.679525</td>\n",
       "    </tr>\n",
       "    <tr>\n",
       "      <th>meta</th>\n",
       "      <td>0.191298</td>\n",
       "      <td>0.177990</td>\n",
       "      <td>0.904469</td>\n",
       "      <td>-0.490511</td>\n",
       "      <td>0.149763</td>\n",
       "      <td>-0.379021</td>\n",
       "    </tr>\n",
       "    <tr>\n",
       "      <th rowspan=\"3\" valign=\"top\">Spades_meta</th>\n",
       "      <th>all</th>\n",
       "      <td>0.225151</td>\n",
       "      <td>0.313363</td>\n",
       "      <td>-0.411140</td>\n",
       "      <td>0.496897</td>\n",
       "      <td>0.695571</td>\n",
       "      <td>-0.083876</td>\n",
       "    </tr>\n",
       "    <tr>\n",
       "      <th>careful</th>\n",
       "      <td>0.233749</td>\n",
       "      <td>0.121280</td>\n",
       "      <td>0.407647</td>\n",
       "      <td>0.653628</td>\n",
       "      <td>1.893223</td>\n",
       "      <td>0.832773</td>\n",
       "    </tr>\n",
       "    <tr>\n",
       "      <th>meta</th>\n",
       "      <td>0.203120</td>\n",
       "      <td>0.240189</td>\n",
       "      <td>-0.411140</td>\n",
       "      <td>-0.067336</td>\n",
       "      <td>0.153283</td>\n",
       "      <td>-0.197393</td>\n",
       "    </tr>\n",
       "    <tr>\n",
       "      <th rowspan=\"9\" valign=\"top\">200G</th>\n",
       "      <th rowspan=\"3\" valign=\"top\">Megahit</th>\n",
       "      <th>all</th>\n",
       "      <td>0.159057</td>\n",
       "      <td>0.167014</td>\n",
       "      <td>-0.411140</td>\n",
       "      <td>-0.177048</td>\n",
       "      <td>0.227597</td>\n",
       "      <td>-0.103742</td>\n",
       "    </tr>\n",
       "    <tr>\n",
       "      <th>careful</th>\n",
       "      <td>0.190761</td>\n",
       "      <td>0.212748</td>\n",
       "      <td>-0.411140</td>\n",
       "      <td>0.324492</td>\n",
       "      <td>0.823282</td>\n",
       "      <td>0.812908</td>\n",
       "    </tr>\n",
       "    <tr>\n",
       "      <th>meta</th>\n",
       "      <td>0.144011</td>\n",
       "      <td>0.106645</td>\n",
       "      <td>-0.411140</td>\n",
       "      <td>-0.412146</td>\n",
       "      <td>0.651198</td>\n",
       "      <td>-0.109418</td>\n",
       "    </tr>\n",
       "    <tr>\n",
       "      <th rowspan=\"3\" valign=\"top\">Spades_careful</th>\n",
       "      <th>all</th>\n",
       "      <td>0.121979</td>\n",
       "      <td>0.161526</td>\n",
       "      <td>1.481844</td>\n",
       "      <td>-1.336861</td>\n",
       "      <td>-1.581152</td>\n",
       "      <td>0.469519</td>\n",
       "    </tr>\n",
       "    <tr>\n",
       "      <th>careful</th>\n",
       "      <td>0.177864</td>\n",
       "      <td>0.194455</td>\n",
       "      <td>-0.411140</td>\n",
       "      <td>0.152088</td>\n",
       "      <td>0.439153</td>\n",
       "      <td>0.407085</td>\n",
       "    </tr>\n",
       "    <tr>\n",
       "      <th>meta</th>\n",
       "      <td>0.169266</td>\n",
       "      <td>0.174332</td>\n",
       "      <td>-0.411140</td>\n",
       "      <td>-0.224068</td>\n",
       "      <td>-0.629952</td>\n",
       "      <td>-0.081039</td>\n",
       "    </tr>\n",
       "    <tr>\n",
       "      <th rowspan=\"3\" valign=\"top\">Spades_meta</th>\n",
       "      <th>all</th>\n",
       "      <td>0.195059</td>\n",
       "      <td>0.256653</td>\n",
       "      <td>-0.411140</td>\n",
       "      <td>0.434204</td>\n",
       "      <td>0.664866</td>\n",
       "      <td>-0.012928</td>\n",
       "    </tr>\n",
       "    <tr>\n",
       "      <th>careful</th>\n",
       "      <td>0.178401</td>\n",
       "      <td>0.207260</td>\n",
       "      <td>-0.411140</td>\n",
       "      <td>0.716321</td>\n",
       "      <td>1.433097</td>\n",
       "      <td>0.858315</td>\n",
       "    </tr>\n",
       "    <tr>\n",
       "      <th>meta</th>\n",
       "      <td>0.181088</td>\n",
       "      <td>0.185308</td>\n",
       "      <td>-0.411140</td>\n",
       "      <td>-0.020317</td>\n",
       "      <td>0.342174</td>\n",
       "      <td>-0.049821</td>\n",
       "    </tr>\n",
       "    <tr>\n",
       "      <th rowspan=\"9\" valign=\"top\">30G</th>\n",
       "      <th rowspan=\"3\" valign=\"top\">Megahit</th>\n",
       "      <th>all</th>\n",
       "      <td>0.092962</td>\n",
       "      <td>0.320681</td>\n",
       "      <td>-0.411140</td>\n",
       "      <td>0.575262</td>\n",
       "      <td>0.555562</td>\n",
       "      <td>0.145995</td>\n",
       "    </tr>\n",
       "    <tr>\n",
       "      <th>careful</th>\n",
       "      <td>0.206881</td>\n",
       "      <td>0.214578</td>\n",
       "      <td>-0.411140</td>\n",
       "      <td>0.575262</td>\n",
       "      <td>0.028129</td>\n",
       "      <td>0.543305</td>\n",
       "    </tr>\n",
       "    <tr>\n",
       "      <th>meta</th>\n",
       "      <td>0.216554</td>\n",
       "      <td>0.188966</td>\n",
       "      <td>-0.411140</td>\n",
       "      <td>-0.114356</td>\n",
       "      <td>-0.511392</td>\n",
       "      <td>-0.461321</td>\n",
       "    </tr>\n",
       "    <tr>\n",
       "      <th rowspan=\"3\" valign=\"top\">Spades_careful</th>\n",
       "      <th>all</th>\n",
       "      <td>0.207419</td>\n",
       "      <td>0.243847</td>\n",
       "      <td>-0.411140</td>\n",
       "      <td>1.014110</td>\n",
       "      <td>1.313949</td>\n",
       "      <td>0.617091</td>\n",
       "    </tr>\n",
       "    <tr>\n",
       "      <th>careful</th>\n",
       "      <td>0.228913</td>\n",
       "      <td>0.260312</td>\n",
       "      <td>-0.411140</td>\n",
       "      <td>0.465550</td>\n",
       "      <td>-0.201791</td>\n",
       "      <td>0.378705</td>\n",
       "    </tr>\n",
       "    <tr>\n",
       "      <th>meta</th>\n",
       "      <td>0.220315</td>\n",
       "      <td>0.190796</td>\n",
       "      <td>-0.411140</td>\n",
       "      <td>0.308819</td>\n",
       "      <td>-0.358723</td>\n",
       "      <td>-0.296721</td>\n",
       "    </tr>\n",
       "    <tr>\n",
       "      <th rowspan=\"3\" valign=\"top\">Spades_meta</th>\n",
       "      <th>all</th>\n",
       "      <td>0.241272</td>\n",
       "      <td>0.243847</td>\n",
       "      <td>-0.411140</td>\n",
       "      <td>0.669301</td>\n",
       "      <td>-0.511942</td>\n",
       "      <td>-0.415914</td>\n",
       "    </tr>\n",
       "    <tr>\n",
       "      <th>careful</th>\n",
       "      <td>0.241272</td>\n",
       "      <td>0.236530</td>\n",
       "      <td>-0.411140</td>\n",
       "      <td>0.669301</td>\n",
       "      <td>-0.203292</td>\n",
       "      <td>0.503574</td>\n",
       "    </tr>\n",
       "    <tr>\n",
       "      <th>meta</th>\n",
       "      <td>0.241272</td>\n",
       "      <td>0.232871</td>\n",
       "      <td>-0.411140</td>\n",
       "      <td>0.418531</td>\n",
       "      <td>-0.661054</td>\n",
       "      <td>-0.432941</td>\n",
       "    </tr>\n",
       "  </tbody>\n",
       "</table>\n",
       "</div>"
      ],
      "text/plain": [
       "                                   Completeness  Contamination  \\\n",
       "Community Assembly       Category                                \n",
       "100G      Megahit        all          -5.095725      -5.086917   \n",
       "                         careful       0.216554       0.137744   \n",
       "                         meta          0.224077       0.236530   \n",
       "          Spades_careful all           0.170878       0.077375   \n",
       "                         careful       0.216554      -0.015922   \n",
       "                         meta          0.191298       0.177990   \n",
       "          Spades_meta    all           0.225151       0.313363   \n",
       "                         careful       0.233749       0.121280   \n",
       "                         meta          0.203120       0.240189   \n",
       "200G      Megahit        all           0.159057       0.167014   \n",
       "                         careful       0.190761       0.212748   \n",
       "                         meta          0.144011       0.106645   \n",
       "          Spades_careful all           0.121979       0.161526   \n",
       "                         careful       0.177864       0.194455   \n",
       "                         meta          0.169266       0.174332   \n",
       "          Spades_meta    all           0.195059       0.256653   \n",
       "                         careful       0.178401       0.207260   \n",
       "                         meta          0.181088       0.185308   \n",
       "30G       Megahit        all           0.092962       0.320681   \n",
       "                         careful       0.206881       0.214578   \n",
       "                         meta          0.216554       0.188966   \n",
       "          Spades_careful all           0.207419       0.243847   \n",
       "                         careful       0.228913       0.260312   \n",
       "                         meta          0.220315       0.190796   \n",
       "          Spades_meta    all           0.241272       0.243847   \n",
       "                         careful       0.241272       0.236530   \n",
       "                         meta          0.241272       0.232871   \n",
       "\n",
       "                                   Strain_heterogeneity  n_contigs  \\\n",
       "Community Assembly       Category                                    \n",
       "100G      Megahit        all                   4.500598  -4.440143   \n",
       "                         careful              -0.001992   0.418531   \n",
       "                         meta                  0.571208  -0.083010   \n",
       "          Spades_careful all                  -0.138293  -0.474838   \n",
       "                         careful               0.086174  -0.051663   \n",
       "                         meta                  0.904469  -0.490511   \n",
       "          Spades_meta    all                  -0.411140   0.496897   \n",
       "                         careful               0.407647   0.653628   \n",
       "                         meta                 -0.411140  -0.067336   \n",
       "200G      Megahit        all                  -0.411140  -0.177048   \n",
       "                         careful              -0.411140   0.324492   \n",
       "                         meta                 -0.411140  -0.412146   \n",
       "          Spades_careful all                   1.481844  -1.336861   \n",
       "                         careful              -0.411140   0.152088   \n",
       "                         meta                 -0.411140  -0.224068   \n",
       "          Spades_meta    all                  -0.411140   0.434204   \n",
       "                         careful              -0.411140   0.716321   \n",
       "                         meta                 -0.411140  -0.020317   \n",
       "30G       Megahit        all                  -0.411140   0.575262   \n",
       "                         careful              -0.411140   0.575262   \n",
       "                         meta                 -0.411140  -0.114356   \n",
       "          Spades_careful all                  -0.411140   1.014110   \n",
       "                         careful              -0.411140   0.465550   \n",
       "                         meta                 -0.411140   0.308819   \n",
       "          Spades_meta    all                  -0.411140   0.669301   \n",
       "                         careful              -0.411140   0.669301   \n",
       "                         meta                 -0.411140   0.418531   \n",
       "\n",
       "                                   Longest_contig  pilon_errors  \n",
       "Community Assembly       Category                                \n",
       "100G      Megahit        all            -3.398535     -4.599015  \n",
       "                         careful        -0.305787      0.753311  \n",
       "                         meta           -0.481880     -0.302397  \n",
       "          Spades_careful all            -0.898558      0.523440  \n",
       "                         careful         0.373210      0.679525  \n",
       "                         meta            0.149763     -0.379021  \n",
       "          Spades_meta    all             0.695571     -0.083876  \n",
       "                         careful         1.893223      0.832773  \n",
       "                         meta            0.153283     -0.197393  \n",
       "200G      Megahit        all             0.227597     -0.103742  \n",
       "                         careful         0.823282      0.812908  \n",
       "                         meta            0.651198     -0.109418  \n",
       "          Spades_careful all            -1.581152      0.469519  \n",
       "                         careful         0.439153      0.407085  \n",
       "                         meta           -0.629952     -0.081039  \n",
       "          Spades_meta    all             0.664866     -0.012928  \n",
       "                         careful         1.433097      0.858315  \n",
       "                         meta            0.342174     -0.049821  \n",
       "30G       Megahit        all             0.555562      0.145995  \n",
       "                         careful         0.028129      0.543305  \n",
       "                         meta           -0.511392     -0.461321  \n",
       "          Spades_careful all             1.313949      0.617091  \n",
       "                         careful        -0.201791      0.378705  \n",
       "                         meta           -0.358723     -0.296721  \n",
       "          Spades_meta    all            -0.511942     -0.415914  \n",
       "                         careful        -0.203292      0.503574  \n",
       "                         meta           -0.661054     -0.432941  "
      ]
     },
     "execution_count": 63,
     "metadata": {},
     "output_type": "execute_result"
    }
   ],
   "source": [
    "all_category_norm_z[['Contamination','n_contigs','pilon_errors']] = -1*all_category_norm_z[['Contamination','n_contigs','pilon_errors']]\n",
    "all_category_norm_z['Strain_heterogeneity'].fillna(0,inplace=True)\n",
    "all_category_norm_z"
   ]
  },
  {
   "cell_type": "code",
   "execution_count": 64,
   "metadata": {},
   "outputs": [
    {
     "data": {
      "text/html": [
       "<div>\n",
       "<style scoped>\n",
       "    .dataframe tbody tr th:only-of-type {\n",
       "        vertical-align: middle;\n",
       "    }\n",
       "\n",
       "    .dataframe tbody tr th {\n",
       "        vertical-align: top;\n",
       "    }\n",
       "\n",
       "    .dataframe thead th {\n",
       "        text-align: right;\n",
       "    }\n",
       "</style>\n",
       "<table border=\"1\" class=\"dataframe\">\n",
       "  <thead>\n",
       "    <tr style=\"text-align: right;\">\n",
       "      <th></th>\n",
       "      <th>Community</th>\n",
       "      <th>Assembly</th>\n",
       "      <th>Category</th>\n",
       "      <th>Completeness</th>\n",
       "      <th>Contamination</th>\n",
       "      <th>Strain_heterogeneity</th>\n",
       "      <th>n_contigs</th>\n",
       "      <th>Longest_contig</th>\n",
       "      <th>pilon_errors</th>\n",
       "    </tr>\n",
       "  </thead>\n",
       "  <tbody>\n",
       "    <tr>\n",
       "      <th>0</th>\n",
       "      <td>100G</td>\n",
       "      <td>Megahit</td>\n",
       "      <td>all</td>\n",
       "      <td>-5.095725</td>\n",
       "      <td>-5.086917</td>\n",
       "      <td>4.500598</td>\n",
       "      <td>-4.440143</td>\n",
       "      <td>-3.398535</td>\n",
       "      <td>-4.599015</td>\n",
       "    </tr>\n",
       "    <tr>\n",
       "      <th>1</th>\n",
       "      <td>100G</td>\n",
       "      <td>Megahit</td>\n",
       "      <td>careful</td>\n",
       "      <td>0.216554</td>\n",
       "      <td>0.137744</td>\n",
       "      <td>-0.001992</td>\n",
       "      <td>0.418531</td>\n",
       "      <td>-0.305787</td>\n",
       "      <td>0.753311</td>\n",
       "    </tr>\n",
       "    <tr>\n",
       "      <th>2</th>\n",
       "      <td>100G</td>\n",
       "      <td>Megahit</td>\n",
       "      <td>meta</td>\n",
       "      <td>0.224077</td>\n",
       "      <td>0.236530</td>\n",
       "      <td>0.571208</td>\n",
       "      <td>-0.083010</td>\n",
       "      <td>-0.481880</td>\n",
       "      <td>-0.302397</td>\n",
       "    </tr>\n",
       "    <tr>\n",
       "      <th>3</th>\n",
       "      <td>100G</td>\n",
       "      <td>Spades_careful</td>\n",
       "      <td>all</td>\n",
       "      <td>0.170878</td>\n",
       "      <td>0.077375</td>\n",
       "      <td>-0.138293</td>\n",
       "      <td>-0.474838</td>\n",
       "      <td>-0.898558</td>\n",
       "      <td>0.523440</td>\n",
       "    </tr>\n",
       "    <tr>\n",
       "      <th>4</th>\n",
       "      <td>100G</td>\n",
       "      <td>Spades_careful</td>\n",
       "      <td>careful</td>\n",
       "      <td>0.216554</td>\n",
       "      <td>-0.015922</td>\n",
       "      <td>0.086174</td>\n",
       "      <td>-0.051663</td>\n",
       "      <td>0.373210</td>\n",
       "      <td>0.679525</td>\n",
       "    </tr>\n",
       "    <tr>\n",
       "      <th>5</th>\n",
       "      <td>100G</td>\n",
       "      <td>Spades_careful</td>\n",
       "      <td>meta</td>\n",
       "      <td>0.191298</td>\n",
       "      <td>0.177990</td>\n",
       "      <td>0.904469</td>\n",
       "      <td>-0.490511</td>\n",
       "      <td>0.149763</td>\n",
       "      <td>-0.379021</td>\n",
       "    </tr>\n",
       "    <tr>\n",
       "      <th>6</th>\n",
       "      <td>100G</td>\n",
       "      <td>Spades_meta</td>\n",
       "      <td>all</td>\n",
       "      <td>0.225151</td>\n",
       "      <td>0.313363</td>\n",
       "      <td>-0.411140</td>\n",
       "      <td>0.496897</td>\n",
       "      <td>0.695571</td>\n",
       "      <td>-0.083876</td>\n",
       "    </tr>\n",
       "    <tr>\n",
       "      <th>7</th>\n",
       "      <td>100G</td>\n",
       "      <td>Spades_meta</td>\n",
       "      <td>careful</td>\n",
       "      <td>0.233749</td>\n",
       "      <td>0.121280</td>\n",
       "      <td>0.407647</td>\n",
       "      <td>0.653628</td>\n",
       "      <td>1.893223</td>\n",
       "      <td>0.832773</td>\n",
       "    </tr>\n",
       "    <tr>\n",
       "      <th>8</th>\n",
       "      <td>100G</td>\n",
       "      <td>Spades_meta</td>\n",
       "      <td>meta</td>\n",
       "      <td>0.203120</td>\n",
       "      <td>0.240189</td>\n",
       "      <td>-0.411140</td>\n",
       "      <td>-0.067336</td>\n",
       "      <td>0.153283</td>\n",
       "      <td>-0.197393</td>\n",
       "    </tr>\n",
       "    <tr>\n",
       "      <th>9</th>\n",
       "      <td>200G</td>\n",
       "      <td>Megahit</td>\n",
       "      <td>all</td>\n",
       "      <td>0.159057</td>\n",
       "      <td>0.167014</td>\n",
       "      <td>-0.411140</td>\n",
       "      <td>-0.177048</td>\n",
       "      <td>0.227597</td>\n",
       "      <td>-0.103742</td>\n",
       "    </tr>\n",
       "    <tr>\n",
       "      <th>10</th>\n",
       "      <td>200G</td>\n",
       "      <td>Megahit</td>\n",
       "      <td>careful</td>\n",
       "      <td>0.190761</td>\n",
       "      <td>0.212748</td>\n",
       "      <td>-0.411140</td>\n",
       "      <td>0.324492</td>\n",
       "      <td>0.823282</td>\n",
       "      <td>0.812908</td>\n",
       "    </tr>\n",
       "    <tr>\n",
       "      <th>11</th>\n",
       "      <td>200G</td>\n",
       "      <td>Megahit</td>\n",
       "      <td>meta</td>\n",
       "      <td>0.144011</td>\n",
       "      <td>0.106645</td>\n",
       "      <td>-0.411140</td>\n",
       "      <td>-0.412146</td>\n",
       "      <td>0.651198</td>\n",
       "      <td>-0.109418</td>\n",
       "    </tr>\n",
       "    <tr>\n",
       "      <th>12</th>\n",
       "      <td>200G</td>\n",
       "      <td>Spades_careful</td>\n",
       "      <td>all</td>\n",
       "      <td>0.121979</td>\n",
       "      <td>0.161526</td>\n",
       "      <td>1.481844</td>\n",
       "      <td>-1.336861</td>\n",
       "      <td>-1.581152</td>\n",
       "      <td>0.469519</td>\n",
       "    </tr>\n",
       "    <tr>\n",
       "      <th>13</th>\n",
       "      <td>200G</td>\n",
       "      <td>Spades_careful</td>\n",
       "      <td>careful</td>\n",
       "      <td>0.177864</td>\n",
       "      <td>0.194455</td>\n",
       "      <td>-0.411140</td>\n",
       "      <td>0.152088</td>\n",
       "      <td>0.439153</td>\n",
       "      <td>0.407085</td>\n",
       "    </tr>\n",
       "    <tr>\n",
       "      <th>14</th>\n",
       "      <td>200G</td>\n",
       "      <td>Spades_careful</td>\n",
       "      <td>meta</td>\n",
       "      <td>0.169266</td>\n",
       "      <td>0.174332</td>\n",
       "      <td>-0.411140</td>\n",
       "      <td>-0.224068</td>\n",
       "      <td>-0.629952</td>\n",
       "      <td>-0.081039</td>\n",
       "    </tr>\n",
       "    <tr>\n",
       "      <th>15</th>\n",
       "      <td>200G</td>\n",
       "      <td>Spades_meta</td>\n",
       "      <td>all</td>\n",
       "      <td>0.195059</td>\n",
       "      <td>0.256653</td>\n",
       "      <td>-0.411140</td>\n",
       "      <td>0.434204</td>\n",
       "      <td>0.664866</td>\n",
       "      <td>-0.012928</td>\n",
       "    </tr>\n",
       "    <tr>\n",
       "      <th>16</th>\n",
       "      <td>200G</td>\n",
       "      <td>Spades_meta</td>\n",
       "      <td>careful</td>\n",
       "      <td>0.178401</td>\n",
       "      <td>0.207260</td>\n",
       "      <td>-0.411140</td>\n",
       "      <td>0.716321</td>\n",
       "      <td>1.433097</td>\n",
       "      <td>0.858315</td>\n",
       "    </tr>\n",
       "    <tr>\n",
       "      <th>17</th>\n",
       "      <td>200G</td>\n",
       "      <td>Spades_meta</td>\n",
       "      <td>meta</td>\n",
       "      <td>0.181088</td>\n",
       "      <td>0.185308</td>\n",
       "      <td>-0.411140</td>\n",
       "      <td>-0.020317</td>\n",
       "      <td>0.342174</td>\n",
       "      <td>-0.049821</td>\n",
       "    </tr>\n",
       "    <tr>\n",
       "      <th>18</th>\n",
       "      <td>30G</td>\n",
       "      <td>Megahit</td>\n",
       "      <td>all</td>\n",
       "      <td>0.092962</td>\n",
       "      <td>0.320681</td>\n",
       "      <td>-0.411140</td>\n",
       "      <td>0.575262</td>\n",
       "      <td>0.555562</td>\n",
       "      <td>0.145995</td>\n",
       "    </tr>\n",
       "    <tr>\n",
       "      <th>19</th>\n",
       "      <td>30G</td>\n",
       "      <td>Megahit</td>\n",
       "      <td>careful</td>\n",
       "      <td>0.206881</td>\n",
       "      <td>0.214578</td>\n",
       "      <td>-0.411140</td>\n",
       "      <td>0.575262</td>\n",
       "      <td>0.028129</td>\n",
       "      <td>0.543305</td>\n",
       "    </tr>\n",
       "    <tr>\n",
       "      <th>20</th>\n",
       "      <td>30G</td>\n",
       "      <td>Megahit</td>\n",
       "      <td>meta</td>\n",
       "      <td>0.216554</td>\n",
       "      <td>0.188966</td>\n",
       "      <td>-0.411140</td>\n",
       "      <td>-0.114356</td>\n",
       "      <td>-0.511392</td>\n",
       "      <td>-0.461321</td>\n",
       "    </tr>\n",
       "    <tr>\n",
       "      <th>21</th>\n",
       "      <td>30G</td>\n",
       "      <td>Spades_careful</td>\n",
       "      <td>all</td>\n",
       "      <td>0.207419</td>\n",
       "      <td>0.243847</td>\n",
       "      <td>-0.411140</td>\n",
       "      <td>1.014110</td>\n",
       "      <td>1.313949</td>\n",
       "      <td>0.617091</td>\n",
       "    </tr>\n",
       "    <tr>\n",
       "      <th>22</th>\n",
       "      <td>30G</td>\n",
       "      <td>Spades_careful</td>\n",
       "      <td>careful</td>\n",
       "      <td>0.228913</td>\n",
       "      <td>0.260312</td>\n",
       "      <td>-0.411140</td>\n",
       "      <td>0.465550</td>\n",
       "      <td>-0.201791</td>\n",
       "      <td>0.378705</td>\n",
       "    </tr>\n",
       "    <tr>\n",
       "      <th>23</th>\n",
       "      <td>30G</td>\n",
       "      <td>Spades_careful</td>\n",
       "      <td>meta</td>\n",
       "      <td>0.220315</td>\n",
       "      <td>0.190796</td>\n",
       "      <td>-0.411140</td>\n",
       "      <td>0.308819</td>\n",
       "      <td>-0.358723</td>\n",
       "      <td>-0.296721</td>\n",
       "    </tr>\n",
       "    <tr>\n",
       "      <th>24</th>\n",
       "      <td>30G</td>\n",
       "      <td>Spades_meta</td>\n",
       "      <td>all</td>\n",
       "      <td>0.241272</td>\n",
       "      <td>0.243847</td>\n",
       "      <td>-0.411140</td>\n",
       "      <td>0.669301</td>\n",
       "      <td>-0.511942</td>\n",
       "      <td>-0.415914</td>\n",
       "    </tr>\n",
       "    <tr>\n",
       "      <th>25</th>\n",
       "      <td>30G</td>\n",
       "      <td>Spades_meta</td>\n",
       "      <td>careful</td>\n",
       "      <td>0.241272</td>\n",
       "      <td>0.236530</td>\n",
       "      <td>-0.411140</td>\n",
       "      <td>0.669301</td>\n",
       "      <td>-0.203292</td>\n",
       "      <td>0.503574</td>\n",
       "    </tr>\n",
       "    <tr>\n",
       "      <th>26</th>\n",
       "      <td>30G</td>\n",
       "      <td>Spades_meta</td>\n",
       "      <td>meta</td>\n",
       "      <td>0.241272</td>\n",
       "      <td>0.232871</td>\n",
       "      <td>-0.411140</td>\n",
       "      <td>0.418531</td>\n",
       "      <td>-0.661054</td>\n",
       "      <td>-0.432941</td>\n",
       "    </tr>\n",
       "  </tbody>\n",
       "</table>\n",
       "</div>"
      ],
      "text/plain": [
       "   Community        Assembly Category  Completeness  Contamination  \\\n",
       "0       100G         Megahit      all     -5.095725      -5.086917   \n",
       "1       100G         Megahit  careful      0.216554       0.137744   \n",
       "2       100G         Megahit     meta      0.224077       0.236530   \n",
       "3       100G  Spades_careful      all      0.170878       0.077375   \n",
       "4       100G  Spades_careful  careful      0.216554      -0.015922   \n",
       "5       100G  Spades_careful     meta      0.191298       0.177990   \n",
       "6       100G     Spades_meta      all      0.225151       0.313363   \n",
       "7       100G     Spades_meta  careful      0.233749       0.121280   \n",
       "8       100G     Spades_meta     meta      0.203120       0.240189   \n",
       "9       200G         Megahit      all      0.159057       0.167014   \n",
       "10      200G         Megahit  careful      0.190761       0.212748   \n",
       "11      200G         Megahit     meta      0.144011       0.106645   \n",
       "12      200G  Spades_careful      all      0.121979       0.161526   \n",
       "13      200G  Spades_careful  careful      0.177864       0.194455   \n",
       "14      200G  Spades_careful     meta      0.169266       0.174332   \n",
       "15      200G     Spades_meta      all      0.195059       0.256653   \n",
       "16      200G     Spades_meta  careful      0.178401       0.207260   \n",
       "17      200G     Spades_meta     meta      0.181088       0.185308   \n",
       "18       30G         Megahit      all      0.092962       0.320681   \n",
       "19       30G         Megahit  careful      0.206881       0.214578   \n",
       "20       30G         Megahit     meta      0.216554       0.188966   \n",
       "21       30G  Spades_careful      all      0.207419       0.243847   \n",
       "22       30G  Spades_careful  careful      0.228913       0.260312   \n",
       "23       30G  Spades_careful     meta      0.220315       0.190796   \n",
       "24       30G     Spades_meta      all      0.241272       0.243847   \n",
       "25       30G     Spades_meta  careful      0.241272       0.236530   \n",
       "26       30G     Spades_meta     meta      0.241272       0.232871   \n",
       "\n",
       "    Strain_heterogeneity  n_contigs  Longest_contig  pilon_errors  \n",
       "0               4.500598  -4.440143       -3.398535     -4.599015  \n",
       "1              -0.001992   0.418531       -0.305787      0.753311  \n",
       "2               0.571208  -0.083010       -0.481880     -0.302397  \n",
       "3              -0.138293  -0.474838       -0.898558      0.523440  \n",
       "4               0.086174  -0.051663        0.373210      0.679525  \n",
       "5               0.904469  -0.490511        0.149763     -0.379021  \n",
       "6              -0.411140   0.496897        0.695571     -0.083876  \n",
       "7               0.407647   0.653628        1.893223      0.832773  \n",
       "8              -0.411140  -0.067336        0.153283     -0.197393  \n",
       "9              -0.411140  -0.177048        0.227597     -0.103742  \n",
       "10             -0.411140   0.324492        0.823282      0.812908  \n",
       "11             -0.411140  -0.412146        0.651198     -0.109418  \n",
       "12              1.481844  -1.336861       -1.581152      0.469519  \n",
       "13             -0.411140   0.152088        0.439153      0.407085  \n",
       "14             -0.411140  -0.224068       -0.629952     -0.081039  \n",
       "15             -0.411140   0.434204        0.664866     -0.012928  \n",
       "16             -0.411140   0.716321        1.433097      0.858315  \n",
       "17             -0.411140  -0.020317        0.342174     -0.049821  \n",
       "18             -0.411140   0.575262        0.555562      0.145995  \n",
       "19             -0.411140   0.575262        0.028129      0.543305  \n",
       "20             -0.411140  -0.114356       -0.511392     -0.461321  \n",
       "21             -0.411140   1.014110        1.313949      0.617091  \n",
       "22             -0.411140   0.465550       -0.201791      0.378705  \n",
       "23             -0.411140   0.308819       -0.358723     -0.296721  \n",
       "24             -0.411140   0.669301       -0.511942     -0.415914  \n",
       "25             -0.411140   0.669301       -0.203292      0.503574  \n",
       "26             -0.411140   0.418531       -0.661054     -0.432941  "
      ]
     },
     "execution_count": 64,
     "metadata": {},
     "output_type": "execute_result"
    }
   ],
   "source": [
    "all_category_norm_z = all_category_norm_z.reset_index()\n",
    "all_category_norm_z"
   ]
  },
  {
   "cell_type": "code",
   "execution_count": 65,
   "metadata": {},
   "outputs": [
    {
     "name": "stdout",
     "output_type": "stream",
     "text": [
      "[-9.037081545985146, 21.24834859273057, 20.156108379999814, 16.671677611542677, 21.76498418143713, 21.0046924635312, 22.523883092834044, 30.22972714272474, 19.244943686798745, 19.040115345892104, 23.583347223130957, 19.274455532867798, 16.79053384035785, 21.278178466449337, 16.87098645232132, 22.196233426145277, 26.71568755226586, 19.880338966595023, 22.525849808589843, 21.409298239370894, 17.096559177332363, 26.89650968324899, 20.391103781956556, 18.61156992196636, 19.039635768694414, 20.970432831741583, 18.05582373066063]\n"
     ]
    }
   ],
   "source": [
    "## Calculating polygon area\n",
    "\n",
    "area_list = list()\n",
    "for index in all_category_norm_z.index.to_list():\n",
    "       r = all_category_norm_z[['Completeness', 'Contamination',\n",
    "              'Strain_heterogeneity', 'n_contigs', 'Longest_contig', 'pilon_errors']].loc[index].values\n",
    "       theta = 360/len(r)\n",
    "       area=0\n",
    "       for i in range(0,len(r)-1,1):\n",
    "              a = (r[i])+3\n",
    "              b = (r[i+1])+3\n",
    "              area+= (a*b*np.sin(np.deg2rad(theta))/2)\n",
    "       area_list.append(area)\n",
    "\n",
    "print(area_list)"
   ]
  },
  {
   "cell_type": "code",
   "execution_count": 66,
   "metadata": {},
   "outputs": [
    {
     "data": {
      "application/vnd.plotly.v1+json": {
       "config": {
        "plotlyServerURL": "https://plot.ly"
       },
       "data": [
        {
         "fill": "toself",
         "name": "100G: Spades_careful all - area -9.04",
         "r": [
          -5.0957254557544465,
          -5.086916765197372,
          4.50059804708701,
          -4.440143477768244,
          -3.3985348454166617,
          -4.5990154373386085
         ],
         "showlegend": true,
         "theta": [
          "Completeness",
          "Contamination",
          "Strain_heterogeneity",
          "n_contigs",
          "Longest_contig",
          "pilon_errors"
         ],
         "type": "scatterpolar"
        },
        {
         "fill": "toself",
         "name": "100G: Spades_careful careful - area 21.25",
         "r": [
          0.21655355464189313,
          0.13774426648791613,
          -0.0019919825470787866,
          0.41853097757496466,
          -0.30578703815919495,
          0.7533114761605715
         ],
         "showlegend": true,
         "theta": [
          "Completeness",
          "Contamination",
          "Strain_heterogeneity",
          "n_contigs",
          "Longest_contig",
          "pilon_errors"
         ],
         "type": "scatterpolar"
        },
        {
         "fill": "toself",
         "name": "100G: Spades_careful meta - area 20.16",
         "r": [
          0.22407650691233028,
          0.23652987422986485,
          0.5712078172328908,
          -0.08300961136368913,
          -0.481880333435986,
          -0.30239669553703974
         ],
         "showlegend": true,
         "theta": [
          "Completeness",
          "Contamination",
          "Strain_heterogeneity",
          "n_contigs",
          "Longest_contig",
          "pilon_errors"
         ],
         "type": "scatterpolar"
        },
        {
         "fill": "toself",
         "name": "100G: Spades_careful all - area 16.67",
         "r": [
          0.17087848728566202,
          0.07737528397894745,
          -0.13829270614514358,
          -0.4748381964720124,
          -0.89855783474026,
          0.5234395355489948
         ],
         "showlegend": true,
         "theta": [
          "Completeness",
          "Contamination",
          "Strain_heterogeneity",
          "n_contigs",
          "Longest_contig",
          "pilon_errors"
         ],
         "type": "scatterpolar"
        },
        {
         "fill": "toself",
         "name": "100G: Spades_careful careful - area 21.76",
         "r": [
          0.21655355464189313,
          -0.01592223444400416,
          0.08617371073527301,
          -0.051663324555023274,
          0.3732099650353228,
          0.6795254211494481
         ],
         "showlegend": true,
         "theta": [
          "Completeness",
          "Contamination",
          "Strain_heterogeneity",
          "n_contigs",
          "Longest_contig",
          "pilon_errors"
         ],
         "type": "scatterpolar"
        },
        {
         "fill": "toself",
         "name": "100G: Spades_careful meta - area 21.0",
         "r": [
          0.19129792916256455,
          0.17799025482722855,
          0.9044692261023933,
          -0.4905113398763453,
          0.14976320382270905,
          -0.3790206757408986
         ],
         "showlegend": true,
         "theta": [
          "Completeness",
          "Contamination",
          "Strain_heterogeneity",
          "n_contigs",
          "Longest_contig",
          "pilon_errors"
         ],
         "type": "scatterpolar"
        },
        {
         "fill": "toself",
         "name": "100G: Spades_careful all - area 22.52",
         "r": [
          0.2251512143795347,
          0.31336312469582495,
          -0.411139740230639,
          0.4968966945966293,
          0.6955710218177125,
          -0.08387645569640516
         ],
         "showlegend": true,
         "theta": [
          "Completeness",
          "Contamination",
          "Strain_heterogeneity",
          "n_contigs",
          "Longest_contig",
          "pilon_errors"
         ],
         "type": "scatterpolar"
        },
        {
         "fill": "toself",
         "name": "100G: Spades_careful careful - area 30.23",
         "r": [
          0.23374887411717932,
          0.12127999853092465,
          0.40764694891521325,
          0.6536281286399586,
          1.8932232226442656,
          0.8327733815571658
         ],
         "showlegend": true,
         "theta": [
          "Completeness",
          "Contamination",
          "Strain_heterogeneity",
          "n_contigs",
          "Longest_contig",
          "pilon_errors"
         ],
         "type": "scatterpolar"
        },
        {
         "fill": "toself",
         "name": "100G: Spades_careful meta - area 19.24",
         "r": [
          0.20311971130182552,
          0.24018860044252963,
          -0.411139740230639,
          -0.0673364679593562,
          0.15328308979238692,
          -0.19739346340582573
         ],
         "showlegend": true,
         "theta": [
          "Completeness",
          "Contamination",
          "Strain_heterogeneity",
          "n_contigs",
          "Longest_contig",
          "pilon_errors"
         ],
         "type": "scatterpolar"
        },
        {
         "fill": "toself",
         "name": "200G: Spades_careful all - area 19.04",
         "r": [
          0.1590567051464041,
          0.16701407618923425,
          -0.411139740230639,
          -0.17704847178968672,
          0.22759668232721111,
          -0.10374193204555375
         ],
         "showlegend": true,
         "theta": [
          "Completeness",
          "Contamination",
          "Strain_heterogeneity",
          "n_contigs",
          "Longest_contig",
          "pilon_errors"
         ],
         "type": "scatterpolar"
        },
        {
         "fill": "toself",
         "name": "200G: Spades_careful careful - area 23.58",
         "r": [
          0.19076057542896233,
          0.21274815384754384,
          -0.411139740230639,
          0.32449211714896703,
          0.8232823844769156,
          0.8129079052080173
         ],
         "showlegend": true,
         "theta": [
          "Completeness",
          "Contamination",
          "Strain_heterogeneity",
          "n_contigs",
          "Longest_contig",
          "pilon_errors"
         ],
         "type": "scatterpolar"
        },
        {
         "fill": "toself",
         "name": "200G: Spades_careful meta - area 19.27",
         "r": [
          0.14401080060552676,
          0.10664509368026562,
          -0.411139740230639,
          -0.41214562285468065,
          0.6511984593124608,
          -0.10941778243102479
         ],
         "showlegend": true,
         "theta": [
          "Completeness",
          "Contamination",
          "Strain_heterogeneity",
          "n_contigs",
          "Longest_contig",
          "pilon_errors"
         ],
         "type": "scatterpolar"
        },
        {
         "fill": "toself",
         "name": "200G: Spades_careful all - area 16.79",
         "r": [
          0.12197929752781758,
          0.1615259868702371,
          1.481844003001583,
          -1.3368610837103236,
          -1.5811517214100423,
          0.4695189568870201
         ],
         "showlegend": true,
         "theta": [
          "Completeness",
          "Contamination",
          "Strain_heterogeneity",
          "n_contigs",
          "Longest_contig",
          "pilon_errors"
         ],
         "type": "scatterpolar"
        },
        {
         "fill": "toself",
         "name": "200G: Spades_careful careful - area 21.28",
         "r": [
          0.17786408582249694,
          0.19445452278422,
          -0.411139740230639,
          0.1520875397013048,
          0.43915282874850675,
          0.40708460264683877
         ],
         "showlegend": true,
         "theta": [
          "Completeness",
          "Contamination",
          "Strain_heterogeneity",
          "n_contigs",
          "Longest_contig",
          "pilon_errors"
         ],
         "type": "scatterpolar"
        },
        {
         "fill": "toself",
         "name": "200G: Spades_careful meta - area 16.87",
         "r": [
          0.16926642608485537,
          0.17433152861456377,
          -0.411139740230639,
          -0.2240679020026855,
          -0.6299520365010446,
          -0.08103853050366965
         ],
         "showlegend": true,
         "theta": [
          "Completeness",
          "Contamination",
          "Strain_heterogeneity",
          "n_contigs",
          "Longest_contig",
          "pilon_errors"
         ],
         "type": "scatterpolar"
        },
        {
         "fill": "toself",
         "name": "200G: Spades_careful all - area 22.2",
         "r": [
          0.19505940529778312,
          0.25665286839952106,
          -0.411139740230639,
          0.43420412097929756,
          0.6648655165541006,
          -0.012928325878017306
         ],
         "showlegend": true,
         "theta": [
          "Completeness",
          "Contamination",
          "Strain_heterogeneity",
          "n_contigs",
          "Longest_contig",
          "pilon_errors"
         ],
         "type": "scatterpolar"
        },
        {
         "fill": "toself",
         "name": "200G: Spades_careful careful - area 26.72",
         "r": [
          0.17840143955610066,
          0.20726006452854667,
          -0.411139740230639,
          0.7163207022572903,
          1.4330971289017802,
          0.8583147082917855
         ],
         "showlegend": true,
         "theta": [
          "Completeness",
          "Contamination",
          "Strain_heterogeneity",
          "n_contigs",
          "Longest_contig",
          "pilon_errors"
         ],
         "type": "scatterpolar"
        },
        {
         "fill": "toself",
         "name": "200G: Spades_careful meta - area 19.88",
         "r": [
          0.18108820822411328,
          0.18530770725255805,
          -0.411139740230639,
          -0.020317037746357413,
          0.3421744704620536,
          -0.04982135338357899
         ],
         "showlegend": true,
         "theta": [
          "Completeness",
          "Contamination",
          "Strain_heterogeneity",
          "n_contigs",
          "Longest_contig",
          "pilon_errors"
         ],
         "type": "scatterpolar"
        },
        {
         "fill": "toself",
         "name": "30G: Spades_careful all - area 22.53",
         "r": [
          0.09296219591327043,
          0.3206805771211545,
          -0.411139740230639,
          0.575262411618294,
          0.5555620575519473,
          0.14599548491517148
         ],
         "showlegend": true,
         "theta": [
          "Completeness",
          "Contamination",
          "Strain_heterogeneity",
          "n_contigs",
          "Longest_contig",
          "pilon_errors"
         ],
         "type": "scatterpolar"
        },
        {
         "fill": "toself",
         "name": "30G: Spades_careful careful - area 21.41",
         "r": [
          0.2068811874370441,
          0.21457751695387622,
          -0.411139740230639,
          0.575262411618294,
          0.028129144283027905,
          0.5433050118981434
         ],
         "showlegend": true,
         "theta": [
          "Completeness",
          "Contamination",
          "Strain_heterogeneity",
          "n_contigs",
          "Longest_contig",
          "pilon_errors"
         ],
         "type": "scatterpolar"
        },
        {
         "fill": "toself",
         "name": "30G: Spades_careful meta - area 17.1",
         "r": [
          0.21655355464189313,
          0.18896643346522288,
          -0.411139740230639,
          -0.11435589817235499,
          -0.5113923773630039,
          -0.46132050633022853
         ],
         "showlegend": true,
         "theta": [
          "Completeness",
          "Contamination",
          "Strain_heterogeneity",
          "n_contigs",
          "Longest_contig",
          "pilon_errors"
         ],
         "type": "scatterpolar"
        },
        {
         "fill": "toself",
         "name": "30G: Spades_careful all - area 26.9",
         "r": [
          0.2074185411706463,
          0.24384732665519437,
          -0.411139740230639,
          1.014110426939616,
          1.3139489888281841,
          0.6170910669092668
         ],
         "showlegend": true,
         "theta": [
          "Completeness",
          "Contamination",
          "Strain_heterogeneity",
          "n_contigs",
          "Longest_contig",
          "pilon_errors"
         ],
         "type": "scatterpolar"
        },
        {
         "fill": "toself",
         "name": "30G: Spades_careful careful - area 20.39",
         "r": [
          0.2289126905147548,
          0.26031159461218584,
          -0.411139740230639,
          0.4655504077879634,
          -0.20179090722069656,
          0.37870535071948364
         ],
         "showlegend": true,
         "theta": [
          "Completeness",
          "Contamination",
          "Strain_heterogeneity",
          "n_contigs",
          "Longest_contig",
          "pilon_errors"
         ],
         "type": "scatterpolar"
        },
        {
         "fill": "toself",
         "name": "30G: Spades_careful meta - area 18.61",
         "r": [
          0.2203150307771117,
          0.19079579657155527,
          -0.411139740230639,
          0.30881897374463413,
          -0.35872282325005367,
          -0.2967208451515687
         ],
         "showlegend": true,
         "theta": [
          "Completeness",
          "Contamination",
          "Strain_heterogeneity",
          "n_contigs",
          "Longest_contig",
          "pilon_errors"
         ],
         "type": "scatterpolar"
        },
        {
         "fill": "toself",
         "name": "30G: Spades_careful all - area 19.04",
         "r": [
          0.24127182638761646,
          0.24384732665519437,
          -0.411139740230639,
          0.6693012720442916,
          -0.5119423595457662,
          -0.4159137032464603
         ],
         "showlegend": true,
         "theta": [
          "Completeness",
          "Contamination",
          "Strain_heterogeneity",
          "n_contigs",
          "Longest_contig",
          "pilon_errors"
         ],
         "type": "scatterpolar"
        },
        {
         "fill": "toself",
         "name": "30G: Spades_careful careful - area 20.97",
         "r": [
          0.24127182638761646,
          0.23652987422986485,
          -0.411139740230639,
          0.6693012720442916,
          -0.2032923585796373,
          0.5035740591998462
         ],
         "showlegend": true,
         "theta": [
          "Completeness",
          "Contamination",
          "Strain_heterogeneity",
          "n_contigs",
          "Longest_contig",
          "pilon_errors"
         ],
         "type": "scatterpolar"
        },
        {
         "fill": "toself",
         "name": "30G: Spades_careful meta - area 18.06",
         "r": [
          0.24127182638761646,
          0.23287114801720007,
          -0.411139740230639,
          0.41853097757496466,
          -0.6610535289362452,
          -0.4329412544028734
         ],
         "showlegend": true,
         "theta": [
          "Completeness",
          "Contamination",
          "Strain_heterogeneity",
          "n_contigs",
          "Longest_contig",
          "pilon_errors"
         ],
         "type": "scatterpolar"
        }
       ],
       "layout": {
        "polar": {
         "radialaxis": {
          "range": [
           -5,
           5
          ],
          "visible": true
         }
        },
        "template": {
         "data": {
          "bar": [
           {
            "error_x": {
             "color": "#2a3f5f"
            },
            "error_y": {
             "color": "#2a3f5f"
            },
            "marker": {
             "line": {
              "color": "#E5ECF6",
              "width": 0.5
             },
             "pattern": {
              "fillmode": "overlay",
              "size": 10,
              "solidity": 0.2
             }
            },
            "type": "bar"
           }
          ],
          "barpolar": [
           {
            "marker": {
             "line": {
              "color": "#E5ECF6",
              "width": 0.5
             },
             "pattern": {
              "fillmode": "overlay",
              "size": 10,
              "solidity": 0.2
             }
            },
            "type": "barpolar"
           }
          ],
          "carpet": [
           {
            "aaxis": {
             "endlinecolor": "#2a3f5f",
             "gridcolor": "white",
             "linecolor": "white",
             "minorgridcolor": "white",
             "startlinecolor": "#2a3f5f"
            },
            "baxis": {
             "endlinecolor": "#2a3f5f",
             "gridcolor": "white",
             "linecolor": "white",
             "minorgridcolor": "white",
             "startlinecolor": "#2a3f5f"
            },
            "type": "carpet"
           }
          ],
          "choropleth": [
           {
            "colorbar": {
             "outlinewidth": 0,
             "ticks": ""
            },
            "type": "choropleth"
           }
          ],
          "contour": [
           {
            "colorbar": {
             "outlinewidth": 0,
             "ticks": ""
            },
            "colorscale": [
             [
              0,
              "#0d0887"
             ],
             [
              0.1111111111111111,
              "#46039f"
             ],
             [
              0.2222222222222222,
              "#7201a8"
             ],
             [
              0.3333333333333333,
              "#9c179e"
             ],
             [
              0.4444444444444444,
              "#bd3786"
             ],
             [
              0.5555555555555556,
              "#d8576b"
             ],
             [
              0.6666666666666666,
              "#ed7953"
             ],
             [
              0.7777777777777778,
              "#fb9f3a"
             ],
             [
              0.8888888888888888,
              "#fdca26"
             ],
             [
              1,
              "#f0f921"
             ]
            ],
            "type": "contour"
           }
          ],
          "contourcarpet": [
           {
            "colorbar": {
             "outlinewidth": 0,
             "ticks": ""
            },
            "type": "contourcarpet"
           }
          ],
          "heatmap": [
           {
            "colorbar": {
             "outlinewidth": 0,
             "ticks": ""
            },
            "colorscale": [
             [
              0,
              "#0d0887"
             ],
             [
              0.1111111111111111,
              "#46039f"
             ],
             [
              0.2222222222222222,
              "#7201a8"
             ],
             [
              0.3333333333333333,
              "#9c179e"
             ],
             [
              0.4444444444444444,
              "#bd3786"
             ],
             [
              0.5555555555555556,
              "#d8576b"
             ],
             [
              0.6666666666666666,
              "#ed7953"
             ],
             [
              0.7777777777777778,
              "#fb9f3a"
             ],
             [
              0.8888888888888888,
              "#fdca26"
             ],
             [
              1,
              "#f0f921"
             ]
            ],
            "type": "heatmap"
           }
          ],
          "heatmapgl": [
           {
            "colorbar": {
             "outlinewidth": 0,
             "ticks": ""
            },
            "colorscale": [
             [
              0,
              "#0d0887"
             ],
             [
              0.1111111111111111,
              "#46039f"
             ],
             [
              0.2222222222222222,
              "#7201a8"
             ],
             [
              0.3333333333333333,
              "#9c179e"
             ],
             [
              0.4444444444444444,
              "#bd3786"
             ],
             [
              0.5555555555555556,
              "#d8576b"
             ],
             [
              0.6666666666666666,
              "#ed7953"
             ],
             [
              0.7777777777777778,
              "#fb9f3a"
             ],
             [
              0.8888888888888888,
              "#fdca26"
             ],
             [
              1,
              "#f0f921"
             ]
            ],
            "type": "heatmapgl"
           }
          ],
          "histogram": [
           {
            "marker": {
             "pattern": {
              "fillmode": "overlay",
              "size": 10,
              "solidity": 0.2
             }
            },
            "type": "histogram"
           }
          ],
          "histogram2d": [
           {
            "colorbar": {
             "outlinewidth": 0,
             "ticks": ""
            },
            "colorscale": [
             [
              0,
              "#0d0887"
             ],
             [
              0.1111111111111111,
              "#46039f"
             ],
             [
              0.2222222222222222,
              "#7201a8"
             ],
             [
              0.3333333333333333,
              "#9c179e"
             ],
             [
              0.4444444444444444,
              "#bd3786"
             ],
             [
              0.5555555555555556,
              "#d8576b"
             ],
             [
              0.6666666666666666,
              "#ed7953"
             ],
             [
              0.7777777777777778,
              "#fb9f3a"
             ],
             [
              0.8888888888888888,
              "#fdca26"
             ],
             [
              1,
              "#f0f921"
             ]
            ],
            "type": "histogram2d"
           }
          ],
          "histogram2dcontour": [
           {
            "colorbar": {
             "outlinewidth": 0,
             "ticks": ""
            },
            "colorscale": [
             [
              0,
              "#0d0887"
             ],
             [
              0.1111111111111111,
              "#46039f"
             ],
             [
              0.2222222222222222,
              "#7201a8"
             ],
             [
              0.3333333333333333,
              "#9c179e"
             ],
             [
              0.4444444444444444,
              "#bd3786"
             ],
             [
              0.5555555555555556,
              "#d8576b"
             ],
             [
              0.6666666666666666,
              "#ed7953"
             ],
             [
              0.7777777777777778,
              "#fb9f3a"
             ],
             [
              0.8888888888888888,
              "#fdca26"
             ],
             [
              1,
              "#f0f921"
             ]
            ],
            "type": "histogram2dcontour"
           }
          ],
          "mesh3d": [
           {
            "colorbar": {
             "outlinewidth": 0,
             "ticks": ""
            },
            "type": "mesh3d"
           }
          ],
          "parcoords": [
           {
            "line": {
             "colorbar": {
              "outlinewidth": 0,
              "ticks": ""
             }
            },
            "type": "parcoords"
           }
          ],
          "pie": [
           {
            "automargin": true,
            "type": "pie"
           }
          ],
          "scatter": [
           {
            "marker": {
             "colorbar": {
              "outlinewidth": 0,
              "ticks": ""
             }
            },
            "type": "scatter"
           }
          ],
          "scatter3d": [
           {
            "line": {
             "colorbar": {
              "outlinewidth": 0,
              "ticks": ""
             }
            },
            "marker": {
             "colorbar": {
              "outlinewidth": 0,
              "ticks": ""
             }
            },
            "type": "scatter3d"
           }
          ],
          "scattercarpet": [
           {
            "marker": {
             "colorbar": {
              "outlinewidth": 0,
              "ticks": ""
             }
            },
            "type": "scattercarpet"
           }
          ],
          "scattergeo": [
           {
            "marker": {
             "colorbar": {
              "outlinewidth": 0,
              "ticks": ""
             }
            },
            "type": "scattergeo"
           }
          ],
          "scattergl": [
           {
            "marker": {
             "colorbar": {
              "outlinewidth": 0,
              "ticks": ""
             }
            },
            "type": "scattergl"
           }
          ],
          "scattermapbox": [
           {
            "marker": {
             "colorbar": {
              "outlinewidth": 0,
              "ticks": ""
             }
            },
            "type": "scattermapbox"
           }
          ],
          "scatterpolar": [
           {
            "marker": {
             "colorbar": {
              "outlinewidth": 0,
              "ticks": ""
             }
            },
            "type": "scatterpolar"
           }
          ],
          "scatterpolargl": [
           {
            "marker": {
             "colorbar": {
              "outlinewidth": 0,
              "ticks": ""
             }
            },
            "type": "scatterpolargl"
           }
          ],
          "scatterternary": [
           {
            "marker": {
             "colorbar": {
              "outlinewidth": 0,
              "ticks": ""
             }
            },
            "type": "scatterternary"
           }
          ],
          "surface": [
           {
            "colorbar": {
             "outlinewidth": 0,
             "ticks": ""
            },
            "colorscale": [
             [
              0,
              "#0d0887"
             ],
             [
              0.1111111111111111,
              "#46039f"
             ],
             [
              0.2222222222222222,
              "#7201a8"
             ],
             [
              0.3333333333333333,
              "#9c179e"
             ],
             [
              0.4444444444444444,
              "#bd3786"
             ],
             [
              0.5555555555555556,
              "#d8576b"
             ],
             [
              0.6666666666666666,
              "#ed7953"
             ],
             [
              0.7777777777777778,
              "#fb9f3a"
             ],
             [
              0.8888888888888888,
              "#fdca26"
             ],
             [
              1,
              "#f0f921"
             ]
            ],
            "type": "surface"
           }
          ],
          "table": [
           {
            "cells": {
             "fill": {
              "color": "#EBF0F8"
             },
             "line": {
              "color": "white"
             }
            },
            "header": {
             "fill": {
              "color": "#C8D4E3"
             },
             "line": {
              "color": "white"
             }
            },
            "type": "table"
           }
          ]
         },
         "layout": {
          "annotationdefaults": {
           "arrowcolor": "#2a3f5f",
           "arrowhead": 0,
           "arrowwidth": 1
          },
          "autotypenumbers": "strict",
          "coloraxis": {
           "colorbar": {
            "outlinewidth": 0,
            "ticks": ""
           }
          },
          "colorscale": {
           "diverging": [
            [
             0,
             "#8e0152"
            ],
            [
             0.1,
             "#c51b7d"
            ],
            [
             0.2,
             "#de77ae"
            ],
            [
             0.3,
             "#f1b6da"
            ],
            [
             0.4,
             "#fde0ef"
            ],
            [
             0.5,
             "#f7f7f7"
            ],
            [
             0.6,
             "#e6f5d0"
            ],
            [
             0.7,
             "#b8e186"
            ],
            [
             0.8,
             "#7fbc41"
            ],
            [
             0.9,
             "#4d9221"
            ],
            [
             1,
             "#276419"
            ]
           ],
           "sequential": [
            [
             0,
             "#0d0887"
            ],
            [
             0.1111111111111111,
             "#46039f"
            ],
            [
             0.2222222222222222,
             "#7201a8"
            ],
            [
             0.3333333333333333,
             "#9c179e"
            ],
            [
             0.4444444444444444,
             "#bd3786"
            ],
            [
             0.5555555555555556,
             "#d8576b"
            ],
            [
             0.6666666666666666,
             "#ed7953"
            ],
            [
             0.7777777777777778,
             "#fb9f3a"
            ],
            [
             0.8888888888888888,
             "#fdca26"
            ],
            [
             1,
             "#f0f921"
            ]
           ],
           "sequentialminus": [
            [
             0,
             "#0d0887"
            ],
            [
             0.1111111111111111,
             "#46039f"
            ],
            [
             0.2222222222222222,
             "#7201a8"
            ],
            [
             0.3333333333333333,
             "#9c179e"
            ],
            [
             0.4444444444444444,
             "#bd3786"
            ],
            [
             0.5555555555555556,
             "#d8576b"
            ],
            [
             0.6666666666666666,
             "#ed7953"
            ],
            [
             0.7777777777777778,
             "#fb9f3a"
            ],
            [
             0.8888888888888888,
             "#fdca26"
            ],
            [
             1,
             "#f0f921"
            ]
           ]
          },
          "colorway": [
           "#636efa",
           "#EF553B",
           "#00cc96",
           "#ab63fa",
           "#FFA15A",
           "#19d3f3",
           "#FF6692",
           "#B6E880",
           "#FF97FF",
           "#FECB52"
          ],
          "font": {
           "color": "#2a3f5f"
          },
          "geo": {
           "bgcolor": "white",
           "lakecolor": "white",
           "landcolor": "#E5ECF6",
           "showlakes": true,
           "showland": true,
           "subunitcolor": "white"
          },
          "hoverlabel": {
           "align": "left"
          },
          "hovermode": "closest",
          "mapbox": {
           "style": "light"
          },
          "paper_bgcolor": "white",
          "plot_bgcolor": "#E5ECF6",
          "polar": {
           "angularaxis": {
            "gridcolor": "white",
            "linecolor": "white",
            "ticks": ""
           },
           "bgcolor": "#E5ECF6",
           "radialaxis": {
            "gridcolor": "white",
            "linecolor": "white",
            "ticks": ""
           }
          },
          "scene": {
           "xaxis": {
            "backgroundcolor": "#E5ECF6",
            "gridcolor": "white",
            "gridwidth": 2,
            "linecolor": "white",
            "showbackground": true,
            "ticks": "",
            "zerolinecolor": "white"
           },
           "yaxis": {
            "backgroundcolor": "#E5ECF6",
            "gridcolor": "white",
            "gridwidth": 2,
            "linecolor": "white",
            "showbackground": true,
            "ticks": "",
            "zerolinecolor": "white"
           },
           "zaxis": {
            "backgroundcolor": "#E5ECF6",
            "gridcolor": "white",
            "gridwidth": 2,
            "linecolor": "white",
            "showbackground": true,
            "ticks": "",
            "zerolinecolor": "white"
           }
          },
          "shapedefaults": {
           "line": {
            "color": "#2a3f5f"
           }
          },
          "ternary": {
           "aaxis": {
            "gridcolor": "white",
            "linecolor": "white",
            "ticks": ""
           },
           "baxis": {
            "gridcolor": "white",
            "linecolor": "white",
            "ticks": ""
           },
           "bgcolor": "#E5ECF6",
           "caxis": {
            "gridcolor": "white",
            "linecolor": "white",
            "ticks": ""
           }
          },
          "title": {
           "x": 0.05
          },
          "xaxis": {
           "automargin": true,
           "gridcolor": "white",
           "linecolor": "white",
           "ticks": "",
           "title": {
            "standoff": 15
           },
           "zerolinecolor": "white",
           "zerolinewidth": 2
          },
          "yaxis": {
           "automargin": true,
           "gridcolor": "white",
           "linecolor": "white",
           "ticks": "",
           "title": {
            "standoff": 15
           },
           "zerolinecolor": "white",
           "zerolinewidth": 2
          }
         }
        },
        "title": {
         "text": "Spades_meta Z-score comparison"
        }
       }
      }
     },
     "metadata": {},
     "output_type": "display_data"
    }
   ],
   "source": [
    "fig2 = go.Figure()\n",
    "\n",
    "for n,index in enumerate(all_category_norm_z.index.to_list()):\n",
    "    fig2.add_trace(\n",
    "                go.Scatterpolar(\n",
    "                                r=all_category_norm_z[['Completeness', 'Contamination',\n",
    "       'Strain_heterogeneity', 'n_contigs', 'Longest_contig', 'pilon_errors']].loc[index].values,\n",
    "                                theta=['Completeness', 'Contamination',\n",
    "       'Strain_heterogeneity', 'n_contigs', 'Longest_contig', 'pilon_errors'],\n",
    "                                fill='toself',\n",
    "                                name=\"{}: Spades_careful {} - area {}\".format(all_category_norm_z['Community'][index],all_category_norm_z['Category'][index], round(area_list[n],2)),\n",
    "                                showlegend=True,\n",
    "                                )\n",
    "                )\n",
    "\n",
    "fig2.update_layout(\n",
    "    polar=dict(\n",
    "        radialaxis=dict(\n",
    "                        visible=True,\n",
    "                        range=[-5, 5]\n",
    "                    )\n",
    "            ),\n",
    "    title=\"Spades_meta Z-score comparison\"\n",
    ")\n",
    "\n",
    "fig2.show()"
   ]
  }
 ],
 "metadata": {
  "kernelspec": {
   "display_name": "Python 3",
   "language": "python",
   "name": "python3"
  },
  "language_info": {
   "codemirror_mode": {
    "name": "ipython",
    "version": 3
   },
   "file_extension": ".py",
   "mimetype": "text/x-python",
   "name": "python",
   "nbconvert_exporter": "python",
   "pygments_lexer": "ipython3",
   "version": "3.8.5"
  }
 },
 "nbformat": 4,
 "nbformat_minor": 4
}
