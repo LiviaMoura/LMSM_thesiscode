{
 "cells": [
  {
   "cell_type": "code",
   "execution_count": 3,
   "metadata": {},
   "outputs": [
    {
     "name": "stderr",
     "output_type": "stream",
     "text": [
      "<ipython-input-3-7fb5a7bd1214>:5: FutureWarning: Passing a negative integer is deprecated in version 1.0 and will not be supported in future version. Instead, use None to not limit the column width.\n",
      "  pd.set_option('display.max_colwidth', -1)\n"
     ]
    }
   ],
   "source": [
    "import csv\n",
    "import collections\n",
    "import sys,os,shutil\n",
    "import pandas as pd\n",
    "pd.set_option('display.max_colwidth', -1)"
   ]
  },
  {
   "cell_type": "code",
   "execution_count": 5,
   "metadata": {},
   "outputs": [
    {
     "data": {
      "text/html": [
       "<div>\n",
       "<style scoped>\n",
       "    .dataframe tbody tr th:only-of-type {\n",
       "        vertical-align: middle;\n",
       "    }\n",
       "\n",
       "    .dataframe tbody tr th {\n",
       "        vertical-align: top;\n",
       "    }\n",
       "\n",
       "    .dataframe thead th {\n",
       "        text-align: right;\n",
       "    }\n",
       "</style>\n",
       "<table border=\"1\" class=\"dataframe\">\n",
       "  <thead>\n",
       "    <tr style=\"text-align: right;\">\n",
       "      <th></th>\n",
       "      <th>reference</th>\n",
       "    </tr>\n",
       "  </thead>\n",
       "  <tbody>\n",
       "    <tr>\n",
       "      <th>235</th>\n",
       "      <td>MAG_5_Scareful_metabat.002.fa;MAG_5_Smeta_metabat.002.fa</td>\n",
       "    </tr>\n",
       "    <tr>\n",
       "      <th>196</th>\n",
       "      <td>GCF_002763875.1_ASM276387v1_genomic.fa;S_care_all_bin.60.fa</td>\n",
       "    </tr>\n",
       "    <tr>\n",
       "      <th>293</th>\n",
       "      <td>GCF_002736145.1_ASM273614v1_genomic.fa;S_care_all_bin.51.fa</td>\n",
       "    </tr>\n",
       "    <tr>\n",
       "      <th>310</th>\n",
       "      <td>GCF_002586745.1_ASM258674v1_genomic.fa;S_care_all_bin.67.fa</td>\n",
       "    </tr>\n",
       "    <tr>\n",
       "      <th>212</th>\n",
       "      <td>GCF_002504165.1_ASM250416v1_genomic.fa;MAG_15_Scareful_maxbin.001.fa;MAG_15_Smeta_concoct.059.fa;S_care_all_bin.62.fa</td>\n",
       "    </tr>\n",
       "    <tr>\n",
       "      <th>...</th>\n",
       "      <td>...</td>\n",
       "    </tr>\n",
       "    <tr>\n",
       "      <th>277</th>\n",
       "      <td>GCF_000015025.1_ASM1502v1_genomic.fa;S_care_all_bin.37.fa</td>\n",
       "    </tr>\n",
       "    <tr>\n",
       "      <th>4</th>\n",
       "      <td>GCF_000012605.1_ASM1260v1_genomic.fa;S_care_all_bin.10.fa</td>\n",
       "    </tr>\n",
       "    <tr>\n",
       "      <th>2</th>\n",
       "      <td>GCF_000010305.1_ASM1030v1_genomic.fa;S_care_all_bin.45.fa</td>\n",
       "    </tr>\n",
       "    <tr>\n",
       "      <th>298</th>\n",
       "      <td>GCF_000010285.1_ASM1028v1_genomic.fa;GCF_002208685.1_ASM220868v1_genomic.fa;S_care_all_bin.56.fa</td>\n",
       "    </tr>\n",
       "    <tr>\n",
       "      <th>309</th>\n",
       "      <td>GCF_000009145.1_ASM914v1_genomic.fa;S_care_all_bin.66.fa</td>\n",
       "    </tr>\n",
       "  </tbody>\n",
       "</table>\n",
       "<p>78 rows × 1 columns</p>\n",
       "</div>"
      ],
      "text/plain": [
       "                                                                                                                 reference\n",
       "235  MAG_5_Scareful_metabat.002.fa;MAG_5_Smeta_metabat.002.fa                                                             \n",
       "196  GCF_002763875.1_ASM276387v1_genomic.fa;S_care_all_bin.60.fa                                                          \n",
       "293  GCF_002736145.1_ASM273614v1_genomic.fa;S_care_all_bin.51.fa                                                          \n",
       "310  GCF_002586745.1_ASM258674v1_genomic.fa;S_care_all_bin.67.fa                                                          \n",
       "212  GCF_002504165.1_ASM250416v1_genomic.fa;MAG_15_Scareful_maxbin.001.fa;MAG_15_Smeta_concoct.059.fa;S_care_all_bin.62.fa\n",
       "..                                                                                                                     ...\n",
       "277  GCF_000015025.1_ASM1502v1_genomic.fa;S_care_all_bin.37.fa                                                            \n",
       "4    GCF_000012605.1_ASM1260v1_genomic.fa;S_care_all_bin.10.fa                                                            \n",
       "2    GCF_000010305.1_ASM1030v1_genomic.fa;S_care_all_bin.45.fa                                                            \n",
       "298  GCF_000010285.1_ASM1028v1_genomic.fa;GCF_002208685.1_ASM220868v1_genomic.fa;S_care_all_bin.56.fa                     \n",
       "309  GCF_000009145.1_ASM914v1_genomic.fa;S_care_all_bin.66.fa                                                             \n",
       "\n",
       "[78 rows x 1 columns]"
      ]
     },
     "execution_count": 5,
     "metadata": {},
     "output_type": "execute_result"
    }
   ],
   "source": [
    "path=\"Cami_200g_6s/S_careful/\"\n",
    "#print(os.getcwd())\n",
    "df = pd.read_csv(path+\"Ndb.csv\")\n",
    "#df = df[df.columns[[0,1]]]\n",
    "df = df.iloc[:,:2]\n",
    "df.columns = ['querry','reference']\n",
    "#df = df.sort_values('querry',ascending=True)\n",
    "df = df.groupby(\"querry\",as_index=False).agg({\"reference\":lambda x:\",\".join(x.astype(str))})\n",
    "\n",
    "df[\"reference\"]=df[\"reference\"].apply(lambda x: ';'.join(sorted(x.split(','))))   ##df['values'] = [','.join(sorted(i.split(','))) for i in df['values']] (melhora performance)\n",
    "df = df.iloc[:,1:]\n",
    "df = df.sort_values('reference', ascending=False)\n",
    "df = df[df.duplicated(\"reference\", keep=False)]\n",
    "df = df.drop_duplicates(\"reference\", keep='first')\n",
    "#df.to_csv(\"Cami_200g_6s/drep_report_MAGs_cami.txt\", index=False, header=False)\n",
    "df"
   ]
  }
 ],
 "metadata": {
  "kernelspec": {
   "display_name": "Python 3",
   "language": "python",
   "name": "python3"
  },
  "language_info": {
   "codemirror_mode": {
    "name": "ipython",
    "version": 3
   },
   "file_extension": ".py",
   "mimetype": "text/x-python",
   "name": "python",
   "nbconvert_exporter": "python",
   "pygments_lexer": "ipython3",
   "version": "3.8.5"
  }
 },
 "nbformat": 4,
 "nbformat_minor": 4
}
